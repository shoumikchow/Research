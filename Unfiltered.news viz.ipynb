{
 "cells": [
  {
   "cell_type": "code",
   "execution_count": 1,
   "metadata": {},
   "outputs": [],
   "source": [
    "import pandas as pd\n",
    "from tqdm import tqdm\n",
    "import re\n",
    "import spacy\n",
    "from tqdm import tqdm\n",
    "from unidecode import unidecode\n",
    "from dateutil import parser\n",
    "from datetime import datetime\n",
    "import collections\n",
    "from sklearn.feature_extraction.text import TfidfVectorizer\n",
    "\n",
    "nlp = spacy.load('en')"
   ]
  },
  {
   "cell_type": "code",
   "execution_count": 2,
   "metadata": {},
   "outputs": [],
   "source": [
    "def name_disambiguation(name):\n",
    "    if (name == \"Khaleda\" or name == \"Zia\" or name == \"Begum Khaleda Zia\"):\n",
    "        return \"Khaleda Zia\"\n",
    "    if (name == \"Hasina\" or name == \"Sheikh\"):\n",
    "        return \"Sheikh Hasina\"\n",
    "    if (name == \"Fakhrul\"):\n",
    "        return \"Mirza Fakhrul Islam Alamgir\"\n",
    "    if (name == \"Muhith\" or name == \"AMA Muhith\" or name == \"MA Muhith\"):\n",
    "        return \"Abul Maal Abdul Muhith\"\n",
    "    if (name == \"Nizami\" or name == \"Motiur Rahman\"):\n",
    "        return \"Motiur Rahman Nizami\"\n",
    "    if (name == \"Modi\"):\n",
    "        return \"Narendra Modi\"\n",
    "    if (name == \"Bangabandhu\" or name == \"Sheikh Mujib\" or name == \"Sheikh Mujib\" or name == \"Bangabandhu Sheikh Mujibur\" or name == \"Sheikh Mujibur Rahman\"):\n",
    "        return \"Bangabandhu Sheikh Mujibur Rahman\"\n",
    "    if (name == \"Tarique\"):\n",
    "        return \"Tarique Rahman\"\n",
    "    if (name == \"Avijit\"):\n",
    "        return \"Avijit Roy\"\n",
    "    if (name == \"Mozena\"):\n",
    "        return \"Dan Mozena\"\n",
    "    if (name == \"Yunus\" or name == \"Mohammad Yunus\"):\n",
    "        return \"Muhammad Yunus\""
   ]
  },
  {
   "cell_type": "markdown",
   "metadata": {},
   "source": [
    "### Date limit: 2013-07-08 to 2016-06-14 on DT, New Age and Daily Sun"
   ]
  },
  {
   "cell_type": "code",
   "execution_count": 3,
   "metadata": {},
   "outputs": [],
   "source": [
    "dt = pd.read_json('Data/DT/bd_news_dt.json')\n",
    "dstar = pd.read_json('Data/DS/news_db.json', lines=True)\n",
    "dsun = pd.read_pickle('Data/Daily Sun/DailySun_ent_1.pkl')"
   ]
  },
  {
   "cell_type": "code",
   "execution_count": 4,
   "metadata": {},
   "outputs": [],
   "source": [
    "def conv_to_datetime(date_dict):\n",
    "    new_datetime = parser.parse(list(date_dict.items())[0][1], ignoretz=True)\n",
    "    new_datetime = new_datetime.replace(hour=0, minute=0, second=0, microsecond=0)\n",
    "    return new_datetime"
   ]
  },
  {
   "cell_type": "code",
   "execution_count": 5,
   "metadata": {},
   "outputs": [],
   "source": [
    "dt['news_publish_date'] = dt['news_publish_date'].apply(conv_to_datetime)"
   ]
  },
  {
   "cell_type": "code",
   "execution_count": 6,
   "metadata": {},
   "outputs": [],
   "source": [
    "dstar['date_published'] = dstar['date_published'].apply(conv_to_datetime)"
   ]
  },
  {
   "cell_type": "code",
   "execution_count": 7,
   "metadata": {},
   "outputs": [],
   "source": [
    "dsun['date_published'] = pd.to_datetime(dsun['date_published'])"
   ]
  },
  {
   "cell_type": "code",
   "execution_count": 8,
   "metadata": {},
   "outputs": [],
   "source": [
    "start_date = datetime(2013, 7, 8)\n",
    "end_date = datetime(2016, 6, 14)"
   ]
  },
  {
   "cell_type": "code",
   "execution_count": 9,
   "metadata": {},
   "outputs": [],
   "source": [
    "dt_new = dt.loc[(dt['news_publish_date']>=start_date) & (dt['news_publish_date']<=end_date)]"
   ]
  },
  {
   "cell_type": "code",
   "execution_count": 10,
   "metadata": {},
   "outputs": [],
   "source": [
    "dstar_new = dstar.loc[(dstar['date_published']>=start_date) & (dstar['date_published']<=end_date)]"
   ]
  },
  {
   "cell_type": "code",
   "execution_count": 11,
   "metadata": {},
   "outputs": [],
   "source": [
    "dsun_new = dsun.loc[(dsun['date_published']>=start_date) & (dsun['date_published']<=end_date)]"
   ]
  },
  {
   "cell_type": "code",
   "execution_count": 12,
   "metadata": {},
   "outputs": [
    {
     "name": "stdout",
     "output_type": "stream",
     "text": [
      "dt: (46611, 17), dstar: (165236, 34), dsun(49055, 17)\n"
     ]
    }
   ],
   "source": [
    "print(\"dt: {}, dstar: {}, dsun{}\".format(dt_new.shape, dstar.shape, dt.shape))"
   ]
  },
  {
   "cell_type": "code",
   "execution_count": 13,
   "metadata": {},
   "outputs": [],
   "source": [
    "dt_new = dt_new.reset_index(drop=True)\n",
    "dstar_new = dstar_new.reset_index(drop=True)\n",
    "dsun_new = dsun_new.reset_index(drop=True)"
   ]
  },
  {
   "cell_type": "markdown",
   "metadata": {},
   "source": [
    "## Count"
   ]
  },
  {
   "cell_type": "code",
   "execution_count": 14,
   "metadata": {},
   "outputs": [],
   "source": [
    "dsun_counts = dsun_new.groupby('date_published').sum().agg({\n",
    "    'location_entities': collections.Counter, \n",
    "    'organization_entities': collections.Counter,\n",
    "    'person_entities': collections.Counter\n",
    "})"
   ]
  },
  {
   "cell_type": "code",
   "execution_count": 15,
   "metadata": {},
   "outputs": [],
   "source": [
    "# Sorts Counter object\n",
    "\n",
    "dsun_counts['location_entities'] = dsun_counts['location_entities'].apply(lambda x: x.most_common())\n",
    "dsun_counts['organization_entities'] = dsun_counts['organization_entities'].apply(lambda x: x.most_common())\n",
    "dsun_counts['person_entities'] = dsun_counts['person_entities'].apply(lambda x: x.most_common())"
   ]
  },
  {
   "cell_type": "code",
   "execution_count": 16,
   "metadata": {},
   "outputs": [],
   "source": [
    "# Daily Star and DT doesn't work the same way for some absurd reason.\n",
    "# Trying on a small dataset\n",
    "\n",
    "# df = pd.read_json('Data/DS/test.json', lines=True)\n",
    "# df['date_published'] = df['date_published'].apply(conv_to_datetime)\n",
    "# df_counts = df.groupby('date_published').sum().agg({\n",
    "#     'ner_unique_location': collections.Counter, \n",
    "#     'ner_unique_organization': collections.Counter,\n",
    "#     'ner_unique_person': collections.Counter\n",
    "# })"
   ]
  },
  {
   "cell_type": "code",
   "execution_count": 17,
   "metadata": {},
   "outputs": [],
   "source": [
    "dstar_counts = pd.DataFrame()"
   ]
  },
  {
   "cell_type": "code",
   "execution_count": 18,
   "metadata": {},
   "outputs": [],
   "source": [
    "dstar_counts['location_entities'] = dstar_new.groupby('date_published')['ner_unique_location'].sum().apply(collections.Counter, 1)\n",
    "dstar_counts['organization_entities'] = dstar_new.groupby('date_published')['ner_unique_organization'].sum().apply(collections.Counter, 1)\n",
    "dstar_counts['person_entities'] = dstar_new.groupby('date_published')['ner_unique_person'].sum().apply(collections.Counter, 1)"
   ]
  },
  {
   "cell_type": "code",
   "execution_count": 19,
   "metadata": {},
   "outputs": [],
   "source": [
    "# Sorts Counter object\n",
    "\n",
    "\n",
    "dstar_counts['location_entities'] = dstar_counts['location_entities'].apply(lambda x: x.most_common())\n",
    "dstar_counts['organization_entities'] = dstar_counts['organization_entities'].apply(lambda x: x.most_common())\n",
    "dstar_counts['person_entities'] = dstar_counts['person_entities'].apply(lambda x: x.most_common())"
   ]
  },
  {
   "cell_type": "code",
   "execution_count": 20,
   "metadata": {},
   "outputs": [],
   "source": [
    "# Splits the news_ner_tags column, which contains dictionaries, into different columns based on dictionary keys\n",
    "dt_new_modified = pd.concat([dt_new.drop(['news_ner_tags'], axis=1), dt_new['news_ner_tags'].apply(pd.Series)], axis=1)"
   ]
  },
  {
   "cell_type": "code",
   "execution_count": 21,
   "metadata": {},
   "outputs": [],
   "source": [
    "dt_counts = pd.DataFrame()"
   ]
  },
  {
   "cell_type": "code",
   "execution_count": 22,
   "metadata": {},
   "outputs": [],
   "source": [
    "dt_counts['location_entities'] = dt_new_modified.groupby('news_publish_date')['locations_unique'].sum().apply(collections.Counter, 1)\n",
    "dt_counts['organization_entities'] = dt_new_modified.groupby('news_publish_date')['organizations_unique'].sum().apply(collections.Counter, 1)\n",
    "dt_counts['person_entities'] = dt_new_modified.groupby('news_publish_date')['persons_unique'].sum().apply(collections.Counter, 1)"
   ]
  },
  {
   "cell_type": "code",
   "execution_count": 23,
   "metadata": {},
   "outputs": [],
   "source": [
    "# Sorts Counter object\n",
    "\n",
    "dt_counts['location_entities'] = dt_counts['location_entities'].apply(lambda x: x.most_common())\n",
    "dt_counts['organization_entities'] = dt_counts['organization_entities'].apply(lambda x: x.most_common())\n",
    "dt_counts['person_entities'] = dt_counts['person_entities'].apply(lambda x: x.most_common())"
   ]
  },
  {
   "cell_type": "markdown",
   "metadata": {},
   "source": [
    "## TF-IDF"
   ]
  },
  {
   "cell_type": "code",
   "execution_count": 24,
   "metadata": {},
   "outputs": [],
   "source": [
    "tfidf = TfidfVectorizer()"
   ]
  },
  {
   "cell_type": "code",
   "execution_count": 30,
   "metadata": {},
   "outputs": [],
   "source": [
    "dsun_tfidf = pd.DataFrame()\n",
    "tqdm.pandas()"
   ]
  },
  {
   "cell_type": "code",
   "execution_count": 31,
   "metadata": {},
   "outputs": [
    {
     "name": "stderr",
     "output_type": "stream",
     "text": [
      "100%|██████████| 162060/162060 [00:00<00:00, 382815.38it/s]\n"
     ]
    }
   ],
   "source": [
    "dsun_new['location_entities'] =  dsun_new['location_entities'].progress_apply(lambda x: ' '.join(str(e) for e in x))"
   ]
  },
  {
   "cell_type": "code",
   "execution_count": 32,
   "metadata": {},
   "outputs": [
    {
     "data": {
      "text/html": [
       "<div>\n",
       "<style scoped>\n",
       "    .dataframe tbody tr th:only-of-type {\n",
       "        vertical-align: middle;\n",
       "    }\n",
       "\n",
       "    .dataframe tbody tr th {\n",
       "        vertical-align: top;\n",
       "    }\n",
       "\n",
       "    .dataframe thead th {\n",
       "        text-align: right;\n",
       "    }\n",
       "</style>\n",
       "<table border=\"1\" class=\"dataframe\">\n",
       "  <thead>\n",
       "    <tr style=\"text-align: right;\">\n",
       "      <th></th>\n",
       "      <th>_id</th>\n",
       "      <th>date_published</th>\n",
       "      <th>image</th>\n",
       "      <th>news_content</th>\n",
       "      <th>news_id</th>\n",
       "      <th>newspaper</th>\n",
       "      <th>reporter</th>\n",
       "      <th>section</th>\n",
       "      <th>url</th>\n",
       "      <th>location_entities</th>\n",
       "      <th>organization_entities</th>\n",
       "      <th>person_entities</th>\n",
       "    </tr>\n",
       "  </thead>\n",
       "  <tbody>\n",
       "    <tr>\n",
       "      <th>0</th>\n",
       "      <td>{'$oid': '5af4592318ce422f881bcaf4'}</td>\n",
       "      <td>2013-07-08</td>\n",
       "      <td>{'src': None, 'caption': None}</td>\n",
       "      <td>ATN BANGLA 19:00  22:00  23:00 Channel i 7:00 ...</td>\n",
       "      <td>123864</td>\n",
       "      <td>dailysun</td>\n",
       "      <td>None</td>\n",
       "      <td>/culturetainment</td>\n",
       "      <td>http://www.daily-sun.com/arcprint/details/1238...</td>\n",
       "      <td></td>\n",
       "      <td>[]</td>\n",
       "      <td>[]</td>\n",
       "    </tr>\n",
       "    <tr>\n",
       "      <th>1</th>\n",
       "      <td>{'$oid': '5af4592318ce422f881bcaf5'}</td>\n",
       "      <td>2013-07-08</td>\n",
       "      <td>{'src': 'http://www.daily-sun.com/assets/news_...</td>\n",
       "      <td>Solo Art Exhibition  By: Biren Shome  At: Dhak...</td>\n",
       "      <td>123862</td>\n",
       "      <td>dailysun</td>\n",
       "      <td>None</td>\n",
       "      <td>/culturetainment</td>\n",
       "      <td>http://www.daily-sun.com/arcprint/details/1238...</td>\n",
       "      <td></td>\n",
       "      <td>[Dhaka Art Centre  ]</td>\n",
       "      <td>[Dhanmondi]</td>\n",
       "    </tr>\n",
       "    <tr>\n",
       "      <th>2</th>\n",
       "      <td>{'$oid': '5af4592418ce422f881bcaf7'}</td>\n",
       "      <td>2013-07-08</td>\n",
       "      <td>{'src': 'http://www.daily-sun.com/assets/news_...</td>\n",
       "      <td>NTV  08:45  Bengali Film: Benam Badsha  13:30 ...</td>\n",
       "      <td>123861</td>\n",
       "      <td>dailysun</td>\n",
       "      <td>None</td>\n",
       "      <td>/culturetainment</td>\n",
       "      <td>http://www.daily-sun.com/arcprint/details/1238...</td>\n",
       "      <td>Chaabi 14:00 Saraswatichandra Caribbean The ...</td>\n",
       "      <td>[Van Helsing, The Three Musketeers, 13:05, NTV...</td>\n",
       "      <td>[21:30 Damages, Veera, 11:30 Veera, Yeh Rishta...</td>\n",
       "    </tr>\n",
       "    <tr>\n",
       "      <th>3</th>\n",
       "      <td>{'$oid': '5af4592418ce422f881bcaf8'}</td>\n",
       "      <td>2013-07-08</td>\n",
       "      <td>{'src': 'http://www.daily-sun.com/assets/news_...</td>\n",
       "      <td>RADIO TODAY  Islamic Program  12:30  News  1:4...</td>\n",
       "      <td>123863</td>\n",
       "      <td>dailysun</td>\n",
       "      <td>None</td>\n",
       "      <td>/culturetainment</td>\n",
       "      <td>http://www.daily-sun.com/arcprint/details/1238...</td>\n",
       "      <td></td>\n",
       "      <td>[ Islamic Program, VOA &amp; RTD]</td>\n",
       "      <td>[Rupali Gaan]</td>\n",
       "    </tr>\n",
       "    <tr>\n",
       "      <th>4</th>\n",
       "      <td>{'$oid': '5af4592518ce422f881bcafa'}</td>\n",
       "      <td>2013-07-08</td>\n",
       "      <td>{'src': 'http://www.daily-sun.com/assets/news_...</td>\n",
       "      <td>Victoria Beckham has revealed she struggles to...</td>\n",
       "      <td>123874</td>\n",
       "      <td>dailysun</td>\n",
       "      <td>None</td>\n",
       "      <td>/culturetainment</td>\n",
       "      <td>http://www.daily-sun.com/arcprint/details/1238...</td>\n",
       "      <td>China Vogue</td>\n",
       "      <td>[]</td>\n",
       "      <td>[it\\, Spice Girl - who, David Beckham -, Victo...</td>\n",
       "    </tr>\n",
       "  </tbody>\n",
       "</table>\n",
       "</div>"
      ],
      "text/plain": [
       "                                    _id date_published  \\\n",
       "0  {'$oid': '5af4592318ce422f881bcaf4'}     2013-07-08   \n",
       "1  {'$oid': '5af4592318ce422f881bcaf5'}     2013-07-08   \n",
       "2  {'$oid': '5af4592418ce422f881bcaf7'}     2013-07-08   \n",
       "3  {'$oid': '5af4592418ce422f881bcaf8'}     2013-07-08   \n",
       "4  {'$oid': '5af4592518ce422f881bcafa'}     2013-07-08   \n",
       "\n",
       "                                               image  \\\n",
       "0                     {'src': None, 'caption': None}   \n",
       "1  {'src': 'http://www.daily-sun.com/assets/news_...   \n",
       "2  {'src': 'http://www.daily-sun.com/assets/news_...   \n",
       "3  {'src': 'http://www.daily-sun.com/assets/news_...   \n",
       "4  {'src': 'http://www.daily-sun.com/assets/news_...   \n",
       "\n",
       "                                        news_content news_id newspaper  \\\n",
       "0  ATN BANGLA 19:00  22:00  23:00 Channel i 7:00 ...  123864  dailysun   \n",
       "1  Solo Art Exhibition  By: Biren Shome  At: Dhak...  123862  dailysun   \n",
       "2  NTV  08:45  Bengali Film: Benam Badsha  13:30 ...  123861  dailysun   \n",
       "3  RADIO TODAY  Islamic Program  12:30  News  1:4...  123863  dailysun   \n",
       "4  Victoria Beckham has revealed she struggles to...  123874  dailysun   \n",
       "\n",
       "  reporter           section  \\\n",
       "0     None  /culturetainment   \n",
       "1     None  /culturetainment   \n",
       "2     None  /culturetainment   \n",
       "3     None  /culturetainment   \n",
       "4     None  /culturetainment   \n",
       "\n",
       "                                                 url  \\\n",
       "0  http://www.daily-sun.com/arcprint/details/1238...   \n",
       "1  http://www.daily-sun.com/arcprint/details/1238...   \n",
       "2  http://www.daily-sun.com/arcprint/details/1238...   \n",
       "3  http://www.daily-sun.com/arcprint/details/1238...   \n",
       "4  http://www.daily-sun.com/arcprint/details/1238...   \n",
       "\n",
       "                                   location_entities  \\\n",
       "0                                                      \n",
       "1                                                      \n",
       "2    Chaabi 14:00 Saraswatichandra Caribbean The ...   \n",
       "3                                                      \n",
       "4                                        China Vogue   \n",
       "\n",
       "                               organization_entities  \\\n",
       "0                                                 []   \n",
       "1                               [Dhaka Art Centre  ]   \n",
       "2  [Van Helsing, The Three Musketeers, 13:05, NTV...   \n",
       "3                      [ Islamic Program, VOA & RTD]   \n",
       "4                                                 []   \n",
       "\n",
       "                                     person_entities  \n",
       "0                                                 []  \n",
       "1                                        [Dhanmondi]  \n",
       "2  [21:30 Damages, Veera, 11:30 Veera, Yeh Rishta...  \n",
       "3                                      [Rupali Gaan]  \n",
       "4  [it\\, Spice Girl - who, David Beckham -, Victo...  "
      ]
     },
     "execution_count": 32,
     "metadata": {},
     "output_type": "execute_result"
    }
   ],
   "source": [
    "dsun_new.head()"
   ]
  },
  {
   "cell_type": "code",
   "execution_count": 33,
   "metadata": {},
   "outputs": [
    {
     "name": "stderr",
     "output_type": "stream",
     "text": [
      "  0%|          | 2/1074 [00:00<01:01, 17.44it/s]"
     ]
    },
    {
     "ename": "TypeError",
     "evalue": "'csr_matrix' object is not callable",
     "output_type": "error",
     "traceback": [
      "\u001b[0;31m---------------------------------------------------------------------------\u001b[0m",
      "\u001b[0;31mTypeError\u001b[0m                                 Traceback (most recent call last)",
      "\u001b[0;32m<ipython-input-33-8c9de02ba663>\u001b[0m in \u001b[0;36m<module>\u001b[0;34m()\u001b[0m\n\u001b[0;32m----> 1\u001b[0;31m \u001b[0mdsun_tfidf\u001b[0m\u001b[0;34m[\u001b[0m\u001b[0;34m'location_entities'\u001b[0m\u001b[0;34m]\u001b[0m \u001b[0;34m=\u001b[0m \u001b[0mdsun_new\u001b[0m\u001b[0;34m.\u001b[0m\u001b[0mgroupby\u001b[0m\u001b[0;34m(\u001b[0m\u001b[0;34m'date_published'\u001b[0m\u001b[0;34m)\u001b[0m\u001b[0;34m.\u001b[0m\u001b[0mprogress_apply\u001b[0m\u001b[0;34m(\u001b[0m\u001b[0mtfidf\u001b[0m\u001b[0;34m.\u001b[0m\u001b[0mfit_transform\u001b[0m\u001b[0;34m(\u001b[0m\u001b[0mdsun_new\u001b[0m\u001b[0;34m[\u001b[0m\u001b[0;34m'location_entities'\u001b[0m\u001b[0;34m]\u001b[0m\u001b[0;34m)\u001b[0m\u001b[0;34m)\u001b[0m\u001b[0;34m\u001b[0m\u001b[0m\n\u001b[0m",
      "\u001b[0;32m/usr/local/lib/python3.5/dist-packages/tqdm/_tqdm.py\u001b[0m in \u001b[0;36minner\u001b[0;34m(df, func, *args, **kwargs)\u001b[0m\n\u001b[1;32m    632\u001b[0m                 \u001b[0;31m# Apply the provided function (in *args and **kwargs)\u001b[0m\u001b[0;34m\u001b[0m\u001b[0;34m\u001b[0m\u001b[0m\n\u001b[1;32m    633\u001b[0m                 \u001b[0;31m# on the df using our wrapper (which provides bar updating)\u001b[0m\u001b[0;34m\u001b[0m\u001b[0;34m\u001b[0m\u001b[0m\n\u001b[0;32m--> 634\u001b[0;31m                 \u001b[0mresult\u001b[0m \u001b[0;34m=\u001b[0m \u001b[0mgetattr\u001b[0m\u001b[0;34m(\u001b[0m\u001b[0mdf\u001b[0m\u001b[0;34m,\u001b[0m \u001b[0mdf_function\u001b[0m\u001b[0;34m)\u001b[0m\u001b[0;34m(\u001b[0m\u001b[0mwrapper\u001b[0m\u001b[0;34m,\u001b[0m \u001b[0;34m*\u001b[0m\u001b[0margs\u001b[0m\u001b[0;34m,\u001b[0m \u001b[0;34m**\u001b[0m\u001b[0mkwargs\u001b[0m\u001b[0;34m)\u001b[0m\u001b[0;34m\u001b[0m\u001b[0m\n\u001b[0m\u001b[1;32m    635\u001b[0m \u001b[0;34m\u001b[0m\u001b[0m\n\u001b[1;32m    636\u001b[0m                 \u001b[0;31m# Close bar and return pandas calculation result\u001b[0m\u001b[0;34m\u001b[0m\u001b[0;34m\u001b[0m\u001b[0m\n",
      "\u001b[0;32m/usr/local/lib/python3.5/dist-packages/pandas/core/groupby.py\u001b[0m in \u001b[0;36mapply\u001b[0;34m(self, func, *args, **kwargs)\u001b[0m\n\u001b[1;32m    803\u001b[0m         \u001b[0;31m# ignore SettingWithCopy here in case the user mutates\u001b[0m\u001b[0;34m\u001b[0m\u001b[0;34m\u001b[0m\u001b[0m\n\u001b[1;32m    804\u001b[0m         \u001b[0;32mwith\u001b[0m \u001b[0moption_context\u001b[0m\u001b[0;34m(\u001b[0m\u001b[0;34m'mode.chained_assignment'\u001b[0m\u001b[0;34m,\u001b[0m \u001b[0;32mNone\u001b[0m\u001b[0;34m)\u001b[0m\u001b[0;34m:\u001b[0m\u001b[0;34m\u001b[0m\u001b[0m\n\u001b[0;32m--> 805\u001b[0;31m             \u001b[0;32mreturn\u001b[0m \u001b[0mself\u001b[0m\u001b[0;34m.\u001b[0m\u001b[0m_python_apply_general\u001b[0m\u001b[0;34m(\u001b[0m\u001b[0mf\u001b[0m\u001b[0;34m)\u001b[0m\u001b[0;34m\u001b[0m\u001b[0m\n\u001b[0m\u001b[1;32m    806\u001b[0m \u001b[0;34m\u001b[0m\u001b[0m\n\u001b[1;32m    807\u001b[0m     \u001b[0;32mdef\u001b[0m \u001b[0m_python_apply_general\u001b[0m\u001b[0;34m(\u001b[0m\u001b[0mself\u001b[0m\u001b[0;34m,\u001b[0m \u001b[0mf\u001b[0m\u001b[0;34m)\u001b[0m\u001b[0;34m:\u001b[0m\u001b[0;34m\u001b[0m\u001b[0m\n",
      "\u001b[0;32m/usr/local/lib/python3.5/dist-packages/pandas/core/groupby.py\u001b[0m in \u001b[0;36m_python_apply_general\u001b[0;34m(self, f)\u001b[0m\n\u001b[1;32m    807\u001b[0m     \u001b[0;32mdef\u001b[0m \u001b[0m_python_apply_general\u001b[0m\u001b[0;34m(\u001b[0m\u001b[0mself\u001b[0m\u001b[0;34m,\u001b[0m \u001b[0mf\u001b[0m\u001b[0;34m)\u001b[0m\u001b[0;34m:\u001b[0m\u001b[0;34m\u001b[0m\u001b[0m\n\u001b[1;32m    808\u001b[0m         keys, values, mutated = self.grouper.apply(f, self._selected_obj,\n\u001b[0;32m--> 809\u001b[0;31m                                                    self.axis)\n\u001b[0m\u001b[1;32m    810\u001b[0m \u001b[0;34m\u001b[0m\u001b[0m\n\u001b[1;32m    811\u001b[0m         return self._wrap_applied_output(\n",
      "\u001b[0;32m/usr/local/lib/python3.5/dist-packages/pandas/core/groupby.py\u001b[0m in \u001b[0;36mapply\u001b[0;34m(self, f, data, axis)\u001b[0m\n\u001b[1;32m   1962\u001b[0m             \u001b[0;31m# group might be modified\u001b[0m\u001b[0;34m\u001b[0m\u001b[0;34m\u001b[0m\u001b[0m\n\u001b[1;32m   1963\u001b[0m             \u001b[0mgroup_axes\u001b[0m \u001b[0;34m=\u001b[0m \u001b[0m_get_axes\u001b[0m\u001b[0;34m(\u001b[0m\u001b[0mgroup\u001b[0m\u001b[0;34m)\u001b[0m\u001b[0;34m\u001b[0m\u001b[0m\n\u001b[0;32m-> 1964\u001b[0;31m             \u001b[0mres\u001b[0m \u001b[0;34m=\u001b[0m \u001b[0mf\u001b[0m\u001b[0;34m(\u001b[0m\u001b[0mgroup\u001b[0m\u001b[0;34m)\u001b[0m\u001b[0;34m\u001b[0m\u001b[0m\n\u001b[0m\u001b[1;32m   1965\u001b[0m             \u001b[0;32mif\u001b[0m \u001b[0;32mnot\u001b[0m \u001b[0m_is_indexed_like\u001b[0m\u001b[0;34m(\u001b[0m\u001b[0mres\u001b[0m\u001b[0;34m,\u001b[0m \u001b[0mgroup_axes\u001b[0m\u001b[0;34m)\u001b[0m\u001b[0;34m:\u001b[0m\u001b[0;34m\u001b[0m\u001b[0m\n\u001b[1;32m   1966\u001b[0m                 \u001b[0mmutated\u001b[0m \u001b[0;34m=\u001b[0m \u001b[0;32mTrue\u001b[0m\u001b[0;34m\u001b[0m\u001b[0m\n",
      "\u001b[0;32m/usr/local/lib/python3.5/dist-packages/tqdm/_tqdm.py\u001b[0m in \u001b[0;36mwrapper\u001b[0;34m(*args, **kwargs)\u001b[0m\n\u001b[1;32m    628\u001b[0m                 \u001b[0;32mdef\u001b[0m \u001b[0mwrapper\u001b[0m\u001b[0;34m(\u001b[0m\u001b[0;34m*\u001b[0m\u001b[0margs\u001b[0m\u001b[0;34m,\u001b[0m \u001b[0;34m**\u001b[0m\u001b[0mkwargs\u001b[0m\u001b[0;34m)\u001b[0m\u001b[0;34m:\u001b[0m\u001b[0;34m\u001b[0m\u001b[0m\n\u001b[1;32m    629\u001b[0m                     \u001b[0mt\u001b[0m\u001b[0;34m.\u001b[0m\u001b[0mupdate\u001b[0m\u001b[0;34m(\u001b[0m\u001b[0;34m)\u001b[0m\u001b[0;34m\u001b[0m\u001b[0m\n\u001b[0;32m--> 630\u001b[0;31m                     \u001b[0;32mreturn\u001b[0m \u001b[0mfunc\u001b[0m\u001b[0;34m(\u001b[0m\u001b[0;34m*\u001b[0m\u001b[0margs\u001b[0m\u001b[0;34m,\u001b[0m \u001b[0;34m**\u001b[0m\u001b[0mkwargs\u001b[0m\u001b[0;34m)\u001b[0m\u001b[0;34m\u001b[0m\u001b[0m\n\u001b[0m\u001b[1;32m    631\u001b[0m \u001b[0;34m\u001b[0m\u001b[0m\n\u001b[1;32m    632\u001b[0m                 \u001b[0;31m# Apply the provided function (in *args and **kwargs)\u001b[0m\u001b[0;34m\u001b[0m\u001b[0;34m\u001b[0m\u001b[0m\n",
      "\u001b[0;31mTypeError\u001b[0m: 'csr_matrix' object is not callable"
     ]
    }
   ],
   "source": [
    "dsun_tfidf['location_entities'] = dsun_new.groupby('date_published').progress_apply(tfidf.fit_transform(dsun_new['location_entities']))"
   ]
  },
  {
   "cell_type": "code",
   "execution_count": 34,
   "metadata": {},
   "outputs": [],
   "source": [
    "df = pd.DataFrame({'Date': ['2018-09-01','2018-09-01 ','2018-09-02'],\n",
    "               'documents': [['cats say, meow', 'dogs say woof', 'dogs chase cats'],['cats say meow', 'horses say neigh'],['lions go roar']]})\n",
    "\n",
    "\n",
    "df['documents'] = df['documents'].apply(lambda x: ' '.join(str(e) for e in x))\n"
   ]
  },
  {
   "cell_type": "code",
   "execution_count": 35,
   "metadata": {},
   "outputs": [
    {
     "ename": "TypeError",
     "evalue": "unhashable type: 'csr_matrix'",
     "output_type": "error",
     "traceback": [
      "\u001b[0;31m---------------------------------------------------------------------------\u001b[0m",
      "\u001b[0;31mTypeError\u001b[0m                                 Traceback (most recent call last)",
      "\u001b[0;32m<ipython-input-35-3c6413228c80>\u001b[0m in \u001b[0;36m<module>\u001b[0;34m()\u001b[0m\n\u001b[1;32m      1\u001b[0m \u001b[0mv\u001b[0m \u001b[0;34m=\u001b[0m \u001b[0mTfidfVectorizer\u001b[0m\u001b[0;34m(\u001b[0m\u001b[0;34m)\u001b[0m\u001b[0;34m\u001b[0m\u001b[0m\n\u001b[1;32m      2\u001b[0m \u001b[0;34m\u001b[0m\u001b[0m\n\u001b[0;32m----> 3\u001b[0;31m \u001b[0mdf\u001b[0m\u001b[0;34m[\u001b[0m\u001b[0;34m'documents'\u001b[0m\u001b[0;34m]\u001b[0m \u001b[0;34m=\u001b[0m \u001b[0mdf\u001b[0m\u001b[0;34m.\u001b[0m\u001b[0mgroupby\u001b[0m\u001b[0;34m(\u001b[0m\u001b[0;34m'Date'\u001b[0m\u001b[0;34m)\u001b[0m\u001b[0;34m.\u001b[0m\u001b[0mapply\u001b[0m\u001b[0;34m(\u001b[0m\u001b[0mv\u001b[0m\u001b[0;34m.\u001b[0m\u001b[0mfit_transform\u001b[0m\u001b[0;34m(\u001b[0m\u001b[0mdf\u001b[0m\u001b[0;34m[\u001b[0m\u001b[0;34m'documents'\u001b[0m\u001b[0;34m]\u001b[0m\u001b[0;34m)\u001b[0m\u001b[0;34m)\u001b[0m\u001b[0;34m\u001b[0m\u001b[0m\n\u001b[0m\u001b[1;32m      4\u001b[0m \u001b[0;31m# x = v.fit_transform(df['documents'])\u001b[0m\u001b[0;34m\u001b[0m\u001b[0;34m\u001b[0m\u001b[0m\n\u001b[1;32m      5\u001b[0m \u001b[0;31m# df1 = pd.DataFrame(x.toarray(), columns=v.get_feature_names())\u001b[0m\u001b[0;34m\u001b[0m\u001b[0;34m\u001b[0m\u001b[0m\n",
      "\u001b[0;32m/usr/local/lib/python3.5/dist-packages/pandas/core/groupby.py\u001b[0m in \u001b[0;36mapply\u001b[0;34m(self, func, *args, **kwargs)\u001b[0m\n\u001b[1;32m    783\u001b[0m     \u001b[0;32mdef\u001b[0m \u001b[0mapply\u001b[0m\u001b[0;34m(\u001b[0m\u001b[0mself\u001b[0m\u001b[0;34m,\u001b[0m \u001b[0mfunc\u001b[0m\u001b[0;34m,\u001b[0m \u001b[0;34m*\u001b[0m\u001b[0margs\u001b[0m\u001b[0;34m,\u001b[0m \u001b[0;34m**\u001b[0m\u001b[0mkwargs\u001b[0m\u001b[0;34m)\u001b[0m\u001b[0;34m:\u001b[0m\u001b[0;34m\u001b[0m\u001b[0m\n\u001b[1;32m    784\u001b[0m \u001b[0;34m\u001b[0m\u001b[0m\n\u001b[0;32m--> 785\u001b[0;31m         \u001b[0mfunc\u001b[0m \u001b[0;34m=\u001b[0m \u001b[0mself\u001b[0m\u001b[0;34m.\u001b[0m\u001b[0m_is_builtin_func\u001b[0m\u001b[0;34m(\u001b[0m\u001b[0mfunc\u001b[0m\u001b[0;34m)\u001b[0m\u001b[0;34m\u001b[0m\u001b[0m\n\u001b[0m\u001b[1;32m    786\u001b[0m \u001b[0;34m\u001b[0m\u001b[0m\n\u001b[1;32m    787\u001b[0m         \u001b[0;31m# this is needed so we don't try and wrap strings. If we could\u001b[0m\u001b[0;34m\u001b[0m\u001b[0;34m\u001b[0m\u001b[0m\n",
      "\u001b[0;32m/usr/local/lib/python3.5/dist-packages/pandas/core/base.py\u001b[0m in \u001b[0;36m_is_builtin_func\u001b[0;34m(self, arg)\u001b[0m\n\u001b[1;32m    633\u001b[0m         \u001b[0motherwise\u001b[0m \u001b[0;32mreturn\u001b[0m \u001b[0mthe\u001b[0m \u001b[0marg\u001b[0m\u001b[0;34m\u001b[0m\u001b[0m\n\u001b[1;32m    634\u001b[0m         \"\"\"\n\u001b[0;32m--> 635\u001b[0;31m         \u001b[0;32mreturn\u001b[0m \u001b[0mself\u001b[0m\u001b[0;34m.\u001b[0m\u001b[0m_builtin_table\u001b[0m\u001b[0;34m.\u001b[0m\u001b[0mget\u001b[0m\u001b[0;34m(\u001b[0m\u001b[0marg\u001b[0m\u001b[0;34m,\u001b[0m \u001b[0marg\u001b[0m\u001b[0;34m)\u001b[0m\u001b[0;34m\u001b[0m\u001b[0m\n\u001b[0m\u001b[1;32m    636\u001b[0m \u001b[0;34m\u001b[0m\u001b[0m\n\u001b[1;32m    637\u001b[0m \u001b[0;34m\u001b[0m\u001b[0m\n",
      "\u001b[0;31mTypeError\u001b[0m: unhashable type: 'csr_matrix'"
     ]
    }
   ],
   "source": [
    "v = TfidfVectorizer()\n",
    "\n",
    "df['documents'] = df.groupby('Date').apply(v.fit_transform(df['documents']))\n",
    "# x = v.fit_transform(df['documents'])\n",
    "# df1 = pd.DataFrame(x.toarray(), columns=v.get_feature_names())\n",
    "# res = pd.concat([df, df1], axis=1)"
   ]
  },
  {
   "cell_type": "code",
   "execution_count": null,
   "metadata": {},
   "outputs": [],
   "source": []
  }
 ],
 "metadata": {
  "kernelspec": {
   "display_name": "Python 3",
   "language": "python",
   "name": "python3"
  },
  "language_info": {
   "codemirror_mode": {
    "name": "ipython",
    "version": 3
   },
   "file_extension": ".py",
   "mimetype": "text/x-python",
   "name": "python",
   "nbconvert_exporter": "python",
   "pygments_lexer": "ipython3",
   "version": "3.5.2"
  }
 },
 "nbformat": 4,
 "nbformat_minor": 2
}
