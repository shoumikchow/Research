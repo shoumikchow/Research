{
 "cells": [
  {
   "cell_type": "code",
   "execution_count": 109,
   "metadata": {},
   "outputs": [],
   "source": [
    "import pandas as pd\n",
    "from tqdm import tqdm\n",
    "import re\n",
    "import spacy\n",
    "from tqdm import tqdm\n",
    "from unidecode import unidecode\n",
    "from dateutil import parser\n",
    "from datetime import datetime\n",
    "\n",
    "nlp = spacy.load('en')"
   ]
  },
  {
   "cell_type": "code",
   "execution_count": 110,
   "metadata": {},
   "outputs": [],
   "source": [
    "def name_disambiguation(name):\n",
    "    if (name == \"Khaleda\" or name == \"Zia\" or name == \"Begum Khaleda Zia\"):\n",
    "        return \"Khaleda Zia\"\n",
    "    if (name == \"Hasina\" or name == \"Sheikh\"):\n",
    "        return \"Sheikh Hasina\"\n",
    "    if (name == \"Fakhrul\"):\n",
    "        return \"Mirza Fakhrul Islam Alamgir\"\n",
    "    if (name == \"Muhith\" or name == \"AMA Muhith\" or name == \"MA Muhith\"):\n",
    "        return \"Abul Maal Abdul Muhith\"\n",
    "    if (name == \"Nizami\" or name == \"Motiur Rahman\"):\n",
    "        return \"Motiur Rahman Nizami\"\n",
    "    if (name == \"Modi\"):\n",
    "        return \"Narendra Modi\"\n",
    "    if (name == \"Bangabandhu\" or name == \"Sheikh Mujib\" or name == \"Sheikh Mujib\" or name == \"Bangabandhu Sheikh Mujibur\" or name == \"Sheikh Mujibur Rahman\"):\n",
    "        return \"Bangabandhu Sheikh Mujibur Rahman\"\n",
    "    if (name == \"Tarique\"):\n",
    "        return \"Tarique Rahman\"\n",
    "    if (name == \"Avijit\"):\n",
    "        return \"Avijit Roy\"\n",
    "    if (name == \"Mozena\"):\n",
    "        return \"Dan Mozena\"\n",
    "    if (name == \"Yunus\" or name == \"Mohammad Yunus\"):\n",
    "        return \"Muhammad Yunus\""
   ]
  },
  {
   "cell_type": "markdown",
   "metadata": {},
   "source": [
    "### Date limit: 2013-07-08 to 2016-06-14 on DT, New Age and Daily Sun"
   ]
  },
  {
   "cell_type": "code",
   "execution_count": 111,
   "metadata": {},
   "outputs": [],
   "source": [
    "dt = pd.read_json('Data/DT/bd_news_dt.json')\n",
    "dstar = pd.read_json('Data/DS/news_db.json', lines=True)\n",
    "dsun = pd.read_pickle('Data/Daily Sun/DailySun_ent_1.pkl')"
   ]
  },
  {
   "cell_type": "code",
   "execution_count": 112,
   "metadata": {},
   "outputs": [
    {
     "data": {
      "text/html": [
       "<div>\n",
       "<style scoped>\n",
       "    .dataframe tbody tr th:only-of-type {\n",
       "        vertical-align: middle;\n",
       "    }\n",
       "\n",
       "    .dataframe tbody tr th {\n",
       "        vertical-align: top;\n",
       "    }\n",
       "\n",
       "    .dataframe thead th {\n",
       "        text-align: right;\n",
       "    }\n",
       "</style>\n",
       "<table border=\"1\" class=\"dataframe\">\n",
       "  <thead>\n",
       "    <tr style=\"text-align: right;\">\n",
       "      <th></th>\n",
       "      <th>_id</th>\n",
       "      <th>about_reporter</th>\n",
       "      <th>bottom_tagline</th>\n",
       "      <th>breadcrumb</th>\n",
       "      <th>category</th>\n",
       "      <th>content</th>\n",
       "      <th>date_crawled</th>\n",
       "      <th>date_published</th>\n",
       "      <th>generated_keywords</th>\n",
       "      <th>generated_summary</th>\n",
       "      <th>...</th>\n",
       "      <th>ner_unique_person</th>\n",
       "      <th>ner_unique_time</th>\n",
       "      <th>news_url</th>\n",
       "      <th>newspaper</th>\n",
       "      <th>reporter</th>\n",
       "      <th>section</th>\n",
       "      <th>sentiment</th>\n",
       "      <th>shoulder</th>\n",
       "      <th>title</th>\n",
       "      <th>top_tagline</th>\n",
       "    </tr>\n",
       "  </thead>\n",
       "  <tbody>\n",
       "    <tr>\n",
       "      <th>0</th>\n",
       "      <td>{'$oid': '58afca955388c123849ed1be'}</td>\n",
       "      <td>NaN</td>\n",
       "      <td>None</td>\n",
       "      <td>[]</td>\n",
       "      <td>NaN</td>\n",
       "      <td>People's hopes for the best and confidence in ...</td>\n",
       "      <td>{'$date': '2017-02-24T00:54:28.809Z'}</td>\n",
       "      <td>{'$date': '2008-01-01T00:00:00.000Z'}</td>\n",
       "      <td>[parliamentary, fiscal, great, unfulfilled, ca...</td>\n",
       "      <td>This reminded the people of past military regi...</td>\n",
       "      <td>...</td>\n",
       "      <td>[Quadri, Hasina, Bangla Bhai, Ershad, Ayub Qua...</td>\n",
       "      <td>[]</td>\n",
       "      <td>http://www.thedailystar.net/news-detail-17307</td>\n",
       "      <td>The Daily Star</td>\n",
       "      <td>None</td>\n",
       "      <td>Front Page</td>\n",
       "      <td>NaN</td>\n",
       "      <td>NaN</td>\n",
       "      <td>Great expectations unfulfilled</td>\n",
       "      <td>None</td>\n",
       "    </tr>\n",
       "    <tr>\n",
       "      <th>1</th>\n",
       "      <td>{'$oid': '58afca985388c123849ed1bf'}</td>\n",
       "      <td>NaN</td>\n",
       "      <td>None</td>\n",
       "      <td>[]</td>\n",
       "      <td>NaN</td>\n",
       "      <td>(L-R) Nasir Uddin, Abbas AliArrested Abbas Ali...</td>\n",
       "      <td>{'$date': '2017-02-24T00:54:31.997Z'}</td>\n",
       "      <td>{'$date': '2008-01-01T00:00:00.000Z'}</td>\n",
       "      <td>[stones, rab, nasir, museum, took, abbas, offi...</td>\n",
       "      <td>Abbas and Nasir said they stole the statuettes...</td>\n",
       "      <td>...</td>\n",
       "      <td>[Mohammad Ali, Hamid, Nikhil Chandra Das, Abdu...</td>\n",
       "      <td>[]</td>\n",
       "      <td>http://www.thedailystar.net/news-detail-17312</td>\n",
       "      <td>The Daily Star</td>\n",
       "      <td>None</td>\n",
       "      <td>Front Page</td>\n",
       "      <td>NaN</td>\n",
       "      <td>NaN</td>\n",
       "      <td>None</td>\n",
       "      <td>None</td>\n",
       "    </tr>\n",
       "    <tr>\n",
       "      <th>2</th>\n",
       "      <td>{'$oid': '58afca9a5388c123849ed1c0'}</td>\n",
       "      <td>NaN</td>\n",
       "      <td>None</td>\n",
       "      <td>[]</td>\n",
       "      <td>NaN</td>\n",
       "      <td>Daniel Vettori and Brendon McCullum put on rec...</td>\n",
       "      <td>{'$date': '2017-02-24T00:54:34.466Z'}</td>\n",
       "      <td>{'$date': '2008-01-01T00:00:00.000Z'}</td>\n",
       "      <td>[zealand, seven, balls, bangladesh, odi, vetto...</td>\n",
       "      <td>The match was over before the scheduled first ...</td>\n",
       "      <td>...</td>\n",
       "      <td>[Aftab Ahmed, Zaheer, Jacob Oram, Vettori, Far...</td>\n",
       "      <td>[]</td>\n",
       "      <td>http://www.thedailystar.net/news-detail-17353</td>\n",
       "      <td>The Daily Star</td>\n",
       "      <td>None</td>\n",
       "      <td>Front Page</td>\n",
       "      <td>NaN</td>\n",
       "      <td>NaN</td>\n",
       "      <td>Kiwis maul Tigers</td>\n",
       "      <td>None</td>\n",
       "    </tr>\n",
       "    <tr>\n",
       "      <th>3</th>\n",
       "      <td>{'$oid': '58afca9c5388c123849ed1c1'}</td>\n",
       "      <td>NaN</td>\n",
       "      <td>Says BB governor</td>\n",
       "      <td>[]</td>\n",
       "      <td>NaN</td>\n",
       "      <td>Bangladesh Bank (BB) Governor Salehuddin Ahmed...</td>\n",
       "      <td>{'$date': '2017-02-24T00:54:36.829Z'}</td>\n",
       "      <td>{'$date': '2008-01-01T00:00:00.000Z'}</td>\n",
       "      <td>[wont, outgoing, essentials, soon, governor, i...</td>\n",
       "      <td>Bangladesh Bank in the new year will focus on ...</td>\n",
       "      <td>...</td>\n",
       "      <td>[Salehuddin Ahmed, Cyclone Sidr]</td>\n",
       "      <td>[]</td>\n",
       "      <td>http://www.thedailystar.net/news-detail-17325</td>\n",
       "      <td>The Daily Star</td>\n",
       "      <td>None</td>\n",
       "      <td>Front Page</td>\n",
       "      <td>NaN</td>\n",
       "      <td>NaN</td>\n",
       "      <td>Essentials prices won't go down soon</td>\n",
       "      <td>None</td>\n",
       "    </tr>\n",
       "    <tr>\n",
       "      <th>4</th>\n",
       "      <td>{'$oid': '58afca9f5388c123849ed1c2'}</td>\n",
       "      <td>NaN</td>\n",
       "      <td>None</td>\n",
       "      <td>[]</td>\n",
       "      <td>NaN</td>\n",
       "      <td>Justice KM Sobhan died of cardiac arrest at Bi...</td>\n",
       "      <td>{'$date': '2017-02-24T00:54:39.231Z'}</td>\n",
       "      <td>{'$date': '2008-01-01T00:00:00.000Z'}</td>\n",
       "      <td>[passes, sons, sobhan, justice, away, shock, k...</td>\n",
       "      <td>Family sources said Justice Sobhan, also the p...</td>\n",
       "      <td>...</td>\n",
       "      <td>[KM Sobhan, Ashraful Islam, Sobhan, Zillur Rah...</td>\n",
       "      <td>[]</td>\n",
       "      <td>http://www.thedailystar.net/news-detail-17340</td>\n",
       "      <td>The Daily Star</td>\n",
       "      <td>None</td>\n",
       "      <td>Front Page</td>\n",
       "      <td>NaN</td>\n",
       "      <td>NaN</td>\n",
       "      <td>KM Sobhan passes away</td>\n",
       "      <td>None</td>\n",
       "    </tr>\n",
       "  </tbody>\n",
       "</table>\n",
       "<p>5 rows × 34 columns</p>\n",
       "</div>"
      ],
      "text/plain": [
       "                                    _id  about_reporter    bottom_tagline  \\\n",
       "0  {'$oid': '58afca955388c123849ed1be'}             NaN              None   \n",
       "1  {'$oid': '58afca985388c123849ed1bf'}             NaN              None   \n",
       "2  {'$oid': '58afca9a5388c123849ed1c0'}             NaN              None   \n",
       "3  {'$oid': '58afca9c5388c123849ed1c1'}             NaN  Says BB governor   \n",
       "4  {'$oid': '58afca9f5388c123849ed1c2'}             NaN              None   \n",
       "\n",
       "  breadcrumb  category                                            content  \\\n",
       "0         []       NaN  People's hopes for the best and confidence in ...   \n",
       "1         []       NaN  (L-R) Nasir Uddin, Abbas AliArrested Abbas Ali...   \n",
       "2         []       NaN  Daniel Vettori and Brendon McCullum put on rec...   \n",
       "3         []       NaN  Bangladesh Bank (BB) Governor Salehuddin Ahmed...   \n",
       "4         []       NaN  Justice KM Sobhan died of cardiac arrest at Bi...   \n",
       "\n",
       "                            date_crawled  \\\n",
       "0  {'$date': '2017-02-24T00:54:28.809Z'}   \n",
       "1  {'$date': '2017-02-24T00:54:31.997Z'}   \n",
       "2  {'$date': '2017-02-24T00:54:34.466Z'}   \n",
       "3  {'$date': '2017-02-24T00:54:36.829Z'}   \n",
       "4  {'$date': '2017-02-24T00:54:39.231Z'}   \n",
       "\n",
       "                          date_published  \\\n",
       "0  {'$date': '2008-01-01T00:00:00.000Z'}   \n",
       "1  {'$date': '2008-01-01T00:00:00.000Z'}   \n",
       "2  {'$date': '2008-01-01T00:00:00.000Z'}   \n",
       "3  {'$date': '2008-01-01T00:00:00.000Z'}   \n",
       "4  {'$date': '2008-01-01T00:00:00.000Z'}   \n",
       "\n",
       "                                  generated_keywords  \\\n",
       "0  [parliamentary, fiscal, great, unfulfilled, ca...   \n",
       "1  [stones, rab, nasir, museum, took, abbas, offi...   \n",
       "2  [zealand, seven, balls, bangladesh, odi, vetto...   \n",
       "3  [wont, outgoing, essentials, soon, governor, i...   \n",
       "4  [passes, sons, sobhan, justice, away, shock, k...   \n",
       "\n",
       "                                   generated_summary     ...      \\\n",
       "0  This reminded the people of past military regi...     ...       \n",
       "1  Abbas and Nasir said they stole the statuettes...     ...       \n",
       "2  The match was over before the scheduled first ...     ...       \n",
       "3  Bangladesh Bank in the new year will focus on ...     ...       \n",
       "4  Family sources said Justice Sobhan, also the p...     ...       \n",
       "\n",
       "                                   ner_unique_person ner_unique_time  \\\n",
       "0  [Quadri, Hasina, Bangla Bhai, Ershad, Ayub Qua...              []   \n",
       "1  [Mohammad Ali, Hamid, Nikhil Chandra Das, Abdu...              []   \n",
       "2  [Aftab Ahmed, Zaheer, Jacob Oram, Vettori, Far...              []   \n",
       "3                   [Salehuddin Ahmed, Cyclone Sidr]              []   \n",
       "4  [KM Sobhan, Ashraful Islam, Sobhan, Zillur Rah...              []   \n",
       "\n",
       "                                        news_url       newspaper reporter  \\\n",
       "0  http://www.thedailystar.net/news-detail-17307  The Daily Star     None   \n",
       "1  http://www.thedailystar.net/news-detail-17312  The Daily Star     None   \n",
       "2  http://www.thedailystar.net/news-detail-17353  The Daily Star     None   \n",
       "3  http://www.thedailystar.net/news-detail-17325  The Daily Star     None   \n",
       "4  http://www.thedailystar.net/news-detail-17340  The Daily Star     None   \n",
       "\n",
       "      section sentiment shoulder                                 title  \\\n",
       "0  Front Page       NaN      NaN        Great expectations unfulfilled   \n",
       "1  Front Page       NaN      NaN                                  None   \n",
       "2  Front Page       NaN      NaN                     Kiwis maul Tigers   \n",
       "3  Front Page       NaN      NaN  Essentials prices won't go down soon   \n",
       "4  Front Page       NaN      NaN                 KM Sobhan passes away   \n",
       "\n",
       "  top_tagline  \n",
       "0        None  \n",
       "1        None  \n",
       "2        None  \n",
       "3        None  \n",
       "4        None  \n",
       "\n",
       "[5 rows x 34 columns]"
      ]
     },
     "execution_count": 112,
     "metadata": {},
     "output_type": "execute_result"
    }
   ],
   "source": [
    "dstar.head()"
   ]
  },
  {
   "cell_type": "code",
   "execution_count": 115,
   "metadata": {},
   "outputs": [],
   "source": [
    "def conv_to_datetime(date_dict):\n",
    "    new_datetime = parser.parse(list(date_dict.items())[0][1], ignoretz=True)\n",
    "    new_datetime = new_datetime.replace(hour=0, minute=0, second=0, microsecond=0)\n",
    "    return new_datetime"
   ]
  },
  {
   "cell_type": "code",
   "execution_count": 116,
   "metadata": {},
   "outputs": [],
   "source": [
    "dt['news_publish_date'] = dt['news_publish_date'].apply(conv_to_datetime)"
   ]
  },
  {
   "cell_type": "code",
   "execution_count": 117,
   "metadata": {},
   "outputs": [],
   "source": [
    "dstar['date_published'] = dstar['date_published'].apply(conv_to_datetime)"
   ]
  },
  {
   "cell_type": "code",
   "execution_count": 118,
   "metadata": {},
   "outputs": [],
   "source": [
    "dsun['date_published'] = pd.to_datetime(dsun['date_published'])"
   ]
  },
  {
   "cell_type": "code",
   "execution_count": 119,
   "metadata": {},
   "outputs": [],
   "source": [
    "start_date = datetime(2013, 7, 8)\n",
    "end_date = datetime(2016, 6, 14)"
   ]
  },
  {
   "cell_type": "code",
   "execution_count": 120,
   "metadata": {},
   "outputs": [],
   "source": [
    "dt_new = dt.loc[(dt['news_publish_date']>=start_date) & (dt['news_publish_date']<=end_date)]"
   ]
  },
  {
   "cell_type": "code",
   "execution_count": 121,
   "metadata": {},
   "outputs": [],
   "source": [
    "dstar_new = dstar.loc[(dstar['date_published']>=start_date) & (dstar['date_published']<=end_date)]"
   ]
  },
  {
   "cell_type": "code",
   "execution_count": 122,
   "metadata": {},
   "outputs": [],
   "source": [
    "dsun_new = dsun.loc[(dsun['date_published']>=start_date) & (dsun['date_published']<=end_date)]"
   ]
  },
  {
   "cell_type": "code",
   "execution_count": 123,
   "metadata": {},
   "outputs": [
    {
     "name": "stdout",
     "output_type": "stream",
     "text": [
      "dt: (46611, 17), dstar: (165236, 34), dsun(49055, 17)\n"
     ]
    }
   ],
   "source": [
    "print(\"dt: {}, dstar: {}, dsun{}\".format(dt_new.shape, dstar.shape, dt.shape))"
   ]
  },
  {
   "cell_type": "code",
   "execution_count": 124,
   "metadata": {},
   "outputs": [],
   "source": [
    "dt_new = dt_new.reset_index(drop=True)\n",
    "dstar_new = dstar_new.reset_index(drop=True)\n",
    "dsun_new = dsun_new.reset_index(drop=True)"
   ]
  },
  {
   "cell_type": "markdown",
   "metadata": {},
   "source": [
    "TODO: Need to do a groupby on news_publish_date/date_published and then apply the following function. Diff functions/conditions for dt and dstar/dsun due to how the data is stored"
   ]
  },
  {
   "cell_type": "code",
   "execution_count": null,
   "metadata": {},
   "outputs": [],
   "source": [
    "def ner_highlight(location, organization, person):\n",
    "    "
   ]
  }
 ],
 "metadata": {
  "kernelspec": {
   "display_name": "Python 3",
   "language": "python",
   "name": "python3"
  },
  "language_info": {
   "codemirror_mode": {
    "name": "ipython",
    "version": 3
   },
   "file_extension": ".py",
   "mimetype": "text/x-python",
   "name": "python",
   "nbconvert_exporter": "python",
   "pygments_lexer": "ipython3",
   "version": "3.5.2"
  }
 },
 "nbformat": 4,
 "nbformat_minor": 2
}
