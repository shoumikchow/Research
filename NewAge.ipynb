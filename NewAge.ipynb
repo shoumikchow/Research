{
 "cells": [
  {
   "cell_type": "code",
   "execution_count": 1,
   "metadata": {},
   "outputs": [],
   "source": [
    "import pandas as pd\n",
    "from tqdm import tqdm\n",
    "import nltk.data\n",
    "import re\n",
    "import spacy\n",
    "from tqdm import tqdm\n",
    "\n",
    "nlp = spacy.load('en')\n",
    "tokenizer = nltk.data.load('nltk:tokenizers/punkt/english.pickle')"
   ]
  },
  {
   "cell_type": "code",
   "execution_count": 2,
   "metadata": {},
   "outputs": [],
   "source": [
    "# df1 = pd.read_json('Data/New Age/newage_2016_10_01_to_2017_10_01.json')\n",
    "# df2 = pd.read_json('Data/New Age/newage_2017_10_02_to_2018_04_20.json')"
   ]
  },
  {
   "cell_type": "code",
   "execution_count": 3,
   "metadata": {},
   "outputs": [],
   "source": [
    "# df = pd.concat([df1, df2], ignore_index=True)"
   ]
  },
  {
   "cell_type": "code",
   "execution_count": 4,
   "metadata": {
    "scrolled": true
   },
   "outputs": [],
   "source": [
    "# df.head(1)"
   ]
  },
  {
   "cell_type": "code",
   "execution_count": 5,
   "metadata": {},
   "outputs": [],
   "source": [
    "# df['news_content'][0]"
   ]
  },
  {
   "cell_type": "code",
   "execution_count": 6,
   "metadata": {},
   "outputs": [],
   "source": [
    "# doc = nlp(df['news_content'][0])"
   ]
  },
  {
   "cell_type": "code",
   "execution_count": 7,
   "metadata": {},
   "outputs": [],
   "source": [
    "# location = []\n",
    "# organization = []\n",
    "# person = []\n",
    "# for entity in doc.ents:\n",
    "#     if (entity.label_ == \"LOC\" or entity.label_ == \"GPE\"):\n",
    "#         location.append(entity.text)\n",
    "#     elif (entity.label_ == \"ORG\"):\n",
    "#         organization.append(entity.text)\n",
    "#     elif (entity.label_ == \"PERSON\"):\n",
    "#         person.append(entity.text)\n",
    "# print(list(set(location)), list(set(organization)), list(set(person)))"
   ]
  },
  {
   "cell_type": "code",
   "execution_count": 8,
   "metadata": {},
   "outputs": [],
   "source": [
    "# def find_entities(text):\n",
    "#     doc = nlp(text)\n",
    "#     location = []\n",
    "#     organization = []\n",
    "#     person = []\n",
    "#     for entity in doc.ents:\n",
    "#         if (entity.label_ == \"LOC\" or entity.label_ == \"GPE\"):\n",
    "#             location.append(entity.text)\n",
    "#         elif (entity.label_ == \"ORG\"):\n",
    "#             organization.append(entity.text)\n",
    "#         elif (entity.label_ == \"PERSON\"):\n",
    "#             person.append(entity.text)\n",
    "#     location = list(set(location))\n",
    "#     organization = list(set(organization))\n",
    "#     person = list(set(person))\n",
    "#     return location, organization, person"
   ]
  },
  {
   "cell_type": "code",
   "execution_count": 9,
   "metadata": {},
   "outputs": [],
   "source": [
    "# tqdm.pandas()\n",
    "# df['location_entities'], df['organization_entities'], df['person_entities'] = zip(*df['news_content'].progress_apply(find_entities))"
   ]
  },
  {
   "cell_type": "code",
   "execution_count": 10,
   "metadata": {},
   "outputs": [],
   "source": [
    "# df.to_pickle('Data/New Age/NewAge_ent.pkl')"
   ]
  },
  {
   "cell_type": "code",
   "execution_count": 11,
   "metadata": {},
   "outputs": [],
   "source": [
    "df = pd.read_pickle('Data/New Age/NewAge_ent.pkl')"
   ]
  },
  {
   "cell_type": "code",
   "execution_count": 12,
   "metadata": {},
   "outputs": [
    {
     "data": {
      "text/html": [
       "<div>\n",
       "<style scoped>\n",
       "    .dataframe tbody tr th:only-of-type {\n",
       "        vertical-align: middle;\n",
       "    }\n",
       "\n",
       "    .dataframe tbody tr th {\n",
       "        vertical-align: top;\n",
       "    }\n",
       "\n",
       "    .dataframe thead th {\n",
       "        text-align: right;\n",
       "    }\n",
       "</style>\n",
       "<table border=\"1\" class=\"dataframe\">\n",
       "  <thead>\n",
       "    <tr style=\"text-align: right;\">\n",
       "      <th></th>\n",
       "      <th>category</th>\n",
       "      <th>date_published</th>\n",
       "      <th>image</th>\n",
       "      <th>news_content</th>\n",
       "      <th>news_id</th>\n",
       "      <th>newspaper</th>\n",
       "      <th>reporter</th>\n",
       "      <th>tags</th>\n",
       "      <th>title</th>\n",
       "      <th>url</th>\n",
       "      <th>location_entities</th>\n",
       "      <th>organization_entities</th>\n",
       "      <th>person_entities</th>\n",
       "    </tr>\n",
       "  </thead>\n",
       "  <tbody>\n",
       "    <tr>\n",
       "      <th>0</th>\n",
       "      <td>Bangladesh</td>\n",
       "      <td>2016-10-01</td>\n",
       "      <td>{'urls': [], 'captions': []}</td>\n",
       "      <td>Coordinator of 14-party alliance and health mi...</td>\n",
       "      <td>118</td>\n",
       "      <td>New Age</td>\n",
       "      <td>Bangladesh Sangbad Sangstha</td>\n",
       "      <td>[General elections, Mohammad Nasim, national p...</td>\n",
       "      <td>No national polls before 2019: Nasim</td>\n",
       "      <td>http://www.newagebd.net/article/118/no-nationa...</td>\n",
       "      <td>[Naogaon]</td>\n",
       "      <td>[BSD, BNP, Workers Party, Advocate Enamul Haqu...</td>\n",
       "      <td>[Khairuzzaman Litan, Md Abdul Malek, Samyabadi...</td>\n",
       "    </tr>\n",
       "    <tr>\n",
       "      <th>1</th>\n",
       "      <td>Entertainment</td>\n",
       "      <td>2016-10-01</td>\n",
       "      <td>{'urls': ['http://www.newagebd.com/files/recor...</td>\n",
       "      <td>\\n\\t\\t\\t\\t\\t\\t\\tIn this July 4, 2015 file phot...</td>\n",
       "      <td>83</td>\n",
       "      <td>New Age</td>\n",
       "      <td>Associated Press</td>\n",
       "      <td>[David Bowie , Rolling Stones]</td>\n",
       "      <td>Concert promoter in $200 million fraud is bip...</td>\n",
       "      <td>http://www.newagebd.net/article/83/concert-pro...</td>\n",
       "      <td>[Indianapolis]</td>\n",
       "      <td>[Worldwide Entertainment Inc., the Rolling Sto...</td>\n",
       "      <td>[Jack Utsick, Charlie Watts, Ronnie Wood, Keit...</td>\n",
       "    </tr>\n",
       "    <tr>\n",
       "      <th>2</th>\n",
       "      <td>Entertainment</td>\n",
       "      <td>2016-10-01</td>\n",
       "      <td>{'urls': ['http://www.newagebd.com/files/recor...</td>\n",
       "      <td>\\n\\t\\t\\t\\t\\t\\t\\tIn this March 7, 2000 photo, R...</td>\n",
       "      <td>86</td>\n",
       "      <td>New Age</td>\n",
       "      <td>Associated Press</td>\n",
       "      <td>[Oscar Mayer Wiener , Richard Trentlage]</td>\n",
       "      <td>Man who got generations singing Oscar Mayer W...</td>\n",
       "      <td>http://www.newagebd.net/article/86/man-who-got...</td>\n",
       "      <td>[Fox River Grove, Illinois, Libertyville, Ill....</td>\n",
       "      <td>[Modern Plastic Brooms, Oscar Mayer Wiener, Mc...</td>\n",
       "      <td>[Buckle, Richard Trentlage, Linda Bruun]</td>\n",
       "    </tr>\n",
       "    <tr>\n",
       "      <th>3</th>\n",
       "      <td>Entertainment</td>\n",
       "      <td>2016-10-01</td>\n",
       "      <td>{'urls': ['http://www.newagebd.com/files/recor...</td>\n",
       "      <td>\\n\\t\\t\\t\\t\\t\\t\\tA 2015 file photo shows The Gr...</td>\n",
       "      <td>89</td>\n",
       "      <td>New Age</td>\n",
       "      <td>Associated Press</td>\n",
       "      <td>[Henri Matisse, National Gallery of Art , Pabl...</td>\n",
       "      <td>National Gallery of Art's East Building set t...</td>\n",
       "      <td>http://www.newagebd.net/article/89/national-ga...</td>\n",
       "      <td>[The Greek Slave, Washington, DC, The East Bui...</td>\n",
       "      <td>[the National Gallery of Art, AP]</td>\n",
       "      <td>[Virginia Dwan, Amedeo Modigliani, Georgia O'K...</td>\n",
       "    </tr>\n",
       "    <tr>\n",
       "      <th>4</th>\n",
       "      <td>Entertainment</td>\n",
       "      <td>2016-10-01</td>\n",
       "      <td>{'urls': ['http://www.newagebd.com/files/recor...</td>\n",
       "      <td>\\n\\t\\t\\t\\t\\t\\t\\tThis file photo taken on April...</td>\n",
       "      <td>90</td>\n",
       "      <td>New Age</td>\n",
       "      <td>Agence France-Presse</td>\n",
       "      <td>[Bob Dylan, European Commission, Michael Jacks...</td>\n",
       "      <td>Sony closes on Michael Jackson's stake in mus...</td>\n",
       "      <td>http://www.newagebd.net/article/90/sony-closes...</td>\n",
       "      <td>[Jackson, US, Kanye West]</td>\n",
       "      <td>[Music Publishing, The European Commission, So...</td>\n",
       "      <td>[Marvin Gaye, Lady Gaga, Bob Dylan, Michael Ja...</td>\n",
       "    </tr>\n",
       "  </tbody>\n",
       "</table>\n",
       "</div>"
      ],
      "text/plain": [
       "        category date_published  \\\n",
       "0     Bangladesh     2016-10-01   \n",
       "1  Entertainment     2016-10-01   \n",
       "2  Entertainment     2016-10-01   \n",
       "3  Entertainment     2016-10-01   \n",
       "4  Entertainment     2016-10-01   \n",
       "\n",
       "                                               image  \\\n",
       "0                       {'urls': [], 'captions': []}   \n",
       "1  {'urls': ['http://www.newagebd.com/files/recor...   \n",
       "2  {'urls': ['http://www.newagebd.com/files/recor...   \n",
       "3  {'urls': ['http://www.newagebd.com/files/recor...   \n",
       "4  {'urls': ['http://www.newagebd.com/files/recor...   \n",
       "\n",
       "                                        news_content  news_id newspaper  \\\n",
       "0  Coordinator of 14-party alliance and health mi...      118   New Age   \n",
       "1  \\n\\t\\t\\t\\t\\t\\t\\tIn this July 4, 2015 file phot...       83   New Age   \n",
       "2  \\n\\t\\t\\t\\t\\t\\t\\tIn this March 7, 2000 photo, R...       86   New Age   \n",
       "3  \\n\\t\\t\\t\\t\\t\\t\\tA 2015 file photo shows The Gr...       89   New Age   \n",
       "4  \\n\\t\\t\\t\\t\\t\\t\\tThis file photo taken on April...       90   New Age   \n",
       "\n",
       "                      reporter  \\\n",
       "0  Bangladesh Sangbad Sangstha   \n",
       "1             Associated Press   \n",
       "2             Associated Press   \n",
       "3             Associated Press   \n",
       "4         Agence France-Presse   \n",
       "\n",
       "                                                tags  \\\n",
       "0  [General elections, Mohammad Nasim, national p...   \n",
       "1                     [David Bowie , Rolling Stones]   \n",
       "2           [Oscar Mayer Wiener , Richard Trentlage]   \n",
       "3  [Henri Matisse, National Gallery of Art , Pabl...   \n",
       "4  [Bob Dylan, European Commission, Michael Jacks...   \n",
       "\n",
       "                                               title  \\\n",
       "0              No national polls before 2019: Nasim    \n",
       "1   Concert promoter in $200 million fraud is bip...   \n",
       "2   Man who got generations singing Oscar Mayer W...   \n",
       "3   National Gallery of Art's East Building set t...   \n",
       "4   Sony closes on Michael Jackson's stake in mus...   \n",
       "\n",
       "                                                 url  \\\n",
       "0  http://www.newagebd.net/article/118/no-nationa...   \n",
       "1  http://www.newagebd.net/article/83/concert-pro...   \n",
       "2  http://www.newagebd.net/article/86/man-who-got...   \n",
       "3  http://www.newagebd.net/article/89/national-ga...   \n",
       "4  http://www.newagebd.net/article/90/sony-closes...   \n",
       "\n",
       "                                   location_entities  \\\n",
       "0                                          [Naogaon]   \n",
       "1                                     [Indianapolis]   \n",
       "2  [Fox River Grove, Illinois, Libertyville, Ill....   \n",
       "3  [The Greek Slave, Washington, DC, The East Bui...   \n",
       "4                          [Jackson, US, Kanye West]   \n",
       "\n",
       "                               organization_entities  \\\n",
       "0  [BSD, BNP, Workers Party, Advocate Enamul Haqu...   \n",
       "1  [Worldwide Entertainment Inc., the Rolling Sto...   \n",
       "2  [Modern Plastic Brooms, Oscar Mayer Wiener, Mc...   \n",
       "3                  [the National Gallery of Art, AP]   \n",
       "4  [Music Publishing, The European Commission, So...   \n",
       "\n",
       "                                     person_entities  \n",
       "0  [Khairuzzaman Litan, Md Abdul Malek, Samyabadi...  \n",
       "1  [Jack Utsick, Charlie Watts, Ronnie Wood, Keit...  \n",
       "2           [Buckle, Richard Trentlage, Linda Bruun]  \n",
       "3  [Virginia Dwan, Amedeo Modigliani, Georgia O'K...  \n",
       "4  [Marvin Gaye, Lady Gaga, Bob Dylan, Michael Ja...  "
      ]
     },
     "execution_count": 12,
     "metadata": {},
     "output_type": "execute_result"
    }
   ],
   "source": [
    "df.head()"
   ]
  },
  {
   "cell_type": "code",
   "execution_count": null,
   "metadata": {},
   "outputs": [],
   "source": []
  }
 ],
 "metadata": {
  "kernelspec": {
   "display_name": "Python 3",
   "language": "python",
   "name": "python3"
  },
  "language_info": {
   "codemirror_mode": {
    "name": "ipython",
    "version": 3
   },
   "file_extension": ".py",
   "mimetype": "text/x-python",
   "name": "python",
   "nbconvert_exporter": "python",
   "pygments_lexer": "ipython3",
   "version": "3.5.2"
  }
 },
 "nbformat": 4,
 "nbformat_minor": 2
}
