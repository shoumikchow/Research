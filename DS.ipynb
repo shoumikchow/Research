{
 "cells": [
  {
   "cell_type": "code",
   "execution_count": 8,
   "metadata": {},
   "outputs": [],
   "source": [
    "import pandas as pd\n",
    "from tqdm import tqdm\n",
    "import nltk.data\n",
    "import re\n",
    "import collections"
   ]
  },
  {
   "cell_type": "code",
   "execution_count": 25,
   "metadata": {},
   "outputs": [],
   "source": [
    "# df = pd.read_json('Data/DS/news_db.json', lines=True)"
   ]
  },
  {
   "cell_type": "code",
   "execution_count": 26,
   "metadata": {},
   "outputs": [],
   "source": [
    "# df['content'].size"
   ]
  },
  {
   "cell_type": "code",
   "execution_count": 27,
   "metadata": {},
   "outputs": [],
   "source": [
    "# df['ner_unique_location'][0], df['ner_unique_organization'][0], df['ner_unique_person'][0]"
   ]
  },
  {
   "cell_type": "code",
   "execution_count": 28,
   "metadata": {},
   "outputs": [],
   "source": [
    "# def check_alleged(text):\n",
    "#     if re.search(r'\\balleged\\b', text):\n",
    "#         return True\n",
    "#     return False\n",
    "\n",
    "# conversational_words = ['said', 'told', 'asked', 'speak', 'say', 'tell', 'spoke', 'added', 'declare']"
   ]
  },
  {
   "cell_type": "code",
   "execution_count": 29,
   "metadata": {},
   "outputs": [],
   "source": [
    "# df['content'][0]"
   ]
  },
  {
   "cell_type": "code",
   "execution_count": 24,
   "metadata": {},
   "outputs": [],
   "source": [
    "def name_disambiguation(names):\n",
    "    disambiguated_names = []\n",
    "    for name in names:\n",
    "        if (name == \"Khaleda\" or name == \"Zia\" or name == \"Begum Khaleda Zia\" or name == \"Khaleda Zia’s\"):\n",
    "            disambiguated_names.append(\"Khaleda Zia\")\n",
    "        elif (name == \"Hasina\" or name == \"Sheikh\"):\n",
    "            disambiguated_names.append(\"Sheikh Hasina\")\n",
    "        elif (name == \"Fakhrul\"):\n",
    "            disambiguated_names.append(\"Mirza Fakhrul Islam Alamgir\")\n",
    "        elif (name == \"Muhith\" or name == \"AMA Muhith\" or name == \"MA Muhith\"):\n",
    "            disambiguated_names.append(\"Abul Maal Abdul Muhith\")\n",
    "        elif (name == \"Nizami\" or name == \"Motiur Rahman\"):\n",
    "            disambiguated_names.append(\"Motiur Rahman Nizami\")\n",
    "        elif (name == \"Modi\"):\n",
    "            disambiguated_names.append(\"Narendra Modi\")\n",
    "        elif (name == \"Bangabandhu\" or name == \"Sheikh Mujib\" or name == \"Sheikh Mujib\" or name == \"Bangabandhu Sheikh Mujibur\" or name == \"Sheikh Mujibur Rahman\" or name == \"Mujibur Rahman\"):\n",
    "            disambiguated_names.append(\"Bangabandhu Sheikh Mujibur Rahman\")\n",
    "        elif (name == \"Tarique\"):\n",
    "            disambiguated_names.append(\"Tarique Rahman\")\n",
    "        elif (name == \"Avijit\" or name == \"Roy\"):\n",
    "            disambiguated_names.append(\"Avijit Roy\")\n",
    "        elif (name == \"Mozena\"):\n",
    "            disambiguated_names.append(\"Dan Mozena\")\n",
    "        elif (name == \"Yunus\" or name == \"Mohammad Yunus\"):\n",
    "            disambiguated_names.append(\"Muhammad Yunus\")\n",
    "        elif (name == \"Obama\"):\n",
    "            disambiguated_names.append(\"Barack Obama\")\n",
    "        elif (name == \"Trump\"):\n",
    "            disambiguated_names.append(\"Donald Trump\")\n",
    "        elif (name == \"Tagore\" or name == \"Rabindranath\" or name == \"Robindronath\" or name == \"Rabindronath\" or name == \"Robindranath\"):\n",
    "            disambiguated_names.append(\"Rabindranath Tagore\")\n",
    "        elif (name == \"Karzai\"):\n",
    "            disambiguated_names.append(\"Hamid Karzai\")\n",
    "        elif (name == \"Zardari\"):\n",
    "            disambiguated_names.append(\"Asif Ali Zardari\")\n",
    "        else:\n",
    "            disambiguated_names.append(name)\n",
    "    return (list(set(disambiguated_names)))"
   ]
  },
  {
   "cell_type": "code",
   "execution_count": 16,
   "metadata": {},
   "outputs": [],
   "source": [
    "def org_disambiguation(orgs):\n",
    "    disambiguated_orgs = []\n",
    "    for org in orgs:\n",
    "        if (org == \"AL\" or org == \"the Awami League\"):\n",
    "            disambiguated_orgs.append(\"Awami League\")\n",
    "        elif (org == \"EU\" or org == \"the European Union\"):\n",
    "            disambiguated_orgs.append(\"European Union\")\n",
    "        elif (org == \"BCL\" or org == \"Chhatra League\"):\n",
    "            disambiguated_orgs.append(\"Bangladesh Chhatra League\")\n",
    "        elif (org == \"DU\"):\n",
    "            disambiguated_orgs.append(\"Dhaka University\")\n",
    "        elif (org == \"the High Court\" or org == \"The High Court\"):\n",
    "            disambiguated_orgs.append(\"High Court\")\n",
    "        elif (org == \"the World Bank\"):\n",
    "            disambiguated_orgs.append(\"World Bank\")\n",
    "        elif (org == \"the Supreme Court\"):\n",
    "            disambiguated_orgs.append(\"Supreme Court\")\n",
    "        elif (org == \"UN\" or org == \"the United Nations\"):\n",
    "            disambiguated_orgs.append(\"United Nations\")\n",
    "        elif (org == \"EC\" or org == \"the Election Commission\"):\n",
    "            disambiguated_orgs.append(\"Election Commission\")\n",
    "        elif (org == \"the Supreme Court\"):\n",
    "            disambiguated_orgs.append(\"Supreme Court\")\n",
    "        elif (org == \"the White House\"):\n",
    "            disambiguated_orgs.append(\"White House\")\n",
    "        else:\n",
    "            disambiguated_orgs.append(org)\n",
    "    return (list(set(disambiguated_orgs)))"
   ]
  },
  {
   "cell_type": "code",
   "execution_count": 17,
   "metadata": {},
   "outputs": [],
   "source": [
    "def location_disambiguation(locations):\n",
    "    disambiguated_locs = []\n",
    "    for location in locations:\n",
    "        if (location == \"the United States\" or location == \"US\" or location == \"U.S.\" or location == \"the United States of America\" or location == \"The United States\" or location == \"USA\"):\n",
    "            disambiguated_locs.append(\"United States\")\n",
    "        elif (location == \"UK\" or location == \"the United Kingdom\"):\n",
    "            disambiguated_locs.append(\"United Kingdom\")\n",
    "        elif (location == \"Dhaka City\"):\n",
    "            disambiguated_locs.append(\"Dhaka\")\n",
    "        else:\n",
    "            disambiguated_locs.append(location)\n",
    "    return (list(set(disambiguated_locs)))"
   ]
  },
  {
   "cell_type": "code",
   "execution_count": 18,
   "metadata": {},
   "outputs": [],
   "source": [
    "df['ner_unique_person'] = df['ner_unique_person'].apply(name_disambiguation)\n",
    "df['ner_unique_organization'] = df['ner_unique_organization'].apply(org_disambiguation)\n",
    "df['ner_unique_location'] = df['ner_unique_location'].apply(location_disambiguation)"
   ]
  },
  {
   "cell_type": "code",
   "execution_count": 22,
   "metadata": {},
   "outputs": [],
   "source": [
    "# df.to_pickle('Data/DS/DS.pkl')"
   ]
  }
 ],
 "metadata": {
  "kernelspec": {
   "display_name": "Python 3",
   "language": "python",
   "name": "python3"
  },
  "language_info": {
   "codemirror_mode": {
    "name": "ipython",
    "version": 3
   },
   "file_extension": ".py",
   "mimetype": "text/x-python",
   "name": "python",
   "nbconvert_exporter": "python",
   "pygments_lexer": "ipython3",
   "version": "3.5.2"
  }
 },
 "nbformat": 4,
 "nbformat_minor": 2
}
