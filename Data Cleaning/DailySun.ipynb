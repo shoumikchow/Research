{
 "cells": [
  {
   "cell_type": "code",
   "execution_count": 1,
   "metadata": {},
   "outputs": [],
   "source": [
    "import pandas as pd\n",
    "from tqdm import tqdm\n",
    "import re\n",
    "import spacy\n",
    "import os\n",
    "import collections\n",
    "import requests\n",
    "from bs4 import BeautifulSoup\n",
    "from unidecode import unidecode\n",
    "import csv\n",
    "\n",
    "tqdm.pandas()\n",
    "nlp = spacy.load('en')"
   ]
  },
  {
   "cell_type": "code",
   "execution_count": 2,
   "metadata": {},
   "outputs": [],
   "source": [
    "# os.chdir('Data/Daily Sun')\n",
    "# files = [os.path.abspath(x) for x in os.listdir()]"
   ]
  },
  {
   "cell_type": "code",
   "execution_count": 3,
   "metadata": {},
   "outputs": [],
   "source": [
    "# list_of_df = []\n",
    "# for i in files:\n",
    "#     df = pd.read_json(i, lines=True)\n",
    "#     list_of_df.append(df)\n",
    "\n",
    "# df = pd.concat(list_of_df, ignore_index=True)"
   ]
  },
  {
   "cell_type": "code",
   "execution_count": 4,
   "metadata": {},
   "outputs": [],
   "source": [
    "# def find_entities(text):\n",
    "#     doc = nlp(text)\n",
    "#     location = []\n",
    "#     organization = []\n",
    "#     person = []\n",
    "#     for entity in doc.ents:\n",
    "#         if (entity.label_ == \"LOC\" or entity.label_ == \"GPE\"):\n",
    "#             location.append(entity.text)\n",
    "#         elif (entity.label_ == \"ORG\"):\n",
    "#             organization.append(entity.text)\n",
    "#         elif (entity.label_ == \"PERSON\"):\n",
    "#             person.append(entity.text)\n",
    "#     location = list(set(location))\n",
    "#     organization = list(set(organization))\n",
    "#     person = list(set(person))\n",
    "#     return location, organization, person"
   ]
  },
  {
   "cell_type": "code",
   "execution_count": 5,
   "metadata": {},
   "outputs": [],
   "source": [
    "# tqdm.pandas()\n",
    "# df['location_entities'], df['organization_entities'], df['person_entities'] = zip(*df['news_content'].progress_apply(find_entities))"
   ]
  },
  {
   "cell_type": "code",
   "execution_count": 6,
   "metadata": {},
   "outputs": [],
   "source": [
    "# def find_entities(text):\n",
    "#     doc = nlp(text)\n",
    "#     location = []\n",
    "#     organization = []\n",
    "#     person = []\n",
    "#     for entity in doc.ents:\n",
    "#         if (entity.label_ == \"LOC\" or entity.label_ == \"GPE\"):\n",
    "#             location.append(entity.text)\n",
    "#         elif (entity.label_ == \"ORG\"):\n",
    "#             organization.append(entity.text)\n",
    "#         elif (entity.label_ == \"PERSON\"):\n",
    "#             person.append(entity.text)\n",
    "#     location = list(set(location))\n",
    "#     organization = list(set(organization))\n",
    "#     person = list(set(person))\n",
    "#     return location, organization, person"
   ]
  },
  {
   "cell_type": "code",
   "execution_count": 7,
   "metadata": {},
   "outputs": [],
   "source": [
    "# def name_disambiguation(names):\n",
    "#     disambiguated_names = []\n",
    "#     for name in names:\n",
    "#         if (name == \"Khaleda\" or name == \"Zia\" or name == \"Begum Khaleda Zia\" or name == \"Khaleda Zia’s\"):\n",
    "#             disambiguated_names.append(\"Khaleda Zia\")\n",
    "#         elif (name == \"Hasina\" or name == \"Sheikh\"):\n",
    "#             disambiguated_names.append(\"Sheikh Hasina\")\n",
    "#         elif (name == \"Fakhrul\"):\n",
    "#             disambiguated_names.append(\"Mirza Fakhrul Islam Alamgir\")\n",
    "#         elif (name == \"Muhith\" or name == \"AMA Muhith\" or name == \"MA Muhith\"):\n",
    "#             disambiguated_names.append(\"Abul Maal Abdul Muhith\")\n",
    "#         elif (name == \"Nizami\" or name == \"Motiur Rahman\"):\n",
    "#             disambiguated_names.append(\"Motiur Rahman Nizami\")\n",
    "#         elif (name == \"Modi\"):\n",
    "#             disambiguated_names.append(\"Narendra Modi\")\n",
    "#         elif (name == \"Bangabandhu\" or name == \"Sheikh Mujib\" or name == \"Sheikh Mujib\" or name == \"Bangabandhu Sheikh Mujibur\" or name == \"Sheikh Mujibur Rahman\" or name == \"Mujibur Rahman\"):\n",
    "#             disambiguated_names.append(\"Bangabandhu Sheikh Mujibur Rahman\")\n",
    "#         elif (name == \"Tarique\"):\n",
    "#             disambiguated_names.append(\"Tarique Rahman\")\n",
    "#         elif (name == \"Avijit\" or name == \"Roy\"):\n",
    "#             disambiguated_names.append(\"Avijit Roy\")\n",
    "#         elif (name == \"Mozena\"):\n",
    "#             disambiguated_names.append(\"Dan Mozena\")\n",
    "#         elif (name == \"Yunus\" or name == \"Mohammad Yunus\"):\n",
    "#             disambiguated_names.append(\"Muhammad Yunus\")\n",
    "#         elif (name == \"Obama\"):\n",
    "#             disambiguated_names.append(\"Barack Obama\")\n",
    "#         elif (name == \"Trump\"):\n",
    "#             disambiguated_names.append(\"Donald Trump\")\n",
    "#         elif (name == \"Tagore\" or name == \"Rabindranath\" or name == \"Robindronath\" or name == \"Rabindronath\" or name == \"Robindranath\"):\n",
    "#             disambiguated_names.append(\"Rabindranath Tagore\")\n",
    "#         elif (name == \"Karzai\"):\n",
    "#             disambiguated_names.append(\"Hamid Karzai\")\n",
    "#         elif (name == \"Zardari\"):\n",
    "#             disambiguated_names.append(\"Asif Ali Zardari\")\n",
    "#         else:\n",
    "#             disambiguated_names.append(name)\n",
    "#     return (list(set(disambiguated_names)))"
   ]
  },
  {
   "cell_type": "code",
   "execution_count": 8,
   "metadata": {},
   "outputs": [],
   "source": [
    "# def org_disambiguation(orgs):\n",
    "#     disambiguated_orgs = []\n",
    "#     for org in orgs:\n",
    "#         if (org == \"AL\" or org == \"the Awami League\"):\n",
    "#             disambiguated_orgs.append(\"Awami League\")\n",
    "#         elif (org == \"EU\" or org == \"the European Union\"):\n",
    "#             disambiguated_orgs.append(\"European Union\")\n",
    "#         elif (org == \"BCL\" or org == \"Chhatra League\"):\n",
    "#             disambiguated_orgs.append(\"Bangladesh Chhatra League\")\n",
    "#         elif (org == \"DU\"):\n",
    "#             disambiguated_orgs.append(\"Dhaka University\")\n",
    "#         elif (org == \"the High Court\" or org == \"The High Court\"):\n",
    "#             disambiguated_orgs.append(\"High Court\")\n",
    "#         elif (org == \"the World Bank\"):\n",
    "#             disambiguated_orgs.append(\"World Bank\")\n",
    "#         elif (org == \"the Supreme Court\"):\n",
    "#             disambiguated_orgs.append(\"Supreme Court\")\n",
    "#         elif (org == \"UN\" or org == \"the United Nations\"):\n",
    "#             disambiguated_orgs.append(\"United Nations\")\n",
    "#         elif (org == \"EC\" or org == \"the Election Commission\"):\n",
    "#             disambiguated_orgs.append(\"Election Commission\")\n",
    "#         elif (org == \"the Supreme Court\"):\n",
    "#             disambiguated_orgs.append(\"Supreme Court\")\n",
    "#         elif (org == \"the White House\"):\n",
    "#             disambiguated_orgs.append(\"White House\")\n",
    "#         else:\n",
    "#             disambiguated_orgs.append(org)\n",
    "#     return (list(set(disambiguated_orgs)))"
   ]
  },
  {
   "cell_type": "code",
   "execution_count": 9,
   "metadata": {},
   "outputs": [],
   "source": [
    "# def location_disambiguation(locations):\n",
    "#     disambiguated_locs = []\n",
    "#     for location in locations:\n",
    "#         if (location == \"the United States\" or location == \"US\" or location == \"U.S.\" or location == \"the United States of America\" or location == \"The United States\" or location == \"USA\"):\n",
    "#             disambiguated_locs.append(\"United States\")\n",
    "#         elif (location == \"UK\" or location == \"the United Kingdom\"):\n",
    "#             disambiguated_locs.append(\"United Kingdom\")\n",
    "#         elif (location == \"Dhaka City\"):\n",
    "#             disambiguated_locs.append(\"Dhaka\")\n",
    "#         else:\n",
    "#             disambiguated_locs.append(location)\n",
    "#     return (list(set(disambiguated_locs)))"
   ]
  },
  {
   "cell_type": "code",
   "execution_count": 10,
   "metadata": {},
   "outputs": [],
   "source": [
    "# def remove_whitespace(entities):\n",
    "#     entities = [item.strip() for item in entities if not bool(re.match(r\"^\\s+$\", item))]\n",
    "#     return entities"
   ]
  },
  {
   "cell_type": "code",
   "execution_count": 11,
   "metadata": {},
   "outputs": [],
   "source": [
    "# df['location_entities'] = df['location_entities'].apply(remove_whitespace)\n",
    "# df['organization_entities'] = df['organization_entities'].apply(remove_whitespace)\n",
    "# df['person_entities'] = df['person_entities'].apply(remove_whitespace)"
   ]
  },
  {
   "cell_type": "code",
   "execution_count": 12,
   "metadata": {},
   "outputs": [],
   "source": [
    "# df['person_entities'] = df['person_entities'].apply(name_disambiguation)\n",
    "# df['organization_entities'] = df['organization_entities'].apply(org_disambiguation)\n",
    "# df['location_entities'] = df['location_entities'].apply(location_disambiguation)"
   ]
  },
  {
   "cell_type": "code",
   "execution_count": 13,
   "metadata": {},
   "outputs": [],
   "source": [
    "# count_loc = []\n",
    "# for row in df.iterrows():\n",
    "#     count_loc.append(row[1]['location_entities'])\n",
    "\n",
    "# count_loc_flat = [item for sublist in count_loc for item in sublist]\n",
    "# collections.Counter(count_loc_flat).most_common()[:100]"
   ]
  },
  {
   "cell_type": "code",
   "execution_count": 14,
   "metadata": {},
   "outputs": [],
   "source": [
    "# df.to_pickle('Data/Daily Sun/DailySun_ent_1.pkl')"
   ]
  },
  {
   "cell_type": "code",
   "execution_count": 15,
   "metadata": {},
   "outputs": [],
   "source": [
    "df = pd.read_pickle('Data/Daily Sun/DailySun_ent_1.pkl')"
   ]
  },
  {
   "cell_type": "code",
   "execution_count": 16,
   "metadata": {},
   "outputs": [
    {
     "data": {
      "text/html": [
       "<div>\n",
       "<style scoped>\n",
       "    .dataframe tbody tr th:only-of-type {\n",
       "        vertical-align: middle;\n",
       "    }\n",
       "\n",
       "    .dataframe tbody tr th {\n",
       "        vertical-align: top;\n",
       "    }\n",
       "\n",
       "    .dataframe thead th {\n",
       "        text-align: right;\n",
       "    }\n",
       "</style>\n",
       "<table border=\"1\" class=\"dataframe\">\n",
       "  <thead>\n",
       "    <tr style=\"text-align: right;\">\n",
       "      <th></th>\n",
       "      <th>_id</th>\n",
       "      <th>date_published</th>\n",
       "      <th>image</th>\n",
       "      <th>news_content</th>\n",
       "      <th>news_id</th>\n",
       "      <th>newspaper</th>\n",
       "      <th>reporter</th>\n",
       "      <th>section</th>\n",
       "      <th>url</th>\n",
       "      <th>location_entities</th>\n",
       "      <th>organization_entities</th>\n",
       "      <th>person_entities</th>\n",
       "    </tr>\n",
       "  </thead>\n",
       "  <tbody>\n",
       "    <tr>\n",
       "      <th>0</th>\n",
       "      <td>{'$oid': '5af44bf218ce4223c32284b0'}</td>\n",
       "      <td>2012-06-01</td>\n",
       "      <td>{'caption': None, 'src': None}</td>\n",
       "      <td>ATN BANGLA 19:00  22:00  23:00 Channel i 7:00 ...</td>\n",
       "      <td>32538</td>\n",
       "      <td>dailysun</td>\n",
       "      <td>None</td>\n",
       "      <td>/culturetainment</td>\n",
       "      <td>http://www.daily-sun.com/arcprint/details/3253...</td>\n",
       "      <td>[]</td>\n",
       "      <td>[]</td>\n",
       "      <td>[]</td>\n",
       "    </tr>\n",
       "    <tr>\n",
       "      <th>1</th>\n",
       "      <td>{'$oid': '5af44bf318ce4223c32284b1'}</td>\n",
       "      <td>2012-06-01</td>\n",
       "      <td>{'caption': None, 'src': 'http://www.daily-sun...</td>\n",
       "      <td>Channel i  18:00 City Bank N A Financial Quiz ...</td>\n",
       "      <td>32535</td>\n",
       "      <td>dailysun</td>\n",
       "      <td>None</td>\n",
       "      <td>/culturetainment</td>\n",
       "      <td>http://www.daily-sun.com/arcprint/details/3253...</td>\n",
       "      <td>[Rome, FIVB Beach Volleyball Swatch, Kalvakra,...</td>\n",
       "      <td>[Man Woman Wild, Scripps National Spelling Bee...</td>\n",
       "      <td>[Nibhana Saathiya, 21:30 Man, 20:45 Drama, 23:...</td>\n",
       "    </tr>\n",
       "    <tr>\n",
       "      <th>2</th>\n",
       "      <td>{'$oid': '5af44bf318ce4223c32284b2'}</td>\n",
       "      <td>2012-06-01</td>\n",
       "      <td>{'caption': None, 'src': None}</td>\n",
       "      <td>Music lovers in Dhaka will be entertained with...</td>\n",
       "      <td>32533</td>\n",
       "      <td>dailysun</td>\n",
       "      <td>None</td>\n",
       "      <td>/culturetainment</td>\n",
       "      <td>http://www.daily-sun.com/arcprint/details/3253...</td>\n",
       "      <td>[Pakistan, Punjab, Hyderabad, India, Dhaka, De...</td>\n",
       "      <td>[the Pakistan High Commission, Dhaka]</td>\n",
       "      <td>[Sabri Qawals, Qawwali, Fateh Ali Khan]</td>\n",
       "    </tr>\n",
       "    <tr>\n",
       "      <th>3</th>\n",
       "      <td>{'$oid': '5af44bf318ce4223c32284b3'}</td>\n",
       "      <td>2012-06-01</td>\n",
       "      <td>{'caption': None, 'src': 'http://www.daily-sun...</td>\n",
       "      <td>Group Art Exhibition  Title- Freefall  By- 5 y...</td>\n",
       "      <td>32536</td>\n",
       "      <td>dailysun</td>\n",
       "      <td>None</td>\n",
       "      <td>/culturetainment</td>\n",
       "      <td>http://www.daily-sun.com/arcprint/details/3253...</td>\n",
       "      <td>[Bangladesh]</td>\n",
       "      <td>[Title-, 8:00pm    Solo Art Exhibition, Artist...</td>\n",
       "      <td>[Bengal Art Lounge, Freefall, de Dhaka, 11:00p...</td>\n",
       "    </tr>\n",
       "    <tr>\n",
       "      <th>4</th>\n",
       "      <td>{'$oid': '5af44bf418ce4223c32284b4'}</td>\n",
       "      <td>2012-06-01</td>\n",
       "      <td>{'caption': None, 'src': 'http://www.daily-sun...</td>\n",
       "      <td>With a number of rich feathers in his cap  inc...</td>\n",
       "      <td>32539</td>\n",
       "      <td>dailysun</td>\n",
       "      <td>None</td>\n",
       "      <td>/culturetainment</td>\n",
       "      <td>http://www.daily-sun.com/arcprint/details/3253...</td>\n",
       "      <td>[United States, New York, Kishoreganj, Crafts,...</td>\n",
       "      <td>[Hamiduzzaman, Hamiduzzaman Khan, GalleriKaya,...</td>\n",
       "      <td>[Hamid, Hamiduzzaman Khan, Hamiduzzaman, Ragha...</td>\n",
       "    </tr>\n",
       "  </tbody>\n",
       "</table>\n",
       "</div>"
      ],
      "text/plain": [
       "                                    _id date_published  \\\n",
       "0  {'$oid': '5af44bf218ce4223c32284b0'}     2012-06-01   \n",
       "1  {'$oid': '5af44bf318ce4223c32284b1'}     2012-06-01   \n",
       "2  {'$oid': '5af44bf318ce4223c32284b2'}     2012-06-01   \n",
       "3  {'$oid': '5af44bf318ce4223c32284b3'}     2012-06-01   \n",
       "4  {'$oid': '5af44bf418ce4223c32284b4'}     2012-06-01   \n",
       "\n",
       "                                               image  \\\n",
       "0                     {'caption': None, 'src': None}   \n",
       "1  {'caption': None, 'src': 'http://www.daily-sun...   \n",
       "2                     {'caption': None, 'src': None}   \n",
       "3  {'caption': None, 'src': 'http://www.daily-sun...   \n",
       "4  {'caption': None, 'src': 'http://www.daily-sun...   \n",
       "\n",
       "                                        news_content news_id newspaper  \\\n",
       "0  ATN BANGLA 19:00  22:00  23:00 Channel i 7:00 ...   32538  dailysun   \n",
       "1  Channel i  18:00 City Bank N A Financial Quiz ...   32535  dailysun   \n",
       "2  Music lovers in Dhaka will be entertained with...   32533  dailysun   \n",
       "3  Group Art Exhibition  Title- Freefall  By- 5 y...   32536  dailysun   \n",
       "4  With a number of rich feathers in his cap  inc...   32539  dailysun   \n",
       "\n",
       "  reporter           section  \\\n",
       "0     None  /culturetainment   \n",
       "1     None  /culturetainment   \n",
       "2     None  /culturetainment   \n",
       "3     None  /culturetainment   \n",
       "4     None  /culturetainment   \n",
       "\n",
       "                                                 url  \\\n",
       "0  http://www.daily-sun.com/arcprint/details/3253...   \n",
       "1  http://www.daily-sun.com/arcprint/details/3253...   \n",
       "2  http://www.daily-sun.com/arcprint/details/3253...   \n",
       "3  http://www.daily-sun.com/arcprint/details/3253...   \n",
       "4  http://www.daily-sun.com/arcprint/details/3253...   \n",
       "\n",
       "                                   location_entities  \\\n",
       "0                                                 []   \n",
       "1  [Rome, FIVB Beach Volleyball Swatch, Kalvakra,...   \n",
       "2  [Pakistan, Punjab, Hyderabad, India, Dhaka, De...   \n",
       "3                                       [Bangladesh]   \n",
       "4  [United States, New York, Kishoreganj, Crafts,...   \n",
       "\n",
       "                               organization_entities  \\\n",
       "0                                                 []   \n",
       "1  [Man Woman Wild, Scripps National Spelling Bee...   \n",
       "2              [the Pakistan High Commission, Dhaka]   \n",
       "3  [Title-, 8:00pm    Solo Art Exhibition, Artist...   \n",
       "4  [Hamiduzzaman, Hamiduzzaman Khan, GalleriKaya,...   \n",
       "\n",
       "                                     person_entities  \n",
       "0                                                 []  \n",
       "1  [Nibhana Saathiya, 21:30 Man, 20:45 Drama, 23:...  \n",
       "2            [Sabri Qawals, Qawwali, Fateh Ali Khan]  \n",
       "3  [Bengal Art Lounge, Freefall, de Dhaka, 11:00p...  \n",
       "4  [Hamid, Hamiduzzaman Khan, Hamiduzzaman, Ragha...  "
      ]
     },
     "execution_count": 16,
     "metadata": {},
     "output_type": "execute_result"
    }
   ],
   "source": [
    "df.head()"
   ]
  },
  {
   "cell_type": "code",
   "execution_count": 24,
   "metadata": {},
   "outputs": [],
   "source": [
    "def find_headline(url):\n",
    "    content = requests.get(url).text\n",
    "    soup = BeautifulSoup(content, 'lxml')\n",
    "    # print(soup)\n",
    "    title = soup.find('h2')\n",
    "    if title:\n",
    "        return (unidecode(title.text))\n",
    "    else:\n",
    "        return ''"
   ]
  },
  {
   "cell_type": "code",
   "execution_count": 18,
   "metadata": {},
   "outputs": [],
   "source": [
    "# df['title'] = df['url'].progress_apply(find_headline)"
   ]
  },
  {
   "cell_type": "code",
   "execution_count": 23,
   "metadata": {},
   "outputs": [],
   "source": [
    "with open('Data/Daily Sun/DS_headlines.csv', 'w') as outfile:\n",
    "        writer = csv.writer(outfile)\n",
    "        writer.writerow([\"index\", \"title\"])"
   ]
  },
  {
   "cell_type": "code",
   "execution_count": null,
   "metadata": {},
   "outputs": [
    {
     "name": "stderr",
     "output_type": "stream",
     "text": [
      "  1%|▏         | 4172/328748 [3:23:03<263:17:31,  2.92s/it]"
     ]
    }
   ],
   "source": [
    "for _, row in tqdm(df.iterrows(), total=df.shape[0]):\n",
    "    \n",
    "    title = find_headline(row['url'])\n",
    "    _id = row['_id']\n",
    "    with open('Data/Daily Sun/DS_headlines.csv', 'a') as outfile:\n",
    "        writer = csv.writer(outfile)\n",
    "        writer.writerow([_id, title])"
   ]
  },
  {
   "cell_type": "code",
   "execution_count": null,
   "metadata": {},
   "outputs": [],
   "source": []
  }
 ],
 "metadata": {
  "kernelspec": {
   "display_name": "Python 3",
   "language": "python",
   "name": "python3"
  },
  "language_info": {
   "codemirror_mode": {
    "name": "ipython",
    "version": 3
   },
   "file_extension": ".py",
   "mimetype": "text/x-python",
   "name": "python",
   "nbconvert_exporter": "python",
   "pygments_lexer": "ipython3",
   "version": "3.5.2"
  }
 },
 "nbformat": 4,
 "nbformat_minor": 2
}
