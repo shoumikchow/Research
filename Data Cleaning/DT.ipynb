{
 "cells": [
  {
   "cell_type": "code",
   "execution_count": 1,
   "metadata": {},
   "outputs": [],
   "source": [
    "import pandas as pd\n",
    "from tqdm import tqdm\n",
    "import nltk.data\n",
    "import re\n",
    "import collections\n",
    "\n",
    "tokenizer = nltk.data.load('nltk:tokenizers/punkt/english.pickle')"
   ]
  },
  {
   "cell_type": "code",
   "execution_count": 60,
   "metadata": {},
   "outputs": [],
   "source": [
    "# with open('../Scraped data/bd_news_dt.json') as infile:\n",
    "#     data = json.load(infile)\n",
    "\n",
    "df = pd.read_json('Data/DT/bd_news_dt.json')"
   ]
  },
  {
   "cell_type": "code",
   "execution_count": 61,
   "metadata": {},
   "outputs": [
    {
     "data": {
      "text/html": [
       "<div>\n",
       "<style scoped>\n",
       "    .dataframe tbody tr th:only-of-type {\n",
       "        vertical-align: middle;\n",
       "    }\n",
       "\n",
       "    .dataframe tbody tr th {\n",
       "        vertical-align: top;\n",
       "    }\n",
       "\n",
       "    .dataframe thead th {\n",
       "        text-align: right;\n",
       "    }\n",
       "</style>\n",
       "<table border=\"1\" class=\"dataframe\">\n",
       "  <thead>\n",
       "    <tr style=\"text-align: right;\">\n",
       "      <th></th>\n",
       "      <th>_id</th>\n",
       "      <th>is_negative</th>\n",
       "      <th>news_crawled_date</th>\n",
       "      <th>news_headline</th>\n",
       "      <th>news_image_urls</th>\n",
       "      <th>news_keywords</th>\n",
       "      <th>news_location</th>\n",
       "      <th>news_ml_tags</th>\n",
       "      <th>news_naive_tags</th>\n",
       "      <th>news_ner_tags</th>\n",
       "      <th>news_original_tags</th>\n",
       "      <th>news_publish_date</th>\n",
       "      <th>news_reporters</th>\n",
       "      <th>news_text</th>\n",
       "      <th>news_url</th>\n",
       "      <th>newspaper_name</th>\n",
       "      <th>newspaper_url</th>\n",
       "    </tr>\n",
       "  </thead>\n",
       "  <tbody>\n",
       "    <tr>\n",
       "      <th>0</th>\n",
       "      <td>{'$oid': '575f79f55388c1567baebb2a'}</td>\n",
       "      <td>True</td>\n",
       "      <td>{'$date': '2016-06-13T23:28:50.269Z'}</td>\n",
       "      <td>Ashram residents remain in panic</td>\n",
       "      <td>[http://www.dhakatribune.com/sites/default/fil...</td>\n",
       "      <td>[bangladesh, ashram, monastery, nityanando, mo...</td>\n",
       "      <td>Pabna</td>\n",
       "      <td>NaN</td>\n",
       "      <td>[crime]</td>\n",
       "      <td>{'dates': ['Friday', 'Saturday', 'October', 'S...</td>\n",
       "      <td>[crime]</td>\n",
       "      <td>{'$date': '2016-06-14T01:28:00.000Z'}</td>\n",
       "      <td>[[Md Emroz Khandakar]]</td>\n",
       "      <td>People who live in Sri Sri Thakur Anukulchandr...</td>\n",
       "      <td>http://www.dhakatribune.com/crime/2016/jun/14/...</td>\n",
       "      <td>Dhaka Tribune</td>\n",
       "      <td>http://www.dhakatribune.com</td>\n",
       "    </tr>\n",
       "    <tr>\n",
       "      <th>1</th>\n",
       "      <td>{'$oid': '575f79f85388c1567baebb2b'}</td>\n",
       "      <td>True</td>\n",
       "      <td>{'$date': '2016-06-13T23:28:54.437Z'}</td>\n",
       "      <td>Bangladeshi abducted from Bandarban border</td>\n",
       "      <td>[http://www.dhakatribune.com/sites/default/fil...</td>\n",
       "      <td>[naikkangchhari, area, bandarban, woodcutters,...</td>\n",
       "      <td>Bandarban</td>\n",
       "      <td>NaN</td>\n",
       "      <td>[crime]</td>\n",
       "      <td>{'dates': ['Sunday', 'April 15.', 'April 18.']...</td>\n",
       "      <td>[bangladesh]</td>\n",
       "      <td>{'$date': '2016-06-14T01:27:00.000Z'}</td>\n",
       "      <td>[[S Bashu Das]]</td>\n",
       "      <td>Separatists in Myanmar abducted a Bangladeshi ...</td>\n",
       "      <td>http://www.dhakatribune.com/bangladesh/2016/ju...</td>\n",
       "      <td>Dhaka Tribune</td>\n",
       "      <td>http://www.dhakatribune.com</td>\n",
       "    </tr>\n",
       "    <tr>\n",
       "      <th>2</th>\n",
       "      <td>{'$oid': '575f79fc5388c1567baebb2c'}</td>\n",
       "      <td>True</td>\n",
       "      <td>{'$date': '2016-06-13T23:28:57.408Z'}</td>\n",
       "      <td>‘Narayanganj killing was pre-planned’</td>\n",
       "      <td>[http://www.dhakatribune.com/sites/default/fil...</td>\n",
       "      <td>[murder, rab, picked, preplanned, vehicles, ki...</td>\n",
       "      <td>Narayanganj</td>\n",
       "      <td>NaN</td>\n",
       "      <td>[crime]</td>\n",
       "      <td>{'dates': ['June 20', 'April', 'early hours of...</td>\n",
       "      <td>[crime]</td>\n",
       "      <td>{'$date': '2016-06-14T01:25:00.000Z'}</td>\n",
       "      <td>[[Tanveer Hossain]]</td>\n",
       "      <td>Two personnel of the Rapid Action Battalion ye...</td>\n",
       "      <td>http://www.dhakatribune.com/crime/2016/jun/14/...</td>\n",
       "      <td>Dhaka Tribune</td>\n",
       "      <td>http://www.dhakatribune.com</td>\n",
       "    </tr>\n",
       "    <tr>\n",
       "      <th>3</th>\n",
       "      <td>{'$oid': '575f79fe5388c1567baebb2d'}</td>\n",
       "      <td>True</td>\n",
       "      <td>{'$date': '2016-06-13T23:29:00.538Z'}</td>\n",
       "      <td>Slum kids see no future without birth registra...</td>\n",
       "      <td>[http://www.dhakatribune.com/sites/default/fil...</td>\n",
       "      <td>[dhaka, school, kids, pay, slum, shabnam, pall...</td>\n",
       "      <td>National</td>\n",
       "      <td>NaN</td>\n",
       "      <td>[accident]</td>\n",
       "      <td>{'dates': [], 'persons_unique': ['Shabnam'], '...</td>\n",
       "      <td>[bangladesh]</td>\n",
       "      <td>{'$date': '2016-06-14T01:24:00.000Z'}</td>\n",
       "      <td>[Mohammad Jamil Khan]</td>\n",
       "      <td>Thirteen-year-old Shabnam had big dreams for h...</td>\n",
       "      <td>http://www.dhakatribune.com/bangladesh/2016/ju...</td>\n",
       "      <td>Dhaka Tribune</td>\n",
       "      <td>http://www.dhakatribune.com</td>\n",
       "    </tr>\n",
       "    <tr>\n",
       "      <th>4</th>\n",
       "      <td>{'$oid': '575f7a015388c1567baebb2e'}</td>\n",
       "      <td>True</td>\n",
       "      <td>{'$date': '2016-06-13T23:29:03.326Z'}</td>\n",
       "      <td>Mobile-based agro advisory service makes farme...</td>\n",
       "      <td>[http://www.dhakatribune.com/sites/default/fil...</td>\n",
       "      <td>[advisory, life, grameenphone, service, farmer...</td>\n",
       "      <td>National</td>\n",
       "      <td>NaN</td>\n",
       "      <td>[accident]</td>\n",
       "      <td>{'dates': ['December last year'], 'persons_uni...</td>\n",
       "      <td>[bangladesh]</td>\n",
       "      <td>{'$date': '2016-06-14T01:22:00.000Z'}</td>\n",
       "      <td>[Abu Bakar Siddique]</td>\n",
       "      <td>Amela Begum in Rangpur believes she could have...</td>\n",
       "      <td>http://www.dhakatribune.com/bangladesh/2016/ju...</td>\n",
       "      <td>Dhaka Tribune</td>\n",
       "      <td>http://www.dhakatribune.com</td>\n",
       "    </tr>\n",
       "  </tbody>\n",
       "</table>\n",
       "</div>"
      ],
      "text/plain": [
       "                                    _id  is_negative  \\\n",
       "0  {'$oid': '575f79f55388c1567baebb2a'}         True   \n",
       "1  {'$oid': '575f79f85388c1567baebb2b'}         True   \n",
       "2  {'$oid': '575f79fc5388c1567baebb2c'}         True   \n",
       "3  {'$oid': '575f79fe5388c1567baebb2d'}         True   \n",
       "4  {'$oid': '575f7a015388c1567baebb2e'}         True   \n",
       "\n",
       "                       news_crawled_date  \\\n",
       "0  {'$date': '2016-06-13T23:28:50.269Z'}   \n",
       "1  {'$date': '2016-06-13T23:28:54.437Z'}   \n",
       "2  {'$date': '2016-06-13T23:28:57.408Z'}   \n",
       "3  {'$date': '2016-06-13T23:29:00.538Z'}   \n",
       "4  {'$date': '2016-06-13T23:29:03.326Z'}   \n",
       "\n",
       "                                       news_headline  \\\n",
       "0                   Ashram residents remain in panic   \n",
       "1         Bangladeshi abducted from Bandarban border   \n",
       "2              ‘Narayanganj killing was pre-planned’   \n",
       "3  Slum kids see no future without birth registra...   \n",
       "4  Mobile-based agro advisory service makes farme...   \n",
       "\n",
       "                                     news_image_urls  \\\n",
       "0  [http://www.dhakatribune.com/sites/default/fil...   \n",
       "1  [http://www.dhakatribune.com/sites/default/fil...   \n",
       "2  [http://www.dhakatribune.com/sites/default/fil...   \n",
       "3  [http://www.dhakatribune.com/sites/default/fil...   \n",
       "4  [http://www.dhakatribune.com/sites/default/fil...   \n",
       "\n",
       "                                       news_keywords news_location  \\\n",
       "0  [bangladesh, ashram, monastery, nityanando, mo...         Pabna   \n",
       "1  [naikkangchhari, area, bandarban, woodcutters,...     Bandarban   \n",
       "2  [murder, rab, picked, preplanned, vehicles, ki...   Narayanganj   \n",
       "3  [dhaka, school, kids, pay, slum, shabnam, pall...      National   \n",
       "4  [advisory, life, grameenphone, service, farmer...      National   \n",
       "\n",
       "   news_ml_tags news_naive_tags  \\\n",
       "0           NaN         [crime]   \n",
       "1           NaN         [crime]   \n",
       "2           NaN         [crime]   \n",
       "3           NaN      [accident]   \n",
       "4           NaN      [accident]   \n",
       "\n",
       "                                       news_ner_tags news_original_tags  \\\n",
       "0  {'dates': ['Friday', 'Saturday', 'October', 'S...            [crime]   \n",
       "1  {'dates': ['Sunday', 'April 15.', 'April 18.']...       [bangladesh]   \n",
       "2  {'dates': ['June 20', 'April', 'early hours of...            [crime]   \n",
       "3  {'dates': [], 'persons_unique': ['Shabnam'], '...       [bangladesh]   \n",
       "4  {'dates': ['December last year'], 'persons_uni...       [bangladesh]   \n",
       "\n",
       "                       news_publish_date          news_reporters  \\\n",
       "0  {'$date': '2016-06-14T01:28:00.000Z'}  [[Md Emroz Khandakar]]   \n",
       "1  {'$date': '2016-06-14T01:27:00.000Z'}         [[S Bashu Das]]   \n",
       "2  {'$date': '2016-06-14T01:25:00.000Z'}     [[Tanveer Hossain]]   \n",
       "3  {'$date': '2016-06-14T01:24:00.000Z'}   [Mohammad Jamil Khan]   \n",
       "4  {'$date': '2016-06-14T01:22:00.000Z'}    [Abu Bakar Siddique]   \n",
       "\n",
       "                                           news_text  \\\n",
       "0  People who live in Sri Sri Thakur Anukulchandr...   \n",
       "1  Separatists in Myanmar abducted a Bangladeshi ...   \n",
       "2  Two personnel of the Rapid Action Battalion ye...   \n",
       "3  Thirteen-year-old Shabnam had big dreams for h...   \n",
       "4  Amela Begum in Rangpur believes she could have...   \n",
       "\n",
       "                                            news_url newspaper_name  \\\n",
       "0  http://www.dhakatribune.com/crime/2016/jun/14/...  Dhaka Tribune   \n",
       "1  http://www.dhakatribune.com/bangladesh/2016/ju...  Dhaka Tribune   \n",
       "2  http://www.dhakatribune.com/crime/2016/jun/14/...  Dhaka Tribune   \n",
       "3  http://www.dhakatribune.com/bangladesh/2016/ju...  Dhaka Tribune   \n",
       "4  http://www.dhakatribune.com/bangladesh/2016/ju...  Dhaka Tribune   \n",
       "\n",
       "                 newspaper_url  \n",
       "0  http://www.dhakatribune.com  \n",
       "1  http://www.dhakatribune.com  \n",
       "2  http://www.dhakatribune.com  \n",
       "3  http://www.dhakatribune.com  \n",
       "4  http://www.dhakatribune.com  "
      ]
     },
     "execution_count": 61,
     "metadata": {},
     "output_type": "execute_result"
    }
   ],
   "source": [
    "df.head()"
   ]
  },
  {
   "cell_type": "code",
   "execution_count": 85,
   "metadata": {},
   "outputs": [],
   "source": [
    "def name_disambiguation(names):\n",
    "    disambiguated_names = []\n",
    "    for name in names:\n",
    "        if (name == \"Khaleda\" or name == \"Zia\" or name == \"Begum Khaleda Zia\" or name == \"Khaleda Zia’s\"):\n",
    "            disambiguated_names.append(\"Khaleda Zia\")\n",
    "        elif (name == \"Hasina\" or name == \"Sheikh\" or name == \"Sheikh Hasina.\"):\n",
    "            disambiguated_names.append(\"Sheikh Hasina\")\n",
    "        elif (name == \"Fakhrul\"):\n",
    "            disambiguated_names.append(\"Mirza Fakhrul Islam Alamgir\")\n",
    "        elif (name == \"Muhith\" or name == \"AMA Muhith\" or name == \"MA Muhith\"):\n",
    "            disambiguated_names.append(\"Abul Maal Abdul Muhith\")\n",
    "        elif (name == \"Nizami\" or name == \"Motiur Rahman\"):\n",
    "            disambiguated_names.append(\"Motiur Rahman Nizami\")\n",
    "        elif (name == \"Modi\"):\n",
    "            disambiguated_names.append(\"Narendra Modi\")\n",
    "        elif (name == \"Bangabandhu\" or name == \"Sheikh Mujib\" or name == \"Sheikh Mujib\" or name == \"Bangabandhu Sheikh Mujibur\" or name == \"Sheikh Mujibur Rahman\" or name == \"Mujibur Rahman\"):\n",
    "            disambiguated_names.append(\"Bangabandhu Sheikh Mujibur Rahman\")\n",
    "        elif (name == \"Tarique\"):\n",
    "            disambiguated_names.append(\"Tarique Rahman\")\n",
    "        elif (name == \"Avijit\" or name == \"Roy\"):\n",
    "            disambiguated_names.append(\"Avijit Roy\")\n",
    "        elif (name == \"Mozena\"):\n",
    "            disambiguated_names.append(\"Dan Mozena\")\n",
    "        elif (name == \"Yunus\" or name == \"Mohammad Yunus\"):\n",
    "            disambiguated_names.append(\"Muhammad Yunus\")\n",
    "        elif (name == \"Obama\"):\n",
    "            disambiguated_names.append(\"Barack Obama\")\n",
    "        elif (name == \"Trump\"):\n",
    "            disambiguated_names.append(\"Donald Trump\")\n",
    "        elif (name == \"Tagore\" or name == \"Rabindranath\" or name == \"Robindronath\" or name == \"Rabindronath\" or name == \"Robindranath\"):\n",
    "            disambiguated_names.append(\"Rabindranath Tagore\")\n",
    "        elif (name == \"Karzai\"):\n",
    "            disambiguated_names.append(\"Hamid Karzai\")\n",
    "        elif (name == \"Zardari\"):\n",
    "            disambiguated_names.append(\"Asif Ali Zardari\")\n",
    "        elif (name == \"Quader Molla\"):\n",
    "            disambiguated_names.append(\"Abdul Quader Molla\")\n",
    "        else:\n",
    "            disambiguated_names.append(name)\n",
    "    return (list(set(disambiguated_names)))"
   ]
  },
  {
   "cell_type": "code",
   "execution_count": 81,
   "metadata": {},
   "outputs": [],
   "source": [
    "def org_disambiguation(orgs):\n",
    "    disambiguated_orgs = []\n",
    "    for org in orgs:\n",
    "        if (org == \"AL\" or org == \"the Awami League\"):\n",
    "            disambiguated_orgs.append(\"Awami League\")\n",
    "        elif (org == \"EU\" or org == \"the European Union\"):\n",
    "            disambiguated_orgs.append(\"European Union\")\n",
    "        elif (org == \"BCL\" or org == \"Chhatra League\"):\n",
    "            disambiguated_orgs.append(\"Bangladesh Chhatra League\")\n",
    "        elif (org == \"DU\"):\n",
    "            disambiguated_orgs.append(\"Dhaka University\")\n",
    "        elif (org == \"the High Court\" or org == \"The High Court\"):\n",
    "            disambiguated_orgs.append(\"High Court\")\n",
    "        elif (org == \"the World Bank\"):\n",
    "            disambiguated_orgs.append(\"World Bank\")\n",
    "        elif (org == \"the Supreme Court\"):\n",
    "            disambiguated_orgs.append(\"Supreme Court\")\n",
    "        elif (org == \"UN\" or org == \"the United Nations\"):\n",
    "            disambiguated_orgs.append(\"United Nations\")\n",
    "        elif (org == \"EC\" or org == \"the Election Commission\"):\n",
    "            disambiguated_orgs.append(\"Election Commission\")\n",
    "        elif (org == \"the Supreme Court\"):\n",
    "            disambiguated_orgs.append(\"Supreme Court\")\n",
    "        elif (org == \"the White House\"):\n",
    "            disambiguated_orgs.append(\"White House\")\n",
    "        elif (org == \"Jamaat\"):\n",
    "            disambiguated_orgs.append(\"Jamaat-e-Islami\")\n",
    "        else:\n",
    "            disambiguated_orgs.append(org)\n",
    "    return (list(set(disambiguated_orgs)))"
   ]
  },
  {
   "cell_type": "code",
   "execution_count": 65,
   "metadata": {},
   "outputs": [],
   "source": [
    "# df['news_ner_tags']['persons_unique'] = df['news_ner_tags']['persons_unique'].apply(name_disambiguation)"
   ]
  },
  {
   "cell_type": "code",
   "execution_count": 66,
   "metadata": {},
   "outputs": [],
   "source": [
    "ner = df['news_ner_tags'].apply(pd.Series)"
   ]
  },
  {
   "cell_type": "code",
   "execution_count": 69,
   "metadata": {},
   "outputs": [
    {
     "data": {
      "text/plain": [
       "Index(['dates', 'dates_unique', 'locations', 'locations_unique', 'moneys',\n",
       "       'moneys_unique', 'organizations', 'organizations_unique', 'percents',\n",
       "       'percents_unique', 'persons', 'persons_unique', 'times',\n",
       "       'times_unique'],\n",
       "      dtype='object')"
      ]
     },
     "execution_count": 69,
     "metadata": {},
     "output_type": "execute_result"
    }
   ],
   "source": [
    "ner.columns"
   ]
  },
  {
   "cell_type": "code",
   "execution_count": 68,
   "metadata": {},
   "outputs": [
    {
     "data": {
      "text/plain": [
       "(49055, 17)"
      ]
     },
     "execution_count": 68,
     "metadata": {},
     "output_type": "execute_result"
    }
   ],
   "source": [
    "df.shape"
   ]
  },
  {
   "cell_type": "code",
   "execution_count": 70,
   "metadata": {},
   "outputs": [],
   "source": [
    "ner = ner.drop(['dates', 'dates_unique', 'locations', 'moneys',\n",
    "       'moneys_unique', 'organizations', 'percents',\n",
    "       'percents_unique', 'persons', 'times',\n",
    "       'times_unique'], axis=1)"
   ]
  },
  {
   "cell_type": "code",
   "execution_count": 72,
   "metadata": {},
   "outputs": [
    {
     "data": {
      "text/plain": [
       "(49055, 3)"
      ]
     },
     "execution_count": 72,
     "metadata": {},
     "output_type": "execute_result"
    }
   ],
   "source": [
    "ner.shape"
   ]
  },
  {
   "cell_type": "code",
   "execution_count": 73,
   "metadata": {},
   "outputs": [],
   "source": [
    "df = df.drop(['news_ner_tags'], axis=1)"
   ]
  },
  {
   "cell_type": "code",
   "execution_count": 75,
   "metadata": {},
   "outputs": [],
   "source": [
    "df = pd.concat([df, ner], axis=1)"
   ]
  },
  {
   "cell_type": "code",
   "execution_count": 76,
   "metadata": {},
   "outputs": [
    {
     "data": {
      "text/plain": [
       "(49055, 19)"
      ]
     },
     "execution_count": 76,
     "metadata": {},
     "output_type": "execute_result"
    }
   ],
   "source": [
    "df.shape"
   ]
  },
  {
   "cell_type": "code",
   "execution_count": 82,
   "metadata": {},
   "outputs": [
    {
     "data": {
      "text/plain": [
       "Index(['_id', 'is_negative', 'news_crawled_date', 'news_headline',\n",
       "       'news_image_urls', 'news_keywords', 'news_location', 'news_ml_tags',\n",
       "       'news_naive_tags', 'news_original_tags', 'news_publish_date',\n",
       "       'news_reporters', 'news_text', 'news_url', 'newspaper_name',\n",
       "       'newspaper_url', 'locations_unique', 'organizations_unique',\n",
       "       'persons_unique'],\n",
       "      dtype='object')"
      ]
     },
     "execution_count": 82,
     "metadata": {},
     "output_type": "execute_result"
    }
   ],
   "source": [
    "df.columns"
   ]
  },
  {
   "cell_type": "code",
   "execution_count": 86,
   "metadata": {},
   "outputs": [],
   "source": [
    "df['persons_unique'] = df['persons_unique'].apply(name_disambiguation)\n",
    "df['organizations_unique'] = df['organizations_unique'].apply(org_disambiguation)"
   ]
  },
  {
   "cell_type": "code",
   "execution_count": 89,
   "metadata": {},
   "outputs": [],
   "source": [
    "# df.to_pickle('Data/DT/DT.pkl')"
   ]
  },
  {
   "cell_type": "code",
   "execution_count": 8,
   "metadata": {},
   "outputs": [],
   "source": [
    "# def check_alleged(text):\n",
    "#     if re.search(r'\\balleged\\b', text):\n",
    "#         return True\n",
    "#     return False\n",
    "\n",
    "# conversational_words = ['said', 'told', 'asked', 'speak', 'say', 'tell', 'spoke', 'added', 'declare']"
   ]
  },
  {
   "cell_type": "code",
   "execution_count": 9,
   "metadata": {},
   "outputs": [],
   "source": [
    "# from pprint import pprint\n",
    "# a = tokenizer.tokenize(df['news_text'][0])\n",
    "# for i in a:\n",
    "#     i = i.replace(\"\\n\",\" \")\n",
    "#     print(i+\"\\n\")"
   ]
  },
  {
   "cell_type": "code",
   "execution_count": 10,
   "metadata": {},
   "outputs": [],
   "source": [
    "# for index, row in df.iterrows():\n",
    "# #     print(row['_id'], index)\n",
    "#     period_delimited_list = tokenizer.tokenize(row['news_text'])\n",
    "#     for sentence in period_delimited_list:\n",
    "#         if any(word in sentence for word in conversational_words) or check_alleged(sentence):\n",
    "            \n",
    "    \n",
    "    "
   ]
  },
  {
   "cell_type": "code",
   "execution_count": 11,
   "metadata": {},
   "outputs": [],
   "source": [
    "# df['news_text'][0]"
   ]
  }
 ],
 "metadata": {
  "kernelspec": {
   "display_name": "Python 3",
   "language": "python",
   "name": "python3"
  },
  "language_info": {
   "codemirror_mode": {
    "name": "ipython",
    "version": 3
   },
   "file_extension": ".py",
   "mimetype": "text/x-python",
   "name": "python",
   "nbconvert_exporter": "python",
   "pygments_lexer": "ipython3",
   "version": "3.5.2"
  }
 },
 "nbformat": 4,
 "nbformat_minor": 2
}
