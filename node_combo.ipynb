{
 "cells": [
  {
   "cell_type": "code",
   "execution_count": 1,
   "metadata": {},
   "outputs": [],
   "source": [
    "import pandas as pd\n",
    "from tqdm import tqdm\n",
    "import itertools"
   ]
  },
  {
   "cell_type": "code",
   "execution_count": 2,
   "metadata": {},
   "outputs": [],
   "source": [
    "quotations = pd.read_pickle('Data/Processed Data/Quotations/NewAge-quotations.pkl')"
   ]
  },
  {
   "cell_type": "code",
   "execution_count": 3,
   "metadata": {},
   "outputs": [
    {
     "data": {
      "text/html": [
       "<div>\n",
       "<style scoped>\n",
       "    .dataframe tbody tr th:only-of-type {\n",
       "        vertical-align: middle;\n",
       "    }\n",
       "\n",
       "    .dataframe tbody tr th {\n",
       "        vertical-align: top;\n",
       "    }\n",
       "\n",
       "    .dataframe thead th {\n",
       "        text-align: right;\n",
       "    }\n",
       "</style>\n",
       "<table border=\"1\" class=\"dataframe\">\n",
       "  <thead>\n",
       "    <tr style=\"text-align: right;\">\n",
       "      <th></th>\n",
       "      <th>_id</th>\n",
       "      <th>timestamp</th>\n",
       "      <th>quote</th>\n",
       "      <th>locations</th>\n",
       "      <th>organizations</th>\n",
       "      <th>persons</th>\n",
       "      <th>headline</th>\n",
       "      <th>keywords</th>\n",
       "      <th>category</th>\n",
       "    </tr>\n",
       "  </thead>\n",
       "  <tbody>\n",
       "    <tr>\n",
       "      <th>0</th>\n",
       "      <td>118</td>\n",
       "      <td>2016-10-01</td>\n",
       "      <td>\"General elections would be held under prime m...</td>\n",
       "      <td>[Naogaon]</td>\n",
       "      <td>[]</td>\n",
       "      <td>[Sheikh Hasina, Noujoan]</td>\n",
       "      <td>No national polls before 2019: Nasim</td>\n",
       "      <td>[General elections, Mohammad Nasim, national p...</td>\n",
       "      <td>Bangladesh</td>\n",
       "    </tr>\n",
       "    <tr>\n",
       "      <th>1</th>\n",
       "      <td>118</td>\n",
       "      <td>2016-10-01</td>\n",
       "      <td>Workers Party general secretary Fazle Hossain ...</td>\n",
       "      <td>[]</td>\n",
       "      <td>[Workers Party, Advocate Enamul Haque, NAP, Aw...</td>\n",
       "      <td>[Anwar Hossain, Fazle Hossain Badshah, Samyaba...</td>\n",
       "      <td>No national polls before 2019: Nasim</td>\n",
       "      <td>[General elections, Mohammad Nasim, national p...</td>\n",
       "      <td>Bangladesh</td>\n",
       "    </tr>\n",
       "    <tr>\n",
       "      <th>2</th>\n",
       "      <td>86</td>\n",
       "      <td>2016-10-01</td>\n",
       "      <td>In this March 7, 2000 photo, Richard Trentlage...</td>\n",
       "      <td>[Fox River Grove, Ill.]</td>\n",
       "      <td>[Oscar Mayer Wiener, Fox River Grove, Oscar Ma...</td>\n",
       "      <td>[Richard Trentlage]</td>\n",
       "      <td>Man who got generations singing Oscar Mayer W...</td>\n",
       "      <td>[Oscar Mayer Wiener , Richard Trentlage]</td>\n",
       "      <td>Entertainment</td>\n",
       "    </tr>\n",
       "    <tr>\n",
       "      <th>3</th>\n",
       "      <td>86</td>\n",
       "      <td>2016-10-01</td>\n",
       "      <td>\"We were always getting out of school to hop a...</td>\n",
       "      <td>[Chicago]</td>\n",
       "      <td>[]</td>\n",
       "      <td>[Linda Bruun]</td>\n",
       "      <td>Man who got generations singing Oscar Mayer W...</td>\n",
       "      <td>[Oscar Mayer Wiener , Richard Trentlage]</td>\n",
       "      <td>Entertainment</td>\n",
       "    </tr>\n",
       "    <tr>\n",
       "      <th>4</th>\n",
       "      <td>86</td>\n",
       "      <td>2016-10-01</td>\n",
       "      <td>He also wrote \"WOW! It sure doesn't taste like...</td>\n",
       "      <td>[]</td>\n",
       "      <td>[V8]</td>\n",
       "      <td>[Buckle]</td>\n",
       "      <td>Man who got generations singing Oscar Mayer W...</td>\n",
       "      <td>[Oscar Mayer Wiener , Richard Trentlage]</td>\n",
       "      <td>Entertainment</td>\n",
       "    </tr>\n",
       "  </tbody>\n",
       "</table>\n",
       "</div>"
      ],
      "text/plain": [
       "   _id   timestamp                                              quote  \\\n",
       "0  118  2016-10-01  \"General elections would be held under prime m...   \n",
       "1  118  2016-10-01  Workers Party general secretary Fazle Hossain ...   \n",
       "2   86  2016-10-01  In this March 7, 2000 photo, Richard Trentlage...   \n",
       "3   86  2016-10-01  \"We were always getting out of school to hop a...   \n",
       "4   86  2016-10-01  He also wrote \"WOW! It sure doesn't taste like...   \n",
       "\n",
       "                 locations                                      organizations  \\\n",
       "0                [Naogaon]                                                 []   \n",
       "1                       []  [Workers Party, Advocate Enamul Haque, NAP, Aw...   \n",
       "2  [Fox River Grove, Ill.]  [Oscar Mayer Wiener, Fox River Grove, Oscar Ma...   \n",
       "3                [Chicago]                                                 []   \n",
       "4                       []                                               [V8]   \n",
       "\n",
       "                                             persons  \\\n",
       "0                           [Sheikh Hasina, Noujoan]   \n",
       "1  [Anwar Hossain, Fazle Hossain Badshah, Samyaba...   \n",
       "2                                [Richard Trentlage]   \n",
       "3                                      [Linda Bruun]   \n",
       "4                                           [Buckle]   \n",
       "\n",
       "                                            headline  \\\n",
       "0              No national polls before 2019: Nasim    \n",
       "1              No national polls before 2019: Nasim    \n",
       "2   Man who got generations singing Oscar Mayer W...   \n",
       "3   Man who got generations singing Oscar Mayer W...   \n",
       "4   Man who got generations singing Oscar Mayer W...   \n",
       "\n",
       "                                            keywords       category  \n",
       "0  [General elections, Mohammad Nasim, national p...     Bangladesh  \n",
       "1  [General elections, Mohammad Nasim, national p...     Bangladesh  \n",
       "2           [Oscar Mayer Wiener , Richard Trentlage]  Entertainment  \n",
       "3           [Oscar Mayer Wiener , Richard Trentlage]  Entertainment  \n",
       "4           [Oscar Mayer Wiener , Richard Trentlage]  Entertainment  "
      ]
     },
     "execution_count": 3,
     "metadata": {},
     "output_type": "execute_result"
    }
   ],
   "source": [
    "quotations.head()"
   ]
  },
  {
   "cell_type": "code",
   "execution_count": 4,
   "metadata": {},
   "outputs": [
    {
     "data": {
      "text/plain": [
       "(98334, 9)"
      ]
     },
     "execution_count": 4,
     "metadata": {},
     "output_type": "execute_result"
    }
   ],
   "source": [
    "quotations.shape"
   ]
  },
  {
   "cell_type": "code",
   "execution_count": 5,
   "metadata": {},
   "outputs": [],
   "source": [
    "def get_entity_type(entity):\n",
    "    if entity in locations:\n",
    "        return \"location\"\n",
    "    elif entity in organizations:\n",
    "        return \"organization\"\n",
    "    elif entity in persons:\n",
    "        return \"person\""
   ]
  },
  {
   "cell_type": "code",
   "execution_count": 6,
   "metadata": {},
   "outputs": [
    {
     "name": "stderr",
     "output_type": "stream",
     "text": [
      "100%|█████████▉| 49999/50000 [8:24:28<00:00,  1.65it/s]"
     ]
    }
   ],
   "source": [
    "df = pd.DataFrame(columns=['_id', 'timestamp', 'entity0', 'type0', 'entity1', 'type1', 'quote', 'headline', 'keywords', 'category'])\n",
    "counter = 0\n",
    "for index, row in tqdm(quotations.iterrows(), total=50000):\n",
    "\n",
    "    counter += 1\n",
    "    if counter == 50000:\n",
    "        break\n",
    "    \n",
    "    _id = row['_id']\n",
    "    timestamp = row['timestamp']\n",
    "    quote = row['quote']\n",
    "    locations = row['locations']\n",
    "    organizations = row['organizations']\n",
    "    persons = row['persons']\n",
    "    headline = row['headline']\n",
    "    keywords = row['keywords']\n",
    "    category = row['category']\n",
    "    \n",
    "    \n",
    "    entities = locations + organizations + persons\n",
    "    \n",
    "    for instance in itertools.combinations(entities, 2):\n",
    "#         print(_id, timestamp, instance[0], get_entity_type[instance[0]], instance[1], get_entity_type(instance[1]), headline, keywords, original_tags)\n",
    "        df = df.append(pd.Series([_id, timestamp, instance[0], get_entity_type(instance[0]), instance[1], get_entity_type(instance[1]), quote, headline, keywords, category], \n",
    "                                  index = ['_id', 'timestamp', 'entity0', 'type0', 'entity1', 'type1', 'quote', 'headline', 'keywords', 'category']), ignore_index=True)"
   ]
  }
 ],
 "metadata": {
  "kernelspec": {
   "display_name": "Python 3",
   "language": "python",
   "name": "python3"
  },
  "language_info": {
   "codemirror_mode": {
    "name": "ipython",
    "version": 3
   },
   "file_extension": ".py",
   "mimetype": "text/x-python",
   "name": "python",
   "nbconvert_exporter": "python",
   "pygments_lexer": "ipython3",
   "version": "3.5.2"
  }
 },
 "nbformat": 4,
 "nbformat_minor": 2
}
