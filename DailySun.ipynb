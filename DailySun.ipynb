{
 "cells": [
  {
   "cell_type": "code",
   "execution_count": 113,
   "metadata": {},
   "outputs": [],
   "source": [
    "import pandas as pd\n",
    "from tqdm import tqdm\n",
    "import nltk.data\n",
    "import re\n",
    "import spacy\n",
    "from tqdm import tqdm\n",
    "import os\n",
    "import collections\n",
    "import re\n",
    "\n",
    "nlp = spacy.load('en')"
   ]
  },
  {
   "cell_type": "code",
   "execution_count": 114,
   "metadata": {},
   "outputs": [],
   "source": [
    "# os.chdir('Data/Daily Sun')\n",
    "# files = [os.path.abspath(x) for x in os.listdir()]"
   ]
  },
  {
   "cell_type": "code",
   "execution_count": 115,
   "metadata": {},
   "outputs": [],
   "source": [
    "# list_of_df = []\n",
    "# for i in files:\n",
    "#     df = pd.read_json(i, lines=True)\n",
    "#     list_of_df.append(df)\n",
    "\n",
    "# df = pd.concat(list_of_df, ignore_index=True)"
   ]
  },
  {
   "cell_type": "code",
   "execution_count": 116,
   "metadata": {},
   "outputs": [],
   "source": [
    "# def find_entities(text):\n",
    "#     doc = nlp(text)\n",
    "#     location = []\n",
    "#     organization = []\n",
    "#     person = []\n",
    "#     for entity in doc.ents:\n",
    "#         if (entity.label_ == \"LOC\" or entity.label_ == \"GPE\"):\n",
    "#             location.append(entity.text)\n",
    "#         elif (entity.label_ == \"ORG\"):\n",
    "#             organization.append(entity.text)\n",
    "#         elif (entity.label_ == \"PERSON\"):\n",
    "#             person.append(entity.text)\n",
    "#     location = list(set(location))\n",
    "#     organization = list(set(organization))\n",
    "#     person = list(set(person))\n",
    "#     return location, organization, person"
   ]
  },
  {
   "cell_type": "code",
   "execution_count": 117,
   "metadata": {},
   "outputs": [],
   "source": [
    "# tqdm.pandas()\n",
    "# df['location_entities'], df['organization_entities'], df['person_entities'] = zip(*df['news_content'].progress_apply(find_entities))"
   ]
  },
  {
   "cell_type": "code",
   "execution_count": 118,
   "metadata": {},
   "outputs": [],
   "source": [
    "# def find_entities(text):\n",
    "#     doc = nlp(text)\n",
    "#     location = []\n",
    "#     organization = []\n",
    "#     person = []\n",
    "#     for entity in doc.ents:\n",
    "#         if (entity.label_ == \"LOC\" or entity.label_ == \"GPE\"):\n",
    "#             location.append(entity.text)\n",
    "#         elif (entity.label_ == \"ORG\"):\n",
    "#             organization.append(entity.text)\n",
    "#         elif (entity.label_ == \"PERSON\"):\n",
    "#             person.append(entity.text)\n",
    "#     location = list(set(location))\n",
    "#     organization = list(set(organization))\n",
    "#     person = list(set(person))\n",
    "#     return location, organization, person"
   ]
  },
  {
   "cell_type": "code",
   "execution_count": 119,
   "metadata": {},
   "outputs": [],
   "source": [
    "def name_disambiguation(names):\n",
    "    disambiguated_names = []\n",
    "    for name in names:\n",
    "        if (name == \"Khaleda\" or name == \"Zia\" or name == \"Begum Khaleda Zia\" or name == \"Khaleda Zia’s\"):\n",
    "            disambiguated_names.append(\"Khaleda Zia\")\n",
    "        elif (name == \"Hasina\" or name == \"Sheikh\"):\n",
    "            disambiguated_names.append(\"Sheikh Hasina\")\n",
    "        elif (name == \"Fakhrul\"):\n",
    "            disambiguated_names.append(\"Mirza Fakhrul Islam Alamgir\")\n",
    "        elif (name == \"Muhith\" or name == \"AMA Muhith\" or name == \"MA Muhith\"):\n",
    "            disambiguated_names.append(\"Abul Maal Abdul Muhith\")\n",
    "        elif (name == \"Nizami\" or name == \"Motiur Rahman\"):\n",
    "            disambiguated_names.append(\"Motiur Rahman Nizami\")\n",
    "        elif (name == \"Modi\"):\n",
    "            disambiguated_names.append(\"Narendra Modi\")\n",
    "        elif (name == \"Bangabandhu\" or name == \"Sheikh Mujib\" or name == \"Sheikh Mujib\" or name == \"Bangabandhu Sheikh Mujibur\" or name == \"Sheikh Mujibur Rahman\" or name == \"Mujibur Rahman\"):\n",
    "            disambiguated_names.append(\"Bangabandhu Sheikh Mujibur Rahman\")\n",
    "        elif (name == \"Tarique\"):\n",
    "            disambiguated_names.append(\"Tarique Rahman\")\n",
    "        elif (name == \"Avijit\" or name == \"Roy\"):\n",
    "            disambiguated_names.append(\"Avijit Roy\")\n",
    "        elif (name == \"Mozena\"):\n",
    "            disambiguated_names.append(\"Dan Mozena\")\n",
    "        elif (name == \"Yunus\" or name == \"Mohammad Yunus\"):\n",
    "            disambiguated_names.append(\"Muhammad Yunus\")\n",
    "        elif (name == \"Obama\"):\n",
    "            disambiguated_names.append(\"Barack Obama\")\n",
    "        elif (name == \"Trump\"):\n",
    "            disambiguated_names.append(\"Donald Trump\")\n",
    "        elif (name == \"Tagore\" or name == \"Rabindranath\" or name == \"Robindronath\" or name == \"Rabindronath\" or name == \"Robindranath\"):\n",
    "            disambiguated_names.append(\"Rabindranath Tagore\")\n",
    "        elif (name == \"Karzai\"):\n",
    "            disambiguated_names.append(\"Hamid Karzai\")\n",
    "        elif (name == \"Zardari\"):\n",
    "            disambiguated_names.append(\"Asif Ali Zardari\")\n",
    "        else:\n",
    "            disambiguated_names.append(name)\n",
    "    return (list(set(disambiguated_names)))"
   ]
  },
  {
   "cell_type": "code",
   "execution_count": 120,
   "metadata": {},
   "outputs": [],
   "source": [
    "def org_disambiguation(orgs):\n",
    "    disambiguated_orgs = []\n",
    "    for org in orgs:\n",
    "        if (org == \"AL\" or org == \"the Awami League\"):\n",
    "            disambiguated_orgs.append(\"Awami League\")\n",
    "        elif (org == \"EU\" or org == \"the European Union\"):\n",
    "            disambiguated_orgs.append(\"European Union\")\n",
    "        elif (org == \"BCL\" or org == \"Chhatra League\"):\n",
    "            disambiguated_orgs.append(\"Bangladesh Chhatra League\")\n",
    "        elif (org == \"DU\"):\n",
    "            disambiguated_orgs.append(\"Dhaka University\")\n",
    "        elif (org == \"the High Court\" or org == \"The High Court\"):\n",
    "            disambiguated_orgs.append(\"High Court\")\n",
    "        elif (org == \"the World Bank\"):\n",
    "            disambiguated_orgs.append(\"World Bank\")\n",
    "        elif (org == \"the Supreme Court\"):\n",
    "            disambiguated_orgs.append(\"Supreme Court\")\n",
    "        elif (org == \"UN\" or org == \"the United Nations\"):\n",
    "            disambiguated_orgs.append(\"United Nations\")\n",
    "        elif (org == \"EC\" or org == \"the Election Commission\"):\n",
    "            disambiguated_orgs.append(\"Election Commission\")\n",
    "        elif (org == \"the Supreme Court\"):\n",
    "            disambiguated_orgs.append(\"Supreme Court\")\n",
    "        elif (org == \"the White House\"):\n",
    "            disambiguated_orgs.append(\"White House\")\n",
    "        else:\n",
    "            disambiguated_orgs.append(org)\n",
    "    return (list(set(disambiguated_orgs)))"
   ]
  },
  {
   "cell_type": "code",
   "execution_count": 121,
   "metadata": {},
   "outputs": [],
   "source": [
    "def location_disambiguation(locations):\n",
    "    disambiguated_locs = []\n",
    "    for location in locations:\n",
    "        if (location == \"the United States\" or location == \"US\" or location == \"U.S.\" or location == \"the United States of America\" or location == \"The United States\" or location == \"USA\"):\n",
    "            disambiguated_locs.append(\"United States\")\n",
    "        elif (location == \"UK\" or location == \"the United Kingdom\"):\n",
    "            disambiguated_locs.append(\"United Kingdom\")\n",
    "        elif (location == \"Dhaka City\"):\n",
    "            disambiguated_locs.append(\"Dhaka\")\n",
    "        else:\n",
    "            disambiguated_locs.append(location)\n",
    "    return (list(set(disambiguated_locs)))"
   ]
  },
  {
   "cell_type": "code",
   "execution_count": 122,
   "metadata": {},
   "outputs": [],
   "source": [
    "df = pd.read_pickle('Data/Daily Sun/DailySun_ent_1.pkl')"
   ]
  },
  {
   "cell_type": "code",
   "execution_count": 123,
   "metadata": {},
   "outputs": [],
   "source": [
    "def remove_whitespace(entities):\n",
    "    entities = [item.strip() for item in entities if not bool(re.match(r\"^\\s+$\", item))]\n",
    "    return entities"
   ]
  },
  {
   "cell_type": "code",
   "execution_count": 124,
   "metadata": {},
   "outputs": [],
   "source": [
    "df['location_entities'] = df['location_entities'].apply(remove_whitespace)\n",
    "df['organization_entities'] = df['organization_entities'].apply(remove_whitespace)\n",
    "df['person_entities'] = df['person_entities'].apply(remove_whitespace)"
   ]
  },
  {
   "cell_type": "code",
   "execution_count": 125,
   "metadata": {},
   "outputs": [],
   "source": [
    "df['person_entities'] = df['person_entities'].apply(name_disambiguation)\n",
    "df['organization_entities'] = df['organization_entities'].apply(org_disambiguation)\n",
    "df['location_entities'] = df['location_entities'].apply(location_disambiguation)"
   ]
  },
  {
   "cell_type": "code",
   "execution_count": 129,
   "metadata": {},
   "outputs": [],
   "source": [
    "# count_loc = []\n",
    "# for row in df.iterrows():\n",
    "#     count_loc.append(row[1]['location_entities'])\n",
    "\n",
    "# count_loc_flat = [item for sublist in count_loc for item in sublist]\n",
    "# collections.Counter(count_loc_flat).most_common()[:100]"
   ]
  },
  {
   "cell_type": "code",
   "execution_count": 130,
   "metadata": {},
   "outputs": [],
   "source": [
    "# df.to_pickle('Data/Daily Sun/DailySun_ent_1.pkl')"
   ]
  }
 ],
 "metadata": {
  "kernelspec": {
   "display_name": "Python 3",
   "language": "python",
   "name": "python3"
  },
  "language_info": {
   "codemirror_mode": {
    "name": "ipython",
    "version": 3
   },
   "file_extension": ".py",
   "mimetype": "text/x-python",
   "name": "python",
   "nbconvert_exporter": "python",
   "pygments_lexer": "ipython3",
   "version": "3.5.2"
  }
 },
 "nbformat": 4,
 "nbformat_minor": 2
}
