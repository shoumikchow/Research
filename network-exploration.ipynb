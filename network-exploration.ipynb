{
 "cells": [
  {
   "cell_type": "code",
   "execution_count": 2,
   "metadata": {},
   "outputs": [],
   "source": [
    "import networkx as nx\n",
    "import numpy as np\n",
    "import matplotlib.pyplot as plt\n",
    "import pandas as pd\n",
    "from tqdm import tqdm\n",
    "import collections\n",
    "import itertools\n",
    "import numpy as np\n",
    "import datetime\n",
    "import json\n",
    "from dateutil import parser\n",
    "\n",
    "tqdm.pandas()"
   ]
  },
  {
   "cell_type": "markdown",
   "metadata": {},
   "source": [
    "## Dhaka Tribune"
   ]
  },
  {
   "cell_type": "code",
   "execution_count": 2,
   "metadata": {},
   "outputs": [],
   "source": [
    "df = pd.read_pickle('Data/Processed Data/Networks/DT-network.pkl')"
   ]
  },
  {
   "cell_type": "code",
   "execution_count": 3,
   "metadata": {},
   "outputs": [],
   "source": [
    "df['entity0'] = df['entity0'].apply(lambda x: \"Sheikh Hasina\" if x == \"Sheikh Hasina,\" else x)\n",
    "df['entity1'] = df['entity1'].apply(lambda x: \"Sheikh Hasina\" if x == \"Sheikh Hasina,\" else x)"
   ]
  },
  {
   "cell_type": "code",
   "execution_count": 120,
   "metadata": {},
   "outputs": [
    {
     "name": "stderr",
     "output_type": "stream",
     "text": [
      "100%|██████████| 247369/247369 [00:14<00:00, 16828.93it/s]"
     ]
    },
    {
     "name": "stdout",
     "output_type": "stream",
     "text": [
      "24925\n"
     ]
    },
    {
     "name": "stderr",
     "output_type": "stream",
     "text": [
      "\n"
     ]
    }
   ],
   "source": [
    "G = nx.Graph()\n",
    "network_type = 'person'\n",
    "count = 0\n",
    "for _, row in tqdm(df.iterrows(), total=df.shape[0]):\n",
    "    \n",
    "    if row['type0'] in network_type and row['type1'] in network_type:\n",
    "        # print(row['entity0'], row['entity1'])\n",
    "        count += 1\n",
    "        G.add_edge(row['entity0'], row['entity1'])\n",
    "\n",
    "print(count)"
   ]
  },
  {
   "cell_type": "code",
   "execution_count": 121,
   "metadata": {},
   "outputs": [
    {
     "name": "stdout",
     "output_type": "stream",
     "text": [
      "10132\n",
      "16867\n",
      "0.00032863994112966957\n"
     ]
    }
   ],
   "source": [
    "print(len(G.nodes))\n",
    "print(len(G.edges))\n",
    "print(nx.density(G))"
   ]
  },
  {
   "cell_type": "code",
   "execution_count": 122,
   "metadata": {},
   "outputs": [
    {
     "data": {
      "text/plain": [
       "[('Sheikh Hasina', 0.042740104629355444),\n",
       " ('Khaleda Zia', 0.03405389398874741),\n",
       " ('Ershad', 0.017471128220313888),\n",
       " ('Hossain', 0.011252591057151318),\n",
       " ('Rahman', 0.010759056361662226),\n",
       " ('Monirul', 0.010166814727075313),\n",
       " ('Khokon', 0.009475866153390584),\n",
       " ('Tarique Rahman', 0.009475866153390584),\n",
       " ('Nur Hossain', 0.009278452275194946),\n",
       " ('Babul', 0.008192675945118941),\n",
       " ('Ziaur Rahman', 0.007896555127825486),\n",
       " ('Kamal', 0.007797848188727668),\n",
       " ('Latif', 0.007008192675945119),\n",
       " ('Shamim', 0.007008192675945119),\n",
       " ('Mizanur Rahman', 0.0069094857368473),\n",
       " ('Masud', 0.0069094857368473),\n",
       " ('Hannan', 0.006613364919553845),\n",
       " ('Bangabandhu Sheikh Mujibur Rahman', 0.006514657980456026),\n",
       " ('Mamun', 0.006218537163162571),\n",
       " ('Kabir', 0.0060211232849669335)]"
      ]
     },
     "execution_count": 122,
     "metadata": {},
     "output_type": "execute_result"
    }
   ],
   "source": [
    "degree_centrality_G = nx.degree_centrality(G)\n",
    "sorted(degree_centrality_G.items(), key = lambda x:x[1], reverse= True)[:20]"
   ]
  },
  {
   "cell_type": "code",
   "execution_count": 123,
   "metadata": {},
   "outputs": [
    {
     "data": {
      "text/plain": [
       "[('Sheikh Hasina', 0.008714946541820293),\n",
       " ('Khaleda Zia', 0.006527625334761857),\n",
       " ('Ershad', 0.0033629463372757853),\n",
       " ('Hossain', 0.0023554989532027742),\n",
       " ('Rahman', 0.0022351802397646016),\n",
       " ('Monirul', 0.0020809714059857303),\n",
       " ('Khokon', 0.0020029827831596933),\n",
       " ('Nur Hossain', 0.001861798382496689),\n",
       " ('Babul', 0.0018555368742018644),\n",
       " ('Tarique Rahman', 0.0017628393955292435),\n",
       " ('Ziaur Rahman', 0.0015527288174221594),\n",
       " ('Kamal', 0.0015279512046905853),\n",
       " ('Mizanur Rahman', 0.0014902815077797796),\n",
       " ('Hannan', 0.0013829262783952648),\n",
       " ('Masud', 0.0013666953228968154),\n",
       " ('Shamim', 0.0013530665774883661),\n",
       " ('Mamun', 0.001333549080744477),\n",
       " ('Latif', 0.0013117671578834465),\n",
       " ('Kabir', 0.001274719249852543),\n",
       " ('Bangabandhu Sheikh Mujibur Rahman', 0.0012723027199051877)]"
      ]
     },
     "execution_count": 123,
     "metadata": {},
     "output_type": "execute_result"
    }
   ],
   "source": [
    "pr_G = nx.pagerank(G)\n",
    "sorted(pr_G.items(), key = lambda x:x[1], reverse= True)[:20]"
   ]
  },
  {
   "cell_type": "code",
   "execution_count": 126,
   "metadata": {},
   "outputs": [
    {
     "data": {
      "text/plain": [
       "[('Syed Anwar Hossain', 9),\n",
       " ('Sarker', 9),\n",
       " ('Arefin Siddique', 9),\n",
       " ('Hasanul Haque', 9),\n",
       " ('Mahmudul Haque Munshi Gonojagoron Moncho', 9),\n",
       " ('Ramendu Majumdar', 9),\n",
       " ('Muhammad Zafar Iqbal', 9),\n",
       " ('Shahriar Kabir', 9),\n",
       " ('Sangeeta Imam', 9),\n",
       " ('Nasiruddin Yusuf', 9),\n",
       " ('Nur', 8),\n",
       " ('Siddique', 8),\n",
       " ('Osman', 8),\n",
       " ('Bangabandhu Sheikh Mujibur Rahman', 8),\n",
       " ('Mohammad Nasim', 8),\n",
       " ('Abdul Latif', 8),\n",
       " ('Nur Hossain', 8),\n",
       " ('Mirza Fakhrul', 8),\n",
       " ('Kamal Hossain', 8),\n",
       " ('Nasim', 8)]"
      ]
     },
     "execution_count": 126,
     "metadata": {},
     "output_type": "execute_result"
    }
   ],
   "source": [
    "G.remove_edges_from(G.selfloop_edges())\n",
    "sorted(nx.core_number(G).items(), key= lambda x:x[1], reverse=True)[:20]"
   ]
  },
  {
   "cell_type": "code",
   "execution_count": 17,
   "metadata": {},
   "outputs": [],
   "source": [
    "df = pd.read_pickle('Data/DT/DT.pkl')"
   ]
  },
  {
   "cell_type": "code",
   "execution_count": 18,
   "metadata": {},
   "outputs": [
    {
     "data": {
      "text/html": [
       "<div>\n",
       "<style scoped>\n",
       "    .dataframe tbody tr th:only-of-type {\n",
       "        vertical-align: middle;\n",
       "    }\n",
       "\n",
       "    .dataframe tbody tr th {\n",
       "        vertical-align: top;\n",
       "    }\n",
       "\n",
       "    .dataframe thead th {\n",
       "        text-align: right;\n",
       "    }\n",
       "</style>\n",
       "<table border=\"1\" class=\"dataframe\">\n",
       "  <thead>\n",
       "    <tr style=\"text-align: right;\">\n",
       "      <th></th>\n",
       "      <th>_id</th>\n",
       "      <th>is_negative</th>\n",
       "      <th>news_crawled_date</th>\n",
       "      <th>news_headline</th>\n",
       "      <th>news_image_urls</th>\n",
       "      <th>news_keywords</th>\n",
       "      <th>news_location</th>\n",
       "      <th>news_ml_tags</th>\n",
       "      <th>news_naive_tags</th>\n",
       "      <th>news_original_tags</th>\n",
       "      <th>news_publish_date</th>\n",
       "      <th>news_reporters</th>\n",
       "      <th>news_text</th>\n",
       "      <th>news_url</th>\n",
       "      <th>newspaper_name</th>\n",
       "      <th>newspaper_url</th>\n",
       "      <th>locations_unique</th>\n",
       "      <th>organizations_unique</th>\n",
       "      <th>persons_unique</th>\n",
       "    </tr>\n",
       "  </thead>\n",
       "  <tbody>\n",
       "    <tr>\n",
       "      <th>0</th>\n",
       "      <td>{'$oid': '575f79f55388c1567baebb2a'}</td>\n",
       "      <td>True</td>\n",
       "      <td>{'$date': '2016-06-13T23:28:50.269Z'}</td>\n",
       "      <td>Ashram residents remain in panic</td>\n",
       "      <td>[http://www.dhakatribune.com/sites/default/fil...</td>\n",
       "      <td>[bangladesh, ashram, monastery, nityanando, mo...</td>\n",
       "      <td>Pabna</td>\n",
       "      <td>NaN</td>\n",
       "      <td>[crime]</td>\n",
       "      <td>[crime]</td>\n",
       "      <td>{'$date': '2016-06-14T01:28:00.000Z'}</td>\n",
       "      <td>[[Md Emroz Khandakar]]</td>\n",
       "      <td>People who live in Sri Sri Thakur Anukulchandr...</td>\n",
       "      <td>http://www.dhakatribune.com/crime/2016/jun/14/...</td>\n",
       "      <td>Dhaka Tribune</td>\n",
       "      <td>http://www.dhakatribune.com</td>\n",
       "      <td>[Bangladesh]</td>\n",
       "      <td>[morning. Nityanando, Ishwardi Upazila Health ...</td>\n",
       "      <td>[Abdus Sattar, Noni Gopal, Hemayetpur Dham, Pa...</td>\n",
       "    </tr>\n",
       "    <tr>\n",
       "      <th>1</th>\n",
       "      <td>{'$oid': '575f79f85388c1567baebb2b'}</td>\n",
       "      <td>True</td>\n",
       "      <td>{'$date': '2016-06-13T23:28:54.437Z'}</td>\n",
       "      <td>Bangladeshi abducted from Bandarban border</td>\n",
       "      <td>[http://www.dhakatribune.com/sites/default/fil...</td>\n",
       "      <td>[naikkangchhari, area, bandarban, woodcutters,...</td>\n",
       "      <td>Bandarban</td>\n",
       "      <td>NaN</td>\n",
       "      <td>[crime]</td>\n",
       "      <td>[bangladesh]</td>\n",
       "      <td>{'$date': '2016-06-14T01:27:00.000Z'}</td>\n",
       "      <td>[[S Bashu Das]]</td>\n",
       "      <td>Separatists in Myanmar abducted a Bangladeshi ...</td>\n",
       "      <td>http://www.dhakatribune.com/bangladesh/2016/ju...</td>\n",
       "      <td>Dhaka Tribune</td>\n",
       "      <td>http://www.dhakatribune.com</td>\n",
       "      <td>[Bandarban, Dochhari, Myanmar]</td>\n",
       "      <td>[Naikkangchhari, Naikkangchhari BGB]</td>\n",
       "      <td>[Hedman, Abul Khayer, Col Azim, Ula Mang Marma]</td>\n",
       "    </tr>\n",
       "    <tr>\n",
       "      <th>2</th>\n",
       "      <td>{'$oid': '575f79fc5388c1567baebb2c'}</td>\n",
       "      <td>True</td>\n",
       "      <td>{'$date': '2016-06-13T23:28:57.408Z'}</td>\n",
       "      <td>‘Narayanganj killing was pre-planned’</td>\n",
       "      <td>[http://www.dhakatribune.com/sites/default/fil...</td>\n",
       "      <td>[murder, rab, picked, preplanned, vehicles, ki...</td>\n",
       "      <td>Narayanganj</td>\n",
       "      <td>NaN</td>\n",
       "      <td>[crime]</td>\n",
       "      <td>[crime]</td>\n",
       "      <td>{'$date': '2016-06-14T01:25:00.000Z'}</td>\n",
       "      <td>[[Tanveer Hossain]]</td>\n",
       "      <td>Two personnel of the Rapid Action Battalion ye...</td>\n",
       "      <td>http://www.dhakatribune.com/crime/2016/jun/14/...</td>\n",
       "      <td>Dhaka Tribune</td>\n",
       "      <td>http://www.dhakatribune.com</td>\n",
       "      <td>[Narayganj, Shitalakya, Narayanganj]</td>\n",
       "      <td>[Rapid Action Battalion, Shitalakhya River., N...</td>\n",
       "      <td>[Syed Enayetur Rahman, Arif Hossain, Nazrul, R...</td>\n",
       "    </tr>\n",
       "    <tr>\n",
       "      <th>3</th>\n",
       "      <td>{'$oid': '575f79fe5388c1567baebb2d'}</td>\n",
       "      <td>True</td>\n",
       "      <td>{'$date': '2016-06-13T23:29:00.538Z'}</td>\n",
       "      <td>Slum kids see no future without birth registra...</td>\n",
       "      <td>[http://www.dhakatribune.com/sites/default/fil...</td>\n",
       "      <td>[dhaka, school, kids, pay, slum, shabnam, pall...</td>\n",
       "      <td>National</td>\n",
       "      <td>NaN</td>\n",
       "      <td>[accident]</td>\n",
       "      <td>[bangladesh]</td>\n",
       "      <td>{'$date': '2016-06-14T01:24:00.000Z'}</td>\n",
       "      <td>[Mohammad Jamil Khan]</td>\n",
       "      <td>Thirteen-year-old Shabnam had big dreams for h...</td>\n",
       "      <td>http://www.dhakatribune.com/bangladesh/2016/ju...</td>\n",
       "      <td>Dhaka Tribune</td>\n",
       "      <td>http://www.dhakatribune.com</td>\n",
       "      <td>[Dhaka, Pallabi, Mirpur, New Kurmitola]</td>\n",
       "      <td>[NGO, The Dhaka Tribune, the Urban Primary Hea...</td>\n",
       "      <td>[Shabnam]</td>\n",
       "    </tr>\n",
       "    <tr>\n",
       "      <th>4</th>\n",
       "      <td>{'$oid': '575f7a015388c1567baebb2e'}</td>\n",
       "      <td>True</td>\n",
       "      <td>{'$date': '2016-06-13T23:29:03.326Z'}</td>\n",
       "      <td>Mobile-based agro advisory service makes farme...</td>\n",
       "      <td>[http://www.dhakatribune.com/sites/default/fil...</td>\n",
       "      <td>[advisory, life, grameenphone, service, farmer...</td>\n",
       "      <td>National</td>\n",
       "      <td>NaN</td>\n",
       "      <td>[accident]</td>\n",
       "      <td>[bangladesh]</td>\n",
       "      <td>{'$date': '2016-06-14T01:22:00.000Z'}</td>\n",
       "      <td>[Abu Bakar Siddique]</td>\n",
       "      <td>Amela Begum in Rangpur believes she could have...</td>\n",
       "      <td>http://www.dhakatribune.com/bangladesh/2016/ju...</td>\n",
       "      <td>Dhaka Tribune</td>\n",
       "      <td>http://www.dhakatribune.com</td>\n",
       "      <td>[Rangpur]</td>\n",
       "      <td>[Grameenphone, Oxfam Bangladesh’s ICT, Departm...</td>\n",
       "      <td>[Shefali Rani, Hanif]</td>\n",
       "    </tr>\n",
       "  </tbody>\n",
       "</table>\n",
       "</div>"
      ],
      "text/plain": [
       "                                    _id  is_negative  \\\n",
       "0  {'$oid': '575f79f55388c1567baebb2a'}         True   \n",
       "1  {'$oid': '575f79f85388c1567baebb2b'}         True   \n",
       "2  {'$oid': '575f79fc5388c1567baebb2c'}         True   \n",
       "3  {'$oid': '575f79fe5388c1567baebb2d'}         True   \n",
       "4  {'$oid': '575f7a015388c1567baebb2e'}         True   \n",
       "\n",
       "                       news_crawled_date  \\\n",
       "0  {'$date': '2016-06-13T23:28:50.269Z'}   \n",
       "1  {'$date': '2016-06-13T23:28:54.437Z'}   \n",
       "2  {'$date': '2016-06-13T23:28:57.408Z'}   \n",
       "3  {'$date': '2016-06-13T23:29:00.538Z'}   \n",
       "4  {'$date': '2016-06-13T23:29:03.326Z'}   \n",
       "\n",
       "                                       news_headline  \\\n",
       "0                   Ashram residents remain in panic   \n",
       "1         Bangladeshi abducted from Bandarban border   \n",
       "2              ‘Narayanganj killing was pre-planned’   \n",
       "3  Slum kids see no future without birth registra...   \n",
       "4  Mobile-based agro advisory service makes farme...   \n",
       "\n",
       "                                     news_image_urls  \\\n",
       "0  [http://www.dhakatribune.com/sites/default/fil...   \n",
       "1  [http://www.dhakatribune.com/sites/default/fil...   \n",
       "2  [http://www.dhakatribune.com/sites/default/fil...   \n",
       "3  [http://www.dhakatribune.com/sites/default/fil...   \n",
       "4  [http://www.dhakatribune.com/sites/default/fil...   \n",
       "\n",
       "                                       news_keywords news_location  \\\n",
       "0  [bangladesh, ashram, monastery, nityanando, mo...         Pabna   \n",
       "1  [naikkangchhari, area, bandarban, woodcutters,...     Bandarban   \n",
       "2  [murder, rab, picked, preplanned, vehicles, ki...   Narayanganj   \n",
       "3  [dhaka, school, kids, pay, slum, shabnam, pall...      National   \n",
       "4  [advisory, life, grameenphone, service, farmer...      National   \n",
       "\n",
       "   news_ml_tags news_naive_tags news_original_tags  \\\n",
       "0           NaN         [crime]            [crime]   \n",
       "1           NaN         [crime]       [bangladesh]   \n",
       "2           NaN         [crime]            [crime]   \n",
       "3           NaN      [accident]       [bangladesh]   \n",
       "4           NaN      [accident]       [bangladesh]   \n",
       "\n",
       "                       news_publish_date          news_reporters  \\\n",
       "0  {'$date': '2016-06-14T01:28:00.000Z'}  [[Md Emroz Khandakar]]   \n",
       "1  {'$date': '2016-06-14T01:27:00.000Z'}         [[S Bashu Das]]   \n",
       "2  {'$date': '2016-06-14T01:25:00.000Z'}     [[Tanveer Hossain]]   \n",
       "3  {'$date': '2016-06-14T01:24:00.000Z'}   [Mohammad Jamil Khan]   \n",
       "4  {'$date': '2016-06-14T01:22:00.000Z'}    [Abu Bakar Siddique]   \n",
       "\n",
       "                                           news_text  \\\n",
       "0  People who live in Sri Sri Thakur Anukulchandr...   \n",
       "1  Separatists in Myanmar abducted a Bangladeshi ...   \n",
       "2  Two personnel of the Rapid Action Battalion ye...   \n",
       "3  Thirteen-year-old Shabnam had big dreams for h...   \n",
       "4  Amela Begum in Rangpur believes she could have...   \n",
       "\n",
       "                                            news_url newspaper_name  \\\n",
       "0  http://www.dhakatribune.com/crime/2016/jun/14/...  Dhaka Tribune   \n",
       "1  http://www.dhakatribune.com/bangladesh/2016/ju...  Dhaka Tribune   \n",
       "2  http://www.dhakatribune.com/crime/2016/jun/14/...  Dhaka Tribune   \n",
       "3  http://www.dhakatribune.com/bangladesh/2016/ju...  Dhaka Tribune   \n",
       "4  http://www.dhakatribune.com/bangladesh/2016/ju...  Dhaka Tribune   \n",
       "\n",
       "                 newspaper_url                         locations_unique  \\\n",
       "0  http://www.dhakatribune.com                             [Bangladesh]   \n",
       "1  http://www.dhakatribune.com           [Bandarban, Dochhari, Myanmar]   \n",
       "2  http://www.dhakatribune.com     [Narayganj, Shitalakya, Narayanganj]   \n",
       "3  http://www.dhakatribune.com  [Dhaka, Pallabi, Mirpur, New Kurmitola]   \n",
       "4  http://www.dhakatribune.com                                [Rangpur]   \n",
       "\n",
       "                                organizations_unique  \\\n",
       "0  [morning. Nityanando, Ishwardi Upazila Health ...   \n",
       "1               [Naikkangchhari, Naikkangchhari BGB]   \n",
       "2  [Rapid Action Battalion, Shitalakhya River., N...   \n",
       "3  [NGO, The Dhaka Tribune, the Urban Primary Hea...   \n",
       "4  [Grameenphone, Oxfam Bangladesh’s ICT, Departm...   \n",
       "\n",
       "                                      persons_unique  \n",
       "0  [Abdus Sattar, Noni Gopal, Hemayetpur Dham, Pa...  \n",
       "1    [Hedman, Abul Khayer, Col Azim, Ula Mang Marma]  \n",
       "2  [Syed Enayetur Rahman, Arif Hossain, Nazrul, R...  \n",
       "3                                          [Shabnam]  \n",
       "4                              [Shefali Rani, Hanif]  "
      ]
     },
     "execution_count": 18,
     "metadata": {},
     "output_type": "execute_result"
    }
   ],
   "source": [
    "df.head()"
   ]
  },
  {
   "cell_type": "code",
   "execution_count": 19,
   "metadata": {},
   "outputs": [],
   "source": [
    "count = collections.Counter([item for sublist in df['persons_unique'] for item in sublist])"
   ]
  },
  {
   "cell_type": "code",
   "execution_count": 20,
   "metadata": {},
   "outputs": [
    {
     "data": {
      "text/plain": [
       "[('Sheikh Hasina', 4543),\n",
       " ('Khaleda Zia', 2616),\n",
       " ('Bangabandhu Sheikh Mujibur Rahman', 739),\n",
       " ('Abdul Hamid', 653),\n",
       " ('Mirza Fakhrul Islam Alamgir', 639),\n",
       " ('Mizanur Rahman', 551),\n",
       " ('Tarique Rahman', 477),\n",
       " ('Obaidul Quader', 433),\n",
       " ('Motiur Rahman Nizami', 395),\n",
       " ('Abul Kalam', 393),\n",
       " ('Ershad', 353),\n",
       " ('Abul Kalam Azad', 341),\n",
       " ('Ziaur Rahman', 334),\n",
       " ('Abul Maal Abdul Muhith', 334),\n",
       " ('Anwar Hossain', 304),\n",
       " ('Habibur Rahman', 299),\n",
       " ('Mahbubey Alam', 299),\n",
       " ('Nurul Islam Nahid', 288),\n",
       " ('Asaduzzaman Khan Kamal', 276),\n",
       " ('Shahidul Haque', 264)]"
      ]
     },
     "execution_count": 20,
     "metadata": {},
     "output_type": "execute_result"
    }
   ],
   "source": [
    "count.most_common()[:20]"
   ]
  },
  {
   "cell_type": "code",
   "execution_count": 21,
   "metadata": {},
   "outputs": [
    {
     "data": {
      "text/plain": [
       "42440"
      ]
     },
     "execution_count": 21,
     "metadata": {},
     "output_type": "execute_result"
    }
   ],
   "source": [
    "len(count)"
   ]
  },
  {
   "cell_type": "code",
   "execution_count": 24,
   "metadata": {},
   "outputs": [],
   "source": [
    "df = pd.read_pickle('Data/DT/DT.pkl')"
   ]
  },
  {
   "cell_type": "code",
   "execution_count": 26,
   "metadata": {},
   "outputs": [
    {
     "data": {
      "text/html": [
       "<div>\n",
       "<style scoped>\n",
       "    .dataframe tbody tr th:only-of-type {\n",
       "        vertical-align: middle;\n",
       "    }\n",
       "\n",
       "    .dataframe tbody tr th {\n",
       "        vertical-align: top;\n",
       "    }\n",
       "\n",
       "    .dataframe thead th {\n",
       "        text-align: right;\n",
       "    }\n",
       "</style>\n",
       "<table border=\"1\" class=\"dataframe\">\n",
       "  <thead>\n",
       "    <tr style=\"text-align: right;\">\n",
       "      <th></th>\n",
       "      <th>_id</th>\n",
       "      <th>is_negative</th>\n",
       "      <th>news_crawled_date</th>\n",
       "      <th>news_headline</th>\n",
       "      <th>news_image_urls</th>\n",
       "      <th>news_keywords</th>\n",
       "      <th>news_location</th>\n",
       "      <th>news_ml_tags</th>\n",
       "      <th>news_naive_tags</th>\n",
       "      <th>news_original_tags</th>\n",
       "      <th>news_publish_date</th>\n",
       "      <th>news_reporters</th>\n",
       "      <th>news_text</th>\n",
       "      <th>news_url</th>\n",
       "      <th>newspaper_name</th>\n",
       "      <th>newspaper_url</th>\n",
       "      <th>locations_unique</th>\n",
       "      <th>organizations_unique</th>\n",
       "      <th>persons_unique</th>\n",
       "    </tr>\n",
       "  </thead>\n",
       "  <tbody>\n",
       "    <tr>\n",
       "      <th>0</th>\n",
       "      <td>{'$oid': '575f79f55388c1567baebb2a'}</td>\n",
       "      <td>True</td>\n",
       "      <td>{'$date': '2016-06-13T23:28:50.269Z'}</td>\n",
       "      <td>Ashram residents remain in panic</td>\n",
       "      <td>[http://www.dhakatribune.com/sites/default/fil...</td>\n",
       "      <td>[bangladesh, ashram, monastery, nityanando, mo...</td>\n",
       "      <td>Pabna</td>\n",
       "      <td>NaN</td>\n",
       "      <td>[crime]</td>\n",
       "      <td>[crime]</td>\n",
       "      <td>{'$date': '2016-06-14T01:28:00.000Z'}</td>\n",
       "      <td>[[Md Emroz Khandakar]]</td>\n",
       "      <td>People who live in Sri Sri Thakur Anukulchandr...</td>\n",
       "      <td>http://www.dhakatribune.com/crime/2016/jun/14/...</td>\n",
       "      <td>Dhaka Tribune</td>\n",
       "      <td>http://www.dhakatribune.com</td>\n",
       "      <td>[Bangladesh]</td>\n",
       "      <td>[morning. Nityanando, Ishwardi Upazila Health ...</td>\n",
       "      <td>[Abdus Sattar, Noni Gopal, Hemayetpur Dham, Pa...</td>\n",
       "    </tr>\n",
       "    <tr>\n",
       "      <th>1</th>\n",
       "      <td>{'$oid': '575f79f85388c1567baebb2b'}</td>\n",
       "      <td>True</td>\n",
       "      <td>{'$date': '2016-06-13T23:28:54.437Z'}</td>\n",
       "      <td>Bangladeshi abducted from Bandarban border</td>\n",
       "      <td>[http://www.dhakatribune.com/sites/default/fil...</td>\n",
       "      <td>[naikkangchhari, area, bandarban, woodcutters,...</td>\n",
       "      <td>Bandarban</td>\n",
       "      <td>NaN</td>\n",
       "      <td>[crime]</td>\n",
       "      <td>[bangladesh]</td>\n",
       "      <td>{'$date': '2016-06-14T01:27:00.000Z'}</td>\n",
       "      <td>[[S Bashu Das]]</td>\n",
       "      <td>Separatists in Myanmar abducted a Bangladeshi ...</td>\n",
       "      <td>http://www.dhakatribune.com/bangladesh/2016/ju...</td>\n",
       "      <td>Dhaka Tribune</td>\n",
       "      <td>http://www.dhakatribune.com</td>\n",
       "      <td>[Bandarban, Dochhari, Myanmar]</td>\n",
       "      <td>[Naikkangchhari, Naikkangchhari BGB]</td>\n",
       "      <td>[Hedman, Abul Khayer, Col Azim, Ula Mang Marma]</td>\n",
       "    </tr>\n",
       "    <tr>\n",
       "      <th>2</th>\n",
       "      <td>{'$oid': '575f79fc5388c1567baebb2c'}</td>\n",
       "      <td>True</td>\n",
       "      <td>{'$date': '2016-06-13T23:28:57.408Z'}</td>\n",
       "      <td>‘Narayanganj killing was pre-planned’</td>\n",
       "      <td>[http://www.dhakatribune.com/sites/default/fil...</td>\n",
       "      <td>[murder, rab, picked, preplanned, vehicles, ki...</td>\n",
       "      <td>Narayanganj</td>\n",
       "      <td>NaN</td>\n",
       "      <td>[crime]</td>\n",
       "      <td>[crime]</td>\n",
       "      <td>{'$date': '2016-06-14T01:25:00.000Z'}</td>\n",
       "      <td>[[Tanveer Hossain]]</td>\n",
       "      <td>Two personnel of the Rapid Action Battalion ye...</td>\n",
       "      <td>http://www.dhakatribune.com/crime/2016/jun/14/...</td>\n",
       "      <td>Dhaka Tribune</td>\n",
       "      <td>http://www.dhakatribune.com</td>\n",
       "      <td>[Narayganj, Shitalakya, Narayanganj]</td>\n",
       "      <td>[Rapid Action Battalion, Shitalakhya River., N...</td>\n",
       "      <td>[Syed Enayetur Rahman, Arif Hossain, Nazrul, R...</td>\n",
       "    </tr>\n",
       "    <tr>\n",
       "      <th>3</th>\n",
       "      <td>{'$oid': '575f79fe5388c1567baebb2d'}</td>\n",
       "      <td>True</td>\n",
       "      <td>{'$date': '2016-06-13T23:29:00.538Z'}</td>\n",
       "      <td>Slum kids see no future without birth registra...</td>\n",
       "      <td>[http://www.dhakatribune.com/sites/default/fil...</td>\n",
       "      <td>[dhaka, school, kids, pay, slum, shabnam, pall...</td>\n",
       "      <td>National</td>\n",
       "      <td>NaN</td>\n",
       "      <td>[accident]</td>\n",
       "      <td>[bangladesh]</td>\n",
       "      <td>{'$date': '2016-06-14T01:24:00.000Z'}</td>\n",
       "      <td>[Mohammad Jamil Khan]</td>\n",
       "      <td>Thirteen-year-old Shabnam had big dreams for h...</td>\n",
       "      <td>http://www.dhakatribune.com/bangladesh/2016/ju...</td>\n",
       "      <td>Dhaka Tribune</td>\n",
       "      <td>http://www.dhakatribune.com</td>\n",
       "      <td>[Dhaka, Pallabi, Mirpur, New Kurmitola]</td>\n",
       "      <td>[NGO, The Dhaka Tribune, the Urban Primary Hea...</td>\n",
       "      <td>[Shabnam]</td>\n",
       "    </tr>\n",
       "    <tr>\n",
       "      <th>4</th>\n",
       "      <td>{'$oid': '575f7a015388c1567baebb2e'}</td>\n",
       "      <td>True</td>\n",
       "      <td>{'$date': '2016-06-13T23:29:03.326Z'}</td>\n",
       "      <td>Mobile-based agro advisory service makes farme...</td>\n",
       "      <td>[http://www.dhakatribune.com/sites/default/fil...</td>\n",
       "      <td>[advisory, life, grameenphone, service, farmer...</td>\n",
       "      <td>National</td>\n",
       "      <td>NaN</td>\n",
       "      <td>[accident]</td>\n",
       "      <td>[bangladesh]</td>\n",
       "      <td>{'$date': '2016-06-14T01:22:00.000Z'}</td>\n",
       "      <td>[Abu Bakar Siddique]</td>\n",
       "      <td>Amela Begum in Rangpur believes she could have...</td>\n",
       "      <td>http://www.dhakatribune.com/bangladesh/2016/ju...</td>\n",
       "      <td>Dhaka Tribune</td>\n",
       "      <td>http://www.dhakatribune.com</td>\n",
       "      <td>[Rangpur]</td>\n",
       "      <td>[Grameenphone, Oxfam Bangladesh’s ICT, Departm...</td>\n",
       "      <td>[Shefali Rani, Hanif]</td>\n",
       "    </tr>\n",
       "  </tbody>\n",
       "</table>\n",
       "</div>"
      ],
      "text/plain": [
       "                                    _id  is_negative  \\\n",
       "0  {'$oid': '575f79f55388c1567baebb2a'}         True   \n",
       "1  {'$oid': '575f79f85388c1567baebb2b'}         True   \n",
       "2  {'$oid': '575f79fc5388c1567baebb2c'}         True   \n",
       "3  {'$oid': '575f79fe5388c1567baebb2d'}         True   \n",
       "4  {'$oid': '575f7a015388c1567baebb2e'}         True   \n",
       "\n",
       "                       news_crawled_date  \\\n",
       "0  {'$date': '2016-06-13T23:28:50.269Z'}   \n",
       "1  {'$date': '2016-06-13T23:28:54.437Z'}   \n",
       "2  {'$date': '2016-06-13T23:28:57.408Z'}   \n",
       "3  {'$date': '2016-06-13T23:29:00.538Z'}   \n",
       "4  {'$date': '2016-06-13T23:29:03.326Z'}   \n",
       "\n",
       "                                       news_headline  \\\n",
       "0                   Ashram residents remain in panic   \n",
       "1         Bangladeshi abducted from Bandarban border   \n",
       "2              ‘Narayanganj killing was pre-planned’   \n",
       "3  Slum kids see no future without birth registra...   \n",
       "4  Mobile-based agro advisory service makes farme...   \n",
       "\n",
       "                                     news_image_urls  \\\n",
       "0  [http://www.dhakatribune.com/sites/default/fil...   \n",
       "1  [http://www.dhakatribune.com/sites/default/fil...   \n",
       "2  [http://www.dhakatribune.com/sites/default/fil...   \n",
       "3  [http://www.dhakatribune.com/sites/default/fil...   \n",
       "4  [http://www.dhakatribune.com/sites/default/fil...   \n",
       "\n",
       "                                       news_keywords news_location  \\\n",
       "0  [bangladesh, ashram, monastery, nityanando, mo...         Pabna   \n",
       "1  [naikkangchhari, area, bandarban, woodcutters,...     Bandarban   \n",
       "2  [murder, rab, picked, preplanned, vehicles, ki...   Narayanganj   \n",
       "3  [dhaka, school, kids, pay, slum, shabnam, pall...      National   \n",
       "4  [advisory, life, grameenphone, service, farmer...      National   \n",
       "\n",
       "   news_ml_tags news_naive_tags news_original_tags  \\\n",
       "0           NaN         [crime]            [crime]   \n",
       "1           NaN         [crime]       [bangladesh]   \n",
       "2           NaN         [crime]            [crime]   \n",
       "3           NaN      [accident]       [bangladesh]   \n",
       "4           NaN      [accident]       [bangladesh]   \n",
       "\n",
       "                       news_publish_date          news_reporters  \\\n",
       "0  {'$date': '2016-06-14T01:28:00.000Z'}  [[Md Emroz Khandakar]]   \n",
       "1  {'$date': '2016-06-14T01:27:00.000Z'}         [[S Bashu Das]]   \n",
       "2  {'$date': '2016-06-14T01:25:00.000Z'}     [[Tanveer Hossain]]   \n",
       "3  {'$date': '2016-06-14T01:24:00.000Z'}   [Mohammad Jamil Khan]   \n",
       "4  {'$date': '2016-06-14T01:22:00.000Z'}    [Abu Bakar Siddique]   \n",
       "\n",
       "                                           news_text  \\\n",
       "0  People who live in Sri Sri Thakur Anukulchandr...   \n",
       "1  Separatists in Myanmar abducted a Bangladeshi ...   \n",
       "2  Two personnel of the Rapid Action Battalion ye...   \n",
       "3  Thirteen-year-old Shabnam had big dreams for h...   \n",
       "4  Amela Begum in Rangpur believes she could have...   \n",
       "\n",
       "                                            news_url newspaper_name  \\\n",
       "0  http://www.dhakatribune.com/crime/2016/jun/14/...  Dhaka Tribune   \n",
       "1  http://www.dhakatribune.com/bangladesh/2016/ju...  Dhaka Tribune   \n",
       "2  http://www.dhakatribune.com/crime/2016/jun/14/...  Dhaka Tribune   \n",
       "3  http://www.dhakatribune.com/bangladesh/2016/ju...  Dhaka Tribune   \n",
       "4  http://www.dhakatribune.com/bangladesh/2016/ju...  Dhaka Tribune   \n",
       "\n",
       "                 newspaper_url                         locations_unique  \\\n",
       "0  http://www.dhakatribune.com                             [Bangladesh]   \n",
       "1  http://www.dhakatribune.com           [Bandarban, Dochhari, Myanmar]   \n",
       "2  http://www.dhakatribune.com     [Narayganj, Shitalakya, Narayanganj]   \n",
       "3  http://www.dhakatribune.com  [Dhaka, Pallabi, Mirpur, New Kurmitola]   \n",
       "4  http://www.dhakatribune.com                                [Rangpur]   \n",
       "\n",
       "                                organizations_unique  \\\n",
       "0  [morning. Nityanando, Ishwardi Upazila Health ...   \n",
       "1               [Naikkangchhari, Naikkangchhari BGB]   \n",
       "2  [Rapid Action Battalion, Shitalakhya River., N...   \n",
       "3  [NGO, The Dhaka Tribune, the Urban Primary Hea...   \n",
       "4  [Grameenphone, Oxfam Bangladesh’s ICT, Departm...   \n",
       "\n",
       "                                      persons_unique  \n",
       "0  [Abdus Sattar, Noni Gopal, Hemayetpur Dham, Pa...  \n",
       "1    [Hedman, Abul Khayer, Col Azim, Ula Mang Marma]  \n",
       "2  [Syed Enayetur Rahman, Arif Hossain, Nazrul, R...  \n",
       "3                                          [Shabnam]  \n",
       "4                              [Shefali Rani, Hanif]  "
      ]
     },
     "execution_count": 26,
     "metadata": {},
     "output_type": "execute_result"
    }
   ],
   "source": [
    "df.head()"
   ]
  },
  {
   "cell_type": "code",
   "execution_count": 77,
   "metadata": {},
   "outputs": [],
   "source": [
    "def person_in_headline(headline, persons):\n",
    "    if headline:\n",
    "        headline_dict = {}\n",
    "        for i in persons:\n",
    "            if i in headline:\n",
    "                if i in headline_dict:\n",
    "                    headline_dict[i] += 1\n",
    "                else:\n",
    "                    headline_dict[i] = 1\n",
    "        return headline_dict\n",
    "    else:\n",
    "        return {}"
   ]
  },
  {
   "cell_type": "code",
   "execution_count": 28,
   "metadata": {},
   "outputs": [],
   "source": [
    "df['person_in_headline'] = np.vectorize(person_in_headline)(df['news_headline'], df['persons_unique'])"
   ]
  },
  {
   "cell_type": "code",
   "execution_count": 78,
   "metadata": {},
   "outputs": [],
   "source": [
    "def person_in_text(text, persons):\n",
    "    text_dict = {}\n",
    "    for person in persons:\n",
    "        text_dict[person] = text.count(person)\n",
    "    return text_dict"
   ]
  },
  {
   "cell_type": "code",
   "execution_count": 30,
   "metadata": {},
   "outputs": [],
   "source": [
    "df['person_in_text'] = np.vectorize(person_in_text)(df['news_text'], df['persons_unique'])"
   ]
  },
  {
   "cell_type": "code",
   "execution_count": 31,
   "metadata": {},
   "outputs": [
    {
     "name": "stderr",
     "output_type": "stream",
     "text": [
      "100%|██████████| 49055/49055 [09:48<00:00, 83.38it/s]\n"
     ]
    }
   ],
   "source": [
    "count_person_in_text = sum(map(collections.Counter, tqdm(df['person_in_text'].values.tolist())), collections.Counter())"
   ]
  },
  {
   "cell_type": "code",
   "execution_count": 32,
   "metadata": {},
   "outputs": [],
   "source": [
    "df_text = pd.DataFrame.from_dict(count_person_in_text, orient='index')"
   ]
  },
  {
   "cell_type": "code",
   "execution_count": 33,
   "metadata": {},
   "outputs": [
    {
     "name": "stderr",
     "output_type": "stream",
     "text": [
      "100%|██████████| 49055/49055 [00:20<00:00, 2340.47it/s]\n"
     ]
    }
   ],
   "source": [
    "count_person_in_headline = sum(map(collections.Counter, tqdm(df['person_in_headline'].values.tolist())), collections.Counter())"
   ]
  },
  {
   "cell_type": "code",
   "execution_count": 34,
   "metadata": {},
   "outputs": [],
   "source": [
    "df_headline = pd.DataFrame.from_dict(count_person_in_headline, orient='index')"
   ]
  },
  {
   "cell_type": "code",
   "execution_count": 35,
   "metadata": {},
   "outputs": [],
   "source": [
    "pagerank = pd.DataFrame.from_dict(pr_G, orient='index')\n",
    "pagerank = pagerank.reset_index()\n",
    "pagerank = pagerank.sort_values(by='index')\n",
    "pagerank.columns = ['name', 'pagerank']"
   ]
  },
  {
   "cell_type": "code",
   "execution_count": 36,
   "metadata": {},
   "outputs": [],
   "source": [
    "degree_centrality = pd.DataFrame.from_dict(degree_centrality_G, orient='index')\n",
    "degree_centrality = degree_centrality.reset_index()\n",
    "degree_centrality = degree_centrality.sort_values(by='index')\n",
    "degree_centrality.columns = ['name', 'degree_centrality']"
   ]
  },
  {
   "cell_type": "code",
   "execution_count": 37,
   "metadata": {},
   "outputs": [],
   "source": [
    "G.remove_edges_from(G.selfloop_edges())\n",
    "core = nx.core_number(G)"
   ]
  },
  {
   "cell_type": "code",
   "execution_count": 38,
   "metadata": {},
   "outputs": [],
   "source": [
    "core_periphery = pd.DataFrame.from_dict(core, orient='index')\n",
    "core_periphery = core_periphery.reset_index()\n",
    "core_periphery = core_periphery.sort_values(by='index')\n",
    "core_periphery.columns = ['name', 'core_periphery']"
   ]
  },
  {
   "cell_type": "code",
   "execution_count": 39,
   "metadata": {},
   "outputs": [],
   "source": [
    "count = dict(count)\n",
    "person_count = pd.DataFrame.from_dict(count, orient='index')\n",
    "person_count = person_count.reset_index()\n",
    "person_count = person_count.sort_values(by='index')\n",
    "person_count.columns = ['name', 'count']"
   ]
  },
  {
   "cell_type": "code",
   "execution_count": 40,
   "metadata": {},
   "outputs": [],
   "source": [
    "df_headline = df_headline.reset_index()\n",
    "df_headline = df_headline.sort_values(by='index')\n",
    "df_headline.columns = ['name', 'headline_count']"
   ]
  },
  {
   "cell_type": "code",
   "execution_count": 41,
   "metadata": {},
   "outputs": [],
   "source": [
    "df_text = df_text.reset_index()\n",
    "df_text = df_text.sort_values(by='index')\n",
    "df_text.columns = ['name', 'text_count']"
   ]
  },
  {
   "cell_type": "code",
   "execution_count": 42,
   "metadata": {},
   "outputs": [],
   "source": [
    "ml = pd.DataFrame()"
   ]
  },
  {
   "cell_type": "code",
   "execution_count": 43,
   "metadata": {},
   "outputs": [],
   "source": [
    "ml = pd.merge(pagerank, core_periphery, on=\"name\")"
   ]
  },
  {
   "cell_type": "code",
   "execution_count": 44,
   "metadata": {},
   "outputs": [],
   "source": [
    "ml = pd.merge(ml, degree_centrality, on=\"name\")"
   ]
  },
  {
   "cell_type": "code",
   "execution_count": 45,
   "metadata": {},
   "outputs": [],
   "source": [
    "ml = pd.merge(ml, person_count, on=\"name\", how=\"left\")"
   ]
  },
  {
   "cell_type": "code",
   "execution_count": 46,
   "metadata": {},
   "outputs": [],
   "source": [
    "ml = pd.merge(ml, df_headline, on=\"name\", how=\"left\")"
   ]
  },
  {
   "cell_type": "code",
   "execution_count": 47,
   "metadata": {},
   "outputs": [],
   "source": [
    "ml = pd.merge(ml, df_text, on=\"name\", how=\"left\")"
   ]
  },
  {
   "cell_type": "code",
   "execution_count": 48,
   "metadata": {},
   "outputs": [],
   "source": [
    "ml.fillna(0, inplace=True)"
   ]
  },
  {
   "cell_type": "code",
   "execution_count": 49,
   "metadata": {},
   "outputs": [],
   "source": [
    "ml.drop(ml.index[0:9], inplace=True)\n",
    "ml.reset_index(drop=True, inplace=True)"
   ]
  },
  {
   "cell_type": "code",
   "execution_count": 50,
   "metadata": {},
   "outputs": [],
   "source": [
    "ml.drop(ml.index[-7:], inplace=True)"
   ]
  },
  {
   "cell_type": "code",
   "execution_count": 158,
   "metadata": {},
   "outputs": [],
   "source": [
    "# ml.to_pickle('Data/Processed Data/ML/DT-ml.pkl')"
   ]
  },
  {
   "cell_type": "markdown",
   "metadata": {},
   "source": [
    "## New Age"
   ]
  },
  {
   "cell_type": "code",
   "execution_count": 4,
   "metadata": {},
   "outputs": [],
   "source": [
    "df = pd.read_pickle('Data/Processed Data/Networks/NA-network.pkl')"
   ]
  },
  {
   "cell_type": "code",
   "execution_count": 5,
   "metadata": {},
   "outputs": [
    {
     "data": {
      "text/html": [
       "<div>\n",
       "<style scoped>\n",
       "    .dataframe tbody tr th:only-of-type {\n",
       "        vertical-align: middle;\n",
       "    }\n",
       "\n",
       "    .dataframe tbody tr th {\n",
       "        vertical-align: top;\n",
       "    }\n",
       "\n",
       "    .dataframe thead th {\n",
       "        text-align: right;\n",
       "    }\n",
       "</style>\n",
       "<table border=\"1\" class=\"dataframe\">\n",
       "  <thead>\n",
       "    <tr style=\"text-align: right;\">\n",
       "      <th></th>\n",
       "      <th>_id</th>\n",
       "      <th>timestamp</th>\n",
       "      <th>entity0</th>\n",
       "      <th>type0</th>\n",
       "      <th>entity1</th>\n",
       "      <th>type1</th>\n",
       "      <th>quote</th>\n",
       "      <th>headline</th>\n",
       "      <th>keywords</th>\n",
       "      <th>category</th>\n",
       "    </tr>\n",
       "  </thead>\n",
       "  <tbody>\n",
       "    <tr>\n",
       "      <th>0</th>\n",
       "      <td>118</td>\n",
       "      <td>2016-10-01</td>\n",
       "      <td>Naogaon</td>\n",
       "      <td>location</td>\n",
       "      <td>Sheikh Hasina</td>\n",
       "      <td>person</td>\n",
       "      <td>\"General elections would be held under prime m...</td>\n",
       "      <td>No national polls before 2019: Nasim</td>\n",
       "      <td>[General elections, Mohammad Nasim, national p...</td>\n",
       "      <td>Bangladesh</td>\n",
       "    </tr>\n",
       "    <tr>\n",
       "      <th>1</th>\n",
       "      <td>118</td>\n",
       "      <td>2016-10-01</td>\n",
       "      <td>Naogaon</td>\n",
       "      <td>location</td>\n",
       "      <td>Noujoan</td>\n",
       "      <td>person</td>\n",
       "      <td>\"General elections would be held under prime m...</td>\n",
       "      <td>No national polls before 2019: Nasim</td>\n",
       "      <td>[General elections, Mohammad Nasim, national p...</td>\n",
       "      <td>Bangladesh</td>\n",
       "    </tr>\n",
       "    <tr>\n",
       "      <th>2</th>\n",
       "      <td>118</td>\n",
       "      <td>2016-10-01</td>\n",
       "      <td>Sheikh Hasina</td>\n",
       "      <td>person</td>\n",
       "      <td>Noujoan</td>\n",
       "      <td>person</td>\n",
       "      <td>\"General elections would be held under prime m...</td>\n",
       "      <td>No national polls before 2019: Nasim</td>\n",
       "      <td>[General elections, Mohammad Nasim, national p...</td>\n",
       "      <td>Bangladesh</td>\n",
       "    </tr>\n",
       "    <tr>\n",
       "      <th>3</th>\n",
       "      <td>118</td>\n",
       "      <td>2016-10-01</td>\n",
       "      <td>Workers Party</td>\n",
       "      <td>organization</td>\n",
       "      <td>Advocate Enamul Haque</td>\n",
       "      <td>organization</td>\n",
       "      <td>Workers Party general secretary Fazle Hossain ...</td>\n",
       "      <td>No national polls before 2019: Nasim</td>\n",
       "      <td>[General elections, Mohammad Nasim, national p...</td>\n",
       "      <td>Bangladesh</td>\n",
       "    </tr>\n",
       "    <tr>\n",
       "      <th>4</th>\n",
       "      <td>118</td>\n",
       "      <td>2016-10-01</td>\n",
       "      <td>Workers Party</td>\n",
       "      <td>organization</td>\n",
       "      <td>NAP</td>\n",
       "      <td>organization</td>\n",
       "      <td>Workers Party general secretary Fazle Hossain ...</td>\n",
       "      <td>No national polls before 2019: Nasim</td>\n",
       "      <td>[General elections, Mohammad Nasim, national p...</td>\n",
       "      <td>Bangladesh</td>\n",
       "    </tr>\n",
       "  </tbody>\n",
       "</table>\n",
       "</div>"
      ],
      "text/plain": [
       "   _id   timestamp        entity0         type0                entity1  \\\n",
       "0  118  2016-10-01        Naogaon      location          Sheikh Hasina   \n",
       "1  118  2016-10-01        Naogaon      location                Noujoan   \n",
       "2  118  2016-10-01  Sheikh Hasina        person                Noujoan   \n",
       "3  118  2016-10-01  Workers Party  organization  Advocate Enamul Haque   \n",
       "4  118  2016-10-01  Workers Party  organization                    NAP   \n",
       "\n",
       "          type1                                              quote  \\\n",
       "0        person  \"General elections would be held under prime m...   \n",
       "1        person  \"General elections would be held under prime m...   \n",
       "2        person  \"General elections would be held under prime m...   \n",
       "3  organization  Workers Party general secretary Fazle Hossain ...   \n",
       "4  organization  Workers Party general secretary Fazle Hossain ...   \n",
       "\n",
       "                                 headline  \\\n",
       "0   No national polls before 2019: Nasim    \n",
       "1   No national polls before 2019: Nasim    \n",
       "2   No national polls before 2019: Nasim    \n",
       "3   No national polls before 2019: Nasim    \n",
       "4   No national polls before 2019: Nasim    \n",
       "\n",
       "                                            keywords    category  \n",
       "0  [General elections, Mohammad Nasim, national p...  Bangladesh  \n",
       "1  [General elections, Mohammad Nasim, national p...  Bangladesh  \n",
       "2  [General elections, Mohammad Nasim, national p...  Bangladesh  \n",
       "3  [General elections, Mohammad Nasim, national p...  Bangladesh  \n",
       "4  [General elections, Mohammad Nasim, national p...  Bangladesh  "
      ]
     },
     "execution_count": 5,
     "metadata": {},
     "output_type": "execute_result"
    }
   ],
   "source": [
    "df.head()"
   ]
  },
  {
   "cell_type": "code",
   "execution_count": 6,
   "metadata": {},
   "outputs": [
    {
     "data": {
      "text/plain": [
       "(820506, 10)"
      ]
     },
     "execution_count": 6,
     "metadata": {},
     "output_type": "execute_result"
    }
   ],
   "source": [
    "df.shape"
   ]
  },
  {
   "cell_type": "code",
   "execution_count": 7,
   "metadata": {},
   "outputs": [],
   "source": [
    "G = nx.Graph()"
   ]
  },
  {
   "cell_type": "code",
   "execution_count": 8,
   "metadata": {},
   "outputs": [
    {
     "name": "stderr",
     "output_type": "stream",
     "text": [
      "100%|██████████| 820506/820506 [00:45<00:00, 18164.95it/s]"
     ]
    },
    {
     "name": "stdout",
     "output_type": "stream",
     "text": [
      "79369\n"
     ]
    },
    {
     "name": "stderr",
     "output_type": "stream",
     "text": [
      "\n"
     ]
    }
   ],
   "source": [
    "network_type = 'person'\n",
    "exclusions = ['Rakhine', 'Test', 'Dhaka', 'Bangla', 'Bangladesh', 'Narayanganj', 'AL', 'Gulshan', 'Dhanmondi', 'Bogra', 'Rongpur', 'Barisal', 'Rangpur', 'Comilla', 'Chelsea', 'Rajshahi', 'Mymensingh', 'Sadar', 'Sylhet', 'Cox', 'Twitter', 'Barca', 'Kolkata', 'Teknaf', 'Ukhiya', 'Bandarban', 'Tripura', 'Abahani']\n",
    "count = 0\n",
    "for _, row in tqdm(df.iterrows(), total=df.shape[0]):\n",
    "    \n",
    "    if row['type0'] in network_type and row['type1'] in network_type:\n",
    "        if row['entity0'] not in exclusions and row['entity1'] not in exclusions:\n",
    "            # print(row['entity0'], row['entity1'])\n",
    "            count += 1\n",
    "            G.add_edge(row['entity0'], row['entity1'])\n",
    "        \n",
    "print(count)"
   ]
  },
  {
   "cell_type": "code",
   "execution_count": 10,
   "metadata": {},
   "outputs": [
    {
     "name": "stdout",
     "output_type": "stream",
     "text": [
      "23874\n",
      "64591\n"
     ]
    }
   ],
   "source": [
    "print(len(G.nodes))\n",
    "print(len(G.edges))"
   ]
  },
  {
   "cell_type": "code",
   "execution_count": 135,
   "metadata": {},
   "outputs": [
    {
     "data": {
      "text/plain": [
       "[('Sheikh Hasina', 0.02530054873706698),\n",
       " ('Donald Trump', 0.02127926946759938),\n",
       " ('Khaleda Zia', 0.00959242659070917),\n",
       " ('Putin', 0.00908976668202572),\n",
       " ('Clinton', 0.00908976668202572),\n",
       " ('Rahman', 0.007875005236040716),\n",
       " ('Khan', 0.007707451933146233),\n",
       " ('Ali', 0.00758178695597537),\n",
       " ('Mustafizur Rahman', 0.006618355464332091),\n",
       " ('Quader', 0.006325137184266745),\n",
       " ('Tofail Ahmed', 0.006241360532819503),\n",
       " ('Suu Kyi', 0.006157583881372262),\n",
       " ('Abdul Hamid', 0.00607380722992502),\n",
       " ('Nasir', 0.005906253927030537),\n",
       " ('Barack Obama', 0.005696812298412433),\n",
       " ('Abdur Razzak', 0.0056549239726888115),\n",
       " ('Bush', 0.005529258995517949),\n",
       " ('Mujib', 0.005403594018347087),\n",
       " ('Mourinho', 0.0052779290411762245),\n",
       " ('Aung San Suu Kyi', 0.005194152389728983)]"
      ]
     },
     "execution_count": 135,
     "metadata": {},
     "output_type": "execute_result"
    }
   ],
   "source": [
    "degree_centrality_G = nx.degree_centrality(G)\n",
    "sorted(degree_centrality_G.items(), key = lambda x:x[1], reverse= True)[:20]"
   ]
  },
  {
   "cell_type": "code",
   "execution_count": 136,
   "metadata": {},
   "outputs": [
    {
     "data": {
      "text/plain": [
       "[('Sheikh Hasina', 0.0037001414913652277),\n",
       " ('Donald Trump', 0.0031548373939520847),\n",
       " ('Clinton', 0.0013093035154407675),\n",
       " ('Putin', 0.001299789996375314),\n",
       " ('Khaleda Zia', 0.0011680900178250371),\n",
       " ('Rahman', 0.0010655812015762424),\n",
       " ('Suu Kyi', 0.0010376351665081164),\n",
       " ('Khan', 0.0010131492923911812),\n",
       " ('Ali', 0.0009877530259421324),\n",
       " ('Quader', 0.0008565130683169669),\n",
       " ('Barack Obama', 0.000829358489329522),\n",
       " ('Aung San Suu Kyi', 0.0008197711494205),\n",
       " ('Tofail Ahmed', 0.0007154948183082824),\n",
       " ('Bush', 0.0007082834379158773),\n",
       " ('Kim', 0.0007014877986340841),\n",
       " ('Abdul Hamid', 0.0006913300533997927),\n",
       " ('Jamaat', 0.000679614134857867),\n",
       " ('Md', 0.0006772518321823965),\n",
       " ('Vladimir Putin', 0.0006442993711699449),\n",
       " ('Oscar', 0.0006373263175412666)]"
      ]
     },
     "execution_count": 136,
     "metadata": {},
     "output_type": "execute_result"
    }
   ],
   "source": [
    "pr_G = nx.pagerank(G)\n",
    "sorted(pr_G.items(), key = lambda x:x[1], reverse= True)[:20]"
   ]
  },
  {
   "cell_type": "code",
   "execution_count": 137,
   "metadata": {},
   "outputs": [
    {
     "data": {
      "text/plain": [
       "[('Chittaranjan Bhuiyan', 35),\n",
       " ('Hazrat Ali Bayati', 35),\n",
       " ('Abu Nowsher', 35),\n",
       " ('Jahirul Haque', 35),\n",
       " ('Gitosree Chowdhury', 35),\n",
       " ('Khandker Raju Ahmed', 35),\n",
       " ('Milon Bhattacharjee', 35),\n",
       " ('Anu Islam', 35),\n",
       " ('Azharul Islam', 35),\n",
       " ('Shafiur Rahman Dulu', 35),\n",
       " ('Abul Kalam Azad', 35),\n",
       " ('Abu Bakar Siddique', 35),\n",
       " ('Sajeda Khatun', 35),\n",
       " ('Sujit Roy', 35),\n",
       " ('Firoj Chowdhury', 35),\n",
       " ('Hajen Chandra Pahari', 35),\n",
       " ('M Mamun', 35),\n",
       " ('Md Nazrul Islam', 35),\n",
       " ('Aminur Rahman', 35),\n",
       " ('Subrata Sengupta', 35)]"
      ]
     },
     "execution_count": 137,
     "metadata": {},
     "output_type": "execute_result"
    }
   ],
   "source": [
    "G.remove_edges_from(G.selfloop_edges())\n",
    "sorted(nx.core_number(G).items(), key= lambda x:x[1], reverse=True)[:20]"
   ]
  },
  {
   "cell_type": "code",
   "execution_count": 138,
   "metadata": {},
   "outputs": [],
   "source": [
    "df = pd.read_pickle('Data/New Age/NewAge_ent.pkl')"
   ]
  },
  {
   "cell_type": "code",
   "execution_count": 139,
   "metadata": {},
   "outputs": [
    {
     "data": {
      "text/html": [
       "<div>\n",
       "<style scoped>\n",
       "    .dataframe tbody tr th:only-of-type {\n",
       "        vertical-align: middle;\n",
       "    }\n",
       "\n",
       "    .dataframe tbody tr th {\n",
       "        vertical-align: top;\n",
       "    }\n",
       "\n",
       "    .dataframe thead th {\n",
       "        text-align: right;\n",
       "    }\n",
       "</style>\n",
       "<table border=\"1\" class=\"dataframe\">\n",
       "  <thead>\n",
       "    <tr style=\"text-align: right;\">\n",
       "      <th></th>\n",
       "      <th>category</th>\n",
       "      <th>date_published</th>\n",
       "      <th>image</th>\n",
       "      <th>news_content</th>\n",
       "      <th>news_id</th>\n",
       "      <th>newspaper</th>\n",
       "      <th>reporter</th>\n",
       "      <th>tags</th>\n",
       "      <th>title</th>\n",
       "      <th>url</th>\n",
       "      <th>location_entities</th>\n",
       "      <th>organization_entities</th>\n",
       "      <th>person_entities</th>\n",
       "    </tr>\n",
       "  </thead>\n",
       "  <tbody>\n",
       "    <tr>\n",
       "      <th>0</th>\n",
       "      <td>Bangladesh</td>\n",
       "      <td>2016-10-01</td>\n",
       "      <td>{'captions': [], 'urls': []}</td>\n",
       "      <td>Coordinator of 14-party alliance and health mi...</td>\n",
       "      <td>118</td>\n",
       "      <td>New Age</td>\n",
       "      <td>Bangladesh Sangbad Sangstha</td>\n",
       "      <td>[General elections, Mohammad Nasim, national p...</td>\n",
       "      <td>No national polls before 2019: Nasim</td>\n",
       "      <td>http://www.newagebd.net/article/118/no-nationa...</td>\n",
       "      <td>[Naogaon]</td>\n",
       "      <td>[BNP, Workers Party, Advocate Enamul Haque, NA...</td>\n",
       "      <td>[Anwar Hossain, Mohammed Nasim, Sheikh Hasina,...</td>\n",
       "    </tr>\n",
       "    <tr>\n",
       "      <th>1</th>\n",
       "      <td>Entertainment</td>\n",
       "      <td>2016-10-01</td>\n",
       "      <td>{'captions': ['In this July 4, 2015 file photo...</td>\n",
       "      <td>\\n\\t\\t\\t\\t\\t\\t\\tIn this July 4, 2015 file phot...</td>\n",
       "      <td>83</td>\n",
       "      <td>New Age</td>\n",
       "      <td>Associated Press</td>\n",
       "      <td>[David Bowie , Rolling Stones]</td>\n",
       "      <td>Concert promoter in $200 million fraud is bip...</td>\n",
       "      <td>http://www.newagebd.net/article/83/concert-pro...</td>\n",
       "      <td>[Indianapolis]</td>\n",
       "      <td>[the Rolling Stones, the Indianapolis Motor Sp...</td>\n",
       "      <td>[Keith Richards, Michael Hughes, Ronnie Wood, ...</td>\n",
       "    </tr>\n",
       "    <tr>\n",
       "      <th>2</th>\n",
       "      <td>Entertainment</td>\n",
       "      <td>2016-10-01</td>\n",
       "      <td>{'captions': ['In this March 7, 2000 photo, Ri...</td>\n",
       "      <td>\\n\\t\\t\\t\\t\\t\\t\\tIn this March 7, 2000 photo, R...</td>\n",
       "      <td>86</td>\n",
       "      <td>New Age</td>\n",
       "      <td>Associated Press</td>\n",
       "      <td>[Oscar Mayer Wiener , Richard Trentlage]</td>\n",
       "      <td>Man who got generations singing Oscar Mayer W...</td>\n",
       "      <td>http://www.newagebd.net/article/86/man-who-got...</td>\n",
       "      <td>[Fox River Grove, Chicago, Illinois, Ill., Lib...</td>\n",
       "      <td>[McDonald, Oscar Mayer Wiener, Fox River Grove...</td>\n",
       "      <td>[Linda Bruun, Buckle, Richard Trentlage]</td>\n",
       "    </tr>\n",
       "    <tr>\n",
       "      <th>3</th>\n",
       "      <td>Entertainment</td>\n",
       "      <td>2016-10-01</td>\n",
       "      <td>{'captions': ['A 2015 file photo shows The Gre...</td>\n",
       "      <td>\\n\\t\\t\\t\\t\\t\\t\\tA 2015 file photo shows The Gr...</td>\n",
       "      <td>89</td>\n",
       "      <td>New Age</td>\n",
       "      <td>Associated Press</td>\n",
       "      <td>[Henri Matisse, National Gallery of Art , Pabl...</td>\n",
       "      <td>National Gallery of Art's East Building set t...</td>\n",
       "      <td>http://www.newagebd.net/article/89/national-ga...</td>\n",
       "      <td>[The Greek Slave, Washington, DC, The East Bui...</td>\n",
       "      <td>[the National Gallery of Art, AP]</td>\n",
       "      <td>[Henri Matisse, Georgia O'Keefe, Barbara Kruge...</td>\n",
       "    </tr>\n",
       "    <tr>\n",
       "      <th>4</th>\n",
       "      <td>Entertainment</td>\n",
       "      <td>2016-10-01</td>\n",
       "      <td>{'captions': ['This file photo taken on April ...</td>\n",
       "      <td>\\n\\t\\t\\t\\t\\t\\t\\tThis file photo taken on April...</td>\n",
       "      <td>90</td>\n",
       "      <td>New Age</td>\n",
       "      <td>Agence France-Presse</td>\n",
       "      <td>[Bob Dylan, European Commission, Michael Jacks...</td>\n",
       "      <td>Sony closes on Michael Jackson's stake in mus...</td>\n",
       "      <td>http://www.newagebd.net/article/90/sony-closes...</td>\n",
       "      <td>[United States, Jackson, Kanye West]</td>\n",
       "      <td>[The European Commission, the Democratic Natio...</td>\n",
       "      <td>[Pharrell Williams, Paul McCartney, Michael Ja...</td>\n",
       "    </tr>\n",
       "  </tbody>\n",
       "</table>\n",
       "</div>"
      ],
      "text/plain": [
       "        category date_published  \\\n",
       "0     Bangladesh     2016-10-01   \n",
       "1  Entertainment     2016-10-01   \n",
       "2  Entertainment     2016-10-01   \n",
       "3  Entertainment     2016-10-01   \n",
       "4  Entertainment     2016-10-01   \n",
       "\n",
       "                                               image  \\\n",
       "0                       {'captions': [], 'urls': []}   \n",
       "1  {'captions': ['In this July 4, 2015 file photo...   \n",
       "2  {'captions': ['In this March 7, 2000 photo, Ri...   \n",
       "3  {'captions': ['A 2015 file photo shows The Gre...   \n",
       "4  {'captions': ['This file photo taken on April ...   \n",
       "\n",
       "                                        news_content  news_id newspaper  \\\n",
       "0  Coordinator of 14-party alliance and health mi...      118   New Age   \n",
       "1  \\n\\t\\t\\t\\t\\t\\t\\tIn this July 4, 2015 file phot...       83   New Age   \n",
       "2  \\n\\t\\t\\t\\t\\t\\t\\tIn this March 7, 2000 photo, R...       86   New Age   \n",
       "3  \\n\\t\\t\\t\\t\\t\\t\\tA 2015 file photo shows The Gr...       89   New Age   \n",
       "4  \\n\\t\\t\\t\\t\\t\\t\\tThis file photo taken on April...       90   New Age   \n",
       "\n",
       "                      reporter  \\\n",
       "0  Bangladesh Sangbad Sangstha   \n",
       "1             Associated Press   \n",
       "2             Associated Press   \n",
       "3             Associated Press   \n",
       "4         Agence France-Presse   \n",
       "\n",
       "                                                tags  \\\n",
       "0  [General elections, Mohammad Nasim, national p...   \n",
       "1                     [David Bowie , Rolling Stones]   \n",
       "2           [Oscar Mayer Wiener , Richard Trentlage]   \n",
       "3  [Henri Matisse, National Gallery of Art , Pabl...   \n",
       "4  [Bob Dylan, European Commission, Michael Jacks...   \n",
       "\n",
       "                                               title  \\\n",
       "0              No national polls before 2019: Nasim    \n",
       "1   Concert promoter in $200 million fraud is bip...   \n",
       "2   Man who got generations singing Oscar Mayer W...   \n",
       "3   National Gallery of Art's East Building set t...   \n",
       "4   Sony closes on Michael Jackson's stake in mus...   \n",
       "\n",
       "                                                 url  \\\n",
       "0  http://www.newagebd.net/article/118/no-nationa...   \n",
       "1  http://www.newagebd.net/article/83/concert-pro...   \n",
       "2  http://www.newagebd.net/article/86/man-who-got...   \n",
       "3  http://www.newagebd.net/article/89/national-ga...   \n",
       "4  http://www.newagebd.net/article/90/sony-closes...   \n",
       "\n",
       "                                   location_entities  \\\n",
       "0                                          [Naogaon]   \n",
       "1                                     [Indianapolis]   \n",
       "2  [Fox River Grove, Chicago, Illinois, Ill., Lib...   \n",
       "3  [The Greek Slave, Washington, DC, The East Bui...   \n",
       "4               [United States, Jackson, Kanye West]   \n",
       "\n",
       "                               organization_entities  \\\n",
       "0  [BNP, Workers Party, Advocate Enamul Haque, NA...   \n",
       "1  [the Rolling Stones, the Indianapolis Motor Sp...   \n",
       "2  [McDonald, Oscar Mayer Wiener, Fox River Grove...   \n",
       "3                  [the National Gallery of Art, AP]   \n",
       "4  [The European Commission, the Democratic Natio...   \n",
       "\n",
       "                                     person_entities  \n",
       "0  [Anwar Hossain, Mohammed Nasim, Sheikh Hasina,...  \n",
       "1  [Keith Richards, Michael Hughes, Ronnie Wood, ...  \n",
       "2           [Linda Bruun, Buckle, Richard Trentlage]  \n",
       "3  [Henri Matisse, Georgia O'Keefe, Barbara Kruge...  \n",
       "4  [Pharrell Williams, Paul McCartney, Michael Ja...  "
      ]
     },
     "execution_count": 139,
     "metadata": {},
     "output_type": "execute_result"
    }
   ],
   "source": [
    "df.head()"
   ]
  },
  {
   "cell_type": "code",
   "execution_count": 140,
   "metadata": {},
   "outputs": [],
   "source": [
    "count = collections.Counter([item for sublist in df['person_entities'] for item in sublist])"
   ]
  },
  {
   "cell_type": "code",
   "execution_count": 141,
   "metadata": {},
   "outputs": [
    {
     "data": {
      "text/plain": [
       "[('Bangladesh', 3010),\n",
       " ('Sheikh Hasina', 2513),\n",
       " ('Donald Trump', 1871),\n",
       " ('Dhaka', 1516),\n",
       " ('Khaleda Zia', 995),\n",
       " ('Test', 982),\n",
       " ('Barack Obama', 668),\n",
       " ('Abul Maal Abdul Muhith', 646),\n",
       " ('Obaidul Quader', 622),\n",
       " ('Rakhine', 611),\n",
       " ('Bangabandhu Sheikh Mujibur Rahman', 570),\n",
       " ('Sylhet', 561),\n",
       " ('Abdul Hamid', 552),\n",
       " ('Mirza Fakhrul Islam Alamgir', 537),\n",
       " ('Narayanganj', 509),\n",
       " ('Narendra Modi', 495),\n",
       " ('AL', 433),\n",
       " ('Gulshan', 421),\n",
       " ('Sakib al Hasan', 413),\n",
       " ('Aung San Suu Kyi', 382)]"
      ]
     },
     "execution_count": 141,
     "metadata": {},
     "output_type": "execute_result"
    }
   ],
   "source": [
    "count.most_common()[:20]"
   ]
  },
  {
   "cell_type": "code",
   "execution_count": 142,
   "metadata": {},
   "outputs": [],
   "source": [
    "df['person_in_headline'] = np.vectorize(person_in_headline)(df['title'], df['person_entities'])"
   ]
  },
  {
   "cell_type": "code",
   "execution_count": 143,
   "metadata": {},
   "outputs": [],
   "source": [
    "df['person_in_text'] = np.vectorize(person_in_text)(df['news_content'], df['person_entities'])"
   ]
  },
  {
   "cell_type": "code",
   "execution_count": 144,
   "metadata": {},
   "outputs": [
    {
     "name": "stderr",
     "output_type": "stream",
     "text": [
      "100%|██████████| 32893/32893 [14:22<00:00, 38.13it/s]\n"
     ]
    }
   ],
   "source": [
    "# count_person_in_text = sum(map(collections.Counter, tqdm(df['person_in_text'].values.tolist())), collections.Counter())"
   ]
  },
  {
   "cell_type": "code",
   "execution_count": 145,
   "metadata": {},
   "outputs": [],
   "source": [
    "# df_text = pd.DataFrame.from_dict(count_person_in_text, orient='index')"
   ]
  },
  {
   "cell_type": "code",
   "execution_count": 148,
   "metadata": {},
   "outputs": [],
   "source": [
    "df_text = pd.read_pickle('Data/Processed Data/Misc/NA-Text-Count.pkl')"
   ]
  },
  {
   "cell_type": "code",
   "execution_count": 149,
   "metadata": {},
   "outputs": [
    {
     "name": "stderr",
     "output_type": "stream",
     "text": [
      "100%|██████████| 32893/32893 [00:27<00:00, 1183.28it/s]\n"
     ]
    }
   ],
   "source": [
    "count_person_in_headline = sum(map(collections.Counter, tqdm(df['person_in_headline'].values.tolist())), collections.Counter())"
   ]
  },
  {
   "cell_type": "code",
   "execution_count": 150,
   "metadata": {},
   "outputs": [],
   "source": [
    "df_headline = pd.DataFrame.from_dict(count_person_in_headline, orient='index')"
   ]
  },
  {
   "cell_type": "code",
   "execution_count": 151,
   "metadata": {},
   "outputs": [],
   "source": [
    "pagerank = pd.DataFrame.from_dict(pr_G, orient='index')\n",
    "pagerank = pagerank.reset_index()\n",
    "pagerank = pagerank.sort_values(by='index')\n",
    "pagerank.columns = ['name', 'pagerank']\n",
    "\n",
    "degree_centrality = pd.DataFrame.from_dict(degree_centrality_G, orient='index')\n",
    "degree_centrality = degree_centrality.reset_index()\n",
    "degree_centrality = degree_centrality.sort_values(by='index')\n",
    "degree_centrality.columns = ['name', 'degree_centrality']\n",
    "\n",
    "G.remove_edges_from(G.selfloop_edges())\n",
    "core = nx.core_number(G)\n",
    "\n",
    "core_periphery = pd.DataFrame.from_dict(core, orient='index')\n",
    "core_periphery = core_periphery.reset_index()\n",
    "core_periphery = core_periphery.sort_values(by='index')\n",
    "core_periphery.columns = ['name', 'core_periphery']\n",
    "\n",
    "count = dict(count)\n",
    "person_count = pd.DataFrame.from_dict(count, orient='index')\n",
    "person_count = person_count.reset_index()\n",
    "person_count = person_count.sort_values(by='index')\n",
    "person_count.columns = ['name', 'count']\n",
    "\n",
    "df_headline = df_headline.reset_index()\n",
    "df_headline = df_headline.sort_values(by='index')\n",
    "df_headline.columns = ['name', 'headline_count']\n",
    "\n",
    "df_text = df_text.reset_index()\n",
    "df_text = df_text.sort_values(by='index')\n",
    "df_text.columns = ['name', 'text_count']"
   ]
  },
  {
   "cell_type": "code",
   "execution_count": 152,
   "metadata": {},
   "outputs": [],
   "source": [
    "ml = pd.DataFrame()\n",
    "ml = pd.merge(pagerank, core_periphery, on=\"name\")\n",
    "ml = pd.merge(ml, degree_centrality, on=\"name\")\n",
    "ml = pd.merge(ml, person_count, on=\"name\", how=\"left\")\n",
    "ml = pd.merge(ml, df_headline, on=\"name\", how=\"left\")\n",
    "ml = pd.merge(ml, df_text, on=\"name\", how=\"left\")\n",
    "ml.fillna(0, inplace=True)"
   ]
  },
  {
   "cell_type": "code",
   "execution_count": 153,
   "metadata": {},
   "outputs": [],
   "source": [
    "ml.drop(ml.index[0:59], inplace=True)\n",
    "ml.reset_index(drop=True, inplace=True)"
   ]
  },
  {
   "cell_type": "code",
   "execution_count": 154,
   "metadata": {},
   "outputs": [],
   "source": [
    "ml.drop(ml.index[-151:], inplace=True)"
   ]
  },
  {
   "cell_type": "code",
   "execution_count": 157,
   "metadata": {},
   "outputs": [],
   "source": [
    "# ml.to_pickle('Data/Processed Data/ML/NA-ml.pkl')"
   ]
  },
  {
   "cell_type": "markdown",
   "metadata": {},
   "source": [
    "## Daily Star"
   ]
  },
  {
   "cell_type": "code",
   "execution_count": 11,
   "metadata": {},
   "outputs": [],
   "source": [
    "df = pd.read_pickle('Data/Processed Data/Networks/DS-network.pkl')"
   ]
  },
  {
   "cell_type": "code",
   "execution_count": 12,
   "metadata": {},
   "outputs": [
    {
     "data": {
      "text/plain": [
       "(914208, 10)"
      ]
     },
     "execution_count": 12,
     "metadata": {},
     "output_type": "execute_result"
    }
   ],
   "source": [
    "df.shape"
   ]
  },
  {
   "cell_type": "code",
   "execution_count": 13,
   "metadata": {},
   "outputs": [
    {
     "data": {
      "text/html": [
       "<div>\n",
       "<style scoped>\n",
       "    .dataframe tbody tr th:only-of-type {\n",
       "        vertical-align: middle;\n",
       "    }\n",
       "\n",
       "    .dataframe tbody tr th {\n",
       "        vertical-align: top;\n",
       "    }\n",
       "\n",
       "    .dataframe thead th {\n",
       "        text-align: right;\n",
       "    }\n",
       "</style>\n",
       "<table border=\"1\" class=\"dataframe\">\n",
       "  <thead>\n",
       "    <tr style=\"text-align: right;\">\n",
       "      <th></th>\n",
       "      <th>_id</th>\n",
       "      <th>timestamp</th>\n",
       "      <th>entity0</th>\n",
       "      <th>type0</th>\n",
       "      <th>entity1</th>\n",
       "      <th>type1</th>\n",
       "      <th>quote</th>\n",
       "      <th>headline</th>\n",
       "      <th>keywords</th>\n",
       "      <th>section</th>\n",
       "    </tr>\n",
       "  </thead>\n",
       "  <tbody>\n",
       "    <tr>\n",
       "      <th>0</th>\n",
       "      <td>{'$oid': '58afca985388c123849ed1bf'}</td>\n",
       "      <td>{'$date': '2008-01-01T00:00:00.000Z'}</td>\n",
       "      <td>ZIA</td>\n",
       "      <td>location</td>\n",
       "      <td>Zia International Airport</td>\n",
       "      <td>location</td>\n",
       "      <td>(L-R) Nasir Uddin, Abbas AliArrested Abbas Ali...</td>\n",
       "      <td>NaN</td>\n",
       "      <td>['stones', 'rab', 'nasir', 'museum', 'took', '...</td>\n",
       "      <td>Front Page</td>\n",
       "    </tr>\n",
       "    <tr>\n",
       "      <th>1</th>\n",
       "      <td>{'$oid': '58afca985388c123849ed1bf'}</td>\n",
       "      <td>{'$date': '2008-01-01T00:00:00.000Z'}</td>\n",
       "      <td>ZIA</td>\n",
       "      <td>location</td>\n",
       "      <td>Nasir Uddin</td>\n",
       "      <td>person</td>\n",
       "      <td>(L-R) Nasir Uddin, Abbas AliArrested Abbas Ali...</td>\n",
       "      <td>NaN</td>\n",
       "      <td>['stones', 'rab', 'nasir', 'museum', 'took', '...</td>\n",
       "      <td>Front Page</td>\n",
       "    </tr>\n",
       "    <tr>\n",
       "      <th>2</th>\n",
       "      <td>{'$oid': '58afca985388c123849ed1bf'}</td>\n",
       "      <td>{'$date': '2008-01-01T00:00:00.000Z'}</td>\n",
       "      <td>ZIA</td>\n",
       "      <td>location</td>\n",
       "      <td>ZIA</td>\n",
       "      <td>location</td>\n",
       "      <td>(L-R) Nasir Uddin, Abbas AliArrested Abbas Ali...</td>\n",
       "      <td>NaN</td>\n",
       "      <td>['stones', 'rab', 'nasir', 'museum', 'took', '...</td>\n",
       "      <td>Front Page</td>\n",
       "    </tr>\n",
       "    <tr>\n",
       "      <th>3</th>\n",
       "      <td>{'$oid': '58afca985388c123849ed1bf'}</td>\n",
       "      <td>{'$date': '2008-01-01T00:00:00.000Z'}</td>\n",
       "      <td>ZIA</td>\n",
       "      <td>location</td>\n",
       "      <td>Abbas</td>\n",
       "      <td>person</td>\n",
       "      <td>(L-R) Nasir Uddin, Abbas AliArrested Abbas Ali...</td>\n",
       "      <td>NaN</td>\n",
       "      <td>['stones', 'rab', 'nasir', 'museum', 'took', '...</td>\n",
       "      <td>Front Page</td>\n",
       "    </tr>\n",
       "    <tr>\n",
       "      <th>4</th>\n",
       "      <td>{'$oid': '58afca985388c123849ed1bf'}</td>\n",
       "      <td>{'$date': '2008-01-01T00:00:00.000Z'}</td>\n",
       "      <td>ZIA</td>\n",
       "      <td>location</td>\n",
       "      <td>Nasir</td>\n",
       "      <td>person</td>\n",
       "      <td>(L-R) Nasir Uddin, Abbas AliArrested Abbas Ali...</td>\n",
       "      <td>NaN</td>\n",
       "      <td>['stones', 'rab', 'nasir', 'museum', 'took', '...</td>\n",
       "      <td>Front Page</td>\n",
       "    </tr>\n",
       "  </tbody>\n",
       "</table>\n",
       "</div>"
      ],
      "text/plain": [
       "                                    _id  \\\n",
       "0  {'$oid': '58afca985388c123849ed1bf'}   \n",
       "1  {'$oid': '58afca985388c123849ed1bf'}   \n",
       "2  {'$oid': '58afca985388c123849ed1bf'}   \n",
       "3  {'$oid': '58afca985388c123849ed1bf'}   \n",
       "4  {'$oid': '58afca985388c123849ed1bf'}   \n",
       "\n",
       "                               timestamp entity0     type0  \\\n",
       "0  {'$date': '2008-01-01T00:00:00.000Z'}     ZIA  location   \n",
       "1  {'$date': '2008-01-01T00:00:00.000Z'}     ZIA  location   \n",
       "2  {'$date': '2008-01-01T00:00:00.000Z'}     ZIA  location   \n",
       "3  {'$date': '2008-01-01T00:00:00.000Z'}     ZIA  location   \n",
       "4  {'$date': '2008-01-01T00:00:00.000Z'}     ZIA  location   \n",
       "\n",
       "                     entity1     type1  \\\n",
       "0  Zia International Airport  location   \n",
       "1                Nasir Uddin    person   \n",
       "2                        ZIA  location   \n",
       "3                      Abbas    person   \n",
       "4                      Nasir    person   \n",
       "\n",
       "                                               quote headline  \\\n",
       "0  (L-R) Nasir Uddin, Abbas AliArrested Abbas Ali...      NaN   \n",
       "1  (L-R) Nasir Uddin, Abbas AliArrested Abbas Ali...      NaN   \n",
       "2  (L-R) Nasir Uddin, Abbas AliArrested Abbas Ali...      NaN   \n",
       "3  (L-R) Nasir Uddin, Abbas AliArrested Abbas Ali...      NaN   \n",
       "4  (L-R) Nasir Uddin, Abbas AliArrested Abbas Ali...      NaN   \n",
       "\n",
       "                                            keywords     section  \n",
       "0  ['stones', 'rab', 'nasir', 'museum', 'took', '...  Front Page  \n",
       "1  ['stones', 'rab', 'nasir', 'museum', 'took', '...  Front Page  \n",
       "2  ['stones', 'rab', 'nasir', 'museum', 'took', '...  Front Page  \n",
       "3  ['stones', 'rab', 'nasir', 'museum', 'took', '...  Front Page  \n",
       "4  ['stones', 'rab', 'nasir', 'museum', 'took', '...  Front Page  "
      ]
     },
     "execution_count": 13,
     "metadata": {},
     "output_type": "execute_result"
    }
   ],
   "source": [
    "df.head()"
   ]
  },
  {
   "cell_type": "code",
   "execution_count": 14,
   "metadata": {},
   "outputs": [],
   "source": [
    "G = nx.Graph()"
   ]
  },
  {
   "cell_type": "code",
   "execution_count": 15,
   "metadata": {},
   "outputs": [
    {
     "name": "stderr",
     "output_type": "stream",
     "text": [
      "100%|██████████| 914208/914208 [00:53<00:00, 17126.23it/s]"
     ]
    },
    {
     "name": "stdout",
     "output_type": "stream",
     "text": [
      "170661\n"
     ]
    },
    {
     "name": "stderr",
     "output_type": "stream",
     "text": [
      "\n"
     ]
    }
   ],
   "source": [
    "network_type = 'person'\n",
    "count = 0\n",
    "for _, row in tqdm(df.iterrows(), total=df.shape[0]):\n",
    "    \n",
    "    if row['type0'] in network_type and row['type1'] in network_type:\n",
    "        # print(row['entity0'], row['entity1'])\n",
    "        count += 1\n",
    "        G.add_edge(row['entity0'], row['entity1'])\n",
    "        \n",
    "print(count)"
   ]
  },
  {
   "cell_type": "code",
   "execution_count": 16,
   "metadata": {},
   "outputs": [
    {
     "name": "stdout",
     "output_type": "stream",
     "text": [
      "45684\n",
      "123931\n"
     ]
    }
   ],
   "source": [
    "print(len(G.nodes))\n",
    "print(len(G.edges))"
   ]
  },
  {
   "cell_type": "code",
   "execution_count": 109,
   "metadata": {},
   "outputs": [
    {
     "data": {
      "text/plain": [
       "[('Khan', 0.013133988573429942),\n",
       " ('Barack Obama', 0.012980758706739925),\n",
       " ('Rahman', 0.012192719392334128),\n",
       " ('Ahmed', 0.009872381411028173),\n",
       " ('Ali', 0.009872381411028173),\n",
       " ('Clinton', 0.009390801830002408),\n",
       " ('Nazrul', 0.008953002210888076),\n",
       " ('Sheikh Hasina', 0.00886544228706521),\n",
       " ('Rab', 0.008734102401330912),\n",
       " ('Hossain', 0.008405752686995163),\n",
       " ('Bush', 0.00746448350589935),\n",
       " ('Singh', 0.007136133791563601),\n",
       " ('Gaddafi', 0.006829674058183569),\n",
       " ('Khaleda Zia', 0.006216754591423505),\n",
       " ('Hillary Clinton', 0.0061510846485563556),\n",
       " ('Musharraf', 0.005778954972309174),\n",
       " ('Assad', 0.005275485410327693),\n",
       " ('Chowdhury', 0.005209815467460543),\n",
       " ('Abbas', 0.005056585600770528),\n",
       " ('Manmohan Singh', 0.004947135695991945)]"
      ]
     },
     "execution_count": 109,
     "metadata": {},
     "output_type": "execute_result"
    }
   ],
   "source": [
    "degree_centrality_G = nx.degree_centrality(G)\n",
    "sorted(degree_centrality_G.items(), key = lambda x:x[1], reverse= True)[:20]"
   ]
  },
  {
   "cell_type": "code",
   "execution_count": 110,
   "metadata": {},
   "outputs": [
    {
     "data": {
      "text/plain": [
       "[('Khan', 0.0020221291101969654),\n",
       " ('Barack Obama', 0.001860386376414883),\n",
       " ('Rahman', 0.0016470698180094294),\n",
       " ('Ali', 0.0014392535383854603),\n",
       " ('Ahmed', 0.001389271058981849),\n",
       " ('Clinton', 0.0013594442199864776),\n",
       " ('Hossain', 0.0011943550496432823),\n",
       " ('Rab', 0.0011939810349725446),\n",
       " ('Gaddafi', 0.0011799060070162564),\n",
       " ('Sheikh Hasina', 0.001141066301167085),\n",
       " ('Nazrul', 0.001096829397606835),\n",
       " ('Bush', 0.0010825096553345784),\n",
       " ('Singh', 0.0010689226742943243),\n",
       " ('Musharraf', 0.000867420369274214),\n",
       " ('Assad', 0.000814893760271518),\n",
       " ('Hillary Clinton', 0.0008097963993054702),\n",
       " ('Khaleda Zia', 0.0007314108114951339),\n",
       " ('Chowdhury', 0.0007280814787891741),\n",
       " ('Abbas', 0.0007247929345799016),\n",
       " ('Kim', 0.0006925116346644014)]"
      ]
     },
     "execution_count": 110,
     "metadata": {},
     "output_type": "execute_result"
    }
   ],
   "source": [
    "pr_G = nx.pagerank(G)\n",
    "sorted(pr_G.items(), key = lambda x:x[1], reverse= True)[:20]"
   ]
  },
  {
   "cell_type": "code",
   "execution_count": 117,
   "metadata": {},
   "outputs": [
    {
     "data": {
      "text/plain": [
       "[('Samar Ranjan Sen', 39),\n",
       " ('Kishore Parekh', 39),\n",
       " ('Gouri Ghosh', 39),\n",
       " ('Waheeda', 39),\n",
       " ('Aniruddha Ray', 39),\n",
       " ('Maulana Syed Asad Madni', 39),\n",
       " ('Pranabranjan Ray', 39),\n",
       " ('Kulwant Singh Pannu', 39),\n",
       " ('Gautam Chattapadhaya', 39),\n",
       " ('Shaheed Subedar Mailkiat Singh', 39),\n",
       " ('VK Krisna Meon', 39),\n",
       " ('Mrinmoyee Bose', 39),\n",
       " ('Somnath Hore', 39),\n",
       " ('Ashok Ray', 39),\n",
       " ('Asghar Ali', 39),\n",
       " ('Shukharanjan Sengupta', 39),\n",
       " ('Subhash Mukhopadhaya', 39),\n",
       " ('Shakti Chattapadhaya', 39),\n",
       " ('Pannalal Dasgupta', 39),\n",
       " ('Sukhdev Singh Sanhu', 39)]"
      ]
     },
     "execution_count": 117,
     "metadata": {},
     "output_type": "execute_result"
    }
   ],
   "source": [
    "G.remove_edges_from(G.selfloop_edges())\n",
    "sorted(nx.core_number(G).items(), key= lambda x:x[1], reverse=True)[:20]"
   ]
  },
  {
   "cell_type": "code",
   "execution_count": 111,
   "metadata": {},
   "outputs": [],
   "source": [
    "df = pd.read_pickle('Data/DS/DS.pkl')"
   ]
  },
  {
   "cell_type": "code",
   "execution_count": 113,
   "metadata": {},
   "outputs": [],
   "source": [
    "count = collections.Counter([item for sublist in df['ner_unique_person'] for item in sublist])"
   ]
  },
  {
   "cell_type": "code",
   "execution_count": 114,
   "metadata": {},
   "outputs": [
    {
     "data": {
      "text/plain": [
       "[('Barack Obama', 4951),\n",
       " ('Sheikh Hasina', 3881),\n",
       " ('Rabindranath Tagore', 2764),\n",
       " ('Khaleda Zia', 2283),\n",
       " ('Rahman', 1949),\n",
       " ('Bangabandhu Sheikh Mujibur Rahman', 1933),\n",
       " ('Rab', 1456),\n",
       " ('Manmohan Singh', 1375),\n",
       " ('Hossain', 1316),\n",
       " ('Nazrul', 1310),\n",
       " ('Hillary Clinton', 1257),\n",
       " ('Ahmed', 1179),\n",
       " ('Ali', 1110),\n",
       " ('Mizanur Rahman', 979),\n",
       " ('Bashar al-Assad', 943),\n",
       " ('Narendra Modi', 942),\n",
       " ('Abul Kalam Azad', 909),\n",
       " ('Rafiqul Islam', 899),\n",
       " ('Khan', 885),\n",
       " ('Hamid Karzai', 858)]"
      ]
     },
     "execution_count": 114,
     "metadata": {},
     "output_type": "execute_result"
    }
   ],
   "source": [
    "count.most_common()[:20]"
   ]
  },
  {
   "cell_type": "code",
   "execution_count": 115,
   "metadata": {},
   "outputs": [],
   "source": [
    "df['person_in_headline'] = np.vectorize(person_in_headline)(df['title'], df['ner_unique_person'])"
   ]
  },
  {
   "cell_type": "code",
   "execution_count": 116,
   "metadata": {},
   "outputs": [],
   "source": [
    "df['person_in_text'] = np.vectorize(person_in_text)(df['content'], df['ner_unique_person'])"
   ]
  },
  {
   "cell_type": "code",
   "execution_count": 117,
   "metadata": {},
   "outputs": [],
   "source": [
    "# df_text = pd.DataFrame.from_dict(count_person_in_text, orient='index')"
   ]
  },
  {
   "cell_type": "code",
   "execution_count": 118,
   "metadata": {},
   "outputs": [
    {
     "name": "stderr",
     "output_type": "stream",
     "text": [
      "100%|██████████| 165236/165236 [08:51<00:00, 310.73it/s]\n"
     ]
    }
   ],
   "source": [
    "count_person_in_headline = sum(map(collections.Counter, tqdm(df['person_in_headline'].values.tolist())), collections.Counter())"
   ]
  },
  {
   "cell_type": "code",
   "execution_count": 119,
   "metadata": {},
   "outputs": [],
   "source": [
    "df_headline = pd.DataFrame.from_dict(count_person_in_headline, orient='index')"
   ]
  },
  {
   "cell_type": "code",
   "execution_count": 120,
   "metadata": {},
   "outputs": [],
   "source": [
    "# count_person_in_text = sum(map(collections.Counter, tqdm(df['person_in_text'].values.tolist())), collections.Counter())"
   ]
  },
  {
   "cell_type": "code",
   "execution_count": 121,
   "metadata": {},
   "outputs": [],
   "source": [
    "# df_text = pd.DataFrame.from_dict(count_person_in_text, orient='index')"
   ]
  },
  {
   "cell_type": "code",
   "execution_count": 123,
   "metadata": {},
   "outputs": [],
   "source": [
    "df_text = pd.read_pickle('Data/Processed Data/Misc/DS-Text-Count.pkl')"
   ]
  },
  {
   "cell_type": "code",
   "execution_count": 124,
   "metadata": {},
   "outputs": [],
   "source": [
    "pagerank = pd.DataFrame.from_dict(pr_G, orient='index')\n",
    "pagerank = pagerank.reset_index()\n",
    "pagerank = pagerank.sort_values(by='index')\n",
    "pagerank.columns = ['name', 'pagerank']\n",
    "\n",
    "degree_centrality = pd.DataFrame.from_dict(degree_centrality_G, orient='index')\n",
    "degree_centrality = degree_centrality.reset_index()\n",
    "degree_centrality = degree_centrality.sort_values(by='index')\n",
    "degree_centrality.columns = ['name', 'degree_centrality']\n",
    "\n",
    "G.remove_edges_from(G.selfloop_edges())\n",
    "core = nx.core_number(G)\n",
    "\n",
    "core_periphery = pd.DataFrame.from_dict(core, orient='index')\n",
    "core_periphery = core_periphery.reset_index()\n",
    "core_periphery = core_periphery.sort_values(by='index')\n",
    "core_periphery.columns = ['name', 'core_periphery']\n",
    "\n",
    "count = dict(count)\n",
    "person_count = pd.DataFrame.from_dict(count, orient='index')\n",
    "person_count = person_count.reset_index()\n",
    "person_count = person_count.sort_values(by='index')\n",
    "person_count.columns = ['name', 'count']\n",
    "\n",
    "df_headline = df_headline.reset_index()\n",
    "df_headline = df_headline.sort_values(by='index')\n",
    "df_headline.columns = ['name', 'headline_count']\n",
    "\n",
    "df_text = df_text.reset_index()\n",
    "df_text = df_text.sort_values(by='index')\n",
    "df_text.columns = ['name', 'text_count']"
   ]
  },
  {
   "cell_type": "code",
   "execution_count": 125,
   "metadata": {},
   "outputs": [],
   "source": [
    "ml = pd.DataFrame()\n",
    "ml = pd.merge(pagerank, core_periphery, on=\"name\")\n",
    "ml = pd.merge(ml, degree_centrality, on=\"name\")\n",
    "ml = pd.merge(ml, person_count, on=\"name\", how=\"left\")\n",
    "ml = pd.merge(ml, df_headline, on=\"name\", how=\"left\")\n",
    "ml = pd.merge(ml, df_text, on=\"name\", how=\"left\")\n",
    "ml.fillna(0, inplace=True)"
   ]
  },
  {
   "cell_type": "code",
   "execution_count": 126,
   "metadata": {},
   "outputs": [],
   "source": [
    "ml.drop(ml.index[0:86], inplace=True)\n",
    "ml.reset_index(drop=True, inplace=True)"
   ]
  },
  {
   "cell_type": "code",
   "execution_count": 127,
   "metadata": {},
   "outputs": [],
   "source": [
    "ml.drop(ml.index[-153:], inplace=True)"
   ]
  },
  {
   "cell_type": "code",
   "execution_count": 128,
   "metadata": {},
   "outputs": [
    {
     "data": {
      "text/html": [
       "<div>\n",
       "<style scoped>\n",
       "    .dataframe tbody tr th:only-of-type {\n",
       "        vertical-align: middle;\n",
       "    }\n",
       "\n",
       "    .dataframe tbody tr th {\n",
       "        vertical-align: top;\n",
       "    }\n",
       "\n",
       "    .dataframe thead th {\n",
       "        text-align: right;\n",
       "    }\n",
       "</style>\n",
       "<table border=\"1\" class=\"dataframe\">\n",
       "  <thead>\n",
       "    <tr style=\"text-align: right;\">\n",
       "      <th></th>\n",
       "      <th>name</th>\n",
       "      <th>pagerank</th>\n",
       "      <th>core_periphery</th>\n",
       "      <th>degree_centrality</th>\n",
       "      <th>count</th>\n",
       "      <th>headline_count</th>\n",
       "      <th>text_count</th>\n",
       "    </tr>\n",
       "  </thead>\n",
       "  <tbody>\n",
       "    <tr>\n",
       "      <th>0</th>\n",
       "      <td>AJ Faisel</td>\n",
       "      <td>0.000022</td>\n",
       "      <td>1</td>\n",
       "      <td>0.000022</td>\n",
       "      <td>1</td>\n",
       "      <td>0.0</td>\n",
       "      <td>2.0</td>\n",
       "    </tr>\n",
       "    <tr>\n",
       "      <th>1</th>\n",
       "      <td>AJM Nasir</td>\n",
       "      <td>0.000007</td>\n",
       "      <td>1</td>\n",
       "      <td>0.000022</td>\n",
       "      <td>3</td>\n",
       "      <td>0.0</td>\n",
       "      <td>4.0</td>\n",
       "    </tr>\n",
       "    <tr>\n",
       "      <th>2</th>\n",
       "      <td>AJM Nasir Uddin</td>\n",
       "      <td>0.000027</td>\n",
       "      <td>4</td>\n",
       "      <td>0.000153</td>\n",
       "      <td>16</td>\n",
       "      <td>0.0</td>\n",
       "      <td>17.0</td>\n",
       "    </tr>\n",
       "    <tr>\n",
       "      <th>3</th>\n",
       "      <td>AK Abdul Momen</td>\n",
       "      <td>0.000005</td>\n",
       "      <td>1</td>\n",
       "      <td>0.000022</td>\n",
       "      <td>4</td>\n",
       "      <td>0.0</td>\n",
       "      <td>3.0</td>\n",
       "    </tr>\n",
       "    <tr>\n",
       "      <th>4</th>\n",
       "      <td>AK Antony</td>\n",
       "      <td>0.000043</td>\n",
       "      <td>6</td>\n",
       "      <td>0.000285</td>\n",
       "      <td>62</td>\n",
       "      <td>0.0</td>\n",
       "      <td>63.0</td>\n",
       "    </tr>\n",
       "  </tbody>\n",
       "</table>\n",
       "</div>"
      ],
      "text/plain": [
       "              name  pagerank  core_periphery  degree_centrality  count  \\\n",
       "0        AJ Faisel  0.000022               1           0.000022      1   \n",
       "1        AJM Nasir  0.000007               1           0.000022      3   \n",
       "2  AJM Nasir Uddin  0.000027               4           0.000153     16   \n",
       "3   AK Abdul Momen  0.000005               1           0.000022      4   \n",
       "4        AK Antony  0.000043               6           0.000285     62   \n",
       "\n",
       "   headline_count  text_count  \n",
       "0             0.0         2.0  \n",
       "1             0.0         4.0  \n",
       "2             0.0        17.0  \n",
       "3             0.0         3.0  \n",
       "4             0.0        63.0  "
      ]
     },
     "execution_count": 128,
     "metadata": {},
     "output_type": "execute_result"
    }
   ],
   "source": [
    "ml.head()"
   ]
  },
  {
   "cell_type": "code",
   "execution_count": 156,
   "metadata": {},
   "outputs": [],
   "source": [
    "# ml.to_pickle('Data/Processed Data/ML/DS-ml.pkl')"
   ]
  },
  {
   "cell_type": "markdown",
   "metadata": {},
   "source": [
    "# Difference between core rank every 6 months"
   ]
  },
  {
   "cell_type": "markdown",
   "metadata": {},
   "source": [
    "## DT"
   ]
  },
  {
   "cell_type": "code",
   "execution_count": 24,
   "metadata": {},
   "outputs": [],
   "source": [
    "df = pd.read_pickle('Data/Processed Data/Networks/DT-network.pkl')"
   ]
  },
  {
   "cell_type": "code",
   "execution_count": 25,
   "metadata": {},
   "outputs": [],
   "source": [
    "df['entity0'] = df['entity0'].apply(lambda x: \"Sheikh Hasina\" if x == \"Sheikh Hasina,\" else x)\n",
    "df['entity1'] = df['entity1'].apply(lambda x: \"Sheikh Hasina\" if x == \"Sheikh Hasina,\" else x)"
   ]
  },
  {
   "cell_type": "code",
   "execution_count": 26,
   "metadata": {},
   "outputs": [],
   "source": [
    "df['timestamp'] = df['timestamp'].apply(lambda x: x['$date'])\n",
    "df['timestamp'] = pd.to_datetime(df['timestamp'])"
   ]
  },
  {
   "cell_type": "code",
   "execution_count": 27,
   "metadata": {},
   "outputs": [],
   "source": [
    "i = df['timestamp'].min()\n",
    "max_date_counter = 0\n",
    "while i < df['timestamp'].max() + datetime.timedelta(weeks=24):\n",
    "    max_date_counter += 1\n",
    "    i = i + datetime.timedelta(weeks=24)"
   ]
  },
  {
   "cell_type": "code",
   "execution_count": 28,
   "metadata": {},
   "outputs": [],
   "source": [
    "time = []\n",
    "time.append(df['timestamp'].min())\n",
    "for i in range(1,max_date_counter):\n",
    "    time.append(time[i-1] + datetime.timedelta(weeks=24))"
   ]
  },
  {
   "cell_type": "code",
   "execution_count": 29,
   "metadata": {},
   "outputs": [],
   "source": [
    "Graph_list = []"
   ]
  },
  {
   "cell_type": "code",
   "execution_count": 30,
   "metadata": {},
   "outputs": [
    {
     "name": "stderr",
     "output_type": "stream",
     "text": [
      "100%|██████████| 247369/247369 [00:15<00:00, 15619.23it/s]\n",
      "100%|██████████| 247369/247369 [00:16<00:00, 14836.08it/s]\n",
      "100%|██████████| 247369/247369 [00:16<00:00, 14719.99it/s]\n",
      "100%|██████████| 247369/247369 [00:15<00:00, 15577.09it/s]\n",
      "100%|██████████| 247369/247369 [00:16<00:00, 15045.59it/s]\n",
      "100%|██████████| 247369/247369 [00:15<00:00, 15824.53it/s]\n",
      "100%|██████████| 247369/247369 [00:15<00:00, 15719.86it/s]"
     ]
    },
    {
     "name": "stdout",
     "output_type": "stream",
     "text": [
      "24925\n"
     ]
    },
    {
     "name": "stderr",
     "output_type": "stream",
     "text": [
      "\n"
     ]
    }
   ],
   "source": [
    "network_type = 'person'\n",
    "count = 0\n",
    "for i in range(len(time)-1):\n",
    "    G = nx.Graph()\n",
    "    for _, row in tqdm(df.iterrows(), total=df.shape[0]):\n",
    "        if row['timestamp'] > time[i] and row['timestamp'] <= time[i+1]:\n",
    "            if row['type0'] in network_type and row['type1'] in network_type:\n",
    "                count += 1\n",
    "                G.add_edge(row['entity0'], row['entity1'])\n",
    "    Graph_list.append(G)\n",
    "\n",
    "print(count)"
   ]
  },
  {
   "cell_type": "code",
   "execution_count": 31,
   "metadata": {},
   "outputs": [],
   "source": [
    "df_list = []"
   ]
  },
  {
   "cell_type": "code",
   "execution_count": 32,
   "metadata": {},
   "outputs": [],
   "source": [
    "for i in range(len(Graph_list)):\n",
    "    Graph_list[i].remove_edges_from(Graph_list[i].selfloop_edges())\n",
    "    core = nx.core_number(Graph_list[i])\n",
    "    core_periphery = pd.DataFrame.from_dict(core, orient='index')\n",
    "    core_periphery = core_periphery.reset_index()\n",
    "    core_periphery = core_periphery.sort_values(by='index')\n",
    "    core_periphery.columns = ['name', 'core_periphery']\n",
    "    df_list.append(core_periphery)"
   ]
  },
  {
   "cell_type": "code",
   "execution_count": 33,
   "metadata": {},
   "outputs": [],
   "source": [
    "def bucket(core_periphery):\n",
    "    if core_periphery > 4:\n",
    "        return 5\n",
    "    else:\n",
    "        return core_periphery\n",
    "\n",
    "\n",
    "for i in range(len(df_list)):\n",
    "    df = df_list[i]\n",
    "    df['core_periphery'] = df['core_periphery'].apply(bucket)\n",
    "    df_list[i] = df"
   ]
  },
  {
   "cell_type": "code",
   "execution_count": 34,
   "metadata": {},
   "outputs": [
    {
     "name": "stdout",
     "output_type": "stream",
     "text": [
      " CORE BEING CALCULATED IS 1\n",
      "Overlap count 96\n",
      "Overlap percentage 6.78\n",
      "---------------------------------------------\n",
      "Overlap count 135\n",
      "Overlap percentage 9.39\n",
      "---------------------------------------------\n",
      "Overlap count 129\n",
      "Overlap percentage 8.97\n",
      "---------------------------------------------\n",
      "Overlap count 81\n",
      "Overlap percentage 6.36\n",
      "---------------------------------------------\n",
      "Overlap count 93\n",
      "Overlap percentage 9.13\n",
      "---------------------------------------------\n",
      "Overlap count 87\n",
      "Overlap percentage 8.11\n",
      "---------------------------------------------\n",
      "xxxxxxxxxxxxxxxxxxxxxxxxxxxxxxxxxxxxxxxxxxxxxxxxxx\n",
      "xxxxxxxxxxxxxxxxxxxxxxxxxxxxxxxxxxxxxxxxxxxxxxxxxx\n",
      " CORE BEING CALCULATED IS 2\n",
      "Overlap count 42\n",
      "Overlap percentage 7.28\n",
      "---------------------------------------------\n",
      "Overlap count 57\n",
      "Overlap percentage 8.44\n",
      "---------------------------------------------\n",
      "Overlap count 58\n",
      "Overlap percentage 8.59\n",
      "---------------------------------------------\n",
      "Overlap count 58\n",
      "Overlap percentage 8.63\n",
      "---------------------------------------------\n",
      "Overlap count 36\n",
      "Overlap percentage 7.66\n",
      "---------------------------------------------\n",
      "Overlap count 27\n",
      "Overlap percentage 5.76\n",
      "---------------------------------------------\n",
      "xxxxxxxxxxxxxxxxxxxxxxxxxxxxxxxxxxxxxxxxxxxxxxxxxx\n",
      "xxxxxxxxxxxxxxxxxxxxxxxxxxxxxxxxxxxxxxxxxxxxxxxxxx\n",
      " CORE BEING CALCULATED IS 3\n",
      "Overlap count 32\n",
      "Overlap percentage 10.03\n",
      "---------------------------------------------\n",
      "Overlap count 25\n",
      "Overlap percentage 7.84\n",
      "---------------------------------------------\n",
      "Overlap count 31\n",
      "Overlap percentage 8.66\n",
      "---------------------------------------------\n",
      "Overlap count 22\n",
      "Overlap percentage 6.15\n",
      "---------------------------------------------\n",
      "Overlap count 22\n",
      "Overlap percentage 10.63\n",
      "---------------------------------------------\n",
      "Overlap count 14\n",
      "Overlap percentage 7.53\n",
      "---------------------------------------------\n",
      "xxxxxxxxxxxxxxxxxxxxxxxxxxxxxxxxxxxxxxxxxxxxxxxxxx\n",
      "xxxxxxxxxxxxxxxxxxxxxxxxxxxxxxxxxxxxxxxxxxxxxxxxxx\n",
      " CORE BEING CALCULATED IS 4\n",
      "Overlap count 8\n",
      "Overlap percentage 6.45\n",
      "---------------------------------------------\n",
      "Overlap count 12\n",
      "Overlap percentage 7.59\n",
      "---------------------------------------------\n",
      "Overlap count 10\n",
      "Overlap percentage 5.56\n",
      "---------------------------------------------\n",
      "Overlap count 9\n",
      "Overlap percentage 5.00\n",
      "---------------------------------------------\n",
      "Overlap count 4\n",
      "Overlap percentage 8.70\n",
      "---------------------------------------------\n",
      "Overlap count 5\n",
      "Overlap percentage 6.76\n",
      "---------------------------------------------\n",
      "xxxxxxxxxxxxxxxxxxxxxxxxxxxxxxxxxxxxxxxxxxxxxxxxxx\n",
      "xxxxxxxxxxxxxxxxxxxxxxxxxxxxxxxxxxxxxxxxxxxxxxxxxx\n",
      " CORE BEING CALCULATED IS 5\n",
      "Overlap count 1\n",
      "Overlap percentage 1.25\n",
      "---------------------------------------------\n",
      "Overlap count 5\n",
      "Overlap percentage 6.25\n",
      "---------------------------------------------\n",
      "Overlap count 10\n",
      "Overlap percentage 12.50\n",
      "---------------------------------------------\n",
      "Overlap count 1\n",
      "Overlap percentage 1.25\n",
      "---------------------------------------------\n",
      "Overlap count 0\n",
      "Overlap percentage 0.00\n",
      "---------------------------------------------\n",
      "Overlap count 0\n",
      "Overlap percentage 0.00\n",
      "---------------------------------------------\n",
      "xxxxxxxxxxxxxxxxxxxxxxxxxxxxxxxxxxxxxxxxxxxxxxxxxx\n",
      "xxxxxxxxxxxxxxxxxxxxxxxxxxxxxxxxxxxxxxxxxxxxxxxxxx\n"
     ]
    }
   ],
   "source": [
    "cores = list(range(1,6))\n",
    "\n",
    "for j in cores:\n",
    "    print(\" CORE BEING CALCULATED IS \" + str(j))\n",
    "    for i in range(len(df_list)-1):\n",
    "        df1 = df_list[i]\n",
    "        df2 = df_list[i+1]\n",
    "\n",
    "        first = df1[df1['core_periphery'] == j]\n",
    "        second = df2[df2['core_periphery'] == j]\n",
    "\n",
    "        count = 0\n",
    "        for _, row1 in first.iterrows():\n",
    "            for _, row2 in second.iterrows():\n",
    "                if ((row1['name'] == row2['name']) and (row1['core_periphery'] == row2['core_periphery'])):\n",
    "                        count += 1\n",
    "\n",
    "        print(\"Overlap count \" + str(count))\n",
    "        print(\"Overlap percentage %.2f\" % (count/max(first.shape[0], second.shape[0]) * 100))\n",
    "        print(\"---------------------------------------------\")\n",
    "    print(\"xxxxxxxxxxxxxxxxxxxxxxxxxxxxxxxxxxxxxxxxxxxxxxxxxx\")\n",
    "    print(\"xxxxxxxxxxxxxxxxxxxxxxxxxxxxxxxxxxxxxxxxxxxxxxxxxx\")"
   ]
  },
  {
   "cell_type": "markdown",
   "metadata": {},
   "source": [
    "## DS"
   ]
  },
  {
   "cell_type": "code",
   "execution_count": 2,
   "metadata": {},
   "outputs": [],
   "source": [
    "df = pd.read_pickle('Data/Processed Data/Networks/DS-network.pkl')"
   ]
  },
  {
   "cell_type": "code",
   "execution_count": 3,
   "metadata": {},
   "outputs": [
    {
     "data": {
      "text/html": [
       "<div>\n",
       "<style scoped>\n",
       "    .dataframe tbody tr th:only-of-type {\n",
       "        vertical-align: middle;\n",
       "    }\n",
       "\n",
       "    .dataframe tbody tr th {\n",
       "        vertical-align: top;\n",
       "    }\n",
       "\n",
       "    .dataframe thead th {\n",
       "        text-align: right;\n",
       "    }\n",
       "</style>\n",
       "<table border=\"1\" class=\"dataframe\">\n",
       "  <thead>\n",
       "    <tr style=\"text-align: right;\">\n",
       "      <th></th>\n",
       "      <th>_id</th>\n",
       "      <th>timestamp</th>\n",
       "      <th>entity0</th>\n",
       "      <th>type0</th>\n",
       "      <th>entity1</th>\n",
       "      <th>type1</th>\n",
       "      <th>quote</th>\n",
       "      <th>headline</th>\n",
       "      <th>keywords</th>\n",
       "      <th>section</th>\n",
       "    </tr>\n",
       "  </thead>\n",
       "  <tbody>\n",
       "    <tr>\n",
       "      <th>0</th>\n",
       "      <td>{'$oid': '58afca985388c123849ed1bf'}</td>\n",
       "      <td>{'$date': '2008-01-01T00:00:00.000Z'}</td>\n",
       "      <td>ZIA</td>\n",
       "      <td>location</td>\n",
       "      <td>Zia International Airport</td>\n",
       "      <td>location</td>\n",
       "      <td>(L-R) Nasir Uddin, Abbas AliArrested Abbas Ali...</td>\n",
       "      <td>NaN</td>\n",
       "      <td>['stones', 'rab', 'nasir', 'museum', 'took', '...</td>\n",
       "      <td>Front Page</td>\n",
       "    </tr>\n",
       "    <tr>\n",
       "      <th>1</th>\n",
       "      <td>{'$oid': '58afca985388c123849ed1bf'}</td>\n",
       "      <td>{'$date': '2008-01-01T00:00:00.000Z'}</td>\n",
       "      <td>ZIA</td>\n",
       "      <td>location</td>\n",
       "      <td>Nasir Uddin</td>\n",
       "      <td>person</td>\n",
       "      <td>(L-R) Nasir Uddin, Abbas AliArrested Abbas Ali...</td>\n",
       "      <td>NaN</td>\n",
       "      <td>['stones', 'rab', 'nasir', 'museum', 'took', '...</td>\n",
       "      <td>Front Page</td>\n",
       "    </tr>\n",
       "    <tr>\n",
       "      <th>2</th>\n",
       "      <td>{'$oid': '58afca985388c123849ed1bf'}</td>\n",
       "      <td>{'$date': '2008-01-01T00:00:00.000Z'}</td>\n",
       "      <td>ZIA</td>\n",
       "      <td>location</td>\n",
       "      <td>ZIA</td>\n",
       "      <td>location</td>\n",
       "      <td>(L-R) Nasir Uddin, Abbas AliArrested Abbas Ali...</td>\n",
       "      <td>NaN</td>\n",
       "      <td>['stones', 'rab', 'nasir', 'museum', 'took', '...</td>\n",
       "      <td>Front Page</td>\n",
       "    </tr>\n",
       "    <tr>\n",
       "      <th>3</th>\n",
       "      <td>{'$oid': '58afca985388c123849ed1bf'}</td>\n",
       "      <td>{'$date': '2008-01-01T00:00:00.000Z'}</td>\n",
       "      <td>ZIA</td>\n",
       "      <td>location</td>\n",
       "      <td>Abbas</td>\n",
       "      <td>person</td>\n",
       "      <td>(L-R) Nasir Uddin, Abbas AliArrested Abbas Ali...</td>\n",
       "      <td>NaN</td>\n",
       "      <td>['stones', 'rab', 'nasir', 'museum', 'took', '...</td>\n",
       "      <td>Front Page</td>\n",
       "    </tr>\n",
       "    <tr>\n",
       "      <th>4</th>\n",
       "      <td>{'$oid': '58afca985388c123849ed1bf'}</td>\n",
       "      <td>{'$date': '2008-01-01T00:00:00.000Z'}</td>\n",
       "      <td>ZIA</td>\n",
       "      <td>location</td>\n",
       "      <td>Nasir</td>\n",
       "      <td>person</td>\n",
       "      <td>(L-R) Nasir Uddin, Abbas AliArrested Abbas Ali...</td>\n",
       "      <td>NaN</td>\n",
       "      <td>['stones', 'rab', 'nasir', 'museum', 'took', '...</td>\n",
       "      <td>Front Page</td>\n",
       "    </tr>\n",
       "  </tbody>\n",
       "</table>\n",
       "</div>"
      ],
      "text/plain": [
       "                                    _id  \\\n",
       "0  {'$oid': '58afca985388c123849ed1bf'}   \n",
       "1  {'$oid': '58afca985388c123849ed1bf'}   \n",
       "2  {'$oid': '58afca985388c123849ed1bf'}   \n",
       "3  {'$oid': '58afca985388c123849ed1bf'}   \n",
       "4  {'$oid': '58afca985388c123849ed1bf'}   \n",
       "\n",
       "                               timestamp entity0     type0  \\\n",
       "0  {'$date': '2008-01-01T00:00:00.000Z'}     ZIA  location   \n",
       "1  {'$date': '2008-01-01T00:00:00.000Z'}     ZIA  location   \n",
       "2  {'$date': '2008-01-01T00:00:00.000Z'}     ZIA  location   \n",
       "3  {'$date': '2008-01-01T00:00:00.000Z'}     ZIA  location   \n",
       "4  {'$date': '2008-01-01T00:00:00.000Z'}     ZIA  location   \n",
       "\n",
       "                     entity1     type1  \\\n",
       "0  Zia International Airport  location   \n",
       "1                Nasir Uddin    person   \n",
       "2                        ZIA  location   \n",
       "3                      Abbas    person   \n",
       "4                      Nasir    person   \n",
       "\n",
       "                                               quote headline  \\\n",
       "0  (L-R) Nasir Uddin, Abbas AliArrested Abbas Ali...      NaN   \n",
       "1  (L-R) Nasir Uddin, Abbas AliArrested Abbas Ali...      NaN   \n",
       "2  (L-R) Nasir Uddin, Abbas AliArrested Abbas Ali...      NaN   \n",
       "3  (L-R) Nasir Uddin, Abbas AliArrested Abbas Ali...      NaN   \n",
       "4  (L-R) Nasir Uddin, Abbas AliArrested Abbas Ali...      NaN   \n",
       "\n",
       "                                            keywords     section  \n",
       "0  ['stones', 'rab', 'nasir', 'museum', 'took', '...  Front Page  \n",
       "1  ['stones', 'rab', 'nasir', 'museum', 'took', '...  Front Page  \n",
       "2  ['stones', 'rab', 'nasir', 'museum', 'took', '...  Front Page  \n",
       "3  ['stones', 'rab', 'nasir', 'museum', 'took', '...  Front Page  \n",
       "4  ['stones', 'rab', 'nasir', 'museum', 'took', '...  Front Page  "
      ]
     },
     "execution_count": 3,
     "metadata": {},
     "output_type": "execute_result"
    }
   ],
   "source": [
    "df.head()"
   ]
  },
  {
   "cell_type": "code",
   "execution_count": 4,
   "metadata": {},
   "outputs": [],
   "source": [
    "def fix_date(date):\n",
    "    json_acceptable_string = date.replace(\"'\", \"\\\"\")\n",
    "    d = json.loads(json_acceptable_string)\n",
    "    return(parser.parse(d['$date']))"
   ]
  },
  {
   "cell_type": "code",
   "execution_count": 5,
   "metadata": {},
   "outputs": [
    {
     "name": "stderr",
     "output_type": "stream",
     "text": [
      "100%|██████████| 914208/914208 [01:28<00:00, 10285.66it/s]\n"
     ]
    }
   ],
   "source": [
    "df['timestamp'] = df['timestamp'].progress_apply(fix_date)"
   ]
  },
  {
   "cell_type": "code",
   "execution_count": 7,
   "metadata": {},
   "outputs": [
    {
     "data": {
      "text/plain": [
       "Timestamp('2008-01-01 00:00:00+0000', tz='UTC')"
      ]
     },
     "execution_count": 7,
     "metadata": {},
     "output_type": "execute_result"
    }
   ],
   "source": [
    "df['timestamp'].min()"
   ]
  },
  {
   "cell_type": "code",
   "execution_count": 8,
   "metadata": {},
   "outputs": [
    {
     "data": {
      "text/plain": [
       "Timestamp('2017-12-01 14:29:00+0000', tz='UTC')"
      ]
     },
     "execution_count": 8,
     "metadata": {},
     "output_type": "execute_result"
    }
   ],
   "source": [
    "df['timestamp'].max()"
   ]
  },
  {
   "cell_type": "code",
   "execution_count": 21,
   "metadata": {},
   "outputs": [
    {
     "name": "stdout",
     "output_type": "stream",
     "text": [
      "23\n"
     ]
    }
   ],
   "source": [
    "i = df['timestamp'].min()\n",
    "max_date_counter = 0\n",
    "while i < df['timestamp'].max() + datetime.timedelta(weeks=24):\n",
    "    max_date_counter += 1\n",
    "    i = i + datetime.timedelta(weeks=24)\n",
    "\n",
    "print(max_date_counter)"
   ]
  },
  {
   "cell_type": "code",
   "execution_count": 22,
   "metadata": {},
   "outputs": [],
   "source": [
    "time = []\n",
    "time.append(df['timestamp'].min())\n",
    "i = time[0]\n",
    "for i in range(1,max_date_counter):\n",
    "    time.append(time[i-1] + datetime.timedelta(weeks=24))"
   ]
  },
  {
   "cell_type": "markdown",
   "metadata": {},
   "source": [
    "# Making ML ready datasets in time intervals"
   ]
  },
  {
   "cell_type": "markdown",
   "metadata": {},
   "source": [
    "## DT"
   ]
  },
  {
   "cell_type": "code",
   "execution_count": 148,
   "metadata": {},
   "outputs": [],
   "source": [
    "df = pd.read_pickle('Data/Processed Data/Networks/DT-network.pkl')\n",
    "\n",
    "df['timestamp'] = df['timestamp'].apply(lambda x: x['$date'])\n",
    "df['timestamp'] = pd.to_datetime(df['timestamp'])"
   ]
  },
  {
   "cell_type": "markdown",
   "metadata": {},
   "source": [
    "### 6, 3, 1 month interval (replaced cells using month because notebook was getting too long)"
   ]
  },
  {
   "cell_type": "code",
   "execution_count": 149,
   "metadata": {},
   "outputs": [
    {
     "name": "stdout",
     "output_type": "stream",
     "text": [
      "43\n"
     ]
    }
   ],
   "source": [
    "i = df['timestamp'].min()\n",
    "max_date_counter = 0\n",
    "while i < df['timestamp'].max() + datetime.timedelta(weeks=4):\n",
    "    max_date_counter += 1\n",
    "    i = i + datetime.timedelta(weeks=4)\n",
    "\n",
    "print(max_date_counter)\n",
    "time = []\n",
    "time.append(df['timestamp'].min())\n",
    "i = time[0]\n",
    "for i in range(1,max_date_counter):\n",
    "    time.append(time[i-1] + datetime.timedelta(weeks=4))"
   ]
  },
  {
   "cell_type": "code",
   "execution_count": 150,
   "metadata": {},
   "outputs": [
    {
     "data": {
      "text/plain": [
       "Timestamp('2016-06-25 15:24:00')"
      ]
     },
     "execution_count": 150,
     "metadata": {},
     "output_type": "execute_result"
    }
   ],
   "source": [
    "time[-1]"
   ]
  },
  {
   "cell_type": "code",
   "execution_count": 151,
   "metadata": {},
   "outputs": [
    {
     "data": {
      "text/plain": [
       "Timestamp('2016-06-14 01:28:00')"
      ]
     },
     "execution_count": 151,
     "metadata": {},
     "output_type": "execute_result"
    }
   ],
   "source": [
    "df['timestamp'].max()"
   ]
  },
  {
   "cell_type": "code",
   "execution_count": 152,
   "metadata": {},
   "outputs": [
    {
     "name": "stderr",
     "output_type": "stream",
     "text": [
      "100%|██████████| 247369/247369 [00:14<00:00, 16585.64it/s]\n",
      "100%|██████████| 247369/247369 [00:15<00:00, 15750.56it/s]\n",
      "100%|██████████| 247369/247369 [00:16<00:00, 15152.73it/s]\n",
      "100%|██████████| 247369/247369 [00:15<00:00, 16276.90it/s]\n",
      "100%|██████████| 247369/247369 [00:15<00:00, 16037.46it/s]\n",
      "100%|██████████| 247369/247369 [00:15<00:00, 16039.20it/s]\n",
      "100%|██████████| 247369/247369 [00:17<00:00, 14427.84it/s]\n",
      "100%|██████████| 247369/247369 [00:16<00:00, 14641.11it/s]\n",
      "100%|██████████| 247369/247369 [00:15<00:00, 15526.41it/s]\n",
      "100%|██████████| 247369/247369 [00:15<00:00, 16079.24it/s]\n",
      "100%|██████████| 247369/247369 [00:15<00:00, 15939.99it/s]\n",
      "100%|██████████| 247369/247369 [00:15<00:00, 16211.35it/s]\n",
      "100%|██████████| 247369/247369 [00:15<00:00, 16061.80it/s]\n",
      "100%|██████████| 247369/247369 [00:14<00:00, 17085.68it/s]\n",
      "100%|██████████| 247369/247369 [00:15<00:00, 16075.31it/s]\n",
      "100%|██████████| 247369/247369 [00:15<00:00, 15836.22it/s]\n",
      "100%|██████████| 247369/247369 [00:16<00:00, 15234.80it/s]\n",
      "100%|██████████| 247369/247369 [00:15<00:00, 15847.11it/s]\n",
      "100%|██████████| 247369/247369 [00:15<00:00, 15517.23it/s]\n",
      "100%|██████████| 247369/247369 [00:15<00:00, 15612.37it/s]\n",
      "100%|██████████| 247369/247369 [00:16<00:00, 15419.07it/s]\n",
      "100%|██████████| 247369/247369 [00:15<00:00, 16125.28it/s]\n",
      "100%|██████████| 247369/247369 [00:14<00:00, 16504.85it/s]\n",
      "100%|██████████| 247369/247369 [00:14<00:00, 16727.60it/s]\n",
      "100%|██████████| 247369/247369 [00:14<00:00, 16623.91it/s]\n",
      "100%|██████████| 247369/247369 [00:14<00:00, 16570.03it/s]\n",
      "100%|██████████| 247369/247369 [00:14<00:00, 17202.63it/s]\n",
      "100%|██████████| 247369/247369 [00:14<00:00, 16988.69it/s]\n",
      "100%|██████████| 247369/247369 [00:13<00:00, 17731.45it/s]\n",
      "100%|██████████| 247369/247369 [00:14<00:00, 16887.12it/s]\n",
      "100%|██████████| 247369/247369 [00:14<00:00, 16898.04it/s]\n",
      "100%|██████████| 247369/247369 [00:15<00:00, 16393.18it/s]\n",
      "100%|██████████| 247369/247369 [00:14<00:00, 16545.39it/s]\n",
      "100%|██████████| 247369/247369 [00:14<00:00, 16980.18it/s]\n",
      "100%|██████████| 247369/247369 [00:14<00:00, 17185.51it/s]\n",
      "100%|██████████| 247369/247369 [00:14<00:00, 16497.46it/s]\n",
      "100%|██████████| 247369/247369 [00:14<00:00, 16899.93it/s]\n",
      "100%|██████████| 247369/247369 [00:14<00:00, 16713.56it/s]\n",
      "100%|██████████| 247369/247369 [00:14<00:00, 16880.37it/s]\n",
      "100%|██████████| 247369/247369 [00:15<00:00, 15806.11it/s]\n",
      "100%|██████████| 247369/247369 [00:15<00:00, 15856.37it/s]\n",
      "100%|██████████| 247369/247369 [00:14<00:00, 16552.04it/s]"
     ]
    },
    {
     "name": "stdout",
     "output_type": "stream",
     "text": [
      "24925\n"
     ]
    },
    {
     "name": "stderr",
     "output_type": "stream",
     "text": [
      "\n"
     ]
    }
   ],
   "source": [
    "Graph_list = []\n",
    "\n",
    "network_type = 'person'\n",
    "count = 0\n",
    "for i in range(len(time)-1):\n",
    "    G = nx.Graph()\n",
    "    for _, row in tqdm(df.iterrows(), total=df.shape[0]):\n",
    "        if row['timestamp'] > time[i] and row['timestamp'] <= time[i+1]:\n",
    "            if row['type0'] in network_type and row['type1'] in network_type:\n",
    "                count += 1\n",
    "                G.add_edge(row['entity0'], row['entity1'])\n",
    "    Graph_list.append(G)\n",
    "\n",
    "print(count)"
   ]
  },
  {
   "cell_type": "code",
   "execution_count": 153,
   "metadata": {},
   "outputs": [],
   "source": [
    "degree_centrality_list = ()\n",
    "pagerank_list = ()\n",
    "core_list = ()\n",
    "\n",
    "for G in Graph_list:\n",
    "    degree_centrality_G = nx.degree_centrality(G)\n",
    "    pr_G = nx.pagerank(G)\n",
    "    G.remove_edges_from(G.selfloop_edges())\n",
    "    core = nx.core_number(G)\n",
    "    \n",
    "    degree_centrality_list += (degree_centrality_G,)\n",
    "    pagerank_list += (pr_G,)\n",
    "    core_list += (core,)"
   ]
  },
  {
   "cell_type": "code",
   "execution_count": 154,
   "metadata": {},
   "outputs": [],
   "source": [
    "dt = pd.read_pickle('Data/DT/DT.pkl')\n",
    "dt['news_publish_date'] = dt['news_publish_date'].apply(lambda x: x['$date'])\n",
    "dt['news_publish_date'] = pd.to_datetime(dt['news_publish_date'])\n",
    "dt = dt.set_index(dt['news_publish_date'])\n",
    "dt = dt.sort_index()"
   ]
  },
  {
   "cell_type": "code",
   "execution_count": 155,
   "metadata": {},
   "outputs": [],
   "source": [
    "dt_list = []\n",
    "for i in range(len(time)-1):\n",
    "    temp = dt[time[i]:time[i+1]]\n",
    "    dt_list.append(temp)"
   ]
  },
  {
   "cell_type": "code",
   "execution_count": 156,
   "metadata": {},
   "outputs": [
    {
     "name": "stderr",
     "output_type": "stream",
     "text": [
      "100%|██████████| 454/454 [00:00<00:00, 3908.43it/s]\n",
      "100%|██████████| 454/454 [00:00<00:00, 61220.87it/s]\n",
      "100%|██████████| 862/862 [00:00<00:00, 2091.80it/s]\n",
      "100%|██████████| 862/862 [00:00<00:00, 40319.95it/s]\n",
      "100%|██████████| 859/859 [00:00<00:00, 1972.06it/s]\n",
      "100%|██████████| 859/859 [00:00<00:00, 36366.19it/s]\n",
      "100%|██████████| 978/978 [00:00<00:00, 1925.41it/s]\n",
      "100%|██████████| 978/978 [00:00<00:00, 40785.37it/s]\n",
      "100%|██████████| 952/952 [00:00<00:00, 1881.19it/s]\n",
      "100%|██████████| 952/952 [00:00<00:00, 30435.44it/s]\n",
      "100%|██████████| 1274/1274 [00:00<00:00, 1562.05it/s]\n",
      "100%|██████████| 1274/1274 [00:00<00:00, 28330.28it/s]\n",
      "100%|██████████| 1090/1090 [00:00<00:00, 1863.88it/s]\n",
      "100%|██████████| 1090/1090 [00:00<00:00, 35086.39it/s]\n",
      "100%|██████████| 1308/1308 [00:00<00:00, 1821.56it/s]\n",
      "100%|██████████| 1308/1308 [00:00<00:00, 32580.21it/s]\n",
      "100%|██████████| 1634/1634 [00:01<00:00, 1417.03it/s]\n",
      "100%|██████████| 1634/1634 [00:00<00:00, 29775.01it/s]\n",
      "100%|██████████| 1751/1751 [00:01<00:00, 1198.01it/s]\n",
      "100%|██████████| 1751/1751 [00:00<00:00, 22610.49it/s]\n",
      "100%|██████████| 1736/1736 [00:01<00:00, 1296.23it/s]\n",
      "100%|██████████| 1736/1736 [00:00<00:00, 19376.22it/s]\n",
      "100%|██████████| 1336/1336 [00:00<00:00, 1530.00it/s]\n",
      "100%|██████████| 1336/1336 [00:00<00:00, 33598.29it/s]\n",
      "100%|██████████| 1506/1506 [00:01<00:00, 1503.82it/s]\n",
      "100%|██████████| 1506/1506 [00:00<00:00, 36022.53it/s]\n",
      "100%|██████████| 1645/1645 [00:01<00:00, 1278.39it/s]\n",
      "100%|██████████| 1645/1645 [00:00<00:00, 28629.29it/s]\n",
      "100%|██████████| 1510/1510 [00:01<00:00, 1471.79it/s]\n",
      "100%|██████████| 1510/1510 [00:00<00:00, 32669.63it/s]\n",
      "100%|██████████| 1450/1450 [00:01<00:00, 1391.07it/s]\n",
      "100%|██████████| 1450/1450 [00:00<00:00, 30344.22it/s]\n",
      "100%|██████████| 1285/1285 [00:00<00:00, 1630.85it/s]\n",
      "100%|██████████| 1285/1285 [00:00<00:00, 34110.39it/s]\n",
      "100%|██████████| 1279/1279 [00:00<00:00, 1521.74it/s]\n",
      "100%|██████████| 1279/1279 [00:00<00:00, 39732.73it/s]\n",
      "100%|██████████| 1630/1630 [00:01<00:00, 1207.38it/s]\n",
      "100%|██████████| 1630/1630 [00:00<00:00, 29505.74it/s]\n",
      "100%|██████████| 1416/1416 [00:00<00:00, 1516.60it/s]\n",
      "100%|██████████| 1416/1416 [00:00<00:00, 42561.32it/s]\n",
      "100%|██████████| 1514/1514 [00:00<00:00, 1661.29it/s]\n",
      "100%|██████████| 1514/1514 [00:00<00:00, 29948.29it/s]\n",
      "100%|██████████| 1301/1301 [00:00<00:00, 1697.25it/s]\n",
      "100%|██████████| 1301/1301 [00:00<00:00, 34985.03it/s]\n",
      "100%|██████████| 1094/1094 [00:00<00:00, 2107.56it/s]\n",
      "100%|██████████| 1094/1094 [00:00<00:00, 48328.19it/s]\n",
      "100%|██████████| 1232/1232 [00:00<00:00, 2080.58it/s]\n",
      "100%|██████████| 1232/1232 [00:00<00:00, 46939.08it/s]\n",
      "100%|██████████| 1197/1197 [00:00<00:00, 1864.86it/s]\n",
      "100%|██████████| 1197/1197 [00:00<00:00, 48914.48it/s]\n",
      "100%|██████████| 1079/1079 [00:00<00:00, 2067.01it/s]\n",
      "100%|██████████| 1079/1079 [00:00<00:00, 38022.08it/s]\n",
      "100%|██████████| 1067/1067 [00:00<00:00, 2092.87it/s]\n",
      "100%|██████████| 1067/1067 [00:00<00:00, 45171.06it/s]\n",
      "100%|██████████| 972/972 [00:00<00:00, 2371.79it/s]\n",
      "100%|██████████| 972/972 [00:00<00:00, 47123.20it/s]\n",
      "100%|██████████| 1047/1047 [00:00<00:00, 2124.25it/s]\n",
      "100%|██████████| 1047/1047 [00:00<00:00, 40397.37it/s]\n",
      "100%|██████████| 776/776 [00:00<00:00, 2613.96it/s]\n",
      "100%|██████████| 776/776 [00:00<00:00, 58673.23it/s]\n",
      "100%|██████████| 924/924 [00:00<00:00, 2135.94it/s]\n",
      "100%|██████████| 924/924 [00:00<00:00, 48083.58it/s]\n",
      "100%|██████████| 1023/1023 [00:00<00:00, 2035.23it/s]\n",
      "100%|██████████| 1023/1023 [00:00<00:00, 36480.27it/s]\n",
      "100%|██████████| 918/918 [00:00<00:00, 2523.36it/s]\n",
      "100%|██████████| 918/918 [00:00<00:00, 53173.84it/s]\n",
      "100%|██████████| 950/950 [00:00<00:00, 2294.41it/s]\n",
      "100%|██████████| 950/950 [00:00<00:00, 32120.83it/s]\n",
      "100%|██████████| 1017/1017 [00:00<00:00, 1784.14it/s]\n",
      "100%|██████████| 1017/1017 [00:00<00:00, 42370.92it/s]\n",
      "100%|██████████| 1068/1068 [00:00<00:00, 1574.88it/s]\n",
      "100%|██████████| 1068/1068 [00:00<00:00, 58619.37it/s]\n",
      "100%|██████████| 1028/1028 [00:00<00:00, 2467.08it/s]\n",
      "100%|██████████| 1028/1028 [00:00<00:00, 35928.21it/s]\n",
      "100%|██████████| 1160/1160 [00:00<00:00, 2043.08it/s]\n",
      "100%|██████████| 1160/1160 [00:00<00:00, 29988.31it/s]\n",
      "100%|██████████| 1096/1096 [00:00<00:00, 1971.36it/s]\n",
      "100%|██████████| 1096/1096 [00:00<00:00, 38891.35it/s]\n",
      "100%|██████████| 1069/1069 [00:00<00:00, 1960.08it/s]\n",
      "100%|██████████| 1069/1069 [00:00<00:00, 38004.64it/s]\n",
      "100%|██████████| 966/966 [00:00<00:00, 1988.64it/s]\n",
      "100%|██████████| 966/966 [00:00<00:00, 51017.37it/s]\n",
      "100%|██████████| 603/603 [00:00<00:00, 4036.31it/s]\n",
      "100%|██████████| 603/603 [00:00<00:00, 70574.14it/s]\n"
     ]
    }
   ],
   "source": [
    "count_list = [[], [], []] # List structure is: count, count_in_text, count_in_headline\n",
    "\n",
    "for dt in dt_list:\n",
    "    dt['person_in_headline'] = np.vectorize(person_in_headline)(dt['news_headline'], dt['persons_unique'])\n",
    "    dt['person_in_text'] = np.vectorize(person_in_text)(dt['news_text'], dt['persons_unique'])\n",
    "    count_person_in_text = sum(map(collections.Counter, tqdm(dt['person_in_text'].values.tolist())), collections.Counter())\n",
    "    count_person_in_headline = sum(map(collections.Counter, tqdm(dt['person_in_headline'].values.tolist())), collections.Counter())\n",
    "    count = collections.Counter([item for sublist in dt['persons_unique'] for item in sublist])\n",
    "    \n",
    "    count_list[0].append(count)\n",
    "    count_list[1].append(count_person_in_headline)\n",
    "    count_list[2].append(count_person_in_text)"
   ]
  },
  {
   "cell_type": "code",
   "execution_count": 157,
   "metadata": {},
   "outputs": [
    {
     "name": "stderr",
     "output_type": "stream",
     "text": [
      "100%|██████████| 42/42 [00:01<00:00, 39.32it/s]\n"
     ]
    }
   ],
   "source": [
    "for i in tqdm(range(len(dt_list))):\n",
    "    pagerank = pd.DataFrame.from_dict(pagerank_list[i], orient='index')\n",
    "    pagerank = pagerank.reset_index()\n",
    "    pagerank = pagerank.sort_values(by='index')\n",
    "    pagerank.columns = ['name', 'pagerank']\n",
    "    \n",
    "    degree_centrality = pd.DataFrame.from_dict(degree_centrality_list[i], orient='index')\n",
    "    degree_centrality = degree_centrality.reset_index()\n",
    "    degree_centrality = degree_centrality.sort_values(by='index')\n",
    "    degree_centrality.columns = ['name', 'degree_centrality']\n",
    "    \n",
    "    core_periphery = pd.DataFrame.from_dict(core_list[i], orient='index')\n",
    "    core_periphery = core_periphery.reset_index()\n",
    "    core_periphery = core_periphery.sort_values(by='index')\n",
    "    core_periphery.columns = ['name', 'core_periphery']\n",
    "    \n",
    "    count = dict(count_list[0][i])\n",
    "    person_count = pd.DataFrame.from_dict(count, orient='index')\n",
    "    person_count = person_count.reset_index()\n",
    "    person_count = person_count.sort_values(by='index')\n",
    "    person_count.columns = ['name', 'count']\n",
    "    \n",
    "    df_text = pd.DataFrame.from_dict(count_list[1][i], orient='index')\n",
    "    df_text = df_text.reset_index()\n",
    "    df_text = df_text.sort_values(by='index')\n",
    "    df_text.columns = ['name', 'text_count']\n",
    "    \n",
    "    df_headline = pd.DataFrame.from_dict(count_list[2][i], orient='index')\n",
    "    df_headline = df_headline.reset_index()\n",
    "    df_headline = df_headline.sort_values(by='index')\n",
    "    df_headline.columns = ['name', 'headline_count']\n",
    "    \n",
    "    ml = pd.DataFrame()\n",
    "    ml = pd.merge(pagerank, core_periphery, on=\"name\")\n",
    "    ml = pd.merge(ml, degree_centrality, on=\"name\")\n",
    "    ml = pd.merge(ml, person_count, on=\"name\", how=\"left\")\n",
    "    ml = pd.merge(ml, df_headline, on=\"name\", how=\"left\")\n",
    "    ml = pd.merge(ml, df_text, on=\"name\", how=\"left\")\n",
    "    \n",
    "    ml.to_pickle('Data/Processed Data/Intervals/DT/1 month/ml_'+str(i+1)+'.pkl')"
   ]
  },
  {
   "cell_type": "code",
   "execution_count": null,
   "metadata": {},
   "outputs": [],
   "source": []
  }
 ],
 "metadata": {
  "kernelspec": {
   "display_name": "Python 3",
   "language": "python",
   "name": "python3"
  },
  "language_info": {
   "codemirror_mode": {
    "name": "ipython",
    "version": 3
   },
   "file_extension": ".py",
   "mimetype": "text/x-python",
   "name": "python",
   "nbconvert_exporter": "python",
   "pygments_lexer": "ipython3",
   "version": "3.5.2"
  }
 },
 "nbformat": 4,
 "nbformat_minor": 2
}
