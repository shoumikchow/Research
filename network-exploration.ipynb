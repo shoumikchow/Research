{
 "cells": [
  {
   "cell_type": "code",
   "execution_count": 1,
   "metadata": {},
   "outputs": [],
   "source": [
    "import networkx as nx\n",
    "import numpy as np\n",
    "import matplotlib.pyplot as plt\n",
    "import pandas as pd\n",
    "from tqdm import tqdm\n",
    "import collections\n",
    "import itertools\n",
    "import numpy as np\n",
    "\n",
    "tqdm.pandas()"
   ]
  },
  {
   "cell_type": "markdown",
   "metadata": {},
   "source": [
    "## Dhaka Tribune"
   ]
  },
  {
   "cell_type": "code",
   "execution_count": 2,
   "metadata": {},
   "outputs": [],
   "source": [
    "df = pd.read_pickle('Data/Processed Data/Networks/DT-network.pkl')"
   ]
  },
  {
   "cell_type": "code",
   "execution_count": 3,
   "metadata": {},
   "outputs": [],
   "source": [
    "df['entity0'] = df['entity0'].apply(lambda x: \"Sheikh Hasina\" if x == \"Sheikh Hasina,\" else x)\n",
    "df['entity1'] = df['entity1'].apply(lambda x: \"Sheikh Hasina\" if x == \"Sheikh Hasina,\" else x)"
   ]
  },
  {
   "cell_type": "code",
   "execution_count": 4,
   "metadata": {},
   "outputs": [
    {
     "data": {
      "text/html": [
       "<div>\n",
       "<style scoped>\n",
       "    .dataframe tbody tr th:only-of-type {\n",
       "        vertical-align: middle;\n",
       "    }\n",
       "\n",
       "    .dataframe tbody tr th {\n",
       "        vertical-align: top;\n",
       "    }\n",
       "\n",
       "    .dataframe thead th {\n",
       "        text-align: right;\n",
       "    }\n",
       "</style>\n",
       "<table border=\"1\" class=\"dataframe\">\n",
       "  <thead>\n",
       "    <tr style=\"text-align: right;\">\n",
       "      <th></th>\n",
       "      <th>_id</th>\n",
       "      <th>timestamp</th>\n",
       "      <th>entity0</th>\n",
       "      <th>type0</th>\n",
       "      <th>entity1</th>\n",
       "      <th>type1</th>\n",
       "      <th>quote</th>\n",
       "      <th>headline</th>\n",
       "      <th>keywords</th>\n",
       "      <th>original_tags</th>\n",
       "    </tr>\n",
       "  </thead>\n",
       "  <tbody>\n",
       "    <tr>\n",
       "      <th>0</th>\n",
       "      <td>{'$oid': '575f79f55388c1567baebb2a'}</td>\n",
       "      <td>{'$date': '2016-06-14T01:28:00.000Z'}</td>\n",
       "      <td>Bangladesh</td>\n",
       "      <td>location</td>\n",
       "      <td>Amaq News Agency</td>\n",
       "      <td>organization</td>\n",
       "      <td>Several hours after the killing, SITE ran a re...</td>\n",
       "      <td>Ashram residents remain in panic</td>\n",
       "      <td>[bangladesh, ashram, monastery, nityanando, mo...</td>\n",
       "      <td>[crime]</td>\n",
       "    </tr>\n",
       "    <tr>\n",
       "      <th>1</th>\n",
       "      <td>{'$oid': '575f79f55388c1567baebb2a'}</td>\n",
       "      <td>{'$date': '2016-06-14T01:28:00.000Z'}</td>\n",
       "      <td>Noni Gopal</td>\n",
       "      <td>person</td>\n",
       "      <td>Nityanando</td>\n",
       "      <td>person</td>\n",
       "      <td>Noni Gopal Debnath, another resident of the As...</td>\n",
       "      <td>Ashram residents remain in panic</td>\n",
       "      <td>[bangladesh, ashram, monastery, nityanando, mo...</td>\n",
       "      <td>[crime]</td>\n",
       "    </tr>\n",
       "    <tr>\n",
       "      <th>2</th>\n",
       "      <td>{'$oid': '575f79f55388c1567baebb2a'}</td>\n",
       "      <td>{'$date': '2016-06-14T01:28:00.000Z'}</td>\n",
       "      <td>Dhaka Tribune</td>\n",
       "      <td>organization</td>\n",
       "      <td>Pabna Alamgir Kabir</td>\n",
       "      <td>person</td>\n",
       "      <td>Superintendent of Police, Pabna Alamgir Kabir ...</td>\n",
       "      <td>Ashram residents remain in panic</td>\n",
       "      <td>[bangladesh, ashram, monastery, nityanando, mo...</td>\n",
       "      <td>[crime]</td>\n",
       "    </tr>\n",
       "    <tr>\n",
       "      <th>3</th>\n",
       "      <td>{'$oid': '575f79f55388c1567baebb2a'}</td>\n",
       "      <td>{'$date': '2016-06-14T01:28:00.000Z'}</td>\n",
       "      <td>Islami Chhatra Shibir</td>\n",
       "      <td>organization</td>\n",
       "      <td>Munshi Abu</td>\n",
       "      <td>organization</td>\n",
       "      <td>Acting on tip-off, a team of police arrested A...</td>\n",
       "      <td>Ashram residents remain in panic</td>\n",
       "      <td>[bangladesh, ashram, monastery, nityanando, mo...</td>\n",
       "      <td>[crime]</td>\n",
       "    </tr>\n",
       "    <tr>\n",
       "      <th>4</th>\n",
       "      <td>{'$oid': '575f79f55388c1567baebb2a'}</td>\n",
       "      <td>{'$date': '2016-06-14T01:28:00.000Z'}</td>\n",
       "      <td>Islami Chhatra Shibir</td>\n",
       "      <td>organization</td>\n",
       "      <td>Abdus Sattar</td>\n",
       "      <td>person</td>\n",
       "      <td>Acting on tip-off, a team of police arrested A...</td>\n",
       "      <td>Ashram residents remain in panic</td>\n",
       "      <td>[bangladesh, ashram, monastery, nityanando, mo...</td>\n",
       "      <td>[crime]</td>\n",
       "    </tr>\n",
       "  </tbody>\n",
       "</table>\n",
       "</div>"
      ],
      "text/plain": [
       "                                    _id  \\\n",
       "0  {'$oid': '575f79f55388c1567baebb2a'}   \n",
       "1  {'$oid': '575f79f55388c1567baebb2a'}   \n",
       "2  {'$oid': '575f79f55388c1567baebb2a'}   \n",
       "3  {'$oid': '575f79f55388c1567baebb2a'}   \n",
       "4  {'$oid': '575f79f55388c1567baebb2a'}   \n",
       "\n",
       "                               timestamp                entity0         type0  \\\n",
       "0  {'$date': '2016-06-14T01:28:00.000Z'}             Bangladesh      location   \n",
       "1  {'$date': '2016-06-14T01:28:00.000Z'}             Noni Gopal        person   \n",
       "2  {'$date': '2016-06-14T01:28:00.000Z'}          Dhaka Tribune  organization   \n",
       "3  {'$date': '2016-06-14T01:28:00.000Z'}  Islami Chhatra Shibir  organization   \n",
       "4  {'$date': '2016-06-14T01:28:00.000Z'}  Islami Chhatra Shibir  organization   \n",
       "\n",
       "               entity1         type1  \\\n",
       "0     Amaq News Agency  organization   \n",
       "1           Nityanando        person   \n",
       "2  Pabna Alamgir Kabir        person   \n",
       "3           Munshi Abu  organization   \n",
       "4         Abdus Sattar        person   \n",
       "\n",
       "                                               quote  \\\n",
       "0  Several hours after the killing, SITE ran a re...   \n",
       "1  Noni Gopal Debnath, another resident of the As...   \n",
       "2  Superintendent of Police, Pabna Alamgir Kabir ...   \n",
       "3  Acting on tip-off, a team of police arrested A...   \n",
       "4  Acting on tip-off, a team of police arrested A...   \n",
       "\n",
       "                           headline  \\\n",
       "0  Ashram residents remain in panic   \n",
       "1  Ashram residents remain in panic   \n",
       "2  Ashram residents remain in panic   \n",
       "3  Ashram residents remain in panic   \n",
       "4  Ashram residents remain in panic   \n",
       "\n",
       "                                            keywords original_tags  \n",
       "0  [bangladesh, ashram, monastery, nityanando, mo...       [crime]  \n",
       "1  [bangladesh, ashram, monastery, nityanando, mo...       [crime]  \n",
       "2  [bangladesh, ashram, monastery, nityanando, mo...       [crime]  \n",
       "3  [bangladesh, ashram, monastery, nityanando, mo...       [crime]  \n",
       "4  [bangladesh, ashram, monastery, nityanando, mo...       [crime]  "
      ]
     },
     "execution_count": 4,
     "metadata": {},
     "output_type": "execute_result"
    }
   ],
   "source": [
    "df.head()"
   ]
  },
  {
   "cell_type": "code",
   "execution_count": 5,
   "metadata": {},
   "outputs": [],
   "source": [
    "# G = nx.from_pandas_edgelist(df, 'entity0', 'entity1', create_using=nx.Graph())"
   ]
  },
  {
   "cell_type": "code",
   "execution_count": 6,
   "metadata": {},
   "outputs": [],
   "source": [
    "G = nx.Graph()"
   ]
  },
  {
   "cell_type": "code",
   "execution_count": 7,
   "metadata": {},
   "outputs": [
    {
     "name": "stderr",
     "output_type": "stream",
     "text": [
      "100%|██████████| 247369/247369 [00:14<00:00, 17391.04it/s]"
     ]
    },
    {
     "name": "stdout",
     "output_type": "stream",
     "text": [
      "24925\n"
     ]
    },
    {
     "name": "stderr",
     "output_type": "stream",
     "text": [
      "\n"
     ]
    }
   ],
   "source": [
    "network_type = 'person'\n",
    "count = 0\n",
    "for _, row in tqdm(df.iterrows(), total=df.shape[0]):\n",
    "    \n",
    "    if row['type0'] in network_type and row['type1'] in network_type:\n",
    "        # print(row['entity0'], row['entity1'])\n",
    "        count += 1\n",
    "        G.add_edge(row['entity0'], row['entity1'])\n",
    "        \n",
    "print(count)"
   ]
  },
  {
   "cell_type": "code",
   "execution_count": 8,
   "metadata": {},
   "outputs": [
    {
     "data": {
      "text/plain": [
       "10132"
      ]
     },
     "execution_count": 8,
     "metadata": {},
     "output_type": "execute_result"
    }
   ],
   "source": [
    "len(G.nodes)"
   ]
  },
  {
   "cell_type": "code",
   "execution_count": 9,
   "metadata": {},
   "outputs": [
    {
     "data": {
      "text/plain": [
       "16867"
      ]
     },
     "execution_count": 9,
     "metadata": {},
     "output_type": "execute_result"
    }
   ],
   "source": [
    "len(G.edges)"
   ]
  },
  {
   "cell_type": "code",
   "execution_count": 10,
   "metadata": {},
   "outputs": [
    {
     "data": {
      "text/plain": [
       "0.00032863994112966957"
      ]
     },
     "execution_count": 10,
     "metadata": {},
     "output_type": "execute_result"
    }
   ],
   "source": [
    "nx.density(G)"
   ]
  },
  {
   "cell_type": "code",
   "execution_count": 11,
   "metadata": {},
   "outputs": [
    {
     "data": {
      "text/plain": [
       "False"
      ]
     },
     "execution_count": 11,
     "metadata": {},
     "output_type": "execute_result"
    }
   ],
   "source": [
    "nx.is_connected(G)"
   ]
  },
  {
   "cell_type": "code",
   "execution_count": 12,
   "metadata": {},
   "outputs": [
    {
     "data": {
      "text/plain": [
       "[('Sheikh Hasina', 0.008714946541820293),\n",
       " ('Khaleda Zia', 0.006527625334761851),\n",
       " ('Ershad', 0.0033629463372757836),\n",
       " ('Hossain', 0.0023554989532027747),\n",
       " ('Rahman', 0.0022351802397646),\n",
       " ('Monirul', 0.0020809714059857303),\n",
       " ('Khokon', 0.002002982783159693),\n",
       " ('Nur Hossain', 0.001861798382496689),\n",
       " ('Babul', 0.0018555368742018638),\n",
       " ('Tarique Rahman', 0.001762839395529244),\n",
       " ('Ziaur Rahman', 0.00155272881742216),\n",
       " ('Kamal', 0.0015279512046905861),\n",
       " ('Mizanur Rahman', 0.0014902815077797796),\n",
       " ('Hannan', 0.0013829262783952648),\n",
       " ('Masud', 0.0013666953228968154),\n",
       " ('Shamim', 0.001353066577488366),\n",
       " ('Mamun', 0.0013335490807444778),\n",
       " ('Latif', 0.0013117671578834467),\n",
       " ('Kabir', 0.001274719249852543),\n",
       " ('Bangabandhu Sheikh Mujibur Rahman', 0.0012723027199051874)]"
      ]
     },
     "execution_count": 12,
     "metadata": {},
     "output_type": "execute_result"
    }
   ],
   "source": [
    "pr_G = nx.pagerank(G)\n",
    "sorted(pr_G.items(), key = lambda x:x[1], reverse= True)[:20]"
   ]
  },
  {
   "cell_type": "code",
   "execution_count": 13,
   "metadata": {},
   "outputs": [
    {
     "data": {
      "text/plain": [
       "10132"
      ]
     },
     "execution_count": 13,
     "metadata": {},
     "output_type": "execute_result"
    }
   ],
   "source": [
    "len(pr_G.items())"
   ]
  },
  {
   "cell_type": "code",
   "execution_count": 14,
   "metadata": {},
   "outputs": [
    {
     "data": {
      "text/plain": [
       "[('Hasanul Haque', 9),\n",
       " ('Sangeeta Imam', 9),\n",
       " ('Mahmudul Haque Munshi Gonojagoron Moncho', 9),\n",
       " ('Muhammad Zafar Iqbal', 9),\n",
       " ('Sarker', 9),\n",
       " ('Arefin Siddique', 9),\n",
       " ('Nasiruddin Yusuf', 9),\n",
       " ('Shahriar Kabir', 9),\n",
       " ('Ramendu Majumdar', 9),\n",
       " ('Syed Anwar Hossain', 9),\n",
       " ('Mohammad Nasim', 8),\n",
       " ('Kamal', 8),\n",
       " ('Latif', 8),\n",
       " ('Mahfuz Anam', 8),\n",
       " ('Ruhul Kabir Rizvi', 8),\n",
       " ('Nur', 8),\n",
       " ('Ziaur Rahman', 8),\n",
       " ('Matia Chowdhury', 8),\n",
       " ('Abdul Latif', 8),\n",
       " ('Kamal Hossain', 8)]"
      ]
     },
     "execution_count": 14,
     "metadata": {},
     "output_type": "execute_result"
    }
   ],
   "source": [
    "G.remove_edges_from(G.selfloop_edges())\n",
    "sorted(nx.core_number(G).items(), key= lambda x:x[1], reverse=True)[:20]"
   ]
  },
  {
   "cell_type": "code",
   "execution_count": 15,
   "metadata": {},
   "outputs": [
    {
     "data": {
      "text/plain": [
       "10132"
      ]
     },
     "execution_count": 15,
     "metadata": {},
     "output_type": "execute_result"
    }
   ],
   "source": [
    "len(nx.core_number(G))"
   ]
  },
  {
   "cell_type": "code",
   "execution_count": 16,
   "metadata": {},
   "outputs": [],
   "source": [
    "df = pd.read_pickle('Data/DT/DT.pkl')"
   ]
  },
  {
   "cell_type": "code",
   "execution_count": 17,
   "metadata": {},
   "outputs": [
    {
     "data": {
      "text/html": [
       "<div>\n",
       "<style scoped>\n",
       "    .dataframe tbody tr th:only-of-type {\n",
       "        vertical-align: middle;\n",
       "    }\n",
       "\n",
       "    .dataframe tbody tr th {\n",
       "        vertical-align: top;\n",
       "    }\n",
       "\n",
       "    .dataframe thead th {\n",
       "        text-align: right;\n",
       "    }\n",
       "</style>\n",
       "<table border=\"1\" class=\"dataframe\">\n",
       "  <thead>\n",
       "    <tr style=\"text-align: right;\">\n",
       "      <th></th>\n",
       "      <th>_id</th>\n",
       "      <th>is_negative</th>\n",
       "      <th>news_crawled_date</th>\n",
       "      <th>news_headline</th>\n",
       "      <th>news_image_urls</th>\n",
       "      <th>news_keywords</th>\n",
       "      <th>news_location</th>\n",
       "      <th>news_ml_tags</th>\n",
       "      <th>news_naive_tags</th>\n",
       "      <th>news_original_tags</th>\n",
       "      <th>news_publish_date</th>\n",
       "      <th>news_reporters</th>\n",
       "      <th>news_text</th>\n",
       "      <th>news_url</th>\n",
       "      <th>newspaper_name</th>\n",
       "      <th>newspaper_url</th>\n",
       "      <th>locations_unique</th>\n",
       "      <th>organizations_unique</th>\n",
       "      <th>persons_unique</th>\n",
       "    </tr>\n",
       "  </thead>\n",
       "  <tbody>\n",
       "    <tr>\n",
       "      <th>0</th>\n",
       "      <td>{'$oid': '575f79f55388c1567baebb2a'}</td>\n",
       "      <td>True</td>\n",
       "      <td>{'$date': '2016-06-13T23:28:50.269Z'}</td>\n",
       "      <td>Ashram residents remain in panic</td>\n",
       "      <td>[http://www.dhakatribune.com/sites/default/fil...</td>\n",
       "      <td>[bangladesh, ashram, monastery, nityanando, mo...</td>\n",
       "      <td>Pabna</td>\n",
       "      <td>NaN</td>\n",
       "      <td>[crime]</td>\n",
       "      <td>[crime]</td>\n",
       "      <td>{'$date': '2016-06-14T01:28:00.000Z'}</td>\n",
       "      <td>[[Md Emroz Khandakar]]</td>\n",
       "      <td>People who live in Sri Sri Thakur Anukulchandr...</td>\n",
       "      <td>http://www.dhakatribune.com/crime/2016/jun/14/...</td>\n",
       "      <td>Dhaka Tribune</td>\n",
       "      <td>http://www.dhakatribune.com</td>\n",
       "      <td>[Bangladesh]</td>\n",
       "      <td>[morning. Nityanando, Ishwardi Upazila Health ...</td>\n",
       "      <td>[Abdus Sattar, Noni Gopal, Hemayetpur Dham, Pa...</td>\n",
       "    </tr>\n",
       "    <tr>\n",
       "      <th>1</th>\n",
       "      <td>{'$oid': '575f79f85388c1567baebb2b'}</td>\n",
       "      <td>True</td>\n",
       "      <td>{'$date': '2016-06-13T23:28:54.437Z'}</td>\n",
       "      <td>Bangladeshi abducted from Bandarban border</td>\n",
       "      <td>[http://www.dhakatribune.com/sites/default/fil...</td>\n",
       "      <td>[naikkangchhari, area, bandarban, woodcutters,...</td>\n",
       "      <td>Bandarban</td>\n",
       "      <td>NaN</td>\n",
       "      <td>[crime]</td>\n",
       "      <td>[bangladesh]</td>\n",
       "      <td>{'$date': '2016-06-14T01:27:00.000Z'}</td>\n",
       "      <td>[[S Bashu Das]]</td>\n",
       "      <td>Separatists in Myanmar abducted a Bangladeshi ...</td>\n",
       "      <td>http://www.dhakatribune.com/bangladesh/2016/ju...</td>\n",
       "      <td>Dhaka Tribune</td>\n",
       "      <td>http://www.dhakatribune.com</td>\n",
       "      <td>[Bandarban, Dochhari, Myanmar]</td>\n",
       "      <td>[Naikkangchhari, Naikkangchhari BGB]</td>\n",
       "      <td>[Hedman, Abul Khayer, Col Azim, Ula Mang Marma]</td>\n",
       "    </tr>\n",
       "    <tr>\n",
       "      <th>2</th>\n",
       "      <td>{'$oid': '575f79fc5388c1567baebb2c'}</td>\n",
       "      <td>True</td>\n",
       "      <td>{'$date': '2016-06-13T23:28:57.408Z'}</td>\n",
       "      <td>‘Narayanganj killing was pre-planned’</td>\n",
       "      <td>[http://www.dhakatribune.com/sites/default/fil...</td>\n",
       "      <td>[murder, rab, picked, preplanned, vehicles, ki...</td>\n",
       "      <td>Narayanganj</td>\n",
       "      <td>NaN</td>\n",
       "      <td>[crime]</td>\n",
       "      <td>[crime]</td>\n",
       "      <td>{'$date': '2016-06-14T01:25:00.000Z'}</td>\n",
       "      <td>[[Tanveer Hossain]]</td>\n",
       "      <td>Two personnel of the Rapid Action Battalion ye...</td>\n",
       "      <td>http://www.dhakatribune.com/crime/2016/jun/14/...</td>\n",
       "      <td>Dhaka Tribune</td>\n",
       "      <td>http://www.dhakatribune.com</td>\n",
       "      <td>[Narayganj, Shitalakya, Narayanganj]</td>\n",
       "      <td>[Rapid Action Battalion, Shitalakhya River., N...</td>\n",
       "      <td>[Syed Enayetur Rahman, Arif Hossain, Nazrul, R...</td>\n",
       "    </tr>\n",
       "    <tr>\n",
       "      <th>3</th>\n",
       "      <td>{'$oid': '575f79fe5388c1567baebb2d'}</td>\n",
       "      <td>True</td>\n",
       "      <td>{'$date': '2016-06-13T23:29:00.538Z'}</td>\n",
       "      <td>Slum kids see no future without birth registra...</td>\n",
       "      <td>[http://www.dhakatribune.com/sites/default/fil...</td>\n",
       "      <td>[dhaka, school, kids, pay, slum, shabnam, pall...</td>\n",
       "      <td>National</td>\n",
       "      <td>NaN</td>\n",
       "      <td>[accident]</td>\n",
       "      <td>[bangladesh]</td>\n",
       "      <td>{'$date': '2016-06-14T01:24:00.000Z'}</td>\n",
       "      <td>[Mohammad Jamil Khan]</td>\n",
       "      <td>Thirteen-year-old Shabnam had big dreams for h...</td>\n",
       "      <td>http://www.dhakatribune.com/bangladesh/2016/ju...</td>\n",
       "      <td>Dhaka Tribune</td>\n",
       "      <td>http://www.dhakatribune.com</td>\n",
       "      <td>[Dhaka, Pallabi, Mirpur, New Kurmitola]</td>\n",
       "      <td>[NGO, The Dhaka Tribune, the Urban Primary Hea...</td>\n",
       "      <td>[Shabnam]</td>\n",
       "    </tr>\n",
       "    <tr>\n",
       "      <th>4</th>\n",
       "      <td>{'$oid': '575f7a015388c1567baebb2e'}</td>\n",
       "      <td>True</td>\n",
       "      <td>{'$date': '2016-06-13T23:29:03.326Z'}</td>\n",
       "      <td>Mobile-based agro advisory service makes farme...</td>\n",
       "      <td>[http://www.dhakatribune.com/sites/default/fil...</td>\n",
       "      <td>[advisory, life, grameenphone, service, farmer...</td>\n",
       "      <td>National</td>\n",
       "      <td>NaN</td>\n",
       "      <td>[accident]</td>\n",
       "      <td>[bangladesh]</td>\n",
       "      <td>{'$date': '2016-06-14T01:22:00.000Z'}</td>\n",
       "      <td>[Abu Bakar Siddique]</td>\n",
       "      <td>Amela Begum in Rangpur believes she could have...</td>\n",
       "      <td>http://www.dhakatribune.com/bangladesh/2016/ju...</td>\n",
       "      <td>Dhaka Tribune</td>\n",
       "      <td>http://www.dhakatribune.com</td>\n",
       "      <td>[Rangpur]</td>\n",
       "      <td>[Grameenphone, Oxfam Bangladesh’s ICT, Departm...</td>\n",
       "      <td>[Shefali Rani, Hanif]</td>\n",
       "    </tr>\n",
       "  </tbody>\n",
       "</table>\n",
       "</div>"
      ],
      "text/plain": [
       "                                    _id  is_negative  \\\n",
       "0  {'$oid': '575f79f55388c1567baebb2a'}         True   \n",
       "1  {'$oid': '575f79f85388c1567baebb2b'}         True   \n",
       "2  {'$oid': '575f79fc5388c1567baebb2c'}         True   \n",
       "3  {'$oid': '575f79fe5388c1567baebb2d'}         True   \n",
       "4  {'$oid': '575f7a015388c1567baebb2e'}         True   \n",
       "\n",
       "                       news_crawled_date  \\\n",
       "0  {'$date': '2016-06-13T23:28:50.269Z'}   \n",
       "1  {'$date': '2016-06-13T23:28:54.437Z'}   \n",
       "2  {'$date': '2016-06-13T23:28:57.408Z'}   \n",
       "3  {'$date': '2016-06-13T23:29:00.538Z'}   \n",
       "4  {'$date': '2016-06-13T23:29:03.326Z'}   \n",
       "\n",
       "                                       news_headline  \\\n",
       "0                   Ashram residents remain in panic   \n",
       "1         Bangladeshi abducted from Bandarban border   \n",
       "2              ‘Narayanganj killing was pre-planned’   \n",
       "3  Slum kids see no future without birth registra...   \n",
       "4  Mobile-based agro advisory service makes farme...   \n",
       "\n",
       "                                     news_image_urls  \\\n",
       "0  [http://www.dhakatribune.com/sites/default/fil...   \n",
       "1  [http://www.dhakatribune.com/sites/default/fil...   \n",
       "2  [http://www.dhakatribune.com/sites/default/fil...   \n",
       "3  [http://www.dhakatribune.com/sites/default/fil...   \n",
       "4  [http://www.dhakatribune.com/sites/default/fil...   \n",
       "\n",
       "                                       news_keywords news_location  \\\n",
       "0  [bangladesh, ashram, monastery, nityanando, mo...         Pabna   \n",
       "1  [naikkangchhari, area, bandarban, woodcutters,...     Bandarban   \n",
       "2  [murder, rab, picked, preplanned, vehicles, ki...   Narayanganj   \n",
       "3  [dhaka, school, kids, pay, slum, shabnam, pall...      National   \n",
       "4  [advisory, life, grameenphone, service, farmer...      National   \n",
       "\n",
       "   news_ml_tags news_naive_tags news_original_tags  \\\n",
       "0           NaN         [crime]            [crime]   \n",
       "1           NaN         [crime]       [bangladesh]   \n",
       "2           NaN         [crime]            [crime]   \n",
       "3           NaN      [accident]       [bangladesh]   \n",
       "4           NaN      [accident]       [bangladesh]   \n",
       "\n",
       "                       news_publish_date          news_reporters  \\\n",
       "0  {'$date': '2016-06-14T01:28:00.000Z'}  [[Md Emroz Khandakar]]   \n",
       "1  {'$date': '2016-06-14T01:27:00.000Z'}         [[S Bashu Das]]   \n",
       "2  {'$date': '2016-06-14T01:25:00.000Z'}     [[Tanveer Hossain]]   \n",
       "3  {'$date': '2016-06-14T01:24:00.000Z'}   [Mohammad Jamil Khan]   \n",
       "4  {'$date': '2016-06-14T01:22:00.000Z'}    [Abu Bakar Siddique]   \n",
       "\n",
       "                                           news_text  \\\n",
       "0  People who live in Sri Sri Thakur Anukulchandr...   \n",
       "1  Separatists in Myanmar abducted a Bangladeshi ...   \n",
       "2  Two personnel of the Rapid Action Battalion ye...   \n",
       "3  Thirteen-year-old Shabnam had big dreams for h...   \n",
       "4  Amela Begum in Rangpur believes she could have...   \n",
       "\n",
       "                                            news_url newspaper_name  \\\n",
       "0  http://www.dhakatribune.com/crime/2016/jun/14/...  Dhaka Tribune   \n",
       "1  http://www.dhakatribune.com/bangladesh/2016/ju...  Dhaka Tribune   \n",
       "2  http://www.dhakatribune.com/crime/2016/jun/14/...  Dhaka Tribune   \n",
       "3  http://www.dhakatribune.com/bangladesh/2016/ju...  Dhaka Tribune   \n",
       "4  http://www.dhakatribune.com/bangladesh/2016/ju...  Dhaka Tribune   \n",
       "\n",
       "                 newspaper_url                         locations_unique  \\\n",
       "0  http://www.dhakatribune.com                             [Bangladesh]   \n",
       "1  http://www.dhakatribune.com           [Bandarban, Dochhari, Myanmar]   \n",
       "2  http://www.dhakatribune.com     [Narayganj, Shitalakya, Narayanganj]   \n",
       "3  http://www.dhakatribune.com  [Dhaka, Pallabi, Mirpur, New Kurmitola]   \n",
       "4  http://www.dhakatribune.com                                [Rangpur]   \n",
       "\n",
       "                                organizations_unique  \\\n",
       "0  [morning. Nityanando, Ishwardi Upazila Health ...   \n",
       "1               [Naikkangchhari, Naikkangchhari BGB]   \n",
       "2  [Rapid Action Battalion, Shitalakhya River., N...   \n",
       "3  [NGO, The Dhaka Tribune, the Urban Primary Hea...   \n",
       "4  [Grameenphone, Oxfam Bangladesh’s ICT, Departm...   \n",
       "\n",
       "                                      persons_unique  \n",
       "0  [Abdus Sattar, Noni Gopal, Hemayetpur Dham, Pa...  \n",
       "1    [Hedman, Abul Khayer, Col Azim, Ula Mang Marma]  \n",
       "2  [Syed Enayetur Rahman, Arif Hossain, Nazrul, R...  \n",
       "3                                          [Shabnam]  \n",
       "4                              [Shefali Rani, Hanif]  "
      ]
     },
     "execution_count": 17,
     "metadata": {},
     "output_type": "execute_result"
    }
   ],
   "source": [
    "df.head()"
   ]
  },
  {
   "cell_type": "code",
   "execution_count": 18,
   "metadata": {},
   "outputs": [],
   "source": [
    "count = collections.Counter([item for sublist in df['persons_unique'] for item in sublist])"
   ]
  },
  {
   "cell_type": "code",
   "execution_count": 19,
   "metadata": {},
   "outputs": [
    {
     "data": {
      "text/plain": [
       "[('Sheikh Hasina', 4543),\n",
       " ('Khaleda Zia', 2616),\n",
       " ('Bangabandhu Sheikh Mujibur Rahman', 739),\n",
       " ('Abdul Hamid', 653),\n",
       " ('Mirza Fakhrul Islam Alamgir', 639),\n",
       " ('Mizanur Rahman', 551),\n",
       " ('Tarique Rahman', 477),\n",
       " ('Obaidul Quader', 433),\n",
       " ('Motiur Rahman Nizami', 395),\n",
       " ('Abul Kalam', 393),\n",
       " ('Ershad', 353),\n",
       " ('Abul Kalam Azad', 341),\n",
       " ('Ziaur Rahman', 334),\n",
       " ('Abul Maal Abdul Muhith', 334),\n",
       " ('Anwar Hossain', 304),\n",
       " ('Habibur Rahman', 299),\n",
       " ('Mahbubey Alam', 299),\n",
       " ('Nurul Islam Nahid', 288),\n",
       " ('Asaduzzaman Khan Kamal', 276),\n",
       " ('Shahidul Haque', 264)]"
      ]
     },
     "execution_count": 19,
     "metadata": {},
     "output_type": "execute_result"
    }
   ],
   "source": [
    "count.most_common()[:20]"
   ]
  },
  {
   "cell_type": "code",
   "execution_count": 20,
   "metadata": {},
   "outputs": [
    {
     "data": {
      "text/plain": [
       "42440"
      ]
     },
     "execution_count": 20,
     "metadata": {},
     "output_type": "execute_result"
    }
   ],
   "source": [
    "len(count)"
   ]
  },
  {
   "cell_type": "code",
   "execution_count": 21,
   "metadata": {},
   "outputs": [],
   "source": [
    "# Find number of times entity appear in headlines\n",
    "\n",
    "# Here's an idea: Add another column to the DF. Check if Person entity exists in headline or not.\n",
    "# Make a dictionary as a counter like: {\"Person a\": 1, \"Person b\": 0} and put it in the new column\n",
    "\n",
    "# Also, network probably could've been done like this. In a new column, we could've had list of lists with the combinations.\n",
    "\n",
    "# Find number of times entity appear in article"
   ]
  },
  {
   "cell_type": "code",
   "execution_count": 22,
   "metadata": {},
   "outputs": [],
   "source": [
    "# a = {\"a\": 20, \"b\":10}\n",
    "# e = {\"a\":40, \"c\":15}\n",
    "\n",
    "# collections.Counter(a) + collections.Counter(e)"
   ]
  },
  {
   "cell_type": "code",
   "execution_count": 23,
   "metadata": {},
   "outputs": [],
   "source": [
    "df = pd.read_pickle('Data/DT/DT.pkl')"
   ]
  },
  {
   "cell_type": "code",
   "execution_count": 24,
   "metadata": {},
   "outputs": [],
   "source": [
    "# df['person_in_headline'] = df[['news_headline', 'persons_unique']].apply()"
   ]
  },
  {
   "cell_type": "code",
   "execution_count": 25,
   "metadata": {},
   "outputs": [
    {
     "data": {
      "text/html": [
       "<div>\n",
       "<style scoped>\n",
       "    .dataframe tbody tr th:only-of-type {\n",
       "        vertical-align: middle;\n",
       "    }\n",
       "\n",
       "    .dataframe tbody tr th {\n",
       "        vertical-align: top;\n",
       "    }\n",
       "\n",
       "    .dataframe thead th {\n",
       "        text-align: right;\n",
       "    }\n",
       "</style>\n",
       "<table border=\"1\" class=\"dataframe\">\n",
       "  <thead>\n",
       "    <tr style=\"text-align: right;\">\n",
       "      <th></th>\n",
       "      <th>_id</th>\n",
       "      <th>is_negative</th>\n",
       "      <th>news_crawled_date</th>\n",
       "      <th>news_headline</th>\n",
       "      <th>news_image_urls</th>\n",
       "      <th>news_keywords</th>\n",
       "      <th>news_location</th>\n",
       "      <th>news_ml_tags</th>\n",
       "      <th>news_naive_tags</th>\n",
       "      <th>news_original_tags</th>\n",
       "      <th>news_publish_date</th>\n",
       "      <th>news_reporters</th>\n",
       "      <th>news_text</th>\n",
       "      <th>news_url</th>\n",
       "      <th>newspaper_name</th>\n",
       "      <th>newspaper_url</th>\n",
       "      <th>locations_unique</th>\n",
       "      <th>organizations_unique</th>\n",
       "      <th>persons_unique</th>\n",
       "    </tr>\n",
       "  </thead>\n",
       "  <tbody>\n",
       "    <tr>\n",
       "      <th>0</th>\n",
       "      <td>{'$oid': '575f79f55388c1567baebb2a'}</td>\n",
       "      <td>True</td>\n",
       "      <td>{'$date': '2016-06-13T23:28:50.269Z'}</td>\n",
       "      <td>Ashram residents remain in panic</td>\n",
       "      <td>[http://www.dhakatribune.com/sites/default/fil...</td>\n",
       "      <td>[bangladesh, ashram, monastery, nityanando, mo...</td>\n",
       "      <td>Pabna</td>\n",
       "      <td>NaN</td>\n",
       "      <td>[crime]</td>\n",
       "      <td>[crime]</td>\n",
       "      <td>{'$date': '2016-06-14T01:28:00.000Z'}</td>\n",
       "      <td>[[Md Emroz Khandakar]]</td>\n",
       "      <td>People who live in Sri Sri Thakur Anukulchandr...</td>\n",
       "      <td>http://www.dhakatribune.com/crime/2016/jun/14/...</td>\n",
       "      <td>Dhaka Tribune</td>\n",
       "      <td>http://www.dhakatribune.com</td>\n",
       "      <td>[Bangladesh]</td>\n",
       "      <td>[morning. Nityanando, Ishwardi Upazila Health ...</td>\n",
       "      <td>[Abdus Sattar, Noni Gopal, Hemayetpur Dham, Pa...</td>\n",
       "    </tr>\n",
       "    <tr>\n",
       "      <th>1</th>\n",
       "      <td>{'$oid': '575f79f85388c1567baebb2b'}</td>\n",
       "      <td>True</td>\n",
       "      <td>{'$date': '2016-06-13T23:28:54.437Z'}</td>\n",
       "      <td>Bangladeshi abducted from Bandarban border</td>\n",
       "      <td>[http://www.dhakatribune.com/sites/default/fil...</td>\n",
       "      <td>[naikkangchhari, area, bandarban, woodcutters,...</td>\n",
       "      <td>Bandarban</td>\n",
       "      <td>NaN</td>\n",
       "      <td>[crime]</td>\n",
       "      <td>[bangladesh]</td>\n",
       "      <td>{'$date': '2016-06-14T01:27:00.000Z'}</td>\n",
       "      <td>[[S Bashu Das]]</td>\n",
       "      <td>Separatists in Myanmar abducted a Bangladeshi ...</td>\n",
       "      <td>http://www.dhakatribune.com/bangladesh/2016/ju...</td>\n",
       "      <td>Dhaka Tribune</td>\n",
       "      <td>http://www.dhakatribune.com</td>\n",
       "      <td>[Bandarban, Dochhari, Myanmar]</td>\n",
       "      <td>[Naikkangchhari, Naikkangchhari BGB]</td>\n",
       "      <td>[Hedman, Abul Khayer, Col Azim, Ula Mang Marma]</td>\n",
       "    </tr>\n",
       "    <tr>\n",
       "      <th>2</th>\n",
       "      <td>{'$oid': '575f79fc5388c1567baebb2c'}</td>\n",
       "      <td>True</td>\n",
       "      <td>{'$date': '2016-06-13T23:28:57.408Z'}</td>\n",
       "      <td>‘Narayanganj killing was pre-planned’</td>\n",
       "      <td>[http://www.dhakatribune.com/sites/default/fil...</td>\n",
       "      <td>[murder, rab, picked, preplanned, vehicles, ki...</td>\n",
       "      <td>Narayanganj</td>\n",
       "      <td>NaN</td>\n",
       "      <td>[crime]</td>\n",
       "      <td>[crime]</td>\n",
       "      <td>{'$date': '2016-06-14T01:25:00.000Z'}</td>\n",
       "      <td>[[Tanveer Hossain]]</td>\n",
       "      <td>Two personnel of the Rapid Action Battalion ye...</td>\n",
       "      <td>http://www.dhakatribune.com/crime/2016/jun/14/...</td>\n",
       "      <td>Dhaka Tribune</td>\n",
       "      <td>http://www.dhakatribune.com</td>\n",
       "      <td>[Narayganj, Shitalakya, Narayanganj]</td>\n",
       "      <td>[Rapid Action Battalion, Shitalakhya River., N...</td>\n",
       "      <td>[Syed Enayetur Rahman, Arif Hossain, Nazrul, R...</td>\n",
       "    </tr>\n",
       "    <tr>\n",
       "      <th>3</th>\n",
       "      <td>{'$oid': '575f79fe5388c1567baebb2d'}</td>\n",
       "      <td>True</td>\n",
       "      <td>{'$date': '2016-06-13T23:29:00.538Z'}</td>\n",
       "      <td>Slum kids see no future without birth registra...</td>\n",
       "      <td>[http://www.dhakatribune.com/sites/default/fil...</td>\n",
       "      <td>[dhaka, school, kids, pay, slum, shabnam, pall...</td>\n",
       "      <td>National</td>\n",
       "      <td>NaN</td>\n",
       "      <td>[accident]</td>\n",
       "      <td>[bangladesh]</td>\n",
       "      <td>{'$date': '2016-06-14T01:24:00.000Z'}</td>\n",
       "      <td>[Mohammad Jamil Khan]</td>\n",
       "      <td>Thirteen-year-old Shabnam had big dreams for h...</td>\n",
       "      <td>http://www.dhakatribune.com/bangladesh/2016/ju...</td>\n",
       "      <td>Dhaka Tribune</td>\n",
       "      <td>http://www.dhakatribune.com</td>\n",
       "      <td>[Dhaka, Pallabi, Mirpur, New Kurmitola]</td>\n",
       "      <td>[NGO, The Dhaka Tribune, the Urban Primary Hea...</td>\n",
       "      <td>[Shabnam]</td>\n",
       "    </tr>\n",
       "    <tr>\n",
       "      <th>4</th>\n",
       "      <td>{'$oid': '575f7a015388c1567baebb2e'}</td>\n",
       "      <td>True</td>\n",
       "      <td>{'$date': '2016-06-13T23:29:03.326Z'}</td>\n",
       "      <td>Mobile-based agro advisory service makes farme...</td>\n",
       "      <td>[http://www.dhakatribune.com/sites/default/fil...</td>\n",
       "      <td>[advisory, life, grameenphone, service, farmer...</td>\n",
       "      <td>National</td>\n",
       "      <td>NaN</td>\n",
       "      <td>[accident]</td>\n",
       "      <td>[bangladesh]</td>\n",
       "      <td>{'$date': '2016-06-14T01:22:00.000Z'}</td>\n",
       "      <td>[Abu Bakar Siddique]</td>\n",
       "      <td>Amela Begum in Rangpur believes she could have...</td>\n",
       "      <td>http://www.dhakatribune.com/bangladesh/2016/ju...</td>\n",
       "      <td>Dhaka Tribune</td>\n",
       "      <td>http://www.dhakatribune.com</td>\n",
       "      <td>[Rangpur]</td>\n",
       "      <td>[Grameenphone, Oxfam Bangladesh’s ICT, Departm...</td>\n",
       "      <td>[Shefali Rani, Hanif]</td>\n",
       "    </tr>\n",
       "  </tbody>\n",
       "</table>\n",
       "</div>"
      ],
      "text/plain": [
       "                                    _id  is_negative  \\\n",
       "0  {'$oid': '575f79f55388c1567baebb2a'}         True   \n",
       "1  {'$oid': '575f79f85388c1567baebb2b'}         True   \n",
       "2  {'$oid': '575f79fc5388c1567baebb2c'}         True   \n",
       "3  {'$oid': '575f79fe5388c1567baebb2d'}         True   \n",
       "4  {'$oid': '575f7a015388c1567baebb2e'}         True   \n",
       "\n",
       "                       news_crawled_date  \\\n",
       "0  {'$date': '2016-06-13T23:28:50.269Z'}   \n",
       "1  {'$date': '2016-06-13T23:28:54.437Z'}   \n",
       "2  {'$date': '2016-06-13T23:28:57.408Z'}   \n",
       "3  {'$date': '2016-06-13T23:29:00.538Z'}   \n",
       "4  {'$date': '2016-06-13T23:29:03.326Z'}   \n",
       "\n",
       "                                       news_headline  \\\n",
       "0                   Ashram residents remain in panic   \n",
       "1         Bangladeshi abducted from Bandarban border   \n",
       "2              ‘Narayanganj killing was pre-planned’   \n",
       "3  Slum kids see no future without birth registra...   \n",
       "4  Mobile-based agro advisory service makes farme...   \n",
       "\n",
       "                                     news_image_urls  \\\n",
       "0  [http://www.dhakatribune.com/sites/default/fil...   \n",
       "1  [http://www.dhakatribune.com/sites/default/fil...   \n",
       "2  [http://www.dhakatribune.com/sites/default/fil...   \n",
       "3  [http://www.dhakatribune.com/sites/default/fil...   \n",
       "4  [http://www.dhakatribune.com/sites/default/fil...   \n",
       "\n",
       "                                       news_keywords news_location  \\\n",
       "0  [bangladesh, ashram, monastery, nityanando, mo...         Pabna   \n",
       "1  [naikkangchhari, area, bandarban, woodcutters,...     Bandarban   \n",
       "2  [murder, rab, picked, preplanned, vehicles, ki...   Narayanganj   \n",
       "3  [dhaka, school, kids, pay, slum, shabnam, pall...      National   \n",
       "4  [advisory, life, grameenphone, service, farmer...      National   \n",
       "\n",
       "   news_ml_tags news_naive_tags news_original_tags  \\\n",
       "0           NaN         [crime]            [crime]   \n",
       "1           NaN         [crime]       [bangladesh]   \n",
       "2           NaN         [crime]            [crime]   \n",
       "3           NaN      [accident]       [bangladesh]   \n",
       "4           NaN      [accident]       [bangladesh]   \n",
       "\n",
       "                       news_publish_date          news_reporters  \\\n",
       "0  {'$date': '2016-06-14T01:28:00.000Z'}  [[Md Emroz Khandakar]]   \n",
       "1  {'$date': '2016-06-14T01:27:00.000Z'}         [[S Bashu Das]]   \n",
       "2  {'$date': '2016-06-14T01:25:00.000Z'}     [[Tanveer Hossain]]   \n",
       "3  {'$date': '2016-06-14T01:24:00.000Z'}   [Mohammad Jamil Khan]   \n",
       "4  {'$date': '2016-06-14T01:22:00.000Z'}    [Abu Bakar Siddique]   \n",
       "\n",
       "                                           news_text  \\\n",
       "0  People who live in Sri Sri Thakur Anukulchandr...   \n",
       "1  Separatists in Myanmar abducted a Bangladeshi ...   \n",
       "2  Two personnel of the Rapid Action Battalion ye...   \n",
       "3  Thirteen-year-old Shabnam had big dreams for h...   \n",
       "4  Amela Begum in Rangpur believes she could have...   \n",
       "\n",
       "                                            news_url newspaper_name  \\\n",
       "0  http://www.dhakatribune.com/crime/2016/jun/14/...  Dhaka Tribune   \n",
       "1  http://www.dhakatribune.com/bangladesh/2016/ju...  Dhaka Tribune   \n",
       "2  http://www.dhakatribune.com/crime/2016/jun/14/...  Dhaka Tribune   \n",
       "3  http://www.dhakatribune.com/bangladesh/2016/ju...  Dhaka Tribune   \n",
       "4  http://www.dhakatribune.com/bangladesh/2016/ju...  Dhaka Tribune   \n",
       "\n",
       "                 newspaper_url                         locations_unique  \\\n",
       "0  http://www.dhakatribune.com                             [Bangladesh]   \n",
       "1  http://www.dhakatribune.com           [Bandarban, Dochhari, Myanmar]   \n",
       "2  http://www.dhakatribune.com     [Narayganj, Shitalakya, Narayanganj]   \n",
       "3  http://www.dhakatribune.com  [Dhaka, Pallabi, Mirpur, New Kurmitola]   \n",
       "4  http://www.dhakatribune.com                                [Rangpur]   \n",
       "\n",
       "                                organizations_unique  \\\n",
       "0  [morning. Nityanando, Ishwardi Upazila Health ...   \n",
       "1               [Naikkangchhari, Naikkangchhari BGB]   \n",
       "2  [Rapid Action Battalion, Shitalakhya River., N...   \n",
       "3  [NGO, The Dhaka Tribune, the Urban Primary Hea...   \n",
       "4  [Grameenphone, Oxfam Bangladesh’s ICT, Departm...   \n",
       "\n",
       "                                      persons_unique  \n",
       "0  [Abdus Sattar, Noni Gopal, Hemayetpur Dham, Pa...  \n",
       "1    [Hedman, Abul Khayer, Col Azim, Ula Mang Marma]  \n",
       "2  [Syed Enayetur Rahman, Arif Hossain, Nazrul, R...  \n",
       "3                                          [Shabnam]  \n",
       "4                              [Shefali Rani, Hanif]  "
      ]
     },
     "execution_count": 25,
     "metadata": {},
     "output_type": "execute_result"
    }
   ],
   "source": [
    "df.head()"
   ]
  },
  {
   "cell_type": "code",
   "execution_count": 98,
   "metadata": {},
   "outputs": [],
   "source": [
    "def person_in_headline(headline, persons):\n",
    "    if headline:\n",
    "        headline_dict = {}\n",
    "        for i in persons:\n",
    "            if i in headline:\n",
    "                if i in headline_dict:\n",
    "                    headline_dict[i] += 1\n",
    "                else:\n",
    "                    headline_dict[i] = 1\n",
    "        return headline_dict\n",
    "    else:\n",
    "        return {}"
   ]
  },
  {
   "cell_type": "code",
   "execution_count": 27,
   "metadata": {},
   "outputs": [],
   "source": [
    "df['person_in_headline'] = np.vectorize(person_in_headline)(df['news_headline'], df['persons_unique'])"
   ]
  },
  {
   "cell_type": "code",
   "execution_count": 92,
   "metadata": {},
   "outputs": [],
   "source": [
    "def person_in_text(text, persons):\n",
    "    text_dict = {}\n",
    "    for person in persons:\n",
    "        text_dict[person] = text.count(person)\n",
    "    return text_dict"
   ]
  },
  {
   "cell_type": "code",
   "execution_count": null,
   "metadata": {},
   "outputs": [],
   "source": [
    "df['person_in_text'] = np.vectorize(person_in_text)(df['news_text'], df['persons_unique'])"
   ]
  },
  {
   "cell_type": "code",
   "execution_count": null,
   "metadata": {},
   "outputs": [],
   "source": [
    "count_person_in_text = sum(map(collections.Counter, df['person_in_text'].values.tolist()), collections.Counter())"
   ]
  },
  {
   "cell_type": "code",
   "execution_count": null,
   "metadata": {},
   "outputs": [],
   "source": [
    "df_text = pd.DataFrame.from_dict(count_person_in_text, orient='index')"
   ]
  },
  {
   "cell_type": "code",
   "execution_count": null,
   "metadata": {},
   "outputs": [],
   "source": [
    "count_person_in_headline = sum(map(collections.Counter, df['person_in_headline'].values.tolist()), collections.Counter())"
   ]
  },
  {
   "cell_type": "code",
   "execution_count": null,
   "metadata": {},
   "outputs": [],
   "source": [
    "df_headline = pd.DataFrame.from_dict(count_person_in_headline, orient='index')"
   ]
  },
  {
   "cell_type": "code",
   "execution_count": null,
   "metadata": {},
   "outputs": [],
   "source": [
    "df_headline.shape"
   ]
  },
  {
   "cell_type": "code",
   "execution_count": null,
   "metadata": {},
   "outputs": [],
   "source": [
    "df_text.shape"
   ]
  },
  {
   "cell_type": "code",
   "execution_count": null,
   "metadata": {},
   "outputs": [],
   "source": [
    "df.shape"
   ]
  },
  {
   "cell_type": "code",
   "execution_count": null,
   "metadata": {},
   "outputs": [],
   "source": [
    "total_persons_unique = set(df['persons_unique'].sum())"
   ]
  },
  {
   "cell_type": "code",
   "execution_count": null,
   "metadata": {},
   "outputs": [],
   "source": [
    "len(total_persons_unique)"
   ]
  },
  {
   "cell_type": "code",
   "execution_count": null,
   "metadata": {},
   "outputs": [],
   "source": [
    "df.shape"
   ]
  },
  {
   "cell_type": "code",
   "execution_count": null,
   "metadata": {},
   "outputs": [],
   "source": [
    "pagerank = pd.DataFrame.from_dict(pr_G, orient='index')\n",
    "pagerank = pagerank.reset_index()\n",
    "pagerank = pagerank.sort_values(by='index')\n",
    "pagerank.columns = ['name', 'pr']"
   ]
  },
  {
   "cell_type": "code",
   "execution_count": null,
   "metadata": {},
   "outputs": [],
   "source": [
    "G.remove_edges_from(G.selfloop_edges())\n",
    "core = nx.core_number(G)"
   ]
  },
  {
   "cell_type": "code",
   "execution_count": null,
   "metadata": {},
   "outputs": [],
   "source": [
    "core_periphery = pd.DataFrame.from_dict(core, orient='index')\n",
    "core_periphery = core_periphery.reset_index()\n",
    "core_periphery = core_periphery.sort_values(by='index')\n",
    "core_periphery.columns = ['name', 'cp']"
   ]
  },
  {
   "cell_type": "code",
   "execution_count": null,
   "metadata": {},
   "outputs": [],
   "source": [
    "count = dict(count)\n",
    "person_count = pd.DataFrame.from_dict(count, orient='index')\n",
    "person_count = person_count.reset_index()\n",
    "person_count = person_count.sort_values(by='index')\n",
    "person_count.columns = ['name', 'count']"
   ]
  },
  {
   "cell_type": "code",
   "execution_count": null,
   "metadata": {},
   "outputs": [],
   "source": [
    "df_headline = df_headline.reset_index()\n",
    "df_headline = df_headline.sort_values(by='index')\n",
    "df_headline.columns = ['name', 'headline_count']"
   ]
  },
  {
   "cell_type": "code",
   "execution_count": null,
   "metadata": {},
   "outputs": [],
   "source": [
    "df_text = df_text.reset_index()\n",
    "df_text = df_text.sort_values(by='index')\n",
    "df_text.columns = ['name', 'text_count']"
   ]
  },
  {
   "cell_type": "code",
   "execution_count": null,
   "metadata": {},
   "outputs": [],
   "source": [
    "ml = pd.DataFrame()"
   ]
  },
  {
   "cell_type": "code",
   "execution_count": null,
   "metadata": {},
   "outputs": [],
   "source": [
    "ml = pd.merge(pagerank, core_periphery, on=\"name\")"
   ]
  },
  {
   "cell_type": "code",
   "execution_count": null,
   "metadata": {},
   "outputs": [],
   "source": [
    "ml = pd.merge(ml, person_count, on=\"name\", how=\"left\")"
   ]
  },
  {
   "cell_type": "code",
   "execution_count": null,
   "metadata": {},
   "outputs": [],
   "source": [
    "ml = pd.merge(ml, df_headline, on=\"name\", how=\"left\")"
   ]
  },
  {
   "cell_type": "code",
   "execution_count": null,
   "metadata": {},
   "outputs": [],
   "source": [
    "ml = pd.merge(ml, df_text, on=\"name\", how=\"left\")"
   ]
  },
  {
   "cell_type": "code",
   "execution_count": null,
   "metadata": {},
   "outputs": [],
   "source": [
    "ml.fillna(0, inplace=True)"
   ]
  },
  {
   "cell_type": "code",
   "execution_count": null,
   "metadata": {},
   "outputs": [],
   "source": [
    "ml.drop(ml.index[0:9], inplace=True)\n",
    "ml.reset_index(drop=True, inplace=True)"
   ]
  },
  {
   "cell_type": "code",
   "execution_count": null,
   "metadata": {},
   "outputs": [],
   "source": [
    "ml.drop(ml.index[-7:], inplace=True)"
   ]
  },
  {
   "cell_type": "markdown",
   "metadata": {},
   "source": [
    "## New Age"
   ]
  },
  {
   "cell_type": "code",
   "execution_count": 194,
   "metadata": {},
   "outputs": [],
   "source": [
    "_df1 = pd.read_pickle('Data/Processed Data/Networks/NewAge-network-1.pkl')\n",
    "_df2 = pd.read_pickle('Data/Processed Data/Networks/NewAge-network-2.pkl')"
   ]
  },
  {
   "cell_type": "code",
   "execution_count": 195,
   "metadata": {},
   "outputs": [],
   "source": [
    "df = pd.concat([_df1, _df2], ignore_index=True)"
   ]
  },
  {
   "cell_type": "code",
   "execution_count": 196,
   "metadata": {},
   "outputs": [
    {
     "data": {
      "text/html": [
       "<div>\n",
       "<style scoped>\n",
       "    .dataframe tbody tr th:only-of-type {\n",
       "        vertical-align: middle;\n",
       "    }\n",
       "\n",
       "    .dataframe tbody tr th {\n",
       "        vertical-align: top;\n",
       "    }\n",
       "\n",
       "    .dataframe thead th {\n",
       "        text-align: right;\n",
       "    }\n",
       "</style>\n",
       "<table border=\"1\" class=\"dataframe\">\n",
       "  <thead>\n",
       "    <tr style=\"text-align: right;\">\n",
       "      <th></th>\n",
       "      <th>_id</th>\n",
       "      <th>timestamp</th>\n",
       "      <th>entity0</th>\n",
       "      <th>type0</th>\n",
       "      <th>entity1</th>\n",
       "      <th>type1</th>\n",
       "      <th>quote</th>\n",
       "      <th>headline</th>\n",
       "      <th>keywords</th>\n",
       "      <th>category</th>\n",
       "    </tr>\n",
       "  </thead>\n",
       "  <tbody>\n",
       "    <tr>\n",
       "      <th>0</th>\n",
       "      <td>118</td>\n",
       "      <td>2016-10-01</td>\n",
       "      <td>Naogaon</td>\n",
       "      <td>location</td>\n",
       "      <td>Sheikh Hasina</td>\n",
       "      <td>person</td>\n",
       "      <td>\"General elections would be held under prime m...</td>\n",
       "      <td>No national polls before 2019: Nasim</td>\n",
       "      <td>[General elections, Mohammad Nasim, national p...</td>\n",
       "      <td>Bangladesh</td>\n",
       "    </tr>\n",
       "    <tr>\n",
       "      <th>1</th>\n",
       "      <td>118</td>\n",
       "      <td>2016-10-01</td>\n",
       "      <td>Naogaon</td>\n",
       "      <td>location</td>\n",
       "      <td>Noujoan</td>\n",
       "      <td>person</td>\n",
       "      <td>\"General elections would be held under prime m...</td>\n",
       "      <td>No national polls before 2019: Nasim</td>\n",
       "      <td>[General elections, Mohammad Nasim, national p...</td>\n",
       "      <td>Bangladesh</td>\n",
       "    </tr>\n",
       "    <tr>\n",
       "      <th>2</th>\n",
       "      <td>118</td>\n",
       "      <td>2016-10-01</td>\n",
       "      <td>Sheikh Hasina</td>\n",
       "      <td>person</td>\n",
       "      <td>Noujoan</td>\n",
       "      <td>person</td>\n",
       "      <td>\"General elections would be held under prime m...</td>\n",
       "      <td>No national polls before 2019: Nasim</td>\n",
       "      <td>[General elections, Mohammad Nasim, national p...</td>\n",
       "      <td>Bangladesh</td>\n",
       "    </tr>\n",
       "    <tr>\n",
       "      <th>3</th>\n",
       "      <td>118</td>\n",
       "      <td>2016-10-01</td>\n",
       "      <td>Workers Party</td>\n",
       "      <td>organization</td>\n",
       "      <td>Advocate Enamul Haque</td>\n",
       "      <td>organization</td>\n",
       "      <td>Workers Party general secretary Fazle Hossain ...</td>\n",
       "      <td>No national polls before 2019: Nasim</td>\n",
       "      <td>[General elections, Mohammad Nasim, national p...</td>\n",
       "      <td>Bangladesh</td>\n",
       "    </tr>\n",
       "    <tr>\n",
       "      <th>4</th>\n",
       "      <td>118</td>\n",
       "      <td>2016-10-01</td>\n",
       "      <td>Workers Party</td>\n",
       "      <td>organization</td>\n",
       "      <td>NAP</td>\n",
       "      <td>organization</td>\n",
       "      <td>Workers Party general secretary Fazle Hossain ...</td>\n",
       "      <td>No national polls before 2019: Nasim</td>\n",
       "      <td>[General elections, Mohammad Nasim, national p...</td>\n",
       "      <td>Bangladesh</td>\n",
       "    </tr>\n",
       "  </tbody>\n",
       "</table>\n",
       "</div>"
      ],
      "text/plain": [
       "   _id   timestamp        entity0         type0                entity1  \\\n",
       "0  118  2016-10-01        Naogaon      location          Sheikh Hasina   \n",
       "1  118  2016-10-01        Naogaon      location                Noujoan   \n",
       "2  118  2016-10-01  Sheikh Hasina        person                Noujoan   \n",
       "3  118  2016-10-01  Workers Party  organization  Advocate Enamul Haque   \n",
       "4  118  2016-10-01  Workers Party  organization                    NAP   \n",
       "\n",
       "          type1                                              quote  \\\n",
       "0        person  \"General elections would be held under prime m...   \n",
       "1        person  \"General elections would be held under prime m...   \n",
       "2        person  \"General elections would be held under prime m...   \n",
       "3  organization  Workers Party general secretary Fazle Hossain ...   \n",
       "4  organization  Workers Party general secretary Fazle Hossain ...   \n",
       "\n",
       "                                 headline  \\\n",
       "0   No national polls before 2019: Nasim    \n",
       "1   No national polls before 2019: Nasim    \n",
       "2   No national polls before 2019: Nasim    \n",
       "3   No national polls before 2019: Nasim    \n",
       "4   No national polls before 2019: Nasim    \n",
       "\n",
       "                                            keywords    category  \n",
       "0  [General elections, Mohammad Nasim, national p...  Bangladesh  \n",
       "1  [General elections, Mohammad Nasim, national p...  Bangladesh  \n",
       "2  [General elections, Mohammad Nasim, national p...  Bangladesh  \n",
       "3  [General elections, Mohammad Nasim, national p...  Bangladesh  \n",
       "4  [General elections, Mohammad Nasim, national p...  Bangladesh  "
      ]
     },
     "execution_count": 196,
     "metadata": {},
     "output_type": "execute_result"
    }
   ],
   "source": [
    "df.head()"
   ]
  },
  {
   "cell_type": "code",
   "execution_count": 197,
   "metadata": {},
   "outputs": [
    {
     "data": {
      "text/plain": [
       "(890480, 10)"
      ]
     },
     "execution_count": 197,
     "metadata": {},
     "output_type": "execute_result"
    }
   ],
   "source": [
    "df.shape"
   ]
  },
  {
   "cell_type": "code",
   "execution_count": 198,
   "metadata": {},
   "outputs": [],
   "source": [
    "df = df.iloc[df.astype(str).drop_duplicates().index]"
   ]
  },
  {
   "cell_type": "code",
   "execution_count": 163,
   "metadata": {},
   "outputs": [],
   "source": [
    "G = nx.Graph()"
   ]
  },
  {
   "cell_type": "code",
   "execution_count": 164,
   "metadata": {},
   "outputs": [
    {
     "name": "stderr",
     "output_type": "stream",
     "text": [
      "100%|██████████| 820506/820506 [00:44<00:00, 18359.40it/s]"
     ]
    },
    {
     "name": "stdout",
     "output_type": "stream",
     "text": [
      "79369\n"
     ]
    },
    {
     "name": "stderr",
     "output_type": "stream",
     "text": [
      "\n"
     ]
    }
   ],
   "source": [
    "network_type = 'person'\n",
    "exclusions = ['Rakhine', 'Test', 'Dhaka', 'Bangla', 'Bangladesh', 'Narayanganj', 'AL', 'Gulshan', 'Dhanmondi', 'Bogra', 'Rongpur', 'Barisal', 'Rangpur', 'Comilla', 'Chelsea', 'Rajshahi', 'Mymensingh', 'Sadar', 'Sylhet', 'Cox', 'Twitter', 'Barca', 'Kolkata', 'Teknaf', 'Ukhiya', 'Bandarban', 'Tripura', 'Abahani']\n",
    "count = 0\n",
    "for _, row in tqdm(df.iterrows(), total=df.shape[0]):\n",
    "    \n",
    "    if row['type0'] in network_type and row['type1'] in network_type:\n",
    "        if row['entity0'] not in exclusions and row['entity1'] not in exclusions:\n",
    "            # print(row['entity0'], row['entity1'])\n",
    "            count += 1\n",
    "            G.add_edge(row['entity0'], row['entity1'])\n",
    "        \n",
    "print(count)"
   ]
  },
  {
   "cell_type": "code",
   "execution_count": 165,
   "metadata": {},
   "outputs": [
    {
     "name": "stdout",
     "output_type": "stream",
     "text": [
      "23874\n",
      "64591\n"
     ]
    }
   ],
   "source": [
    "print(len(G.nodes))\n",
    "print(len(G.edges))"
   ]
  },
  {
   "cell_type": "code",
   "execution_count": 166,
   "metadata": {},
   "outputs": [
    {
     "data": {
      "text/plain": [
       "0.0002266573550150283"
      ]
     },
     "execution_count": 166,
     "metadata": {},
     "output_type": "execute_result"
    }
   ],
   "source": [
    "nx.density(G)"
   ]
  },
  {
   "cell_type": "code",
   "execution_count": 167,
   "metadata": {},
   "outputs": [
    {
     "data": {
      "text/plain": [
       "[('Sheikh Hasina', 0.0037001414913652273),\n",
       " ('Donald Trump', 0.0031548373939520808),\n",
       " ('Clinton', 0.0013093035154407681),\n",
       " ('Putin', 0.0012997899963753145),\n",
       " ('Khaleda Zia', 0.001168090017825038),\n",
       " ('Rahman', 0.001065581201576243),\n",
       " ('Suu Kyi', 0.0010376351665081162),\n",
       " ('Khan', 0.0010131492923911808),\n",
       " ('Ali', 0.000987753025942132),\n",
       " ('Quader', 0.0008565130683169675),\n",
       " ('Barack Obama', 0.0008293584893295223),\n",
       " ('Aung San Suu Kyi', 0.0008197711494204998),\n",
       " ('Tofail Ahmed', 0.0007154948183082828),\n",
       " ('Bush', 0.0007082834379158775),\n",
       " ('Kim', 0.0007014877986340838),\n",
       " ('Abdul Hamid', 0.0006913300533997927),\n",
       " ('Jamaat', 0.0006796141348578667),\n",
       " ('Md', 0.0006772518321823962),\n",
       " ('Vladimir Putin', 0.0006442993711699448),\n",
       " ('Oscar', 0.0006373263175412664)]"
      ]
     },
     "execution_count": 167,
     "metadata": {},
     "output_type": "execute_result"
    }
   ],
   "source": [
    "pr_G = nx.pagerank(G)\n",
    "sorted(pr_G.items(), key = lambda x:x[1], reverse= True)[:20]"
   ]
  },
  {
   "cell_type": "code",
   "execution_count": 168,
   "metadata": {},
   "outputs": [
    {
     "data": {
      "text/plain": [
       "[('Subrata Sengupta', 35),\n",
       " ('Jahirul Haque', 35),\n",
       " ('Chittaranjan Bhuiyan', 35),\n",
       " ('Gitosree Chowdhury', 35),\n",
       " ('Mahjabin Begum', 35),\n",
       " ('Khandker Raju Ahmed', 35),\n",
       " ('Abu Bakar Siddique', 35),\n",
       " ('Sajeda Khatun', 35),\n",
       " ('Niranjan Adhikari', 35),\n",
       " ('Hazrat Ali Bayati', 35),\n",
       " ('Uma Khan', 35),\n",
       " ('Foyez Ahmad', 35),\n",
       " ('Mohiuddin Ahmed', 35),\n",
       " ('Dilip Kumar', 35),\n",
       " ('Firoj Chowdhury', 35),\n",
       " ('Sarwar Jahan', 35),\n",
       " ('Abu Nowsher', 35),\n",
       " ('Shamser Ali Prodhan', 35),\n",
       " ('Sabuj Chakrabarty', 35),\n",
       " ('Abul Kalam Azad', 35)]"
      ]
     },
     "execution_count": 168,
     "metadata": {},
     "output_type": "execute_result"
    }
   ],
   "source": [
    "G.remove_edges_from(G.selfloop_edges())\n",
    "sorted(nx.core_number(G).items(), key= lambda x:x[1], reverse=True)[:20]"
   ]
  },
  {
   "cell_type": "code",
   "execution_count": 169,
   "metadata": {},
   "outputs": [],
   "source": [
    "df = pd.read_pickle('Data/New Age/NewAge_ent.pkl')"
   ]
  },
  {
   "cell_type": "code",
   "execution_count": 170,
   "metadata": {},
   "outputs": [
    {
     "data": {
      "text/html": [
       "<div>\n",
       "<style scoped>\n",
       "    .dataframe tbody tr th:only-of-type {\n",
       "        vertical-align: middle;\n",
       "    }\n",
       "\n",
       "    .dataframe tbody tr th {\n",
       "        vertical-align: top;\n",
       "    }\n",
       "\n",
       "    .dataframe thead th {\n",
       "        text-align: right;\n",
       "    }\n",
       "</style>\n",
       "<table border=\"1\" class=\"dataframe\">\n",
       "  <thead>\n",
       "    <tr style=\"text-align: right;\">\n",
       "      <th></th>\n",
       "      <th>category</th>\n",
       "      <th>date_published</th>\n",
       "      <th>image</th>\n",
       "      <th>news_content</th>\n",
       "      <th>news_id</th>\n",
       "      <th>newspaper</th>\n",
       "      <th>reporter</th>\n",
       "      <th>tags</th>\n",
       "      <th>title</th>\n",
       "      <th>url</th>\n",
       "      <th>location_entities</th>\n",
       "      <th>organization_entities</th>\n",
       "      <th>person_entities</th>\n",
       "    </tr>\n",
       "  </thead>\n",
       "  <tbody>\n",
       "    <tr>\n",
       "      <th>0</th>\n",
       "      <td>Bangladesh</td>\n",
       "      <td>2016-10-01</td>\n",
       "      <td>{'captions': [], 'urls': []}</td>\n",
       "      <td>Coordinator of 14-party alliance and health mi...</td>\n",
       "      <td>118</td>\n",
       "      <td>New Age</td>\n",
       "      <td>Bangladesh Sangbad Sangstha</td>\n",
       "      <td>[General elections, Mohammad Nasim, national p...</td>\n",
       "      <td>No national polls before 2019: Nasim</td>\n",
       "      <td>http://www.newagebd.net/article/118/no-nationa...</td>\n",
       "      <td>[Naogaon]</td>\n",
       "      <td>[BNP, Workers Party, Advocate Enamul Haque, NA...</td>\n",
       "      <td>[Anwar Hossain, Mohammed Nasim, Sheikh Hasina,...</td>\n",
       "    </tr>\n",
       "    <tr>\n",
       "      <th>1</th>\n",
       "      <td>Entertainment</td>\n",
       "      <td>2016-10-01</td>\n",
       "      <td>{'captions': ['In this July 4, 2015 file photo...</td>\n",
       "      <td>\\n\\t\\t\\t\\t\\t\\t\\tIn this July 4, 2015 file phot...</td>\n",
       "      <td>83</td>\n",
       "      <td>New Age</td>\n",
       "      <td>Associated Press</td>\n",
       "      <td>[David Bowie , Rolling Stones]</td>\n",
       "      <td>Concert promoter in $200 million fraud is bip...</td>\n",
       "      <td>http://www.newagebd.net/article/83/concert-pro...</td>\n",
       "      <td>[Indianapolis]</td>\n",
       "      <td>[the Rolling Stones, the Indianapolis Motor Sp...</td>\n",
       "      <td>[Keith Richards, Michael Hughes, Ronnie Wood, ...</td>\n",
       "    </tr>\n",
       "    <tr>\n",
       "      <th>2</th>\n",
       "      <td>Entertainment</td>\n",
       "      <td>2016-10-01</td>\n",
       "      <td>{'captions': ['In this March 7, 2000 photo, Ri...</td>\n",
       "      <td>\\n\\t\\t\\t\\t\\t\\t\\tIn this March 7, 2000 photo, R...</td>\n",
       "      <td>86</td>\n",
       "      <td>New Age</td>\n",
       "      <td>Associated Press</td>\n",
       "      <td>[Oscar Mayer Wiener , Richard Trentlage]</td>\n",
       "      <td>Man who got generations singing Oscar Mayer W...</td>\n",
       "      <td>http://www.newagebd.net/article/86/man-who-got...</td>\n",
       "      <td>[Fox River Grove, Chicago, Illinois, Ill., Lib...</td>\n",
       "      <td>[McDonald, Oscar Mayer Wiener, Fox River Grove...</td>\n",
       "      <td>[Linda Bruun, Buckle, Richard Trentlage]</td>\n",
       "    </tr>\n",
       "    <tr>\n",
       "      <th>3</th>\n",
       "      <td>Entertainment</td>\n",
       "      <td>2016-10-01</td>\n",
       "      <td>{'captions': ['A 2015 file photo shows The Gre...</td>\n",
       "      <td>\\n\\t\\t\\t\\t\\t\\t\\tA 2015 file photo shows The Gr...</td>\n",
       "      <td>89</td>\n",
       "      <td>New Age</td>\n",
       "      <td>Associated Press</td>\n",
       "      <td>[Henri Matisse, National Gallery of Art , Pabl...</td>\n",
       "      <td>National Gallery of Art's East Building set t...</td>\n",
       "      <td>http://www.newagebd.net/article/89/national-ga...</td>\n",
       "      <td>[The Greek Slave, Washington, DC, The East Bui...</td>\n",
       "      <td>[the National Gallery of Art, AP]</td>\n",
       "      <td>[Henri Matisse, Georgia O'Keefe, Barbara Kruge...</td>\n",
       "    </tr>\n",
       "    <tr>\n",
       "      <th>4</th>\n",
       "      <td>Entertainment</td>\n",
       "      <td>2016-10-01</td>\n",
       "      <td>{'captions': ['This file photo taken on April ...</td>\n",
       "      <td>\\n\\t\\t\\t\\t\\t\\t\\tThis file photo taken on April...</td>\n",
       "      <td>90</td>\n",
       "      <td>New Age</td>\n",
       "      <td>Agence France-Presse</td>\n",
       "      <td>[Bob Dylan, European Commission, Michael Jacks...</td>\n",
       "      <td>Sony closes on Michael Jackson's stake in mus...</td>\n",
       "      <td>http://www.newagebd.net/article/90/sony-closes...</td>\n",
       "      <td>[United States, Jackson, Kanye West]</td>\n",
       "      <td>[The European Commission, the Democratic Natio...</td>\n",
       "      <td>[Pharrell Williams, Paul McCartney, Michael Ja...</td>\n",
       "    </tr>\n",
       "  </tbody>\n",
       "</table>\n",
       "</div>"
      ],
      "text/plain": [
       "        category date_published  \\\n",
       "0     Bangladesh     2016-10-01   \n",
       "1  Entertainment     2016-10-01   \n",
       "2  Entertainment     2016-10-01   \n",
       "3  Entertainment     2016-10-01   \n",
       "4  Entertainment     2016-10-01   \n",
       "\n",
       "                                               image  \\\n",
       "0                       {'captions': [], 'urls': []}   \n",
       "1  {'captions': ['In this July 4, 2015 file photo...   \n",
       "2  {'captions': ['In this March 7, 2000 photo, Ri...   \n",
       "3  {'captions': ['A 2015 file photo shows The Gre...   \n",
       "4  {'captions': ['This file photo taken on April ...   \n",
       "\n",
       "                                        news_content  news_id newspaper  \\\n",
       "0  Coordinator of 14-party alliance and health mi...      118   New Age   \n",
       "1  \\n\\t\\t\\t\\t\\t\\t\\tIn this July 4, 2015 file phot...       83   New Age   \n",
       "2  \\n\\t\\t\\t\\t\\t\\t\\tIn this March 7, 2000 photo, R...       86   New Age   \n",
       "3  \\n\\t\\t\\t\\t\\t\\t\\tA 2015 file photo shows The Gr...       89   New Age   \n",
       "4  \\n\\t\\t\\t\\t\\t\\t\\tThis file photo taken on April...       90   New Age   \n",
       "\n",
       "                      reporter  \\\n",
       "0  Bangladesh Sangbad Sangstha   \n",
       "1             Associated Press   \n",
       "2             Associated Press   \n",
       "3             Associated Press   \n",
       "4         Agence France-Presse   \n",
       "\n",
       "                                                tags  \\\n",
       "0  [General elections, Mohammad Nasim, national p...   \n",
       "1                     [David Bowie , Rolling Stones]   \n",
       "2           [Oscar Mayer Wiener , Richard Trentlage]   \n",
       "3  [Henri Matisse, National Gallery of Art , Pabl...   \n",
       "4  [Bob Dylan, European Commission, Michael Jacks...   \n",
       "\n",
       "                                               title  \\\n",
       "0              No national polls before 2019: Nasim    \n",
       "1   Concert promoter in $200 million fraud is bip...   \n",
       "2   Man who got generations singing Oscar Mayer W...   \n",
       "3   National Gallery of Art's East Building set t...   \n",
       "4   Sony closes on Michael Jackson's stake in mus...   \n",
       "\n",
       "                                                 url  \\\n",
       "0  http://www.newagebd.net/article/118/no-nationa...   \n",
       "1  http://www.newagebd.net/article/83/concert-pro...   \n",
       "2  http://www.newagebd.net/article/86/man-who-got...   \n",
       "3  http://www.newagebd.net/article/89/national-ga...   \n",
       "4  http://www.newagebd.net/article/90/sony-closes...   \n",
       "\n",
       "                                   location_entities  \\\n",
       "0                                          [Naogaon]   \n",
       "1                                     [Indianapolis]   \n",
       "2  [Fox River Grove, Chicago, Illinois, Ill., Lib...   \n",
       "3  [The Greek Slave, Washington, DC, The East Bui...   \n",
       "4               [United States, Jackson, Kanye West]   \n",
       "\n",
       "                               organization_entities  \\\n",
       "0  [BNP, Workers Party, Advocate Enamul Haque, NA...   \n",
       "1  [the Rolling Stones, the Indianapolis Motor Sp...   \n",
       "2  [McDonald, Oscar Mayer Wiener, Fox River Grove...   \n",
       "3                  [the National Gallery of Art, AP]   \n",
       "4  [The European Commission, the Democratic Natio...   \n",
       "\n",
       "                                     person_entities  \n",
       "0  [Anwar Hossain, Mohammed Nasim, Sheikh Hasina,...  \n",
       "1  [Keith Richards, Michael Hughes, Ronnie Wood, ...  \n",
       "2           [Linda Bruun, Buckle, Richard Trentlage]  \n",
       "3  [Henri Matisse, Georgia O'Keefe, Barbara Kruge...  \n",
       "4  [Pharrell Williams, Paul McCartney, Michael Ja...  "
      ]
     },
     "execution_count": 170,
     "metadata": {},
     "output_type": "execute_result"
    }
   ],
   "source": [
    "df.head()"
   ]
  },
  {
   "cell_type": "code",
   "execution_count": 171,
   "metadata": {},
   "outputs": [],
   "source": [
    "count = collections.Counter([item for sublist in df['person_entities'] for item in sublist])"
   ]
  },
  {
   "cell_type": "code",
   "execution_count": 172,
   "metadata": {},
   "outputs": [
    {
     "data": {
      "text/plain": [
       "[('Bangladesh', 3010),\n",
       " ('Sheikh Hasina', 2513),\n",
       " ('Donald Trump', 1871),\n",
       " ('Dhaka', 1516),\n",
       " ('Khaleda Zia', 995),\n",
       " ('Test', 982),\n",
       " ('Barack Obama', 668),\n",
       " ('Abul Maal Abdul Muhith', 646),\n",
       " ('Obaidul Quader', 622),\n",
       " ('Rakhine', 611),\n",
       " ('Bangabandhu Sheikh Mujibur Rahman', 570),\n",
       " ('Sylhet', 561),\n",
       " ('Abdul Hamid', 552),\n",
       " ('Mirza Fakhrul Islam Alamgir', 537),\n",
       " ('Narayanganj', 509),\n",
       " ('Narendra Modi', 495),\n",
       " ('AL', 433),\n",
       " ('Gulshan', 421),\n",
       " ('Sakib al Hasan', 413),\n",
       " ('Aung San Suu Kyi', 382)]"
      ]
     },
     "execution_count": 172,
     "metadata": {},
     "output_type": "execute_result"
    }
   ],
   "source": [
    "count.most_common()[:20]"
   ]
  },
  {
   "cell_type": "code",
   "execution_count": 173,
   "metadata": {},
   "outputs": [],
   "source": [
    "df['person_in_headline'] = np.vectorize(person_in_headline)(df['title'], df['person_entities'])"
   ]
  },
  {
   "cell_type": "code",
   "execution_count": 174,
   "metadata": {},
   "outputs": [],
   "source": [
    "df['person_in_text'] = np.vectorize(person_in_text)(df['news_content'], df['person_entities'])"
   ]
  },
  {
   "cell_type": "code",
   "execution_count": 175,
   "metadata": {},
   "outputs": [
    {
     "name": "stderr",
     "output_type": "stream",
     "text": [
      "100%|██████████| 32893/32893 [13:35<00:00, 40.31it/s]\n"
     ]
    }
   ],
   "source": [
    "count_person_in_text = sum(map(collections.Counter, tqdm(df['person_in_text'].values.tolist())), collections.Counter())"
   ]
  },
  {
   "cell_type": "code",
   "execution_count": 176,
   "metadata": {},
   "outputs": [],
   "source": [
    "df_text = pd.DataFrame.from_dict(count_person_in_text, orient='index')"
   ]
  },
  {
   "cell_type": "code",
   "execution_count": 177,
   "metadata": {},
   "outputs": [
    {
     "name": "stderr",
     "output_type": "stream",
     "text": [
      "100%|██████████| 32893/32893 [00:27<00:00, 1204.59it/s]\n"
     ]
    }
   ],
   "source": [
    "count_person_in_headline = sum(map(collections.Counter, tqdm(df['person_in_headline'].values.tolist())), collections.Counter())"
   ]
  },
  {
   "cell_type": "code",
   "execution_count": 178,
   "metadata": {},
   "outputs": [],
   "source": [
    "df_headline = pd.DataFrame.from_dict(count_person_in_headline, orient='index')"
   ]
  },
  {
   "cell_type": "code",
   "execution_count": 179,
   "metadata": {},
   "outputs": [],
   "source": [
    "pagerank = pd.DataFrame.from_dict(pr_G, orient='index')\n",
    "pagerank = pagerank.reset_index()\n",
    "pagerank = pagerank.sort_values(by='index')\n",
    "pagerank.columns = ['name', 'pr']\n",
    "\n",
    "G.remove_edges_from(G.selfloop_edges())\n",
    "core = nx.core_number(G)\n",
    "\n",
    "core_periphery = pd.DataFrame.from_dict(core, orient='index')\n",
    "core_periphery = core_periphery.reset_index()\n",
    "core_periphery = core_periphery.sort_values(by='index')\n",
    "core_periphery.columns = ['name', 'cp']\n",
    "\n",
    "count = dict(count)\n",
    "person_count = pd.DataFrame.from_dict(count, orient='index')\n",
    "person_count = person_count.reset_index()\n",
    "person_count = person_count.sort_values(by='index')\n",
    "person_count.columns = ['name', 'count']\n",
    "\n",
    "df_headline = df_headline.reset_index()\n",
    "df_headline = df_headline.sort_values(by='index')\n",
    "df_headline.columns = ['name', 'headline_count']\n",
    "\n",
    "df_text = df_text.reset_index()\n",
    "df_text = df_text.sort_values(by='index')\n",
    "df_text.columns = ['name', 'text_count']"
   ]
  },
  {
   "cell_type": "code",
   "execution_count": 180,
   "metadata": {},
   "outputs": [],
   "source": [
    "ml = pd.DataFrame()\n",
    "ml = pd.merge(pagerank, core_periphery, on=\"name\")\n",
    "ml = pd.merge(ml, person_count, on=\"name\", how=\"left\")\n",
    "ml = pd.merge(ml, df_headline, on=\"name\", how=\"left\")\n",
    "ml = pd.merge(ml, df_text, on=\"name\", how=\"left\")\n",
    "ml.fillna(0, inplace=True)"
   ]
  },
  {
   "cell_type": "code",
   "execution_count": 183,
   "metadata": {},
   "outputs": [],
   "source": [
    "ml.drop(ml.index[0:59], inplace=True)\n",
    "ml.reset_index(drop=True, inplace=True)"
   ]
  },
  {
   "cell_type": "code",
   "execution_count": 184,
   "metadata": {},
   "outputs": [],
   "source": [
    "ml.drop(ml.index[-151:], inplace=True)"
   ]
  },
  {
   "cell_type": "code",
   "execution_count": 186,
   "metadata": {},
   "outputs": [],
   "source": [
    "ml.to_pickle('Data/Processed Data/ML/NA-ml.pkl')"
   ]
  },
  {
   "cell_type": "code",
   "execution_count": 187,
   "metadata": {},
   "outputs": [],
   "source": [
    "ml.to_csv('Data/Processed Data/ML/NA-ml.csv')"
   ]
  },
  {
   "cell_type": "markdown",
   "metadata": {},
   "source": [
    "## Daily Star"
   ]
  },
  {
   "cell_type": "code",
   "execution_count": 188,
   "metadata": {},
   "outputs": [],
   "source": [
    "df = pd.read_csv('Data/Processed Data/Networks/DS-network.tsv', sep='\\t')"
   ]
  },
  {
   "cell_type": "code",
   "execution_count": 189,
   "metadata": {},
   "outputs": [
    {
     "data": {
      "text/plain": [
       "(936225, 10)"
      ]
     },
     "execution_count": 189,
     "metadata": {},
     "output_type": "execute_result"
    }
   ],
   "source": [
    "df.shape"
   ]
  },
  {
   "cell_type": "code",
   "execution_count": 190,
   "metadata": {},
   "outputs": [
    {
     "data": {
      "text/html": [
       "<div>\n",
       "<style scoped>\n",
       "    .dataframe tbody tr th:only-of-type {\n",
       "        vertical-align: middle;\n",
       "    }\n",
       "\n",
       "    .dataframe tbody tr th {\n",
       "        vertical-align: top;\n",
       "    }\n",
       "\n",
       "    .dataframe thead th {\n",
       "        text-align: right;\n",
       "    }\n",
       "</style>\n",
       "<table border=\"1\" class=\"dataframe\">\n",
       "  <thead>\n",
       "    <tr style=\"text-align: right;\">\n",
       "      <th></th>\n",
       "      <th>_id</th>\n",
       "      <th>timestamp</th>\n",
       "      <th>entity0</th>\n",
       "      <th>type0</th>\n",
       "      <th>entity1</th>\n",
       "      <th>type1</th>\n",
       "      <th>quote</th>\n",
       "      <th>headline</th>\n",
       "      <th>keywords</th>\n",
       "      <th>section</th>\n",
       "    </tr>\n",
       "  </thead>\n",
       "  <tbody>\n",
       "    <tr>\n",
       "      <th>0</th>\n",
       "      <td>{'$oid': '58afca985388c123849ed1bf'}</td>\n",
       "      <td>{'$date': '2008-01-01T00:00:00.000Z'}</td>\n",
       "      <td>ZIA</td>\n",
       "      <td>location</td>\n",
       "      <td>Zia International Airport</td>\n",
       "      <td>location</td>\n",
       "      <td>(L-R) Nasir Uddin, Abbas AliArrested Abbas Ali...</td>\n",
       "      <td>NaN</td>\n",
       "      <td>['stones', 'rab', 'nasir', 'museum', 'took', '...</td>\n",
       "      <td>Front Page</td>\n",
       "    </tr>\n",
       "    <tr>\n",
       "      <th>1</th>\n",
       "      <td>{'$oid': '58afca985388c123849ed1bf'}</td>\n",
       "      <td>{'$date': '2008-01-01T00:00:00.000Z'}</td>\n",
       "      <td>ZIA</td>\n",
       "      <td>location</td>\n",
       "      <td>Nasir Uddin</td>\n",
       "      <td>person</td>\n",
       "      <td>(L-R) Nasir Uddin, Abbas AliArrested Abbas Ali...</td>\n",
       "      <td>NaN</td>\n",
       "      <td>['stones', 'rab', 'nasir', 'museum', 'took', '...</td>\n",
       "      <td>Front Page</td>\n",
       "    </tr>\n",
       "    <tr>\n",
       "      <th>2</th>\n",
       "      <td>{'$oid': '58afca985388c123849ed1bf'}</td>\n",
       "      <td>{'$date': '2008-01-01T00:00:00.000Z'}</td>\n",
       "      <td>ZIA</td>\n",
       "      <td>location</td>\n",
       "      <td>ZIA</td>\n",
       "      <td>location</td>\n",
       "      <td>(L-R) Nasir Uddin, Abbas AliArrested Abbas Ali...</td>\n",
       "      <td>NaN</td>\n",
       "      <td>['stones', 'rab', 'nasir', 'museum', 'took', '...</td>\n",
       "      <td>Front Page</td>\n",
       "    </tr>\n",
       "    <tr>\n",
       "      <th>3</th>\n",
       "      <td>{'$oid': '58afca985388c123849ed1bf'}</td>\n",
       "      <td>{'$date': '2008-01-01T00:00:00.000Z'}</td>\n",
       "      <td>ZIA</td>\n",
       "      <td>location</td>\n",
       "      <td>Abbas</td>\n",
       "      <td>person</td>\n",
       "      <td>(L-R) Nasir Uddin, Abbas AliArrested Abbas Ali...</td>\n",
       "      <td>NaN</td>\n",
       "      <td>['stones', 'rab', 'nasir', 'museum', 'took', '...</td>\n",
       "      <td>Front Page</td>\n",
       "    </tr>\n",
       "    <tr>\n",
       "      <th>4</th>\n",
       "      <td>{'$oid': '58afca985388c123849ed1bf'}</td>\n",
       "      <td>{'$date': '2008-01-01T00:00:00.000Z'}</td>\n",
       "      <td>ZIA</td>\n",
       "      <td>location</td>\n",
       "      <td>Nasir</td>\n",
       "      <td>person</td>\n",
       "      <td>(L-R) Nasir Uddin, Abbas AliArrested Abbas Ali...</td>\n",
       "      <td>NaN</td>\n",
       "      <td>['stones', 'rab', 'nasir', 'museum', 'took', '...</td>\n",
       "      <td>Front Page</td>\n",
       "    </tr>\n",
       "  </tbody>\n",
       "</table>\n",
       "</div>"
      ],
      "text/plain": [
       "                                    _id  \\\n",
       "0  {'$oid': '58afca985388c123849ed1bf'}   \n",
       "1  {'$oid': '58afca985388c123849ed1bf'}   \n",
       "2  {'$oid': '58afca985388c123849ed1bf'}   \n",
       "3  {'$oid': '58afca985388c123849ed1bf'}   \n",
       "4  {'$oid': '58afca985388c123849ed1bf'}   \n",
       "\n",
       "                               timestamp entity0     type0  \\\n",
       "0  {'$date': '2008-01-01T00:00:00.000Z'}     ZIA  location   \n",
       "1  {'$date': '2008-01-01T00:00:00.000Z'}     ZIA  location   \n",
       "2  {'$date': '2008-01-01T00:00:00.000Z'}     ZIA  location   \n",
       "3  {'$date': '2008-01-01T00:00:00.000Z'}     ZIA  location   \n",
       "4  {'$date': '2008-01-01T00:00:00.000Z'}     ZIA  location   \n",
       "\n",
       "                     entity1     type1  \\\n",
       "0  Zia International Airport  location   \n",
       "1                Nasir Uddin    person   \n",
       "2                        ZIA  location   \n",
       "3                      Abbas    person   \n",
       "4                      Nasir    person   \n",
       "\n",
       "                                               quote headline  \\\n",
       "0  (L-R) Nasir Uddin, Abbas AliArrested Abbas Ali...      NaN   \n",
       "1  (L-R) Nasir Uddin, Abbas AliArrested Abbas Ali...      NaN   \n",
       "2  (L-R) Nasir Uddin, Abbas AliArrested Abbas Ali...      NaN   \n",
       "3  (L-R) Nasir Uddin, Abbas AliArrested Abbas Ali...      NaN   \n",
       "4  (L-R) Nasir Uddin, Abbas AliArrested Abbas Ali...      NaN   \n",
       "\n",
       "                                            keywords     section  \n",
       "0  ['stones', 'rab', 'nasir', 'museum', 'took', '...  Front Page  \n",
       "1  ['stones', 'rab', 'nasir', 'museum', 'took', '...  Front Page  \n",
       "2  ['stones', 'rab', 'nasir', 'museum', 'took', '...  Front Page  \n",
       "3  ['stones', 'rab', 'nasir', 'museum', 'took', '...  Front Page  \n",
       "4  ['stones', 'rab', 'nasir', 'museum', 'took', '...  Front Page  "
      ]
     },
     "execution_count": 190,
     "metadata": {},
     "output_type": "execute_result"
    }
   ],
   "source": [
    "df.head()"
   ]
  },
  {
   "cell_type": "code",
   "execution_count": 191,
   "metadata": {},
   "outputs": [],
   "source": [
    "df.drop_duplicates(inplace=True)"
   ]
  },
  {
   "cell_type": "code",
   "execution_count": 81,
   "metadata": {},
   "outputs": [],
   "source": [
    "G = nx.Graph()"
   ]
  },
  {
   "cell_type": "code",
   "execution_count": 82,
   "metadata": {},
   "outputs": [
    {
     "name": "stderr",
     "output_type": "stream",
     "text": [
      "100%|██████████| 914208/914208 [00:53<00:00, 17003.79it/s]"
     ]
    },
    {
     "name": "stdout",
     "output_type": "stream",
     "text": [
      "170661\n"
     ]
    },
    {
     "name": "stderr",
     "output_type": "stream",
     "text": [
      "\n"
     ]
    }
   ],
   "source": [
    "network_type = 'person'\n",
    "count = 0\n",
    "for _, row in tqdm(df.iterrows(), total=df.shape[0]):\n",
    "    \n",
    "    if row['type0'] in network_type and row['type1'] in network_type:\n",
    "        # print(row['entity0'], row['entity1'])\n",
    "        count += 1\n",
    "        G.add_edge(row['entity0'], row['entity1'])\n",
    "        \n",
    "print(count)"
   ]
  },
  {
   "cell_type": "code",
   "execution_count": 83,
   "metadata": {},
   "outputs": [
    {
     "data": {
      "text/plain": [
       "[('Khan', 0.0020221291101969684),\n",
       " ('Barack Obama', 0.001860386376414882),\n",
       " ('Rahman', 0.0016470698180094299),\n",
       " ('Ali', 0.0014392535383854592),\n",
       " ('Ahmed', 0.0013892710589818484),\n",
       " ('Clinton', 0.0013594442199864772),\n",
       " ('Hossain', 0.0011943550496432834),\n",
       " ('Rab', 0.0011939810349725446),\n",
       " ('Gaddafi', 0.0011799060070162553),\n",
       " ('Sheikh Hasina', 0.0011410663011670859),\n",
       " ('Nazrul', 0.001096829397606835),\n",
       " ('Bush', 0.0010825096553345786),\n",
       " ('Singh', 0.0010689226742943228),\n",
       " ('Musharraf', 0.0008674203692742137),\n",
       " ('Assad', 0.0008148937602715176),\n",
       " ('Hillary Clinton', 0.0008097963993054694),\n",
       " ('Khaleda Zia', 0.0007314108114951348),\n",
       " ('Chowdhury', 0.0007280814787891753),\n",
       " ('Abbas', 0.0007247929345799015),\n",
       " ('Kim', 0.0006925116346644015)]"
      ]
     },
     "execution_count": 83,
     "metadata": {},
     "output_type": "execute_result"
    }
   ],
   "source": [
    "pr_G = nx.pagerank(G)\n",
    "sorted(pr_G.items(), key = lambda x:x[1], reverse= True)[:20]"
   ]
  },
  {
   "cell_type": "code",
   "execution_count": 117,
   "metadata": {},
   "outputs": [
    {
     "data": {
      "text/plain": [
       "[('Samar Ranjan Sen', 39),\n",
       " ('Kishore Parekh', 39),\n",
       " ('Gouri Ghosh', 39),\n",
       " ('Waheeda', 39),\n",
       " ('Aniruddha Ray', 39),\n",
       " ('Maulana Syed Asad Madni', 39),\n",
       " ('Pranabranjan Ray', 39),\n",
       " ('Kulwant Singh Pannu', 39),\n",
       " ('Gautam Chattapadhaya', 39),\n",
       " ('Shaheed Subedar Mailkiat Singh', 39),\n",
       " ('VK Krisna Meon', 39),\n",
       " ('Mrinmoyee Bose', 39),\n",
       " ('Somnath Hore', 39),\n",
       " ('Ashok Ray', 39),\n",
       " ('Asghar Ali', 39),\n",
       " ('Shukharanjan Sengupta', 39),\n",
       " ('Subhash Mukhopadhaya', 39),\n",
       " ('Shakti Chattapadhaya', 39),\n",
       " ('Pannalal Dasgupta', 39),\n",
       " ('Sukhdev Singh Sanhu', 39)]"
      ]
     },
     "execution_count": 117,
     "metadata": {},
     "output_type": "execute_result"
    }
   ],
   "source": [
    "G.remove_edges_from(G.selfloop_edges())\n",
    "sorted(nx.core_number(G).items(), key= lambda x:x[1], reverse=True)[:20]"
   ]
  },
  {
   "cell_type": "code",
   "execution_count": 85,
   "metadata": {},
   "outputs": [],
   "source": [
    "df = pd.read_pickle('Data/DS/DS.pkl')"
   ]
  },
  {
   "cell_type": "code",
   "execution_count": 93,
   "metadata": {},
   "outputs": [
    {
     "data": {
      "text/html": [
       "<div>\n",
       "<style scoped>\n",
       "    .dataframe tbody tr th:only-of-type {\n",
       "        vertical-align: middle;\n",
       "    }\n",
       "\n",
       "    .dataframe tbody tr th {\n",
       "        vertical-align: top;\n",
       "    }\n",
       "\n",
       "    .dataframe thead th {\n",
       "        text-align: right;\n",
       "    }\n",
       "</style>\n",
       "<table border=\"1\" class=\"dataframe\">\n",
       "  <thead>\n",
       "    <tr style=\"text-align: right;\">\n",
       "      <th></th>\n",
       "      <th>_id</th>\n",
       "      <th>about_reporter</th>\n",
       "      <th>bottom_tagline</th>\n",
       "      <th>breadcrumb</th>\n",
       "      <th>category</th>\n",
       "      <th>content</th>\n",
       "      <th>date_crawled</th>\n",
       "      <th>date_published</th>\n",
       "      <th>generated_keywords</th>\n",
       "      <th>generated_summary</th>\n",
       "      <th>...</th>\n",
       "      <th>ner_unique_person</th>\n",
       "      <th>ner_unique_time</th>\n",
       "      <th>news_url</th>\n",
       "      <th>newspaper</th>\n",
       "      <th>reporter</th>\n",
       "      <th>section</th>\n",
       "      <th>sentiment</th>\n",
       "      <th>shoulder</th>\n",
       "      <th>title</th>\n",
       "      <th>top_tagline</th>\n",
       "    </tr>\n",
       "  </thead>\n",
       "  <tbody>\n",
       "    <tr>\n",
       "      <th>0</th>\n",
       "      <td>{'$oid': '58afca955388c123849ed1be'}</td>\n",
       "      <td>NaN</td>\n",
       "      <td>None</td>\n",
       "      <td>[]</td>\n",
       "      <td>NaN</td>\n",
       "      <td>People's hopes for the best and confidence in ...</td>\n",
       "      <td>{'$date': '2017-02-24T00:54:28.809Z'}</td>\n",
       "      <td>{'$date': '2008-01-01T00:00:00.000Z'}</td>\n",
       "      <td>[parliamentary, fiscal, great, unfulfilled, ca...</td>\n",
       "      <td>This reminded the people of past military regi...</td>\n",
       "      <td>...</td>\n",
       "      <td>[Muhammad Yunus, Shaikh Abdur Rahman, Khaleda ...</td>\n",
       "      <td>[]</td>\n",
       "      <td>http://www.thedailystar.net/news-detail-17307</td>\n",
       "      <td>The Daily Star</td>\n",
       "      <td>None</td>\n",
       "      <td>Front Page</td>\n",
       "      <td>NaN</td>\n",
       "      <td>NaN</td>\n",
       "      <td>Great expectations unfulfilled</td>\n",
       "      <td>None</td>\n",
       "    </tr>\n",
       "    <tr>\n",
       "      <th>1</th>\n",
       "      <td>{'$oid': '58afca985388c123849ed1bf'}</td>\n",
       "      <td>NaN</td>\n",
       "      <td>None</td>\n",
       "      <td>[]</td>\n",
       "      <td>NaN</td>\n",
       "      <td>(L-R) Nasir Uddin, Abbas AliArrested Abbas Ali...</td>\n",
       "      <td>{'$date': '2017-02-24T00:54:31.997Z'}</td>\n",
       "      <td>{'$date': '2008-01-01T00:00:00.000Z'}</td>\n",
       "      <td>[stones, rab, nasir, museum, took, abbas, offi...</td>\n",
       "      <td>Abbas and Nasir said they stole the statuettes...</td>\n",
       "      <td>...</td>\n",
       "      <td>[Nasir Uddin, SMAK Azad, Atiqur Rahman, ZIA, A...</td>\n",
       "      <td>[]</td>\n",
       "      <td>http://www.thedailystar.net/news-detail-17312</td>\n",
       "      <td>The Daily Star</td>\n",
       "      <td>None</td>\n",
       "      <td>Front Page</td>\n",
       "      <td>NaN</td>\n",
       "      <td>NaN</td>\n",
       "      <td>None</td>\n",
       "      <td>None</td>\n",
       "    </tr>\n",
       "    <tr>\n",
       "      <th>2</th>\n",
       "      <td>{'$oid': '58afca9a5388c123849ed1c0'}</td>\n",
       "      <td>NaN</td>\n",
       "      <td>None</td>\n",
       "      <td>[]</td>\n",
       "      <td>NaN</td>\n",
       "      <td>Daniel Vettori and Brendon McCullum put on rec...</td>\n",
       "      <td>{'$date': '2017-02-24T00:54:34.466Z'}</td>\n",
       "      <td>{'$date': '2008-01-01T00:00:00.000Z'}</td>\n",
       "      <td>[zealand, seven, balls, bangladesh, odi, vetto...</td>\n",
       "      <td>The match was over before the scheduled first ...</td>\n",
       "      <td>...</td>\n",
       "      <td>[Jacob Oram, Farhad Reza, Sanath Jayasuriya, B...</td>\n",
       "      <td>[]</td>\n",
       "      <td>http://www.thedailystar.net/news-detail-17353</td>\n",
       "      <td>The Daily Star</td>\n",
       "      <td>None</td>\n",
       "      <td>Front Page</td>\n",
       "      <td>NaN</td>\n",
       "      <td>NaN</td>\n",
       "      <td>Kiwis maul Tigers</td>\n",
       "      <td>None</td>\n",
       "    </tr>\n",
       "    <tr>\n",
       "      <th>3</th>\n",
       "      <td>{'$oid': '58afca9c5388c123849ed1c1'}</td>\n",
       "      <td>NaN</td>\n",
       "      <td>Says BB governor</td>\n",
       "      <td>[]</td>\n",
       "      <td>NaN</td>\n",
       "      <td>Bangladesh Bank (BB) Governor Salehuddin Ahmed...</td>\n",
       "      <td>{'$date': '2017-02-24T00:54:36.829Z'}</td>\n",
       "      <td>{'$date': '2008-01-01T00:00:00.000Z'}</td>\n",
       "      <td>[wont, outgoing, essentials, soon, governor, i...</td>\n",
       "      <td>Bangladesh Bank in the new year will focus on ...</td>\n",
       "      <td>...</td>\n",
       "      <td>[Cyclone Sidr, Salehuddin Ahmed]</td>\n",
       "      <td>[]</td>\n",
       "      <td>http://www.thedailystar.net/news-detail-17325</td>\n",
       "      <td>The Daily Star</td>\n",
       "      <td>None</td>\n",
       "      <td>Front Page</td>\n",
       "      <td>NaN</td>\n",
       "      <td>NaN</td>\n",
       "      <td>Essentials prices won't go down soon</td>\n",
       "      <td>None</td>\n",
       "    </tr>\n",
       "    <tr>\n",
       "      <th>4</th>\n",
       "      <td>{'$oid': '58afca9f5388c123849ed1c2'}</td>\n",
       "      <td>NaN</td>\n",
       "      <td>None</td>\n",
       "      <td>[]</td>\n",
       "      <td>NaN</td>\n",
       "      <td>Justice KM Sobhan died of cardiac arrest at Bi...</td>\n",
       "      <td>{'$date': '2017-02-24T00:54:39.231Z'}</td>\n",
       "      <td>{'$date': '2008-01-01T00:00:00.000Z'}</td>\n",
       "      <td>[passes, sons, sobhan, justice, away, shock, k...</td>\n",
       "      <td>Family sources said Justice Sobhan, also the p...</td>\n",
       "      <td>...</td>\n",
       "      <td>[Ashraful Islam, Sobhan, Zillur, Zillur Rahman...</td>\n",
       "      <td>[]</td>\n",
       "      <td>http://www.thedailystar.net/news-detail-17340</td>\n",
       "      <td>The Daily Star</td>\n",
       "      <td>None</td>\n",
       "      <td>Front Page</td>\n",
       "      <td>NaN</td>\n",
       "      <td>NaN</td>\n",
       "      <td>KM Sobhan passes away</td>\n",
       "      <td>None</td>\n",
       "    </tr>\n",
       "  </tbody>\n",
       "</table>\n",
       "<p>5 rows × 34 columns</p>\n",
       "</div>"
      ],
      "text/plain": [
       "                                    _id  about_reporter    bottom_tagline  \\\n",
       "0  {'$oid': '58afca955388c123849ed1be'}             NaN              None   \n",
       "1  {'$oid': '58afca985388c123849ed1bf'}             NaN              None   \n",
       "2  {'$oid': '58afca9a5388c123849ed1c0'}             NaN              None   \n",
       "3  {'$oid': '58afca9c5388c123849ed1c1'}             NaN  Says BB governor   \n",
       "4  {'$oid': '58afca9f5388c123849ed1c2'}             NaN              None   \n",
       "\n",
       "  breadcrumb  category                                            content  \\\n",
       "0         []       NaN  People's hopes for the best and confidence in ...   \n",
       "1         []       NaN  (L-R) Nasir Uddin, Abbas AliArrested Abbas Ali...   \n",
       "2         []       NaN  Daniel Vettori and Brendon McCullum put on rec...   \n",
       "3         []       NaN  Bangladesh Bank (BB) Governor Salehuddin Ahmed...   \n",
       "4         []       NaN  Justice KM Sobhan died of cardiac arrest at Bi...   \n",
       "\n",
       "                            date_crawled  \\\n",
       "0  {'$date': '2017-02-24T00:54:28.809Z'}   \n",
       "1  {'$date': '2017-02-24T00:54:31.997Z'}   \n",
       "2  {'$date': '2017-02-24T00:54:34.466Z'}   \n",
       "3  {'$date': '2017-02-24T00:54:36.829Z'}   \n",
       "4  {'$date': '2017-02-24T00:54:39.231Z'}   \n",
       "\n",
       "                          date_published  \\\n",
       "0  {'$date': '2008-01-01T00:00:00.000Z'}   \n",
       "1  {'$date': '2008-01-01T00:00:00.000Z'}   \n",
       "2  {'$date': '2008-01-01T00:00:00.000Z'}   \n",
       "3  {'$date': '2008-01-01T00:00:00.000Z'}   \n",
       "4  {'$date': '2008-01-01T00:00:00.000Z'}   \n",
       "\n",
       "                                  generated_keywords  \\\n",
       "0  [parliamentary, fiscal, great, unfulfilled, ca...   \n",
       "1  [stones, rab, nasir, museum, took, abbas, offi...   \n",
       "2  [zealand, seven, balls, bangladesh, odi, vetto...   \n",
       "3  [wont, outgoing, essentials, soon, governor, i...   \n",
       "4  [passes, sons, sobhan, justice, away, shock, k...   \n",
       "\n",
       "                                   generated_summary     ...      \\\n",
       "0  This reminded the people of past military regi...     ...       \n",
       "1  Abbas and Nasir said they stole the statuettes...     ...       \n",
       "2  The match was over before the scheduled first ...     ...       \n",
       "3  Bangladesh Bank in the new year will focus on ...     ...       \n",
       "4  Family sources said Justice Sobhan, also the p...     ...       \n",
       "\n",
       "                                   ner_unique_person ner_unique_time  \\\n",
       "0  [Muhammad Yunus, Shaikh Abdur Rahman, Khaleda ...              []   \n",
       "1  [Nasir Uddin, SMAK Azad, Atiqur Rahman, ZIA, A...              []   \n",
       "2  [Jacob Oram, Farhad Reza, Sanath Jayasuriya, B...              []   \n",
       "3                   [Cyclone Sidr, Salehuddin Ahmed]              []   \n",
       "4  [Ashraful Islam, Sobhan, Zillur, Zillur Rahman...              []   \n",
       "\n",
       "                                        news_url       newspaper reporter  \\\n",
       "0  http://www.thedailystar.net/news-detail-17307  The Daily Star     None   \n",
       "1  http://www.thedailystar.net/news-detail-17312  The Daily Star     None   \n",
       "2  http://www.thedailystar.net/news-detail-17353  The Daily Star     None   \n",
       "3  http://www.thedailystar.net/news-detail-17325  The Daily Star     None   \n",
       "4  http://www.thedailystar.net/news-detail-17340  The Daily Star     None   \n",
       "\n",
       "      section sentiment shoulder                                 title  \\\n",
       "0  Front Page       NaN      NaN        Great expectations unfulfilled   \n",
       "1  Front Page       NaN      NaN                                  None   \n",
       "2  Front Page       NaN      NaN                     Kiwis maul Tigers   \n",
       "3  Front Page       NaN      NaN  Essentials prices won't go down soon   \n",
       "4  Front Page       NaN      NaN                 KM Sobhan passes away   \n",
       "\n",
       "  top_tagline  \n",
       "0        None  \n",
       "1        None  \n",
       "2        None  \n",
       "3        None  \n",
       "4        None  \n",
       "\n",
       "[5 rows x 34 columns]"
      ]
     },
     "execution_count": 93,
     "metadata": {},
     "output_type": "execute_result"
    }
   ],
   "source": [
    "df.head()"
   ]
  },
  {
   "cell_type": "code",
   "execution_count": 87,
   "metadata": {},
   "outputs": [
    {
     "data": {
      "text/plain": [
       "Index(['_id', 'about_reporter', 'bottom_tagline', 'breadcrumb', 'category',\n",
       "       'content', 'date_crawled', 'date_published', 'generated_keywords',\n",
       "       'generated_summary', 'id', 'image_captions', 'images', 'ml_tags',\n",
       "       'ner_location', 'ner_money', 'ner_organization', 'ner_percent',\n",
       "       'ner_person', 'ner_time', 'ner_unique_location', 'ner_unique_money',\n",
       "       'ner_unique_organization', 'ner_unique_percent', 'ner_unique_person',\n",
       "       'ner_unique_time', 'news_url', 'newspaper', 'reporter', 'section',\n",
       "       'sentiment', 'shoulder', 'title', 'top_tagline'],\n",
       "      dtype='object')"
      ]
     },
     "execution_count": 87,
     "metadata": {},
     "output_type": "execute_result"
    }
   ],
   "source": [
    "df.columns"
   ]
  },
  {
   "cell_type": "code",
   "execution_count": 89,
   "metadata": {},
   "outputs": [],
   "source": [
    "count = collections.Counter([item for sublist in df['ner_unique_person'] for item in sublist])"
   ]
  },
  {
   "cell_type": "code",
   "execution_count": 90,
   "metadata": {},
   "outputs": [
    {
     "data": {
      "text/plain": [
       "[('Barack Obama', 4951),\n",
       " ('Sheikh Hasina', 3881),\n",
       " ('Rabindranath Tagore', 2764),\n",
       " ('Khaleda Zia', 2283),\n",
       " ('Rahman', 1949),\n",
       " ('Bangabandhu Sheikh Mujibur Rahman', 1933),\n",
       " ('Rab', 1456),\n",
       " ('Manmohan Singh', 1375),\n",
       " ('Hossain', 1316),\n",
       " ('Nazrul', 1310),\n",
       " ('Hillary Clinton', 1257),\n",
       " ('Ahmed', 1179),\n",
       " ('Ali', 1110),\n",
       " ('Mizanur Rahman', 979),\n",
       " ('Bashar al-Assad', 943),\n",
       " ('Narendra Modi', 942),\n",
       " ('Abul Kalam Azad', 909),\n",
       " ('Rafiqul Islam', 899),\n",
       " ('Khan', 885),\n",
       " ('Hamid Karzai', 858)]"
      ]
     },
     "execution_count": 90,
     "metadata": {},
     "output_type": "execute_result"
    }
   ],
   "source": [
    "count.most_common()[:20]"
   ]
  },
  {
   "cell_type": "code",
   "execution_count": 104,
   "metadata": {},
   "outputs": [],
   "source": [
    "df['person_in_headline'] = np.vectorize(person_in_headline)(df['title'], df['ner_unique_person'])"
   ]
  },
  {
   "cell_type": "code",
   "execution_count": 105,
   "metadata": {},
   "outputs": [],
   "source": [
    "df['person_in_text'] = np.vectorize(person_in_text)(df['content'], df['ner_unique_person'])"
   ]
  },
  {
   "cell_type": "code",
   "execution_count": 108,
   "metadata": {},
   "outputs": [],
   "source": [
    "# df_text = pd.DataFrame.from_dict(count_person_in_text, orient='index')"
   ]
  },
  {
   "cell_type": "code",
   "execution_count": 111,
   "metadata": {},
   "outputs": [
    {
     "name": "stderr",
     "output_type": "stream",
     "text": [
      "100%|██████████| 165236/165236 [07:59<00:00, 344.56it/s]\n"
     ]
    }
   ],
   "source": [
    "count_person_in_headline = sum(map(collections.Counter, tqdm(df['person_in_headline'].values.tolist())), collections.Counter())"
   ]
  },
  {
   "cell_type": "code",
   "execution_count": 112,
   "metadata": {},
   "outputs": [],
   "source": [
    "df_headline = pd.DataFrame.from_dict(count_person_in_headline, orient='index')"
   ]
  },
  {
   "cell_type": "code",
   "execution_count": 113,
   "metadata": {},
   "outputs": [
    {
     "name": "stderr",
     "output_type": "stream",
     "text": [
      "100%|██████████| 165236/165236 [4:35:14<00:00, 10.01it/s]\n"
     ]
    }
   ],
   "source": [
    "count_person_in_text = sum(map(collections.Counter, tqdm(df['person_in_text'].values.tolist())), collections.Counter())"
   ]
  },
  {
   "cell_type": "code",
   "execution_count": 114,
   "metadata": {},
   "outputs": [],
   "source": [
    "df_text = pd.DataFrame.from_dict(count_person_in_text, orient='index')"
   ]
  },
  {
   "cell_type": "code",
   "execution_count": 116,
   "metadata": {},
   "outputs": [],
   "source": [
    "pagerank = pd.DataFrame.from_dict(pr_G, orient='index')\n",
    "pagerank = pagerank.reset_index()\n",
    "pagerank = pagerank.sort_values(by='index')\n",
    "pagerank.columns = ['name', 'pr']\n",
    "\n",
    "G.remove_edges_from(G.selfloop_edges())\n",
    "core = nx.core_number(G)\n",
    "\n",
    "core_periphery = pd.DataFrame.from_dict(core, orient='index')\n",
    "core_periphery = core_periphery.reset_index()\n",
    "core_periphery = core_periphery.sort_values(by='index')\n",
    "core_periphery.columns = ['name', 'cp']\n",
    "\n",
    "count = dict(count)\n",
    "person_count = pd.DataFrame.from_dict(count, orient='index')\n",
    "person_count = person_count.reset_index()\n",
    "person_count = person_count.sort_values(by='index')\n",
    "person_count.columns = ['name', 'count']\n",
    "\n",
    "df_headline = df_headline.reset_index()\n",
    "df_headline = df_headline.sort_values(by='index')\n",
    "df_headline.columns = ['name', 'headline_count']\n",
    "\n",
    "df_text = df_text.reset_index()\n",
    "df_text = df_text.sort_values(by='index')\n",
    "df_text.columns = ['name', 'text_count']"
   ]
  },
  {
   "cell_type": "code",
   "execution_count": 127,
   "metadata": {},
   "outputs": [],
   "source": [
    "ml = pd.DataFrame()\n",
    "ml = pd.merge(pagerank, core_periphery, on=\"name\")\n",
    "ml = pd.merge(ml, person_count, on=\"name\", how=\"left\")\n",
    "ml = pd.merge(ml, df_headline, on=\"name\", how=\"left\")\n",
    "ml = pd.merge(ml, df_text, on=\"name\", how=\"left\")\n",
    "ml.fillna(0, inplace=True)"
   ]
  },
  {
   "cell_type": "code",
   "execution_count": 128,
   "metadata": {},
   "outputs": [],
   "source": [
    "ml.drop(ml.index[0:86], inplace=True)\n",
    "ml.reset_index(drop=True, inplace=True)"
   ]
  },
  {
   "cell_type": "code",
   "execution_count": 139,
   "metadata": {},
   "outputs": [],
   "source": [
    "ml.drop(ml.index[-153:], inplace=True)"
   ]
  },
  {
   "cell_type": "code",
   "execution_count": 141,
   "metadata": {},
   "outputs": [],
   "source": [
    "# ml.to_pickle('Data/Processed Data/ML/DS-ml.pkl')"
   ]
  },
  {
   "cell_type": "code",
   "execution_count": 142,
   "metadata": {},
   "outputs": [],
   "source": [
    "# ml.to_csv('Data/Processed Data/ML/DS-ml.csv')"
   ]
  }
 ],
 "metadata": {
  "kernelspec": {
   "display_name": "Python 3",
   "language": "python",
   "name": "python3"
  },
  "language_info": {
   "codemirror_mode": {
    "name": "ipython",
    "version": 3
   },
   "file_extension": ".py",
   "mimetype": "text/x-python",
   "name": "python",
   "nbconvert_exporter": "python",
   "pygments_lexer": "ipython3",
   "version": "3.5.2"
  }
 },
 "nbformat": 4,
 "nbformat_minor": 2
}
