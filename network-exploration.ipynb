{
 "cells": [
  {
   "cell_type": "code",
   "execution_count": 1,
   "metadata": {},
   "outputs": [],
   "source": [
    "import networkx as nx\n",
    "import numpy as np\n",
    "import matplotlib.pyplot as plt\n",
    "import pandas as pd\n",
    "from tqdm import tqdm\n",
    "import collections\n",
    "import itertools\n",
    "import numpy as np\n",
    "\n",
    "tqdm.pandas()"
   ]
  },
  {
   "cell_type": "code",
   "execution_count": 70,
   "metadata": {},
   "outputs": [],
   "source": [
    "df = pd.read_pickle('Data/Processed Data/Networks/DT-network.pkl')"
   ]
  },
  {
   "cell_type": "code",
   "execution_count": 71,
   "metadata": {},
   "outputs": [],
   "source": [
    "df['entity0'] = df['entity0'].apply(lambda x: \"Sheikh Hasina\" if x == \"Sheikh Hasina,\" else x)\n",
    "df['entity1'] = df['entity1'].apply(lambda x: \"Sheikh Hasina\" if x == \"Sheikh Hasina,\" else x)"
   ]
  },
  {
   "cell_type": "code",
   "execution_count": 72,
   "metadata": {},
   "outputs": [
    {
     "data": {
      "text/html": [
       "<div>\n",
       "<style scoped>\n",
       "    .dataframe tbody tr th:only-of-type {\n",
       "        vertical-align: middle;\n",
       "    }\n",
       "\n",
       "    .dataframe tbody tr th {\n",
       "        vertical-align: top;\n",
       "    }\n",
       "\n",
       "    .dataframe thead th {\n",
       "        text-align: right;\n",
       "    }\n",
       "</style>\n",
       "<table border=\"1\" class=\"dataframe\">\n",
       "  <thead>\n",
       "    <tr style=\"text-align: right;\">\n",
       "      <th></th>\n",
       "      <th>_id</th>\n",
       "      <th>timestamp</th>\n",
       "      <th>entity0</th>\n",
       "      <th>type0</th>\n",
       "      <th>entity1</th>\n",
       "      <th>type1</th>\n",
       "      <th>quote</th>\n",
       "      <th>headline</th>\n",
       "      <th>keywords</th>\n",
       "      <th>original_tags</th>\n",
       "    </tr>\n",
       "  </thead>\n",
       "  <tbody>\n",
       "    <tr>\n",
       "      <th>0</th>\n",
       "      <td>{'$oid': '575f79f55388c1567baebb2a'}</td>\n",
       "      <td>{'$date': '2016-06-14T01:28:00.000Z'}</td>\n",
       "      <td>Bangladesh</td>\n",
       "      <td>location</td>\n",
       "      <td>Amaq News Agency</td>\n",
       "      <td>organization</td>\n",
       "      <td>Several hours after the killing, SITE ran a re...</td>\n",
       "      <td>Ashram residents remain in panic</td>\n",
       "      <td>[bangladesh, ashram, monastery, nityanando, mo...</td>\n",
       "      <td>[crime]</td>\n",
       "    </tr>\n",
       "    <tr>\n",
       "      <th>1</th>\n",
       "      <td>{'$oid': '575f79f55388c1567baebb2a'}</td>\n",
       "      <td>{'$date': '2016-06-14T01:28:00.000Z'}</td>\n",
       "      <td>Noni Gopal</td>\n",
       "      <td>person</td>\n",
       "      <td>Nityanando</td>\n",
       "      <td>person</td>\n",
       "      <td>Noni Gopal Debnath, another resident of the As...</td>\n",
       "      <td>Ashram residents remain in panic</td>\n",
       "      <td>[bangladesh, ashram, monastery, nityanando, mo...</td>\n",
       "      <td>[crime]</td>\n",
       "    </tr>\n",
       "    <tr>\n",
       "      <th>2</th>\n",
       "      <td>{'$oid': '575f79f55388c1567baebb2a'}</td>\n",
       "      <td>{'$date': '2016-06-14T01:28:00.000Z'}</td>\n",
       "      <td>Dhaka Tribune</td>\n",
       "      <td>organization</td>\n",
       "      <td>Pabna Alamgir Kabir</td>\n",
       "      <td>person</td>\n",
       "      <td>Superintendent of Police, Pabna Alamgir Kabir ...</td>\n",
       "      <td>Ashram residents remain in panic</td>\n",
       "      <td>[bangladesh, ashram, monastery, nityanando, mo...</td>\n",
       "      <td>[crime]</td>\n",
       "    </tr>\n",
       "    <tr>\n",
       "      <th>3</th>\n",
       "      <td>{'$oid': '575f79f55388c1567baebb2a'}</td>\n",
       "      <td>{'$date': '2016-06-14T01:28:00.000Z'}</td>\n",
       "      <td>Islami Chhatra Shibir</td>\n",
       "      <td>organization</td>\n",
       "      <td>Munshi Abu</td>\n",
       "      <td>organization</td>\n",
       "      <td>Acting on tip-off, a team of police arrested A...</td>\n",
       "      <td>Ashram residents remain in panic</td>\n",
       "      <td>[bangladesh, ashram, monastery, nityanando, mo...</td>\n",
       "      <td>[crime]</td>\n",
       "    </tr>\n",
       "    <tr>\n",
       "      <th>4</th>\n",
       "      <td>{'$oid': '575f79f55388c1567baebb2a'}</td>\n",
       "      <td>{'$date': '2016-06-14T01:28:00.000Z'}</td>\n",
       "      <td>Islami Chhatra Shibir</td>\n",
       "      <td>organization</td>\n",
       "      <td>Abdus Sattar</td>\n",
       "      <td>person</td>\n",
       "      <td>Acting on tip-off, a team of police arrested A...</td>\n",
       "      <td>Ashram residents remain in panic</td>\n",
       "      <td>[bangladesh, ashram, monastery, nityanando, mo...</td>\n",
       "      <td>[crime]</td>\n",
       "    </tr>\n",
       "  </tbody>\n",
       "</table>\n",
       "</div>"
      ],
      "text/plain": [
       "                                    _id  \\\n",
       "0  {'$oid': '575f79f55388c1567baebb2a'}   \n",
       "1  {'$oid': '575f79f55388c1567baebb2a'}   \n",
       "2  {'$oid': '575f79f55388c1567baebb2a'}   \n",
       "3  {'$oid': '575f79f55388c1567baebb2a'}   \n",
       "4  {'$oid': '575f79f55388c1567baebb2a'}   \n",
       "\n",
       "                               timestamp                entity0         type0  \\\n",
       "0  {'$date': '2016-06-14T01:28:00.000Z'}             Bangladesh      location   \n",
       "1  {'$date': '2016-06-14T01:28:00.000Z'}             Noni Gopal        person   \n",
       "2  {'$date': '2016-06-14T01:28:00.000Z'}          Dhaka Tribune  organization   \n",
       "3  {'$date': '2016-06-14T01:28:00.000Z'}  Islami Chhatra Shibir  organization   \n",
       "4  {'$date': '2016-06-14T01:28:00.000Z'}  Islami Chhatra Shibir  organization   \n",
       "\n",
       "               entity1         type1  \\\n",
       "0     Amaq News Agency  organization   \n",
       "1           Nityanando        person   \n",
       "2  Pabna Alamgir Kabir        person   \n",
       "3           Munshi Abu  organization   \n",
       "4         Abdus Sattar        person   \n",
       "\n",
       "                                               quote  \\\n",
       "0  Several hours after the killing, SITE ran a re...   \n",
       "1  Noni Gopal Debnath, another resident of the As...   \n",
       "2  Superintendent of Police, Pabna Alamgir Kabir ...   \n",
       "3  Acting on tip-off, a team of police arrested A...   \n",
       "4  Acting on tip-off, a team of police arrested A...   \n",
       "\n",
       "                           headline  \\\n",
       "0  Ashram residents remain in panic   \n",
       "1  Ashram residents remain in panic   \n",
       "2  Ashram residents remain in panic   \n",
       "3  Ashram residents remain in panic   \n",
       "4  Ashram residents remain in panic   \n",
       "\n",
       "                                            keywords original_tags  \n",
       "0  [bangladesh, ashram, monastery, nityanando, mo...       [crime]  \n",
       "1  [bangladesh, ashram, monastery, nityanando, mo...       [crime]  \n",
       "2  [bangladesh, ashram, monastery, nityanando, mo...       [crime]  \n",
       "3  [bangladesh, ashram, monastery, nityanando, mo...       [crime]  \n",
       "4  [bangladesh, ashram, monastery, nityanando, mo...       [crime]  "
      ]
     },
     "execution_count": 72,
     "metadata": {},
     "output_type": "execute_result"
    }
   ],
   "source": [
    "df.head()"
   ]
  },
  {
   "cell_type": "code",
   "execution_count": 5,
   "metadata": {},
   "outputs": [],
   "source": [
    "# G = nx.from_pandas_edgelist(df, 'entity0', 'entity1', create_using=nx.Graph())"
   ]
  },
  {
   "cell_type": "code",
   "execution_count": 73,
   "metadata": {},
   "outputs": [],
   "source": [
    "G = nx.Graph()"
   ]
  },
  {
   "cell_type": "code",
   "execution_count": 75,
   "metadata": {},
   "outputs": [
    {
     "name": "stderr",
     "output_type": "stream",
     "text": [
      "100%|██████████| 247369/247369 [00:12<00:00, 19078.27it/s]"
     ]
    },
    {
     "name": "stdout",
     "output_type": "stream",
     "text": [
      "24925\n"
     ]
    },
    {
     "name": "stderr",
     "output_type": "stream",
     "text": [
      "\n"
     ]
    }
   ],
   "source": [
    "network_type = 'person'\n",
    "count = 0\n",
    "for _, row in tqdm(df.iterrows(), total=df.shape[0]):\n",
    "    \n",
    "    if row['type0'] in network_type and row['type1'] in network_type:\n",
    "        # print(row['entity0'], row['entity1'])\n",
    "        count += 1\n",
    "        G.add_edge(row['entity0'], row['entity1'])\n",
    "        \n",
    "print(count)"
   ]
  },
  {
   "cell_type": "code",
   "execution_count": 77,
   "metadata": {},
   "outputs": [
    {
     "data": {
      "text/plain": [
       "10132"
      ]
     },
     "execution_count": 77,
     "metadata": {},
     "output_type": "execute_result"
    }
   ],
   "source": [
    "len(G.nodes)"
   ]
  },
  {
   "cell_type": "code",
   "execution_count": 8,
   "metadata": {},
   "outputs": [
    {
     "data": {
      "text/plain": [
       "0.00032863994112966957"
      ]
     },
     "execution_count": 8,
     "metadata": {},
     "output_type": "execute_result"
    }
   ],
   "source": [
    "nx.density(G)"
   ]
  },
  {
   "cell_type": "code",
   "execution_count": 9,
   "metadata": {},
   "outputs": [
    {
     "data": {
      "text/plain": [
       "False"
      ]
     },
     "execution_count": 9,
     "metadata": {},
     "output_type": "execute_result"
    }
   ],
   "source": [
    "nx.is_connected(G)"
   ]
  },
  {
   "cell_type": "code",
   "execution_count": 62,
   "metadata": {},
   "outputs": [
    {
     "data": {
      "text/plain": [
       "[('Sheikh Hasina', 0.008699053666061536),\n",
       " ('Khaleda Zia', 0.006527888517198592),\n",
       " ('Ershad', 0.00336303884670753),\n",
       " ('Hossain', 0.002355549827711224),\n",
       " ('Rahman', 0.0022352400339799607),\n",
       " ('Monirul', 0.0020809988646620626),\n",
       " ('Khokon', 0.0020030257658740025),\n",
       " ('Nur Hossain', 0.0018618424171908345),\n",
       " ('Babul', 0.001855556084479363),\n",
       " ('Tarique Rahman', 0.0017629092408332325),\n",
       " ('Ziaur Rahman', 0.0015527961442470314),\n",
       " ('Kamal', 0.0015280064349794558),\n",
       " ('Mizanur Rahman', 0.0014902985115982294),\n",
       " ('Hannan', 0.0013829568272596571),\n",
       " ('Masud', 0.0013667093545102415),\n",
       " ('Shamim', 0.0013531028789846634),\n",
       " ('Mamun', 0.0013335631268411529),\n",
       " ('Latif', 0.0013118195046079352),\n",
       " ('Kabir', 0.0012747360163115654),\n",
       " ('Bangabandhu Sheikh Mujibur Rahman', 0.0012723706363395382)]"
      ]
     },
     "execution_count": 62,
     "metadata": {},
     "output_type": "execute_result"
    }
   ],
   "source": [
    "pr_G = nx.pagerank(G)\n",
    "sorted(pr_G.items(), key = lambda x:x[1], reverse= True)[:20]"
   ]
  },
  {
   "cell_type": "code",
   "execution_count": 65,
   "metadata": {},
   "outputs": [
    {
     "data": {
      "text/plain": [
       "10132"
      ]
     },
     "execution_count": 65,
     "metadata": {},
     "output_type": "execute_result"
    }
   ],
   "source": [
    "len(pr_G.items())"
   ]
  },
  {
   "cell_type": "code",
   "execution_count": 66,
   "metadata": {},
   "outputs": [
    {
     "data": {
      "text/plain": [
       "[('Sarker', 9),\n",
       " ('Sangeeta Imam', 9),\n",
       " ('Mahmudul Haque Munshi Gonojagoron Moncho', 9),\n",
       " ('Shahriar Kabir', 9),\n",
       " ('Ramendu Majumdar', 9),\n",
       " ('Muhammad Zafar Iqbal', 9),\n",
       " ('Arefin Siddique', 9),\n",
       " ('Hasanul Haque', 9),\n",
       " ('Nasiruddin Yusuf', 9),\n",
       " ('Syed Anwar Hossain', 9),\n",
       " ('Abdul Latif', 8),\n",
       " ('Ruhul Kabir Rizvi', 8),\n",
       " ('Nur Hossain', 8),\n",
       " ('Latif Siddique', 8),\n",
       " ('Hossain', 8),\n",
       " ('Mirza Fakhrul', 8),\n",
       " ('Ruhul Kabir', 8),\n",
       " ('Sheikh Hasina', 8),\n",
       " ('Mirza Fakhrul Islam Alamgir', 8),\n",
       " ('Ziaur Rahman', 8)]"
      ]
     },
     "execution_count": 66,
     "metadata": {},
     "output_type": "execute_result"
    }
   ],
   "source": [
    "G.remove_edges_from(G.selfloop_edges())\n",
    "sorted(nx.core_number(G).items(), key= lambda x:x[1], reverse=True)[:20]"
   ]
  },
  {
   "cell_type": "code",
   "execution_count": 67,
   "metadata": {},
   "outputs": [
    {
     "data": {
      "text/plain": [
       "10132"
      ]
     },
     "execution_count": 67,
     "metadata": {},
     "output_type": "execute_result"
    }
   ],
   "source": [
    "len(nx.core_number(G))"
   ]
  },
  {
   "cell_type": "code",
   "execution_count": 12,
   "metadata": {},
   "outputs": [],
   "source": [
    "df = pd.read_pickle('Data/DT/DT.pkl')"
   ]
  },
  {
   "cell_type": "code",
   "execution_count": 13,
   "metadata": {},
   "outputs": [
    {
     "data": {
      "text/html": [
       "<div>\n",
       "<style scoped>\n",
       "    .dataframe tbody tr th:only-of-type {\n",
       "        vertical-align: middle;\n",
       "    }\n",
       "\n",
       "    .dataframe tbody tr th {\n",
       "        vertical-align: top;\n",
       "    }\n",
       "\n",
       "    .dataframe thead th {\n",
       "        text-align: right;\n",
       "    }\n",
       "</style>\n",
       "<table border=\"1\" class=\"dataframe\">\n",
       "  <thead>\n",
       "    <tr style=\"text-align: right;\">\n",
       "      <th></th>\n",
       "      <th>_id</th>\n",
       "      <th>is_negative</th>\n",
       "      <th>news_crawled_date</th>\n",
       "      <th>news_headline</th>\n",
       "      <th>news_image_urls</th>\n",
       "      <th>news_keywords</th>\n",
       "      <th>news_location</th>\n",
       "      <th>news_ml_tags</th>\n",
       "      <th>news_naive_tags</th>\n",
       "      <th>news_original_tags</th>\n",
       "      <th>news_publish_date</th>\n",
       "      <th>news_reporters</th>\n",
       "      <th>news_text</th>\n",
       "      <th>news_url</th>\n",
       "      <th>newspaper_name</th>\n",
       "      <th>newspaper_url</th>\n",
       "      <th>locations_unique</th>\n",
       "      <th>organizations_unique</th>\n",
       "      <th>persons_unique</th>\n",
       "    </tr>\n",
       "  </thead>\n",
       "  <tbody>\n",
       "    <tr>\n",
       "      <th>0</th>\n",
       "      <td>{'$oid': '575f79f55388c1567baebb2a'}</td>\n",
       "      <td>True</td>\n",
       "      <td>{'$date': '2016-06-13T23:28:50.269Z'}</td>\n",
       "      <td>Ashram residents remain in panic</td>\n",
       "      <td>[http://www.dhakatribune.com/sites/default/fil...</td>\n",
       "      <td>[bangladesh, ashram, monastery, nityanando, mo...</td>\n",
       "      <td>Pabna</td>\n",
       "      <td>NaN</td>\n",
       "      <td>[crime]</td>\n",
       "      <td>[crime]</td>\n",
       "      <td>{'$date': '2016-06-14T01:28:00.000Z'}</td>\n",
       "      <td>[[Md Emroz Khandakar]]</td>\n",
       "      <td>People who live in Sri Sri Thakur Anukulchandr...</td>\n",
       "      <td>http://www.dhakatribune.com/crime/2016/jun/14/...</td>\n",
       "      <td>Dhaka Tribune</td>\n",
       "      <td>http://www.dhakatribune.com</td>\n",
       "      <td>[Bangladesh]</td>\n",
       "      <td>[morning. Nityanando, Ishwardi Upazila Health ...</td>\n",
       "      <td>[Abdus Sattar, Noni Gopal, Hemayetpur Dham, Pa...</td>\n",
       "    </tr>\n",
       "    <tr>\n",
       "      <th>1</th>\n",
       "      <td>{'$oid': '575f79f85388c1567baebb2b'}</td>\n",
       "      <td>True</td>\n",
       "      <td>{'$date': '2016-06-13T23:28:54.437Z'}</td>\n",
       "      <td>Bangladeshi abducted from Bandarban border</td>\n",
       "      <td>[http://www.dhakatribune.com/sites/default/fil...</td>\n",
       "      <td>[naikkangchhari, area, bandarban, woodcutters,...</td>\n",
       "      <td>Bandarban</td>\n",
       "      <td>NaN</td>\n",
       "      <td>[crime]</td>\n",
       "      <td>[bangladesh]</td>\n",
       "      <td>{'$date': '2016-06-14T01:27:00.000Z'}</td>\n",
       "      <td>[[S Bashu Das]]</td>\n",
       "      <td>Separatists in Myanmar abducted a Bangladeshi ...</td>\n",
       "      <td>http://www.dhakatribune.com/bangladesh/2016/ju...</td>\n",
       "      <td>Dhaka Tribune</td>\n",
       "      <td>http://www.dhakatribune.com</td>\n",
       "      <td>[Bandarban, Dochhari, Myanmar]</td>\n",
       "      <td>[Naikkangchhari, Naikkangchhari BGB]</td>\n",
       "      <td>[Hedman, Abul Khayer, Col Azim, Ula Mang Marma]</td>\n",
       "    </tr>\n",
       "    <tr>\n",
       "      <th>2</th>\n",
       "      <td>{'$oid': '575f79fc5388c1567baebb2c'}</td>\n",
       "      <td>True</td>\n",
       "      <td>{'$date': '2016-06-13T23:28:57.408Z'}</td>\n",
       "      <td>‘Narayanganj killing was pre-planned’</td>\n",
       "      <td>[http://www.dhakatribune.com/sites/default/fil...</td>\n",
       "      <td>[murder, rab, picked, preplanned, vehicles, ki...</td>\n",
       "      <td>Narayanganj</td>\n",
       "      <td>NaN</td>\n",
       "      <td>[crime]</td>\n",
       "      <td>[crime]</td>\n",
       "      <td>{'$date': '2016-06-14T01:25:00.000Z'}</td>\n",
       "      <td>[[Tanveer Hossain]]</td>\n",
       "      <td>Two personnel of the Rapid Action Battalion ye...</td>\n",
       "      <td>http://www.dhakatribune.com/crime/2016/jun/14/...</td>\n",
       "      <td>Dhaka Tribune</td>\n",
       "      <td>http://www.dhakatribune.com</td>\n",
       "      <td>[Narayganj, Shitalakya, Narayanganj]</td>\n",
       "      <td>[Rapid Action Battalion, Shitalakhya River., N...</td>\n",
       "      <td>[Syed Enayetur Rahman, Arif Hossain, Nazrul, R...</td>\n",
       "    </tr>\n",
       "    <tr>\n",
       "      <th>3</th>\n",
       "      <td>{'$oid': '575f79fe5388c1567baebb2d'}</td>\n",
       "      <td>True</td>\n",
       "      <td>{'$date': '2016-06-13T23:29:00.538Z'}</td>\n",
       "      <td>Slum kids see no future without birth registra...</td>\n",
       "      <td>[http://www.dhakatribune.com/sites/default/fil...</td>\n",
       "      <td>[dhaka, school, kids, pay, slum, shabnam, pall...</td>\n",
       "      <td>National</td>\n",
       "      <td>NaN</td>\n",
       "      <td>[accident]</td>\n",
       "      <td>[bangladesh]</td>\n",
       "      <td>{'$date': '2016-06-14T01:24:00.000Z'}</td>\n",
       "      <td>[Mohammad Jamil Khan]</td>\n",
       "      <td>Thirteen-year-old Shabnam had big dreams for h...</td>\n",
       "      <td>http://www.dhakatribune.com/bangladesh/2016/ju...</td>\n",
       "      <td>Dhaka Tribune</td>\n",
       "      <td>http://www.dhakatribune.com</td>\n",
       "      <td>[Dhaka, Pallabi, Mirpur, New Kurmitola]</td>\n",
       "      <td>[NGO, The Dhaka Tribune, the Urban Primary Hea...</td>\n",
       "      <td>[Shabnam]</td>\n",
       "    </tr>\n",
       "    <tr>\n",
       "      <th>4</th>\n",
       "      <td>{'$oid': '575f7a015388c1567baebb2e'}</td>\n",
       "      <td>True</td>\n",
       "      <td>{'$date': '2016-06-13T23:29:03.326Z'}</td>\n",
       "      <td>Mobile-based agro advisory service makes farme...</td>\n",
       "      <td>[http://www.dhakatribune.com/sites/default/fil...</td>\n",
       "      <td>[advisory, life, grameenphone, service, farmer...</td>\n",
       "      <td>National</td>\n",
       "      <td>NaN</td>\n",
       "      <td>[accident]</td>\n",
       "      <td>[bangladesh]</td>\n",
       "      <td>{'$date': '2016-06-14T01:22:00.000Z'}</td>\n",
       "      <td>[Abu Bakar Siddique]</td>\n",
       "      <td>Amela Begum in Rangpur believes she could have...</td>\n",
       "      <td>http://www.dhakatribune.com/bangladesh/2016/ju...</td>\n",
       "      <td>Dhaka Tribune</td>\n",
       "      <td>http://www.dhakatribune.com</td>\n",
       "      <td>[Rangpur]</td>\n",
       "      <td>[Grameenphone, Oxfam Bangladesh’s ICT, Departm...</td>\n",
       "      <td>[Shefali Rani, Hanif]</td>\n",
       "    </tr>\n",
       "  </tbody>\n",
       "</table>\n",
       "</div>"
      ],
      "text/plain": [
       "                                    _id  is_negative  \\\n",
       "0  {'$oid': '575f79f55388c1567baebb2a'}         True   \n",
       "1  {'$oid': '575f79f85388c1567baebb2b'}         True   \n",
       "2  {'$oid': '575f79fc5388c1567baebb2c'}         True   \n",
       "3  {'$oid': '575f79fe5388c1567baebb2d'}         True   \n",
       "4  {'$oid': '575f7a015388c1567baebb2e'}         True   \n",
       "\n",
       "                       news_crawled_date  \\\n",
       "0  {'$date': '2016-06-13T23:28:50.269Z'}   \n",
       "1  {'$date': '2016-06-13T23:28:54.437Z'}   \n",
       "2  {'$date': '2016-06-13T23:28:57.408Z'}   \n",
       "3  {'$date': '2016-06-13T23:29:00.538Z'}   \n",
       "4  {'$date': '2016-06-13T23:29:03.326Z'}   \n",
       "\n",
       "                                       news_headline  \\\n",
       "0                   Ashram residents remain in panic   \n",
       "1         Bangladeshi abducted from Bandarban border   \n",
       "2              ‘Narayanganj killing was pre-planned’   \n",
       "3  Slum kids see no future without birth registra...   \n",
       "4  Mobile-based agro advisory service makes farme...   \n",
       "\n",
       "                                     news_image_urls  \\\n",
       "0  [http://www.dhakatribune.com/sites/default/fil...   \n",
       "1  [http://www.dhakatribune.com/sites/default/fil...   \n",
       "2  [http://www.dhakatribune.com/sites/default/fil...   \n",
       "3  [http://www.dhakatribune.com/sites/default/fil...   \n",
       "4  [http://www.dhakatribune.com/sites/default/fil...   \n",
       "\n",
       "                                       news_keywords news_location  \\\n",
       "0  [bangladesh, ashram, monastery, nityanando, mo...         Pabna   \n",
       "1  [naikkangchhari, area, bandarban, woodcutters,...     Bandarban   \n",
       "2  [murder, rab, picked, preplanned, vehicles, ki...   Narayanganj   \n",
       "3  [dhaka, school, kids, pay, slum, shabnam, pall...      National   \n",
       "4  [advisory, life, grameenphone, service, farmer...      National   \n",
       "\n",
       "   news_ml_tags news_naive_tags news_original_tags  \\\n",
       "0           NaN         [crime]            [crime]   \n",
       "1           NaN         [crime]       [bangladesh]   \n",
       "2           NaN         [crime]            [crime]   \n",
       "3           NaN      [accident]       [bangladesh]   \n",
       "4           NaN      [accident]       [bangladesh]   \n",
       "\n",
       "                       news_publish_date          news_reporters  \\\n",
       "0  {'$date': '2016-06-14T01:28:00.000Z'}  [[Md Emroz Khandakar]]   \n",
       "1  {'$date': '2016-06-14T01:27:00.000Z'}         [[S Bashu Das]]   \n",
       "2  {'$date': '2016-06-14T01:25:00.000Z'}     [[Tanveer Hossain]]   \n",
       "3  {'$date': '2016-06-14T01:24:00.000Z'}   [Mohammad Jamil Khan]   \n",
       "4  {'$date': '2016-06-14T01:22:00.000Z'}    [Abu Bakar Siddique]   \n",
       "\n",
       "                                           news_text  \\\n",
       "0  People who live in Sri Sri Thakur Anukulchandr...   \n",
       "1  Separatists in Myanmar abducted a Bangladeshi ...   \n",
       "2  Two personnel of the Rapid Action Battalion ye...   \n",
       "3  Thirteen-year-old Shabnam had big dreams for h...   \n",
       "4  Amela Begum in Rangpur believes she could have...   \n",
       "\n",
       "                                            news_url newspaper_name  \\\n",
       "0  http://www.dhakatribune.com/crime/2016/jun/14/...  Dhaka Tribune   \n",
       "1  http://www.dhakatribune.com/bangladesh/2016/ju...  Dhaka Tribune   \n",
       "2  http://www.dhakatribune.com/crime/2016/jun/14/...  Dhaka Tribune   \n",
       "3  http://www.dhakatribune.com/bangladesh/2016/ju...  Dhaka Tribune   \n",
       "4  http://www.dhakatribune.com/bangladesh/2016/ju...  Dhaka Tribune   \n",
       "\n",
       "                 newspaper_url                         locations_unique  \\\n",
       "0  http://www.dhakatribune.com                             [Bangladesh]   \n",
       "1  http://www.dhakatribune.com           [Bandarban, Dochhari, Myanmar]   \n",
       "2  http://www.dhakatribune.com     [Narayganj, Shitalakya, Narayanganj]   \n",
       "3  http://www.dhakatribune.com  [Dhaka, Pallabi, Mirpur, New Kurmitola]   \n",
       "4  http://www.dhakatribune.com                                [Rangpur]   \n",
       "\n",
       "                                organizations_unique  \\\n",
       "0  [morning. Nityanando, Ishwardi Upazila Health ...   \n",
       "1               [Naikkangchhari, Naikkangchhari BGB]   \n",
       "2  [Rapid Action Battalion, Shitalakhya River., N...   \n",
       "3  [NGO, The Dhaka Tribune, the Urban Primary Hea...   \n",
       "4  [Grameenphone, Oxfam Bangladesh’s ICT, Departm...   \n",
       "\n",
       "                                      persons_unique  \n",
       "0  [Abdus Sattar, Noni Gopal, Hemayetpur Dham, Pa...  \n",
       "1    [Hedman, Abul Khayer, Col Azim, Ula Mang Marma]  \n",
       "2  [Syed Enayetur Rahman, Arif Hossain, Nazrul, R...  \n",
       "3                                          [Shabnam]  \n",
       "4                              [Shefali Rani, Hanif]  "
      ]
     },
     "execution_count": 13,
     "metadata": {},
     "output_type": "execute_result"
    }
   ],
   "source": [
    "df.head()"
   ]
  },
  {
   "cell_type": "code",
   "execution_count": 14,
   "metadata": {},
   "outputs": [],
   "source": [
    "count = collections.Counter([item for sublist in df['persons_unique'] for item in sublist])"
   ]
  },
  {
   "cell_type": "code",
   "execution_count": 15,
   "metadata": {},
   "outputs": [
    {
     "data": {
      "text/plain": [
       "[('Sheikh Hasina', 4543),\n",
       " ('Khaleda Zia', 2616),\n",
       " ('Bangabandhu Sheikh Mujibur Rahman', 739),\n",
       " ('Abdul Hamid', 653),\n",
       " ('Mirza Fakhrul Islam Alamgir', 639),\n",
       " ('Mizanur Rahman', 551),\n",
       " ('Tarique Rahman', 477),\n",
       " ('Obaidul Quader', 433),\n",
       " ('Motiur Rahman Nizami', 395),\n",
       " ('Abul Kalam', 393),\n",
       " ('Ershad', 353),\n",
       " ('Abul Kalam Azad', 341),\n",
       " ('Ziaur Rahman', 334),\n",
       " ('Abul Maal Abdul Muhith', 334),\n",
       " ('Anwar Hossain', 304),\n",
       " ('Mahbubey Alam', 299),\n",
       " ('Habibur Rahman', 299),\n",
       " ('Nurul Islam Nahid', 288),\n",
       " ('Asaduzzaman Khan Kamal', 276),\n",
       " ('Shahidul Haque', 264)]"
      ]
     },
     "execution_count": 15,
     "metadata": {},
     "output_type": "execute_result"
    }
   ],
   "source": [
    "count.most_common()[:20]"
   ]
  },
  {
   "cell_type": "code",
   "execution_count": 68,
   "metadata": {},
   "outputs": [
    {
     "data": {
      "text/plain": [
       "42440"
      ]
     },
     "execution_count": 68,
     "metadata": {},
     "output_type": "execute_result"
    }
   ],
   "source": [
    "len(count)"
   ]
  },
  {
   "cell_type": "code",
   "execution_count": 16,
   "metadata": {},
   "outputs": [],
   "source": [
    "# Find number of times entity appear in headlines\n",
    "\n",
    "# Here's an idea: Add another column to the DF. Check if Person entity exists in headline or not.\n",
    "# Make a dictionary as a counter like: {\"Person a\": 1, \"Person b\": 0} and put it in the new column\n",
    "\n",
    "# Also, network probably could've been done like this. In a new column, we could've had list of lists with the combinations.\n",
    "\n",
    "# Find number of times entity appear in article"
   ]
  },
  {
   "cell_type": "code",
   "execution_count": 17,
   "metadata": {},
   "outputs": [],
   "source": [
    "# a = {\"a\": 20, \"b\":10}\n",
    "# e = {\"a\":40, \"c\":15}\n",
    "\n",
    "# collections.Counter(a) + collections.Counter(e)"
   ]
  },
  {
   "cell_type": "code",
   "execution_count": 18,
   "metadata": {},
   "outputs": [],
   "source": [
    "df = pd.read_pickle('Data/DT/DT.pkl')"
   ]
  },
  {
   "cell_type": "code",
   "execution_count": 19,
   "metadata": {},
   "outputs": [],
   "source": [
    "# df['person_in_headline'] = df[['news_headline', 'persons_unique']].apply()"
   ]
  },
  {
   "cell_type": "code",
   "execution_count": 20,
   "metadata": {},
   "outputs": [
    {
     "data": {
      "text/html": [
       "<div>\n",
       "<style scoped>\n",
       "    .dataframe tbody tr th:only-of-type {\n",
       "        vertical-align: middle;\n",
       "    }\n",
       "\n",
       "    .dataframe tbody tr th {\n",
       "        vertical-align: top;\n",
       "    }\n",
       "\n",
       "    .dataframe thead th {\n",
       "        text-align: right;\n",
       "    }\n",
       "</style>\n",
       "<table border=\"1\" class=\"dataframe\">\n",
       "  <thead>\n",
       "    <tr style=\"text-align: right;\">\n",
       "      <th></th>\n",
       "      <th>_id</th>\n",
       "      <th>is_negative</th>\n",
       "      <th>news_crawled_date</th>\n",
       "      <th>news_headline</th>\n",
       "      <th>news_image_urls</th>\n",
       "      <th>news_keywords</th>\n",
       "      <th>news_location</th>\n",
       "      <th>news_ml_tags</th>\n",
       "      <th>news_naive_tags</th>\n",
       "      <th>news_original_tags</th>\n",
       "      <th>news_publish_date</th>\n",
       "      <th>news_reporters</th>\n",
       "      <th>news_text</th>\n",
       "      <th>news_url</th>\n",
       "      <th>newspaper_name</th>\n",
       "      <th>newspaper_url</th>\n",
       "      <th>locations_unique</th>\n",
       "      <th>organizations_unique</th>\n",
       "      <th>persons_unique</th>\n",
       "    </tr>\n",
       "  </thead>\n",
       "  <tbody>\n",
       "    <tr>\n",
       "      <th>0</th>\n",
       "      <td>{'$oid': '575f79f55388c1567baebb2a'}</td>\n",
       "      <td>True</td>\n",
       "      <td>{'$date': '2016-06-13T23:28:50.269Z'}</td>\n",
       "      <td>Ashram residents remain in panic</td>\n",
       "      <td>[http://www.dhakatribune.com/sites/default/fil...</td>\n",
       "      <td>[bangladesh, ashram, monastery, nityanando, mo...</td>\n",
       "      <td>Pabna</td>\n",
       "      <td>NaN</td>\n",
       "      <td>[crime]</td>\n",
       "      <td>[crime]</td>\n",
       "      <td>{'$date': '2016-06-14T01:28:00.000Z'}</td>\n",
       "      <td>[[Md Emroz Khandakar]]</td>\n",
       "      <td>People who live in Sri Sri Thakur Anukulchandr...</td>\n",
       "      <td>http://www.dhakatribune.com/crime/2016/jun/14/...</td>\n",
       "      <td>Dhaka Tribune</td>\n",
       "      <td>http://www.dhakatribune.com</td>\n",
       "      <td>[Bangladesh]</td>\n",
       "      <td>[morning. Nityanando, Ishwardi Upazila Health ...</td>\n",
       "      <td>[Abdus Sattar, Noni Gopal, Hemayetpur Dham, Pa...</td>\n",
       "    </tr>\n",
       "    <tr>\n",
       "      <th>1</th>\n",
       "      <td>{'$oid': '575f79f85388c1567baebb2b'}</td>\n",
       "      <td>True</td>\n",
       "      <td>{'$date': '2016-06-13T23:28:54.437Z'}</td>\n",
       "      <td>Bangladeshi abducted from Bandarban border</td>\n",
       "      <td>[http://www.dhakatribune.com/sites/default/fil...</td>\n",
       "      <td>[naikkangchhari, area, bandarban, woodcutters,...</td>\n",
       "      <td>Bandarban</td>\n",
       "      <td>NaN</td>\n",
       "      <td>[crime]</td>\n",
       "      <td>[bangladesh]</td>\n",
       "      <td>{'$date': '2016-06-14T01:27:00.000Z'}</td>\n",
       "      <td>[[S Bashu Das]]</td>\n",
       "      <td>Separatists in Myanmar abducted a Bangladeshi ...</td>\n",
       "      <td>http://www.dhakatribune.com/bangladesh/2016/ju...</td>\n",
       "      <td>Dhaka Tribune</td>\n",
       "      <td>http://www.dhakatribune.com</td>\n",
       "      <td>[Bandarban, Dochhari, Myanmar]</td>\n",
       "      <td>[Naikkangchhari, Naikkangchhari BGB]</td>\n",
       "      <td>[Hedman, Abul Khayer, Col Azim, Ula Mang Marma]</td>\n",
       "    </tr>\n",
       "    <tr>\n",
       "      <th>2</th>\n",
       "      <td>{'$oid': '575f79fc5388c1567baebb2c'}</td>\n",
       "      <td>True</td>\n",
       "      <td>{'$date': '2016-06-13T23:28:57.408Z'}</td>\n",
       "      <td>‘Narayanganj killing was pre-planned’</td>\n",
       "      <td>[http://www.dhakatribune.com/sites/default/fil...</td>\n",
       "      <td>[murder, rab, picked, preplanned, vehicles, ki...</td>\n",
       "      <td>Narayanganj</td>\n",
       "      <td>NaN</td>\n",
       "      <td>[crime]</td>\n",
       "      <td>[crime]</td>\n",
       "      <td>{'$date': '2016-06-14T01:25:00.000Z'}</td>\n",
       "      <td>[[Tanveer Hossain]]</td>\n",
       "      <td>Two personnel of the Rapid Action Battalion ye...</td>\n",
       "      <td>http://www.dhakatribune.com/crime/2016/jun/14/...</td>\n",
       "      <td>Dhaka Tribune</td>\n",
       "      <td>http://www.dhakatribune.com</td>\n",
       "      <td>[Narayganj, Shitalakya, Narayanganj]</td>\n",
       "      <td>[Rapid Action Battalion, Shitalakhya River., N...</td>\n",
       "      <td>[Syed Enayetur Rahman, Arif Hossain, Nazrul, R...</td>\n",
       "    </tr>\n",
       "    <tr>\n",
       "      <th>3</th>\n",
       "      <td>{'$oid': '575f79fe5388c1567baebb2d'}</td>\n",
       "      <td>True</td>\n",
       "      <td>{'$date': '2016-06-13T23:29:00.538Z'}</td>\n",
       "      <td>Slum kids see no future without birth registra...</td>\n",
       "      <td>[http://www.dhakatribune.com/sites/default/fil...</td>\n",
       "      <td>[dhaka, school, kids, pay, slum, shabnam, pall...</td>\n",
       "      <td>National</td>\n",
       "      <td>NaN</td>\n",
       "      <td>[accident]</td>\n",
       "      <td>[bangladesh]</td>\n",
       "      <td>{'$date': '2016-06-14T01:24:00.000Z'}</td>\n",
       "      <td>[Mohammad Jamil Khan]</td>\n",
       "      <td>Thirteen-year-old Shabnam had big dreams for h...</td>\n",
       "      <td>http://www.dhakatribune.com/bangladesh/2016/ju...</td>\n",
       "      <td>Dhaka Tribune</td>\n",
       "      <td>http://www.dhakatribune.com</td>\n",
       "      <td>[Dhaka, Pallabi, Mirpur, New Kurmitola]</td>\n",
       "      <td>[NGO, The Dhaka Tribune, the Urban Primary Hea...</td>\n",
       "      <td>[Shabnam]</td>\n",
       "    </tr>\n",
       "    <tr>\n",
       "      <th>4</th>\n",
       "      <td>{'$oid': '575f7a015388c1567baebb2e'}</td>\n",
       "      <td>True</td>\n",
       "      <td>{'$date': '2016-06-13T23:29:03.326Z'}</td>\n",
       "      <td>Mobile-based agro advisory service makes farme...</td>\n",
       "      <td>[http://www.dhakatribune.com/sites/default/fil...</td>\n",
       "      <td>[advisory, life, grameenphone, service, farmer...</td>\n",
       "      <td>National</td>\n",
       "      <td>NaN</td>\n",
       "      <td>[accident]</td>\n",
       "      <td>[bangladesh]</td>\n",
       "      <td>{'$date': '2016-06-14T01:22:00.000Z'}</td>\n",
       "      <td>[Abu Bakar Siddique]</td>\n",
       "      <td>Amela Begum in Rangpur believes she could have...</td>\n",
       "      <td>http://www.dhakatribune.com/bangladesh/2016/ju...</td>\n",
       "      <td>Dhaka Tribune</td>\n",
       "      <td>http://www.dhakatribune.com</td>\n",
       "      <td>[Rangpur]</td>\n",
       "      <td>[Grameenphone, Oxfam Bangladesh’s ICT, Departm...</td>\n",
       "      <td>[Shefali Rani, Hanif]</td>\n",
       "    </tr>\n",
       "  </tbody>\n",
       "</table>\n",
       "</div>"
      ],
      "text/plain": [
       "                                    _id  is_negative  \\\n",
       "0  {'$oid': '575f79f55388c1567baebb2a'}         True   \n",
       "1  {'$oid': '575f79f85388c1567baebb2b'}         True   \n",
       "2  {'$oid': '575f79fc5388c1567baebb2c'}         True   \n",
       "3  {'$oid': '575f79fe5388c1567baebb2d'}         True   \n",
       "4  {'$oid': '575f7a015388c1567baebb2e'}         True   \n",
       "\n",
       "                       news_crawled_date  \\\n",
       "0  {'$date': '2016-06-13T23:28:50.269Z'}   \n",
       "1  {'$date': '2016-06-13T23:28:54.437Z'}   \n",
       "2  {'$date': '2016-06-13T23:28:57.408Z'}   \n",
       "3  {'$date': '2016-06-13T23:29:00.538Z'}   \n",
       "4  {'$date': '2016-06-13T23:29:03.326Z'}   \n",
       "\n",
       "                                       news_headline  \\\n",
       "0                   Ashram residents remain in panic   \n",
       "1         Bangladeshi abducted from Bandarban border   \n",
       "2              ‘Narayanganj killing was pre-planned’   \n",
       "3  Slum kids see no future without birth registra...   \n",
       "4  Mobile-based agro advisory service makes farme...   \n",
       "\n",
       "                                     news_image_urls  \\\n",
       "0  [http://www.dhakatribune.com/sites/default/fil...   \n",
       "1  [http://www.dhakatribune.com/sites/default/fil...   \n",
       "2  [http://www.dhakatribune.com/sites/default/fil...   \n",
       "3  [http://www.dhakatribune.com/sites/default/fil...   \n",
       "4  [http://www.dhakatribune.com/sites/default/fil...   \n",
       "\n",
       "                                       news_keywords news_location  \\\n",
       "0  [bangladesh, ashram, monastery, nityanando, mo...         Pabna   \n",
       "1  [naikkangchhari, area, bandarban, woodcutters,...     Bandarban   \n",
       "2  [murder, rab, picked, preplanned, vehicles, ki...   Narayanganj   \n",
       "3  [dhaka, school, kids, pay, slum, shabnam, pall...      National   \n",
       "4  [advisory, life, grameenphone, service, farmer...      National   \n",
       "\n",
       "   news_ml_tags news_naive_tags news_original_tags  \\\n",
       "0           NaN         [crime]            [crime]   \n",
       "1           NaN         [crime]       [bangladesh]   \n",
       "2           NaN         [crime]            [crime]   \n",
       "3           NaN      [accident]       [bangladesh]   \n",
       "4           NaN      [accident]       [bangladesh]   \n",
       "\n",
       "                       news_publish_date          news_reporters  \\\n",
       "0  {'$date': '2016-06-14T01:28:00.000Z'}  [[Md Emroz Khandakar]]   \n",
       "1  {'$date': '2016-06-14T01:27:00.000Z'}         [[S Bashu Das]]   \n",
       "2  {'$date': '2016-06-14T01:25:00.000Z'}     [[Tanveer Hossain]]   \n",
       "3  {'$date': '2016-06-14T01:24:00.000Z'}   [Mohammad Jamil Khan]   \n",
       "4  {'$date': '2016-06-14T01:22:00.000Z'}    [Abu Bakar Siddique]   \n",
       "\n",
       "                                           news_text  \\\n",
       "0  People who live in Sri Sri Thakur Anukulchandr...   \n",
       "1  Separatists in Myanmar abducted a Bangladeshi ...   \n",
       "2  Two personnel of the Rapid Action Battalion ye...   \n",
       "3  Thirteen-year-old Shabnam had big dreams for h...   \n",
       "4  Amela Begum in Rangpur believes she could have...   \n",
       "\n",
       "                                            news_url newspaper_name  \\\n",
       "0  http://www.dhakatribune.com/crime/2016/jun/14/...  Dhaka Tribune   \n",
       "1  http://www.dhakatribune.com/bangladesh/2016/ju...  Dhaka Tribune   \n",
       "2  http://www.dhakatribune.com/crime/2016/jun/14/...  Dhaka Tribune   \n",
       "3  http://www.dhakatribune.com/bangladesh/2016/ju...  Dhaka Tribune   \n",
       "4  http://www.dhakatribune.com/bangladesh/2016/ju...  Dhaka Tribune   \n",
       "\n",
       "                 newspaper_url                         locations_unique  \\\n",
       "0  http://www.dhakatribune.com                             [Bangladesh]   \n",
       "1  http://www.dhakatribune.com           [Bandarban, Dochhari, Myanmar]   \n",
       "2  http://www.dhakatribune.com     [Narayganj, Shitalakya, Narayanganj]   \n",
       "3  http://www.dhakatribune.com  [Dhaka, Pallabi, Mirpur, New Kurmitola]   \n",
       "4  http://www.dhakatribune.com                                [Rangpur]   \n",
       "\n",
       "                                organizations_unique  \\\n",
       "0  [morning. Nityanando, Ishwardi Upazila Health ...   \n",
       "1               [Naikkangchhari, Naikkangchhari BGB]   \n",
       "2  [Rapid Action Battalion, Shitalakhya River., N...   \n",
       "3  [NGO, The Dhaka Tribune, the Urban Primary Hea...   \n",
       "4  [Grameenphone, Oxfam Bangladesh’s ICT, Departm...   \n",
       "\n",
       "                                      persons_unique  \n",
       "0  [Abdus Sattar, Noni Gopal, Hemayetpur Dham, Pa...  \n",
       "1    [Hedman, Abul Khayer, Col Azim, Ula Mang Marma]  \n",
       "2  [Syed Enayetur Rahman, Arif Hossain, Nazrul, R...  \n",
       "3                                          [Shabnam]  \n",
       "4                              [Shefali Rani, Hanif]  "
      ]
     },
     "execution_count": 20,
     "metadata": {},
     "output_type": "execute_result"
    }
   ],
   "source": [
    "df.head()"
   ]
  },
  {
   "cell_type": "code",
   "execution_count": 21,
   "metadata": {},
   "outputs": [],
   "source": [
    "def person_in_headline(headline, persons):\n",
    "    headline_dict = {}\n",
    "    for i in persons:\n",
    "        if i in headline:\n",
    "            if i in headline_dict:\n",
    "                headline_dict[i] += 1\n",
    "            else:\n",
    "                headline_dict[i] = 1\n",
    "    return headline_dict"
   ]
  },
  {
   "cell_type": "code",
   "execution_count": 22,
   "metadata": {},
   "outputs": [],
   "source": [
    "df['person_in_headline'] = np.vectorize(person_in_headline)(df['news_headline'], df['persons_unique'])"
   ]
  },
  {
   "cell_type": "code",
   "execution_count": 23,
   "metadata": {},
   "outputs": [],
   "source": [
    "def person_in_text(text, persons):\n",
    "    text_dict = {}\n",
    "    for person in persons:\n",
    "        text_dict[person] = text.count(person)\n",
    "    return text_dict"
   ]
  },
  {
   "cell_type": "code",
   "execution_count": 24,
   "metadata": {},
   "outputs": [],
   "source": [
    "df['person_in_text'] = np.vectorize(person_in_text)(df['news_text'], df['persons_unique'])"
   ]
  },
  {
   "cell_type": "code",
   "execution_count": 45,
   "metadata": {},
   "outputs": [],
   "source": [
    "counts = sum(map(collections.Counter, df['person_in_text'].values.tolist()), collections.Counter())"
   ]
  },
  {
   "cell_type": "code",
   "execution_count": 46,
   "metadata": {},
   "outputs": [],
   "source": [
    "df_text = pd.DataFrame.from_dict(counts, orient='index')"
   ]
  },
  {
   "cell_type": "code",
   "execution_count": 50,
   "metadata": {},
   "outputs": [],
   "source": [
    "counts = sum(map(collections.Counter, df['person_in_headline'].values.tolist()), collections.Counter())"
   ]
  },
  {
   "cell_type": "code",
   "execution_count": 51,
   "metadata": {},
   "outputs": [],
   "source": [
    "df_headline = pd.DataFrame.from_dict(counts, orient='index')"
   ]
  },
  {
   "cell_type": "code",
   "execution_count": 53,
   "metadata": {},
   "outputs": [
    {
     "data": {
      "text/plain": [
       "(1563, 1)"
      ]
     },
     "execution_count": 53,
     "metadata": {},
     "output_type": "execute_result"
    }
   ],
   "source": [
    "df_headline.shape"
   ]
  },
  {
   "cell_type": "code",
   "execution_count": 54,
   "metadata": {},
   "outputs": [
    {
     "data": {
      "text/plain": [
       "(41528, 1)"
      ]
     },
     "execution_count": 54,
     "metadata": {},
     "output_type": "execute_result"
    }
   ],
   "source": [
    "df_text.shape"
   ]
  },
  {
   "cell_type": "code",
   "execution_count": 55,
   "metadata": {},
   "outputs": [
    {
     "data": {
      "text/plain": [
       "(49055, 21)"
      ]
     },
     "execution_count": 55,
     "metadata": {},
     "output_type": "execute_result"
    }
   ],
   "source": [
    "df.shape"
   ]
  },
  {
   "cell_type": "code",
   "execution_count": 60,
   "metadata": {},
   "outputs": [],
   "source": [
    "total_persons_unique = set(df['persons_unique'].sum())"
   ]
  },
  {
   "cell_type": "code",
   "execution_count": 59,
   "metadata": {},
   "outputs": [
    {
     "data": {
      "text/plain": [
       "42440"
      ]
     },
     "execution_count": 59,
     "metadata": {},
     "output_type": "execute_result"
    }
   ],
   "source": [
    "total_persons_unique"
   ]
  },
  {
   "cell_type": "code",
   "execution_count": null,
   "metadata": {},
   "outputs": [],
   "source": []
  }
 ],
 "metadata": {
  "kernelspec": {
   "display_name": "Python 3",
   "language": "python",
   "name": "python3"
  },
  "language_info": {
   "codemirror_mode": {
    "name": "ipython",
    "version": 3
   },
   "file_extension": ".py",
   "mimetype": "text/x-python",
   "name": "python",
   "nbconvert_exporter": "python",
   "pygments_lexer": "ipython3",
   "version": "3.5.2"
  }
 },
 "nbformat": 4,
 "nbformat_minor": 2
}
