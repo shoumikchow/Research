{
 "cells": [
  {
   "cell_type": "code",
   "execution_count": 1,
   "metadata": {},
   "outputs": [],
   "source": [
    "import pandas as pd\n",
    "from tqdm import tqdm\n",
    "import nltk.data\n",
    "import re\n",
    "\n",
    "tokenizer = nltk.data.load('nltk:tokenizers/punkt/english.pickle')"
   ]
  },
  {
   "cell_type": "code",
   "execution_count": 2,
   "metadata": {},
   "outputs": [],
   "source": [
    "# with open('../Scraped data/bd_news_dt.json') as infile:\n",
    "#     data = json.load(infile)\n",
    "\n",
    "df = pd.read_json('Data/DT/bd_news_dt.json')"
   ]
  },
  {
   "cell_type": "code",
   "execution_count": 3,
   "metadata": {},
   "outputs": [
    {
     "data": {
      "text/html": [
       "<div>\n",
       "<style scoped>\n",
       "    .dataframe tbody tr th:only-of-type {\n",
       "        vertical-align: middle;\n",
       "    }\n",
       "\n",
       "    .dataframe tbody tr th {\n",
       "        vertical-align: top;\n",
       "    }\n",
       "\n",
       "    .dataframe thead th {\n",
       "        text-align: right;\n",
       "    }\n",
       "</style>\n",
       "<table border=\"1\" class=\"dataframe\">\n",
       "  <thead>\n",
       "    <tr style=\"text-align: right;\">\n",
       "      <th></th>\n",
       "      <th>_id</th>\n",
       "      <th>is_negative</th>\n",
       "      <th>news_crawled_date</th>\n",
       "      <th>news_headline</th>\n",
       "      <th>news_image_urls</th>\n",
       "      <th>news_keywords</th>\n",
       "      <th>news_location</th>\n",
       "      <th>news_ml_tags</th>\n",
       "      <th>news_naive_tags</th>\n",
       "      <th>news_ner_tags</th>\n",
       "      <th>news_original_tags</th>\n",
       "      <th>news_publish_date</th>\n",
       "      <th>news_reporters</th>\n",
       "      <th>news_text</th>\n",
       "      <th>news_url</th>\n",
       "      <th>newspaper_name</th>\n",
       "      <th>newspaper_url</th>\n",
       "    </tr>\n",
       "  </thead>\n",
       "  <tbody>\n",
       "    <tr>\n",
       "      <th>0</th>\n",
       "      <td>{'$oid': '575f79f55388c1567baebb2a'}</td>\n",
       "      <td>True</td>\n",
       "      <td>{'$date': '2016-06-13T23:28:50.269Z'}</td>\n",
       "      <td>Ashram residents remain in panic</td>\n",
       "      <td>[http://www.dhakatribune.com/sites/default/fil...</td>\n",
       "      <td>[bangladesh, ashram, monastery, nityanando, mo...</td>\n",
       "      <td>Pabna</td>\n",
       "      <td>NaN</td>\n",
       "      <td>[crime]</td>\n",
       "      <td>{'dates_unique': ['October', 'Friday', 'Saturd...</td>\n",
       "      <td>[crime]</td>\n",
       "      <td>{'$date': '2016-06-14T01:28:00.000Z'}</td>\n",
       "      <td>[[Md Emroz Khandakar]]</td>\n",
       "      <td>People who live in Sri Sri Thakur Anukulchandr...</td>\n",
       "      <td>http://www.dhakatribune.com/crime/2016/jun/14/...</td>\n",
       "      <td>Dhaka Tribune</td>\n",
       "      <td>http://www.dhakatribune.com</td>\n",
       "    </tr>\n",
       "    <tr>\n",
       "      <th>1</th>\n",
       "      <td>{'$oid': '575f79f85388c1567baebb2b'}</td>\n",
       "      <td>True</td>\n",
       "      <td>{'$date': '2016-06-13T23:28:54.437Z'}</td>\n",
       "      <td>Bangladeshi abducted from Bandarban border</td>\n",
       "      <td>[http://www.dhakatribune.com/sites/default/fil...</td>\n",
       "      <td>[naikkangchhari, area, bandarban, woodcutters,...</td>\n",
       "      <td>Bandarban</td>\n",
       "      <td>NaN</td>\n",
       "      <td>[crime]</td>\n",
       "      <td>{'dates_unique': ['April 15.', 'Sunday', 'Apri...</td>\n",
       "      <td>[bangladesh]</td>\n",
       "      <td>{'$date': '2016-06-14T01:27:00.000Z'}</td>\n",
       "      <td>[[S Bashu Das]]</td>\n",
       "      <td>Separatists in Myanmar abducted a Bangladeshi ...</td>\n",
       "      <td>http://www.dhakatribune.com/bangladesh/2016/ju...</td>\n",
       "      <td>Dhaka Tribune</td>\n",
       "      <td>http://www.dhakatribune.com</td>\n",
       "    </tr>\n",
       "    <tr>\n",
       "      <th>2</th>\n",
       "      <td>{'$oid': '575f79fc5388c1567baebb2c'}</td>\n",
       "      <td>True</td>\n",
       "      <td>{'$date': '2016-06-13T23:28:57.408Z'}</td>\n",
       "      <td>‘Narayanganj killing was pre-planned’</td>\n",
       "      <td>[http://www.dhakatribune.com/sites/default/fil...</td>\n",
       "      <td>[murder, rab, picked, preplanned, vehicles, ki...</td>\n",
       "      <td>Narayanganj</td>\n",
       "      <td>NaN</td>\n",
       "      <td>[crime]</td>\n",
       "      <td>{'dates_unique': ['June 20', 'early hours of 2...</td>\n",
       "      <td>[crime]</td>\n",
       "      <td>{'$date': '2016-06-14T01:25:00.000Z'}</td>\n",
       "      <td>[[Tanveer Hossain]]</td>\n",
       "      <td>Two personnel of the Rapid Action Battalion ye...</td>\n",
       "      <td>http://www.dhakatribune.com/crime/2016/jun/14/...</td>\n",
       "      <td>Dhaka Tribune</td>\n",
       "      <td>http://www.dhakatribune.com</td>\n",
       "    </tr>\n",
       "    <tr>\n",
       "      <th>3</th>\n",
       "      <td>{'$oid': '575f79fe5388c1567baebb2d'}</td>\n",
       "      <td>True</td>\n",
       "      <td>{'$date': '2016-06-13T23:29:00.538Z'}</td>\n",
       "      <td>Slum kids see no future without birth registra...</td>\n",
       "      <td>[http://www.dhakatribune.com/sites/default/fil...</td>\n",
       "      <td>[dhaka, school, kids, pay, slum, shabnam, pall...</td>\n",
       "      <td>National</td>\n",
       "      <td>NaN</td>\n",
       "      <td>[accident]</td>\n",
       "      <td>{'dates_unique': [], 'organizations_unique': [...</td>\n",
       "      <td>[bangladesh]</td>\n",
       "      <td>{'$date': '2016-06-14T01:24:00.000Z'}</td>\n",
       "      <td>[Mohammad Jamil Khan]</td>\n",
       "      <td>Thirteen-year-old Shabnam had big dreams for h...</td>\n",
       "      <td>http://www.dhakatribune.com/bangladesh/2016/ju...</td>\n",
       "      <td>Dhaka Tribune</td>\n",
       "      <td>http://www.dhakatribune.com</td>\n",
       "    </tr>\n",
       "    <tr>\n",
       "      <th>4</th>\n",
       "      <td>{'$oid': '575f7a015388c1567baebb2e'}</td>\n",
       "      <td>True</td>\n",
       "      <td>{'$date': '2016-06-13T23:29:03.326Z'}</td>\n",
       "      <td>Mobile-based agro advisory service makes farme...</td>\n",
       "      <td>[http://www.dhakatribune.com/sites/default/fil...</td>\n",
       "      <td>[advisory, life, grameenphone, service, farmer...</td>\n",
       "      <td>National</td>\n",
       "      <td>NaN</td>\n",
       "      <td>[accident]</td>\n",
       "      <td>{'dates_unique': ['December last year'], 'orga...</td>\n",
       "      <td>[bangladesh]</td>\n",
       "      <td>{'$date': '2016-06-14T01:22:00.000Z'}</td>\n",
       "      <td>[Abu Bakar Siddique]</td>\n",
       "      <td>Amela Begum in Rangpur believes she could have...</td>\n",
       "      <td>http://www.dhakatribune.com/bangladesh/2016/ju...</td>\n",
       "      <td>Dhaka Tribune</td>\n",
       "      <td>http://www.dhakatribune.com</td>\n",
       "    </tr>\n",
       "  </tbody>\n",
       "</table>\n",
       "</div>"
      ],
      "text/plain": [
       "                                    _id  is_negative  \\\n",
       "0  {'$oid': '575f79f55388c1567baebb2a'}         True   \n",
       "1  {'$oid': '575f79f85388c1567baebb2b'}         True   \n",
       "2  {'$oid': '575f79fc5388c1567baebb2c'}         True   \n",
       "3  {'$oid': '575f79fe5388c1567baebb2d'}         True   \n",
       "4  {'$oid': '575f7a015388c1567baebb2e'}         True   \n",
       "\n",
       "                       news_crawled_date  \\\n",
       "0  {'$date': '2016-06-13T23:28:50.269Z'}   \n",
       "1  {'$date': '2016-06-13T23:28:54.437Z'}   \n",
       "2  {'$date': '2016-06-13T23:28:57.408Z'}   \n",
       "3  {'$date': '2016-06-13T23:29:00.538Z'}   \n",
       "4  {'$date': '2016-06-13T23:29:03.326Z'}   \n",
       "\n",
       "                                       news_headline  \\\n",
       "0                   Ashram residents remain in panic   \n",
       "1         Bangladeshi abducted from Bandarban border   \n",
       "2              ‘Narayanganj killing was pre-planned’   \n",
       "3  Slum kids see no future without birth registra...   \n",
       "4  Mobile-based agro advisory service makes farme...   \n",
       "\n",
       "                                     news_image_urls  \\\n",
       "0  [http://www.dhakatribune.com/sites/default/fil...   \n",
       "1  [http://www.dhakatribune.com/sites/default/fil...   \n",
       "2  [http://www.dhakatribune.com/sites/default/fil...   \n",
       "3  [http://www.dhakatribune.com/sites/default/fil...   \n",
       "4  [http://www.dhakatribune.com/sites/default/fil...   \n",
       "\n",
       "                                       news_keywords news_location  \\\n",
       "0  [bangladesh, ashram, monastery, nityanando, mo...         Pabna   \n",
       "1  [naikkangchhari, area, bandarban, woodcutters,...     Bandarban   \n",
       "2  [murder, rab, picked, preplanned, vehicles, ki...   Narayanganj   \n",
       "3  [dhaka, school, kids, pay, slum, shabnam, pall...      National   \n",
       "4  [advisory, life, grameenphone, service, farmer...      National   \n",
       "\n",
       "   news_ml_tags news_naive_tags  \\\n",
       "0           NaN         [crime]   \n",
       "1           NaN         [crime]   \n",
       "2           NaN         [crime]   \n",
       "3           NaN      [accident]   \n",
       "4           NaN      [accident]   \n",
       "\n",
       "                                       news_ner_tags news_original_tags  \\\n",
       "0  {'dates_unique': ['October', 'Friday', 'Saturd...            [crime]   \n",
       "1  {'dates_unique': ['April 15.', 'Sunday', 'Apri...       [bangladesh]   \n",
       "2  {'dates_unique': ['June 20', 'early hours of 2...            [crime]   \n",
       "3  {'dates_unique': [], 'organizations_unique': [...       [bangladesh]   \n",
       "4  {'dates_unique': ['December last year'], 'orga...       [bangladesh]   \n",
       "\n",
       "                       news_publish_date          news_reporters  \\\n",
       "0  {'$date': '2016-06-14T01:28:00.000Z'}  [[Md Emroz Khandakar]]   \n",
       "1  {'$date': '2016-06-14T01:27:00.000Z'}         [[S Bashu Das]]   \n",
       "2  {'$date': '2016-06-14T01:25:00.000Z'}     [[Tanveer Hossain]]   \n",
       "3  {'$date': '2016-06-14T01:24:00.000Z'}   [Mohammad Jamil Khan]   \n",
       "4  {'$date': '2016-06-14T01:22:00.000Z'}    [Abu Bakar Siddique]   \n",
       "\n",
       "                                           news_text  \\\n",
       "0  People who live in Sri Sri Thakur Anukulchandr...   \n",
       "1  Separatists in Myanmar abducted a Bangladeshi ...   \n",
       "2  Two personnel of the Rapid Action Battalion ye...   \n",
       "3  Thirteen-year-old Shabnam had big dreams for h...   \n",
       "4  Amela Begum in Rangpur believes she could have...   \n",
       "\n",
       "                                            news_url newspaper_name  \\\n",
       "0  http://www.dhakatribune.com/crime/2016/jun/14/...  Dhaka Tribune   \n",
       "1  http://www.dhakatribune.com/bangladesh/2016/ju...  Dhaka Tribune   \n",
       "2  http://www.dhakatribune.com/crime/2016/jun/14/...  Dhaka Tribune   \n",
       "3  http://www.dhakatribune.com/bangladesh/2016/ju...  Dhaka Tribune   \n",
       "4  http://www.dhakatribune.com/bangladesh/2016/ju...  Dhaka Tribune   \n",
       "\n",
       "                 newspaper_url  \n",
       "0  http://www.dhakatribune.com  \n",
       "1  http://www.dhakatribune.com  \n",
       "2  http://www.dhakatribune.com  \n",
       "3  http://www.dhakatribune.com  \n",
       "4  http://www.dhakatribune.com  "
      ]
     },
     "execution_count": 3,
     "metadata": {},
     "output_type": "execute_result"
    }
   ],
   "source": [
    "df.head()"
   ]
  },
  {
   "cell_type": "code",
   "execution_count": 6,
   "metadata": {},
   "outputs": [
    {
     "data": {
      "text/plain": [
       "49055"
      ]
     },
     "execution_count": 6,
     "metadata": {},
     "output_type": "execute_result"
    }
   ],
   "source": [
    "df['news_text'].size"
   ]
  },
  {
   "cell_type": "code",
   "execution_count": 19,
   "metadata": {},
   "outputs": [
    {
     "data": {
      "text/plain": [
       "(['Bangladesh'],\n",
       " ['Sri Sri Thakur Anukulchandra Satsang Ashram',\n",
       "  'Dhaka Tribune',\n",
       "  'morning. Nityanando',\n",
       "  'Panba Adward College Md Shahnewaz Salam',\n",
       "  'Munshi Abu',\n",
       "  'Pabna Medical College Hospital',\n",
       "  'Islamic State',\n",
       "  'Amaq News Agency',\n",
       "  'Nityanando Pandey. Nityanando Pandey,',\n",
       "  'Islami Chhatra Shibir',\n",
       "  'Ishwardi Upazila Health Complex',\n",
       "  'years. Police'],\n",
       " ['Abdus Sattar',\n",
       "  'Hemayetpur Dham',\n",
       "  'Nityanando',\n",
       "  'Noni Gopal',\n",
       "  'Pabna Alamgir Kabir'])"
      ]
     },
     "execution_count": 19,
     "metadata": {},
     "output_type": "execute_result"
    }
   ],
   "source": [
    "df['news_ner_tags'][0]['locations_unique'], df['news_ner_tags'][0]['organizations_unique'], df['news_ner_tags'][0]['persons_unique']"
   ]
  },
  {
   "cell_type": "code",
   "execution_count": 7,
   "metadata": {},
   "outputs": [],
   "source": [
    "def check_alleged(text):\n",
    "    if re.search(r'\\balleged\\b', text):\n",
    "        return True\n",
    "    return False\n",
    "\n",
    "conversational_words = ['said', 'told', 'asked', 'speak', 'say', 'tell', 'spoke', 'added', 'declare']"
   ]
  },
  {
   "cell_type": "code",
   "execution_count": null,
   "metadata": {},
   "outputs": [],
   "source": []
  },
  {
   "cell_type": "code",
   "execution_count": 13,
   "metadata": {},
   "outputs": [
    {
     "name": "stdout",
     "output_type": "stream",
     "text": [
      "People who live in Sri Sri Thakur Anukulchandra Satsang Ashram locally known as Hemayetpur Dham are passing days in anxiety as police yet to find any clue behind the killing of Nityanando Pandey.\n",
      "\n",
      "Nityanando Pandey, 62, was hacked to death by some miscreants in front of Pabna Medical College Hospital which is only 200 metres away from the monastery on Friday morning.\n",
      "\n",
      "Nityanando had been working as an attendant for the past 40 years.\n",
      "\n",
      "Police said the killers swooped on him when he was on his daily morning walk in the area, leaving him dead on the spot.\n",
      "\n",
      "Adhir Kumar Roy, an attendant in the monastery, said they might face the same consequence like Nityanando.\n",
      "\n",
      "“Since the killing of him, we have been passing days in grave anxiety as any of us can be victim of militant attack.” He also said many residents of the ashram had stopped going to morning walk fearing attack.\n",
      "\n",
      "Noni Gopal Debnath, another resident of the Ashram, said Nityanando was a liberal person, but the miscreants had killed him.\n",
      "\n",
      "“Then what will happen to the people who are obeying religion?” he asked.\n",
      "\n",
      "He also said the government should tackle the militancy strictly to stop such practice.\n",
      "\n",
      "Another attendant of the Ashram who preferred to be unnamed said: “Now I feel insecure when I go outside of monastery.”  Meanwhile, members of civil society also expressed concern saying that if the law enforcement agencies would not crack down militancy, people of the country would have to pay a lot in future.\n",
      "\n",
      "Former vice-principal of Panba Adward College Md Shahnewaz Salam said the government should wipe out militancy from the country as soon as possible.\n",
      "\n",
      "Different socio-cultural organisations have been observing different types of programmes protesting the killing.\n",
      "\n",
      "Superintendent of Police, Pabna Alamgir Kabir told the Dhaka Tribune that they had thwarted several attempts of militants earlier.\n",
      "\n",
      "He said police arrested two men of Islami Chhatra Shibir for his suspected involvement in the killing on Saturday night.\n",
      "\n",
      "Acting on tip-off, a team of police arrested Ariful Islam, 23, secretary of Literature and Cultural Affairs of district unit Islami Chhatra Shibir and son of Abdus Sattar of Charghoshpur village, from Bajitpur village around 10pm, said Munshi Abu Kuddus, inspector of Sadar police station.\n",
      "\n",
      "Another arrestee is Abul Hossain, an activist of Shibir.\n",
      "\n",
      "He also assured the Dhaka Tribune that the mystery behind the killing of Nityanando would be solved soon.\n",
      "\n",
      "The SP also claimed that they had earlier arrested six members of the Jamaat-ul-Mujahideen of Bangladesh in connection with the attempt to kill a priest.\n",
      "\n",
      "Some miscreants attempted to kill Luk Sarker, 52, a priest at a local baptist church by slitting his throat on October 6, 2015.\n",
      "\n",
      "He had to remain under treatment at Ishwardi Upazila Health Complex for several days.\n",
      "\n",
      "Soon after the killing of Nityanando, the Islamic State has claimed responsibility for the murder.\n",
      "\n",
      "Several hours after the killing, SITE ran a report citing the militant group-run Amaq News Agency that said the “IS fighters in Bangladesh” had killed the Hindu monastery staff.\n",
      "\n",
      "It is the 22nd attack claimed by the international terrorist group in Bangladesh since September last year that killed 20 people.\n",
      "\n"
     ]
    }
   ],
   "source": [
    "from pprint import pprint\n",
    "a = tokenizer.tokenize(df['news_text'][0])\n",
    "for i in a:\n",
    "    i = i.replace(\"\\n\",\" \")\n",
    "    print(i+\"\\n\")"
   ]
  },
  {
   "cell_type": "code",
   "execution_count": 45,
   "metadata": {},
   "outputs": [
    {
     "name": "stdout",
     "output_type": "stream",
     "text": [
      "{'$oid': '575f79f55388c1567baebb2a'} 0\n"
     ]
    }
   ],
   "source": [
    "for index, row in df.iterrows():\n",
    "#     print(row['_id'], index)\n",
    "    period_delimited_list = tokenizer.tokenize(row['news_text'])\n",
    "    for sentence in period_delimited_list:\n",
    "        if any(word in sentence for word in conversational_words) or check_alleged(sentence):\n",
    "            \n",
    "    \n",
    "    "
   ]
  },
  {
   "cell_type": "code",
   "execution_count": 53,
   "metadata": {},
   "outputs": [
    {
     "data": {
      "text/plain": [
       "'People who live in Sri Sri Thakur Anukulchandra Satsang Ashram locally known as Hemayetpur Dham are passing days in anxiety as police yet to find any clue behind the killing of Nityanando Pandey.\\n\\nNityanando Pandey, 62, was hacked to death by some miscreants in front of Pabna Medical College Hospital which is only 200 metres away from the monastery on Friday morning. Nityanando had been working as an attendant for the past 40 years.\\n\\nPolice said the killers swooped on him when he was on his daily morning walk in the area, leaving him dead on the spot.\\n\\nAdhir Kumar Roy, an attendant in the monastery, said they might face the same consequence like Nityanando.\\n\\n“Since the killing of him, we have been passing days in grave anxiety as any of us can be victim of militant attack.” He also said many residents of the ashram had stopped going to morning walk fearing attack.\\n\\nNoni Gopal Debnath, another resident of the Ashram, said Nityanando was a liberal person, but the miscreants had killed him.\\n\\n“Then what will happen to the people who are obeying religion?” he asked.\\n\\nHe also said the government should tackle the militancy strictly to stop such practice.\\n\\nAnother attendant of the Ashram who preferred to be unnamed said: “Now I feel insecure when I go outside of monastery.”\\n\\nMeanwhile, members of civil society also expressed concern saying that if the law enforcement agencies would not crack down militancy, people of the country would have to pay a lot in future.\\n\\nFormer vice-principal of Panba Adward College Md Shahnewaz Salam said the government should wipe out militancy from the country as soon as possible.\\n\\nDifferent socio-cultural organisations have been observing different types of programmes protesting the killing.\\n\\nSuperintendent of Police, Pabna Alamgir Kabir told the Dhaka Tribune that they had thwarted several attempts of militants earlier.\\n\\nHe said police arrested two men of Islami Chhatra Shibir for his suspected involvement in the killing on Saturday night.\\n\\nActing on tip-off, a team of police arrested Ariful Islam, 23, secretary of Literature and Cultural Affairs of district unit Islami Chhatra Shibir and son of Abdus Sattar of Charghoshpur village, from Bajitpur village around 10pm, said Munshi Abu Kuddus, inspector of Sadar police station. Another arrestee is Abul Hossain, an activist of Shibir.\\n\\nHe also assured the Dhaka Tribune that the mystery behind the killing of Nityanando would be solved soon.\\n\\nThe SP also claimed that they had earlier arrested six members of the Jamaat-ul-Mujahideen of Bangladesh in connection with the attempt to kill a priest.\\n\\nSome miscreants attempted to kill Luk Sarker, 52, a priest at a local baptist church by slitting his throat on October 6, 2015.\\n\\nHe had to remain under treatment at Ishwardi Upazila Health Complex for several days.\\n\\nSoon after the killing of Nityanando, the Islamic State has claimed responsibility for the murder.\\n\\nSeveral hours after the killing, SITE ran a report citing the militant group-run Amaq News Agency that said the “IS fighters in Bangladesh” had killed the Hindu monastery staff.\\n\\nIt is the 22nd attack claimed by the international terrorist group in Bangladesh since September last year that killed 20 people.'"
      ]
     },
     "execution_count": 53,
     "metadata": {},
     "output_type": "execute_result"
    }
   ],
   "source": [
    "df['news_text'][0]"
   ]
  }
 ],
 "metadata": {
  "kernelspec": {
   "display_name": "Python 3",
   "language": "python",
   "name": "python3"
  },
  "language_info": {
   "codemirror_mode": {
    "name": "ipython",
    "version": 3
   },
   "file_extension": ".py",
   "mimetype": "text/x-python",
   "name": "python",
   "nbconvert_exporter": "python",
   "pygments_lexer": "ipython3",
   "version": "3.5.2"
  }
 },
 "nbformat": 4,
 "nbformat_minor": 2
}
